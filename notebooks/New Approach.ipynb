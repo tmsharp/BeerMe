{
 "cells": [
  {
   "cell_type": "code",
   "execution_count": 1,
   "metadata": {},
   "outputs": [],
   "source": [
    "rand_state = 12"
   ]
  },
  {
   "cell_type": "markdown",
   "metadata": {},
   "source": [
    "# Cleaning Pipeline"
   ]
  },
  {
   "cell_type": "code",
   "execution_count": 2,
   "metadata": {},
   "outputs": [],
   "source": [
    "from BeerMe.Pipeline import *"
   ]
  },
  {
   "cell_type": "code",
   "execution_count": 3,
   "metadata": {},
   "outputs": [
    {
     "name": "stdout",
     "output_type": "stream",
     "text": [
      "\n",
      "\n",
      "1. NA Count...\n",
      "ABV                923\n",
      "global_rating        0\n",
      "user_rating       3882\n",
      "IBU              47035\n",
      "dtype: int64\n",
      "\n",
      "\n",
      "2. Finding IQR outliers...\n",
      "FEATURE ABV\n",
      "num of outliers = 3,421\n",
      "% of outliers = 3.33%\n",
      "\n",
      "\n",
      "NA Count...\n",
      "ABV              0\n",
      "global_rating    0\n",
      "user_rating      0\n",
      "IBU              0\n",
      "dtype: int64\n"
     ]
    }
   ],
   "source": [
    "df = IMPORT_CLEAN_STEP(db_path='data/beer.db')"
   ]
  },
  {
   "cell_type": "code",
   "execution_count": 4,
   "metadata": {},
   "outputs": [],
   "source": [
    "df = df[['username', 'beer_name', 'beer_description', 'brewery', 'ABV', 'IBU', 'global_rating', 'user_rating']]"
   ]
  },
  {
   "cell_type": "code",
   "execution_count": 5,
   "metadata": {},
   "outputs": [
    {
     "data": {
      "text/html": [
       "<div>\n",
       "<style scoped>\n",
       "    .dataframe tbody tr th:only-of-type {\n",
       "        vertical-align: middle;\n",
       "    }\n",
       "\n",
       "    .dataframe tbody tr th {\n",
       "        vertical-align: top;\n",
       "    }\n",
       "\n",
       "    .dataframe thead th {\n",
       "        text-align: right;\n",
       "    }\n",
       "</style>\n",
       "<table border=\"1\" class=\"dataframe\">\n",
       "  <thead>\n",
       "    <tr style=\"text-align: right;\">\n",
       "      <th></th>\n",
       "      <th>username</th>\n",
       "      <th>beer_name</th>\n",
       "      <th>beer_description</th>\n",
       "      <th>brewery</th>\n",
       "      <th>ABV</th>\n",
       "      <th>IBU</th>\n",
       "      <th>global_rating</th>\n",
       "      <th>user_rating</th>\n",
       "    </tr>\n",
       "  </thead>\n",
       "  <tbody>\n",
       "    <tr>\n",
       "      <th>0</th>\n",
       "      <td>tnt</td>\n",
       "      <td>Society &amp; Solitude #7</td>\n",
       "      <td>IPA - Imperial / Double</td>\n",
       "      <td>Hill Farmstead Brewery</td>\n",
       "      <td>8.0</td>\n",
       "      <td>44.1594</td>\n",
       "      <td>4.38</td>\n",
       "      <td>4.25</td>\n",
       "    </tr>\n",
       "    <tr>\n",
       "      <th>1</th>\n",
       "      <td>tnt</td>\n",
       "      <td>Riwaka Single Hop Pale Ale</td>\n",
       "      <td>Pale Ale - American</td>\n",
       "      <td>Hill Farmstead Brewery</td>\n",
       "      <td>5.2</td>\n",
       "      <td>44.1594</td>\n",
       "      <td>4.14</td>\n",
       "      <td>5.00</td>\n",
       "    </tr>\n",
       "    <tr>\n",
       "      <th>2</th>\n",
       "      <td>tnt</td>\n",
       "      <td>Walk, Don't Run</td>\n",
       "      <td>Blonde Ale</td>\n",
       "      <td>Suarez Family Brewery</td>\n",
       "      <td>3.7</td>\n",
       "      <td>44.1594</td>\n",
       "      <td>4.10</td>\n",
       "      <td>4.50</td>\n",
       "    </tr>\n",
       "    <tr>\n",
       "      <th>3</th>\n",
       "      <td>tnt</td>\n",
       "      <td>Czech Two</td>\n",
       "      <td>Pilsner - Czech</td>\n",
       "      <td>Gravely Brewing Co</td>\n",
       "      <td>4.1</td>\n",
       "      <td>39</td>\n",
       "      <td>3.81</td>\n",
       "      <td>4.25</td>\n",
       "    </tr>\n",
       "    <tr>\n",
       "      <th>4</th>\n",
       "      <td>tnt</td>\n",
       "      <td>Spirit of Revolt</td>\n",
       "      <td>IPA - Imperial / Double</td>\n",
       "      <td>Revolution Brewing Company</td>\n",
       "      <td>8.2</td>\n",
       "      <td>52</td>\n",
       "      <td>3.82</td>\n",
       "      <td>4.00</td>\n",
       "    </tr>\n",
       "  </tbody>\n",
       "</table>\n",
       "</div>"
      ],
      "text/plain": [
       "  username                   beer_name         beer_description  \\\n",
       "0      tnt       Society & Solitude #7  IPA - Imperial / Double   \n",
       "1      tnt  Riwaka Single Hop Pale Ale      Pale Ale - American   \n",
       "2      tnt             Walk, Don't Run               Blonde Ale   \n",
       "3      tnt                   Czech Two          Pilsner - Czech   \n",
       "4      tnt            Spirit of Revolt  IPA - Imperial / Double   \n",
       "\n",
       "                      brewery  ABV      IBU  global_rating  user_rating  \n",
       "0      Hill Farmstead Brewery  8.0  44.1594           4.38         4.25  \n",
       "1      Hill Farmstead Brewery  5.2  44.1594           4.14         5.00  \n",
       "2       Suarez Family Brewery  3.7  44.1594           4.10         4.50  \n",
       "3          Gravely Brewing Co  4.1       39           3.81         4.25  \n",
       "4  Revolution Brewing Company  8.2       52           3.82         4.00  "
      ]
     },
     "execution_count": 5,
     "metadata": {},
     "output_type": "execute_result"
    }
   ],
   "source": [
    "df.head()"
   ]
  },
  {
   "cell_type": "markdown",
   "metadata": {},
   "source": [
    "# 0. Baseline - Average "
   ]
  },
  {
   "cell_type": "code",
   "execution_count": 6,
   "metadata": {},
   "outputs": [
    {
     "name": "stdout",
     "output_type": "stream",
     "text": [
      "Global user_rating mean = 3.71\n"
     ]
    }
   ],
   "source": [
    "global_mean = np.mean(df['user_rating'])\n",
    "print(\"Global user_rating mean = {:.2f}\".format(global_mean))"
   ]
  },
  {
   "cell_type": "code",
   "execution_count": 7,
   "metadata": {},
   "outputs": [],
   "source": [
    "beer_list = list(df[df['username']=='tsharp93']['beer_name'])"
   ]
  },
  {
   "cell_type": "code",
   "execution_count": 8,
   "metadata": {},
   "outputs": [],
   "source": [
    "estimated_rating_list = []\n",
    "error_list = []\n",
    "for beer in beer_list:\n",
    "    try:\n",
    "        estimated_rating = global_mean\n",
    "        estimated_rating_list.append(estimated_rating)\n",
    "\n",
    "        user_rating = df[(df['username']=='tsharp93') & (df['beer_name']==beer)]['user_rating'].iloc[0].astype(float)\n",
    "        error_list.append(estimated_rating-user_rating)\n",
    "    except IndexError:\n",
    "        print(beer)"
   ]
  },
  {
   "cell_type": "code",
   "execution_count": 9,
   "metadata": {},
   "outputs": [
    {
     "name": "stdout",
     "output_type": "stream",
     "text": [
      "MSE = 0.23\n",
      "MAE = 0.40\n",
      "Errors within 0.25 = 35.00 %\n",
      "Errors within 0.50 = 67.50 %\n"
     ]
    }
   ],
   "source": [
    "mse = np.mean(np.array(error_list)**2)\n",
    "mae = np.absolute(error_list).mean()\n",
    "quarter_error_perc = 100 * np.sum(np.absolute(error_list) < 0.25) / len(error_list)\n",
    "half_error_perc = 100 * np.sum(np.absolute(error_list) < 0.50) / len(error_list)\n",
    "\n",
    "print(\"MSE = {:.2f}\".format(mse))\n",
    "print(\"MAE = {:.2f}\".format(mae))\n",
    "print(\"Errors within 0.25 = {:.2f} %\".format(quarter_error_perc))\n",
    "print(\"Errors within 0.50 = {:.2f} %\".format(half_error_perc))"
   ]
  },
  {
   "cell_type": "markdown",
   "metadata": {},
   "source": [
    "# 1. (Semi) Cold Start - Collaborative Filtering"
   ]
  },
  {
   "cell_type": "code",
   "execution_count": 10,
   "metadata": {},
   "outputs": [],
   "source": [
    "user_of_interest = 'tsharp93'"
   ]
  },
  {
   "cell_type": "markdown",
   "metadata": {},
   "source": [
    "### For use when a user does not have enough data to build a model for his/her preferences"
   ]
  },
  {
   "cell_type": "code",
   "execution_count": 11,
   "metadata": {},
   "outputs": [
    {
     "name": "stdout",
     "output_type": "stream",
     "text": [
      "User of Reference for Cosine Sim = tsharp93\n"
     ]
    }
   ],
   "source": [
    "df = COSINE_STEP(df, user_of_interest)"
   ]
  },
  {
   "cell_type": "code",
   "execution_count": 12,
   "metadata": {},
   "outputs": [],
   "source": [
    "beer_list = list(df[df['username']=='tsharp93']['beer_name'])"
   ]
  },
  {
   "cell_type": "code",
   "execution_count": 13,
   "metadata": {},
   "outputs": [
    {
     "name": "stdout",
     "output_type": "stream",
     "text": [
      "Sig Sour 6.5\n",
      "The Drongo\n",
      "They Both Melt\n",
      "Black Matter\n",
      "The Caucasian\n",
      "Caturro Coffee Cream Ale\n",
      "Shiner Day Quencher\n",
      "Barrel-Aged 4Beans\n",
      "Marionberry Lavender Sour Ale\n",
      "Southern Torrent Saison\n",
      "The Drongo\n",
      "They Both Melt\n"
     ]
    }
   ],
   "source": [
    "estimated_rating_list = []\n",
    "error_list = []\n",
    "for beer in beer_list:\n",
    "    try:\n",
    "        estimated_rating = df[ (df.sort_values('nearest_neighbor_rank')['beer_name'] == beer) & (df['username']!=user_of_interest) ]['user_rating'].iloc[0]\n",
    "        estimated_rating_list.append(estimated_rating)\n",
    "\n",
    "        user_rating = df[(df['username']=='tsharp93') & (df['beer_name']==beer)]['user_rating'].iloc[0].astype(float)\n",
    "        error_list.append(estimated_rating-user_rating)\n",
    "    except IndexError:\n",
    "        print(beer)"
   ]
  },
  {
   "cell_type": "code",
   "execution_count": 14,
   "metadata": {},
   "outputs": [
    {
     "name": "stdout",
     "output_type": "stream",
     "text": [
      "MSE = 0.27\n",
      "MAE = 0.38\n",
      "Errors within 0.25 = 35.71 %\n",
      "Errors within 0.50 = 53.57 %\n"
     ]
    }
   ],
   "source": [
    "mse = np.mean(np.array(error_list)**2)\n",
    "mae = np.absolute(error_list).mean()\n",
    "quarter_error_perc = 100 * np.sum(np.absolute(error_list) < 0.25) / len(error_list)\n",
    "half_error_perc = 100 * np.sum(np.absolute(error_list) < 0.50) / len(error_list)\n",
    "\n",
    "print(\"MSE = {:.2f}\".format(mse))\n",
    "print(\"MAE = {:.2f}\".format(mae))\n",
    "print(\"Errors within 0.25 = {:.2f} %\".format(quarter_error_perc))\n",
    "print(\"Errors within 0.50 = {:.2f} %\".format(half_error_perc))"
   ]
  },
  {
   "cell_type": "markdown",
   "metadata": {},
   "source": [
    "#### Problems with this approach: \n",
    "#### (1) Need another user to have the beer I have selected. If I want to get my user_rating for a beer that no one has tried, I can't do that. \n",
    "#### (2) Not very accurate. Almost half the points are outside of 0.5 error - sometimes worse than baseline"
   ]
  },
  {
   "cell_type": "markdown",
   "metadata": {},
   "source": [
    "# 2. Content Based Filtering "
   ]
  },
  {
   "cell_type": "markdown",
   "metadata": {},
   "source": [
    "### *Assumes the user of interest has enough data to build a model "
   ]
  },
  {
   "cell_type": "code",
   "execution_count": 15,
   "metadata": {},
   "outputs": [],
   "source": [
    "user_of_interest = 'tnt'"
   ]
  },
  {
   "cell_type": "markdown",
   "metadata": {},
   "source": [
    "### A. Encoding Beer Description"
   ]
  },
  {
   "cell_type": "code",
   "execution_count": 16,
   "metadata": {},
   "outputs": [
    {
     "data": {
      "text/plain": [
       "1684"
      ]
     },
     "execution_count": 16,
     "metadata": {},
     "output_type": "execute_result"
    }
   ],
   "source": [
    "user_df = df[df['username'] == user_of_interest]\n",
    "len(user_df)"
   ]
  },
  {
   "cell_type": "code",
   "execution_count": 17,
   "metadata": {},
   "outputs": [
    {
     "data": {
      "text/html": [
       "<div>\n",
       "<style scoped>\n",
       "    .dataframe tbody tr th:only-of-type {\n",
       "        vertical-align: middle;\n",
       "    }\n",
       "\n",
       "    .dataframe tbody tr th {\n",
       "        vertical-align: top;\n",
       "    }\n",
       "\n",
       "    .dataframe thead th {\n",
       "        text-align: right;\n",
       "    }\n",
       "</style>\n",
       "<table border=\"1\" class=\"dataframe\">\n",
       "  <thead>\n",
       "    <tr style=\"text-align: right;\">\n",
       "      <th></th>\n",
       "      <th>nearest_neighbor_rank</th>\n",
       "      <th>username</th>\n",
       "      <th>beer_name</th>\n",
       "      <th>beer_description</th>\n",
       "      <th>brewery</th>\n",
       "      <th>ABV</th>\n",
       "      <th>IBU</th>\n",
       "      <th>global_rating</th>\n",
       "      <th>user_rating</th>\n",
       "    </tr>\n",
       "  </thead>\n",
       "  <tbody>\n",
       "    <tr>\n",
       "      <th>36726</th>\n",
       "      <td>36.0</td>\n",
       "      <td>tnt</td>\n",
       "      <td>Society &amp; Solitude #7</td>\n",
       "      <td>IPA - Imperial / Double</td>\n",
       "      <td>Hill Farmstead Brewery</td>\n",
       "      <td>8.0</td>\n",
       "      <td>44.1594</td>\n",
       "      <td>4.38</td>\n",
       "      <td>4.25</td>\n",
       "    </tr>\n",
       "    <tr>\n",
       "      <th>36727</th>\n",
       "      <td>36.0</td>\n",
       "      <td>tnt</td>\n",
       "      <td>Riwaka Single Hop Pale Ale</td>\n",
       "      <td>Pale Ale - American</td>\n",
       "      <td>Hill Farmstead Brewery</td>\n",
       "      <td>5.2</td>\n",
       "      <td>44.1594</td>\n",
       "      <td>4.14</td>\n",
       "      <td>5.00</td>\n",
       "    </tr>\n",
       "    <tr>\n",
       "      <th>36728</th>\n",
       "      <td>36.0</td>\n",
       "      <td>tnt</td>\n",
       "      <td>Walk, Don't Run</td>\n",
       "      <td>Blonde Ale</td>\n",
       "      <td>Suarez Family Brewery</td>\n",
       "      <td>3.7</td>\n",
       "      <td>44.1594</td>\n",
       "      <td>4.10</td>\n",
       "      <td>4.50</td>\n",
       "    </tr>\n",
       "    <tr>\n",
       "      <th>36729</th>\n",
       "      <td>36.0</td>\n",
       "      <td>tnt</td>\n",
       "      <td>Czech Two</td>\n",
       "      <td>Pilsner - Czech</td>\n",
       "      <td>Gravely Brewing Co</td>\n",
       "      <td>4.1</td>\n",
       "      <td>39</td>\n",
       "      <td>3.81</td>\n",
       "      <td>4.25</td>\n",
       "    </tr>\n",
       "    <tr>\n",
       "      <th>36730</th>\n",
       "      <td>36.0</td>\n",
       "      <td>tnt</td>\n",
       "      <td>Spirit of Revolt</td>\n",
       "      <td>IPA - Imperial / Double</td>\n",
       "      <td>Revolution Brewing Company</td>\n",
       "      <td>8.2</td>\n",
       "      <td>52</td>\n",
       "      <td>3.82</td>\n",
       "      <td>4.00</td>\n",
       "    </tr>\n",
       "  </tbody>\n",
       "</table>\n",
       "</div>"
      ],
      "text/plain": [
       "       nearest_neighbor_rank username                   beer_name  \\\n",
       "36726                   36.0      tnt       Society & Solitude #7   \n",
       "36727                   36.0      tnt  Riwaka Single Hop Pale Ale   \n",
       "36728                   36.0      tnt             Walk, Don't Run   \n",
       "36729                   36.0      tnt                   Czech Two   \n",
       "36730                   36.0      tnt            Spirit of Revolt   \n",
       "\n",
       "              beer_description                     brewery  ABV      IBU  \\\n",
       "36726  IPA - Imperial / Double      Hill Farmstead Brewery  8.0  44.1594   \n",
       "36727      Pale Ale - American      Hill Farmstead Brewery  5.2  44.1594   \n",
       "36728               Blonde Ale       Suarez Family Brewery  3.7  44.1594   \n",
       "36729          Pilsner - Czech          Gravely Brewing Co  4.1       39   \n",
       "36730  IPA - Imperial / Double  Revolution Brewing Company  8.2       52   \n",
       "\n",
       "       global_rating  user_rating  \n",
       "36726           4.38         4.25  \n",
       "36727           4.14         5.00  \n",
       "36728           4.10         4.50  \n",
       "36729           3.81         4.25  \n",
       "36730           3.82         4.00  "
      ]
     },
     "execution_count": 17,
     "metadata": {},
     "output_type": "execute_result"
    }
   ],
   "source": [
    "user_df.head()"
   ]
  },
  {
   "cell_type": "markdown",
   "metadata": {},
   "source": [
    "#### Feature Engineering - Encode Categorical Beer Description"
   ]
  },
  {
   "cell_type": "code",
   "execution_count": 18,
   "metadata": {},
   "outputs": [],
   "source": [
    "user_df = convert_categorical(user_df, ['beer_description'])"
   ]
  },
  {
   "cell_type": "code",
   "execution_count": 19,
   "metadata": {},
   "outputs": [],
   "source": [
    "user_df.drop(['username', 'nearest_neighbor_rank', 'beer_description', 'beer_name', 'brewery'], axis=1, inplace=True)"
   ]
  },
  {
   "cell_type": "code",
   "execution_count": 20,
   "metadata": {},
   "outputs": [
    {
     "data": {
      "text/plain": [
       "(1684, 136)"
      ]
     },
     "execution_count": 20,
     "metadata": {},
     "output_type": "execute_result"
    }
   ],
   "source": [
    "user_df.shape"
   ]
  },
  {
   "cell_type": "code",
   "execution_count": 21,
   "metadata": {},
   "outputs": [
    {
     "data": {
      "text/html": [
       "<div>\n",
       "<style scoped>\n",
       "    .dataframe tbody tr th:only-of-type {\n",
       "        vertical-align: middle;\n",
       "    }\n",
       "\n",
       "    .dataframe tbody tr th {\n",
       "        vertical-align: top;\n",
       "    }\n",
       "\n",
       "    .dataframe thead th {\n",
       "        text-align: right;\n",
       "    }\n",
       "</style>\n",
       "<table border=\"1\" class=\"dataframe\">\n",
       "  <thead>\n",
       "    <tr style=\"text-align: right;\">\n",
       "      <th></th>\n",
       "      <th>ABV</th>\n",
       "      <th>IBU</th>\n",
       "      <th>global_rating</th>\n",
       "      <th>user_rating</th>\n",
       "      <th>beer_description_Altbier</th>\n",
       "      <th>beer_description_American Wild Ale</th>\n",
       "      <th>beer_description_Barleywine - American</th>\n",
       "      <th>beer_description_Barleywine - English</th>\n",
       "      <th>beer_description_Belgian Blonde</th>\n",
       "      <th>beer_description_Belgian Dubbel</th>\n",
       "      <th>...</th>\n",
       "      <th>beer_description_Stout - Russian Imperial</th>\n",
       "      <th>beer_description_Strong Ale - American</th>\n",
       "      <th>beer_description_Strong Ale - English</th>\n",
       "      <th>beer_description_Table Beer</th>\n",
       "      <th>beer_description_Traditional Ale</th>\n",
       "      <th>beer_description_Wheat Beer - American Pale Wheat</th>\n",
       "      <th>beer_description_Wheat Beer - Other</th>\n",
       "      <th>beer_description_Wheat Wine</th>\n",
       "      <th>beer_description_Winter Ale</th>\n",
       "      <th>beer_description_Witbier</th>\n",
       "    </tr>\n",
       "  </thead>\n",
       "  <tbody>\n",
       "    <tr>\n",
       "      <th>36726</th>\n",
       "      <td>8.0</td>\n",
       "      <td>44.1594</td>\n",
       "      <td>4.38</td>\n",
       "      <td>4.25</td>\n",
       "      <td>0</td>\n",
       "      <td>0</td>\n",
       "      <td>0</td>\n",
       "      <td>0</td>\n",
       "      <td>0</td>\n",
       "      <td>0</td>\n",
       "      <td>...</td>\n",
       "      <td>0</td>\n",
       "      <td>0</td>\n",
       "      <td>0</td>\n",
       "      <td>0</td>\n",
       "      <td>0</td>\n",
       "      <td>0</td>\n",
       "      <td>0</td>\n",
       "      <td>0</td>\n",
       "      <td>0</td>\n",
       "      <td>0</td>\n",
       "    </tr>\n",
       "    <tr>\n",
       "      <th>36727</th>\n",
       "      <td>5.2</td>\n",
       "      <td>44.1594</td>\n",
       "      <td>4.14</td>\n",
       "      <td>5.00</td>\n",
       "      <td>0</td>\n",
       "      <td>0</td>\n",
       "      <td>0</td>\n",
       "      <td>0</td>\n",
       "      <td>0</td>\n",
       "      <td>0</td>\n",
       "      <td>...</td>\n",
       "      <td>0</td>\n",
       "      <td>0</td>\n",
       "      <td>0</td>\n",
       "      <td>0</td>\n",
       "      <td>0</td>\n",
       "      <td>0</td>\n",
       "      <td>0</td>\n",
       "      <td>0</td>\n",
       "      <td>0</td>\n",
       "      <td>0</td>\n",
       "    </tr>\n",
       "    <tr>\n",
       "      <th>36728</th>\n",
       "      <td>3.7</td>\n",
       "      <td>44.1594</td>\n",
       "      <td>4.10</td>\n",
       "      <td>4.50</td>\n",
       "      <td>0</td>\n",
       "      <td>0</td>\n",
       "      <td>0</td>\n",
       "      <td>0</td>\n",
       "      <td>0</td>\n",
       "      <td>0</td>\n",
       "      <td>...</td>\n",
       "      <td>0</td>\n",
       "      <td>0</td>\n",
       "      <td>0</td>\n",
       "      <td>0</td>\n",
       "      <td>0</td>\n",
       "      <td>0</td>\n",
       "      <td>0</td>\n",
       "      <td>0</td>\n",
       "      <td>0</td>\n",
       "      <td>0</td>\n",
       "    </tr>\n",
       "    <tr>\n",
       "      <th>36729</th>\n",
       "      <td>4.1</td>\n",
       "      <td>39</td>\n",
       "      <td>3.81</td>\n",
       "      <td>4.25</td>\n",
       "      <td>0</td>\n",
       "      <td>0</td>\n",
       "      <td>0</td>\n",
       "      <td>0</td>\n",
       "      <td>0</td>\n",
       "      <td>0</td>\n",
       "      <td>...</td>\n",
       "      <td>0</td>\n",
       "      <td>0</td>\n",
       "      <td>0</td>\n",
       "      <td>0</td>\n",
       "      <td>0</td>\n",
       "      <td>0</td>\n",
       "      <td>0</td>\n",
       "      <td>0</td>\n",
       "      <td>0</td>\n",
       "      <td>0</td>\n",
       "    </tr>\n",
       "    <tr>\n",
       "      <th>36730</th>\n",
       "      <td>8.2</td>\n",
       "      <td>52</td>\n",
       "      <td>3.82</td>\n",
       "      <td>4.00</td>\n",
       "      <td>0</td>\n",
       "      <td>0</td>\n",
       "      <td>0</td>\n",
       "      <td>0</td>\n",
       "      <td>0</td>\n",
       "      <td>0</td>\n",
       "      <td>...</td>\n",
       "      <td>0</td>\n",
       "      <td>0</td>\n",
       "      <td>0</td>\n",
       "      <td>0</td>\n",
       "      <td>0</td>\n",
       "      <td>0</td>\n",
       "      <td>0</td>\n",
       "      <td>0</td>\n",
       "      <td>0</td>\n",
       "      <td>0</td>\n",
       "    </tr>\n",
       "  </tbody>\n",
       "</table>\n",
       "<p>5 rows × 136 columns</p>\n",
       "</div>"
      ],
      "text/plain": [
       "       ABV      IBU  global_rating  user_rating  beer_description_Altbier  \\\n",
       "36726  8.0  44.1594           4.38         4.25                         0   \n",
       "36727  5.2  44.1594           4.14         5.00                         0   \n",
       "36728  3.7  44.1594           4.10         4.50                         0   \n",
       "36729  4.1       39           3.81         4.25                         0   \n",
       "36730  8.2       52           3.82         4.00                         0   \n",
       "\n",
       "       beer_description_American Wild Ale  \\\n",
       "36726                                   0   \n",
       "36727                                   0   \n",
       "36728                                   0   \n",
       "36729                                   0   \n",
       "36730                                   0   \n",
       "\n",
       "       beer_description_Barleywine - American  \\\n",
       "36726                                       0   \n",
       "36727                                       0   \n",
       "36728                                       0   \n",
       "36729                                       0   \n",
       "36730                                       0   \n",
       "\n",
       "       beer_description_Barleywine - English  beer_description_Belgian Blonde  \\\n",
       "36726                                      0                                0   \n",
       "36727                                      0                                0   \n",
       "36728                                      0                                0   \n",
       "36729                                      0                                0   \n",
       "36730                                      0                                0   \n",
       "\n",
       "       beer_description_Belgian Dubbel  ...  \\\n",
       "36726                                0  ...   \n",
       "36727                                0  ...   \n",
       "36728                                0  ...   \n",
       "36729                                0  ...   \n",
       "36730                                0  ...   \n",
       "\n",
       "       beer_description_Stout - Russian Imperial  \\\n",
       "36726                                          0   \n",
       "36727                                          0   \n",
       "36728                                          0   \n",
       "36729                                          0   \n",
       "36730                                          0   \n",
       "\n",
       "       beer_description_Strong Ale - American  \\\n",
       "36726                                       0   \n",
       "36727                                       0   \n",
       "36728                                       0   \n",
       "36729                                       0   \n",
       "36730                                       0   \n",
       "\n",
       "       beer_description_Strong Ale - English  beer_description_Table Beer  \\\n",
       "36726                                      0                            0   \n",
       "36727                                      0                            0   \n",
       "36728                                      0                            0   \n",
       "36729                                      0                            0   \n",
       "36730                                      0                            0   \n",
       "\n",
       "       beer_description_Traditional Ale  \\\n",
       "36726                                 0   \n",
       "36727                                 0   \n",
       "36728                                 0   \n",
       "36729                                 0   \n",
       "36730                                 0   \n",
       "\n",
       "       beer_description_Wheat Beer - American Pale Wheat  \\\n",
       "36726                                                  0   \n",
       "36727                                                  0   \n",
       "36728                                                  0   \n",
       "36729                                                  0   \n",
       "36730                                                  0   \n",
       "\n",
       "       beer_description_Wheat Beer - Other  beer_description_Wheat Wine  \\\n",
       "36726                                    0                            0   \n",
       "36727                                    0                            0   \n",
       "36728                                    0                            0   \n",
       "36729                                    0                            0   \n",
       "36730                                    0                            0   \n",
       "\n",
       "       beer_description_Winter Ale  beer_description_Witbier  \n",
       "36726                            0                         0  \n",
       "36727                            0                         0  \n",
       "36728                            0                         0  \n",
       "36729                            0                         0  \n",
       "36730                            0                         0  \n",
       "\n",
       "[5 rows x 136 columns]"
      ]
     },
     "execution_count": 21,
     "metadata": {},
     "output_type": "execute_result"
    }
   ],
   "source": [
    "user_df.head()"
   ]
  },
  {
   "cell_type": "markdown",
   "metadata": {},
   "source": [
    "#### Build Model and Score"
   ]
  },
  {
   "cell_type": "code",
   "execution_count": 22,
   "metadata": {},
   "outputs": [],
   "source": [
    "features = user_df.columns[list(user_df.columns != 'user_rating')]\n",
    "target = 'user_rating'"
   ]
  },
  {
   "cell_type": "code",
   "execution_count": 23,
   "metadata": {},
   "outputs": [
    {
     "data": {
      "text/plain": [
       "Lasso(alpha=0.0004187680843829271, copy_X=True, fit_intercept=True,\n",
       "   max_iter=1000, normalize=True, positive=False, precompute=False,\n",
       "   random_state=12, selection='cyclic', tol=0.0001, warm_start=False)"
      ]
     },
     "execution_count": 23,
     "metadata": {},
     "output_type": "execute_result"
    }
   ],
   "source": [
    "from sklearn.model_selection import train_test_split\n",
    "X_train, X_test, y_train, y_test = train_test_split(user_df[features], user_df[target], random_state=rand_state)\n",
    "\n",
    "from sklearn.linear_model import LassoCV\n",
    "lassocv = LassoCV(fit_intercept=True, normalize=True, cv=5, random_state=rand_state)\n",
    "lassocv.fit(X_train, y_train)\n",
    "\n",
    "from sklearn.linear_model import Lasso\n",
    "lasso = Lasso(alpha=lassocv.alpha_,fit_intercept=True, normalize=True, random_state=rand_state)\n",
    "lasso.fit(X_train, y_train)"
   ]
  },
  {
   "cell_type": "code",
   "execution_count": 24,
   "metadata": {},
   "outputs": [
    {
     "name": "stdout",
     "output_type": "stream",
     "text": [
      "Percentage of estimators dropped = 63.70 %\n",
      "Features dropped:  ['beer_description_Altbier', 'beer_description_Barleywine - American', 'beer_description_Barleywine - English', 'beer_description_Belgian Blonde', 'beer_description_Belgian Strong Golden Ale', 'beer_description_Belgian Tripel', 'beer_description_Bière de Champagne / Bière Brut', 'beer_description_Bière de Garde', 'beer_description_Bière de Mars', 'beer_description_Blonde Ale', 'beer_description_Bock - Doppelbock', 'beer_description_Bock - Hell / Maibock / Lentebock', 'beer_description_Brown Ale - Belgian', 'beer_description_Brown Ale - English', 'beer_description_Brown Ale - Imperial / Double', 'beer_description_California Common', 'beer_description_Cider - Traditional', 'beer_description_Dunkelweizen', 'beer_description_English Bitter', 'beer_description_Fruit Beer', 'beer_description_Golden Ale', 'beer_description_Grisette', 'beer_description_Gruit / Ancient Herbed Ale', 'beer_description_IPA - American', 'beer_description_IPA - Belgian', 'beer_description_IPA - Brut', 'beer_description_IPA - Imperial / Double', 'beer_description_IPA - International', 'beer_description_IPA - Milkshake', 'beer_description_IPA - Red', 'beer_description_IPA - Rye', 'beer_description_IPA - Session / India Session Ale', 'beer_description_IPA - Triple', 'beer_description_Italian Grape Ale', 'beer_description_Kellerbier / Zwickelbier', 'beer_description_Kölsch', 'beer_description_Lager - Amber', 'beer_description_Lager - Dark', 'beer_description_Lager - Dortmunder / Export', 'beer_description_Lager - Euro Dark', 'beer_description_Lager - Euro Pale', 'beer_description_Lager - Helles', 'beer_description_Lager - IPL (India Pale Lager)', 'beer_description_Lager - Pale', 'beer_description_Lager - Vienna', 'beer_description_Lager - Winter', 'beer_description_Lambic - Framboise', 'beer_description_Lambic - Kriek', 'beer_description_Mead - Braggot', 'beer_description_Mead - Other', 'beer_description_Mead - Pyment', 'beer_description_Märzen', 'beer_description_Old Ale', 'beer_description_Pale Ale - Belgian', 'beer_description_Pale Ale - International', 'beer_description_Patersbier', 'beer_description_Pilsner - Czech', 'beer_description_Pilsner - German', 'beer_description_Pilsner - Imperial / Double', 'beer_description_Pilsner - Other', 'beer_description_Porter - American', 'beer_description_Porter - English', 'beer_description_Red Ale - Other', 'beer_description_Roggenbier', 'beer_description_Schwarzbier', 'beer_description_Scotch Ale / Wee Heavy', 'beer_description_Scottish Ale', 'beer_description_Scottish Export Ale', 'beer_description_Sour - Berliner Weisse', 'beer_description_Sour - Flanders Oud Bruin', 'beer_description_Sour - Flanders Red Ale', 'beer_description_Sour - Fruited', 'beer_description_Sour - Gose', 'beer_description_Sour - Other', 'beer_description_Stout - Coffee', 'beer_description_Stout - Imperial / Double', 'beer_description_Stout - Imperial / Double Milk', 'beer_description_Stout - Imperial / Double Oatmeal', 'beer_description_Stout - Oatmeal', 'beer_description_Stout - Other', 'beer_description_Strong Ale - American', 'beer_description_Strong Ale - English', 'beer_description_Table Beer', 'beer_description_Wheat Beer - Other', 'beer_description_Wheat Wine', 'beer_description_Winter Ale']\n",
      "Features kept:  ['ABV', 'IBU', 'global_rating', 'beer_description_American Wild Ale', 'beer_description_Belgian Dubbel', 'beer_description_Belgian Quadrupel', 'beer_description_Belgian Strong Dark Ale', 'beer_description_Bock - Single / Traditional', 'beer_description_Brown Ale - American', 'beer_description_Cream Ale', 'beer_description_Dark Ale', 'beer_description_English Mild Ale', 'beer_description_Extra Special / Strong Bitter', 'beer_description_Farmhouse Ale - Saison', 'beer_description_Hefeweizen', 'beer_description_IPA - Black / Cascadian Dark Ale', 'beer_description_IPA - English', 'beer_description_IPA - Imperial / Double Black', 'beer_description_IPA - Imperial / Double New England', 'beer_description_IPA - New England', 'beer_description_IPA - White', 'beer_description_Lager - American', 'beer_description_Lager - American Amber / Red', 'beer_description_Lager - American Light', 'beer_description_Lambic - Gueuze', 'beer_description_Lambic - Traditional', 'beer_description_Pale Ale - American', 'beer_description_Pale Ale - English', 'beer_description_Porter - Baltic', 'beer_description_Porter - Imperial / Double', 'beer_description_Porter - Other', 'beer_description_Pumpkin / Yam Beer', 'beer_description_Red Ale - American Amber / Red', 'beer_description_Red Ale - Imperial / Double', 'beer_description_Red Ale - Irish', 'beer_description_Rye Beer', 'beer_description_Rye Wine', 'beer_description_Shandy / Radler', 'beer_description_Smoked Beer', 'beer_description_Sour - Gose - Fruited', 'beer_description_Spiced / Herbed Beer', 'beer_description_Stout - American', 'beer_description_Stout - American Imperial / Double', 'beer_description_Stout - Irish Dry', 'beer_description_Stout - Milk / Sweet', 'beer_description_Stout - Russian Imperial', 'beer_description_Traditional Ale', 'beer_description_Wheat Beer - American Pale Wheat', 'beer_description_Witbier']\n"
     ]
    }
   ],
   "source": [
    "coef_dropped_perc = 100*np.sum(lasso.coef_ == 0) / len(lasso.coef_)\n",
    "print(\"Percentage of estimators dropped = {:.2f} %\".format(coef_dropped_perc))\n",
    "\n",
    "features_dropped = list(features[lasso.coef_ == 0])\n",
    "print(\"Features dropped: \", features_dropped)\n",
    "\n",
    "features_kept = list(features[lasso.coef_ != 0])\n",
    "print(\"Features kept: \", features_kept)"
   ]
  },
  {
   "cell_type": "code",
   "execution_count": 25,
   "metadata": {},
   "outputs": [
    {
     "name": "stdout",
     "output_type": "stream",
     "text": [
      "MSE = 0.23\n",
      "MAE = 0.36\n",
      "Errors within 0.25 = 46.79 %\n",
      "Errors within 0.50 = 74.58 %\n"
     ]
    }
   ],
   "source": [
    "preds = lasso.predict(X_test)\n",
    "error_list = preds - y_test\n",
    "\n",
    "mse = np.mean(np.array(error_list)**2)\n",
    "mae = np.absolute(error_list).mean()\n",
    "quarter_error_perc = 100 * np.sum(np.absolute(error_list) < 0.25) / len(error_list)\n",
    "half_error_perc = 100 * np.sum(np.absolute(error_list) < 0.50) / len(error_list)\n",
    "\n",
    "print(\"MSE = {:.2f}\".format(mse))\n",
    "print(\"MAE = {:.2f}\".format(mae))\n",
    "print(\"Errors within 0.25 = {:.2f} %\".format(quarter_error_perc))\n",
    "print(\"Errors within 0.50 = {:.2f} %\".format(half_error_perc))"
   ]
  },
  {
   "cell_type": "markdown",
   "metadata": {},
   "source": [
    "##### Improved Accuracy over both Cold Start and Baseline"
   ]
  },
  {
   "cell_type": "markdown",
   "metadata": {},
   "source": [
    "### B. NLP (Count Vectorizer)"
   ]
  },
  {
   "cell_type": "code",
   "execution_count": 26,
   "metadata": {},
   "outputs": [],
   "source": [
    "user_df = df[df['username'] == user_of_interest]"
   ]
  },
  {
   "cell_type": "code",
   "execution_count": 27,
   "metadata": {},
   "outputs": [
    {
     "data": {
      "text/html": [
       "<div>\n",
       "<style scoped>\n",
       "    .dataframe tbody tr th:only-of-type {\n",
       "        vertical-align: middle;\n",
       "    }\n",
       "\n",
       "    .dataframe tbody tr th {\n",
       "        vertical-align: top;\n",
       "    }\n",
       "\n",
       "    .dataframe thead th {\n",
       "        text-align: right;\n",
       "    }\n",
       "</style>\n",
       "<table border=\"1\" class=\"dataframe\">\n",
       "  <thead>\n",
       "    <tr style=\"text-align: right;\">\n",
       "      <th></th>\n",
       "      <th>nearest_neighbor_rank</th>\n",
       "      <th>username</th>\n",
       "      <th>beer_name</th>\n",
       "      <th>beer_description</th>\n",
       "      <th>brewery</th>\n",
       "      <th>ABV</th>\n",
       "      <th>IBU</th>\n",
       "      <th>global_rating</th>\n",
       "      <th>user_rating</th>\n",
       "    </tr>\n",
       "  </thead>\n",
       "  <tbody>\n",
       "    <tr>\n",
       "      <th>36726</th>\n",
       "      <td>36.0</td>\n",
       "      <td>tnt</td>\n",
       "      <td>Society &amp; Solitude #7</td>\n",
       "      <td>IPA - Imperial / Double</td>\n",
       "      <td>Hill Farmstead Brewery</td>\n",
       "      <td>8.0</td>\n",
       "      <td>44.1594</td>\n",
       "      <td>4.38</td>\n",
       "      <td>4.25</td>\n",
       "    </tr>\n",
       "    <tr>\n",
       "      <th>36727</th>\n",
       "      <td>36.0</td>\n",
       "      <td>tnt</td>\n",
       "      <td>Riwaka Single Hop Pale Ale</td>\n",
       "      <td>Pale Ale - American</td>\n",
       "      <td>Hill Farmstead Brewery</td>\n",
       "      <td>5.2</td>\n",
       "      <td>44.1594</td>\n",
       "      <td>4.14</td>\n",
       "      <td>5.00</td>\n",
       "    </tr>\n",
       "    <tr>\n",
       "      <th>36728</th>\n",
       "      <td>36.0</td>\n",
       "      <td>tnt</td>\n",
       "      <td>Walk, Don't Run</td>\n",
       "      <td>Blonde Ale</td>\n",
       "      <td>Suarez Family Brewery</td>\n",
       "      <td>3.7</td>\n",
       "      <td>44.1594</td>\n",
       "      <td>4.10</td>\n",
       "      <td>4.50</td>\n",
       "    </tr>\n",
       "    <tr>\n",
       "      <th>36729</th>\n",
       "      <td>36.0</td>\n",
       "      <td>tnt</td>\n",
       "      <td>Czech Two</td>\n",
       "      <td>Pilsner - Czech</td>\n",
       "      <td>Gravely Brewing Co</td>\n",
       "      <td>4.1</td>\n",
       "      <td>39</td>\n",
       "      <td>3.81</td>\n",
       "      <td>4.25</td>\n",
       "    </tr>\n",
       "    <tr>\n",
       "      <th>36730</th>\n",
       "      <td>36.0</td>\n",
       "      <td>tnt</td>\n",
       "      <td>Spirit of Revolt</td>\n",
       "      <td>IPA - Imperial / Double</td>\n",
       "      <td>Revolution Brewing Company</td>\n",
       "      <td>8.2</td>\n",
       "      <td>52</td>\n",
       "      <td>3.82</td>\n",
       "      <td>4.00</td>\n",
       "    </tr>\n",
       "  </tbody>\n",
       "</table>\n",
       "</div>"
      ],
      "text/plain": [
       "       nearest_neighbor_rank username                   beer_name  \\\n",
       "36726                   36.0      tnt       Society & Solitude #7   \n",
       "36727                   36.0      tnt  Riwaka Single Hop Pale Ale   \n",
       "36728                   36.0      tnt             Walk, Don't Run   \n",
       "36729                   36.0      tnt                   Czech Two   \n",
       "36730                   36.0      tnt            Spirit of Revolt   \n",
       "\n",
       "              beer_description                     brewery  ABV      IBU  \\\n",
       "36726  IPA - Imperial / Double      Hill Farmstead Brewery  8.0  44.1594   \n",
       "36727      Pale Ale - American      Hill Farmstead Brewery  5.2  44.1594   \n",
       "36728               Blonde Ale       Suarez Family Brewery  3.7  44.1594   \n",
       "36729          Pilsner - Czech          Gravely Brewing Co  4.1       39   \n",
       "36730  IPA - Imperial / Double  Revolution Brewing Company  8.2       52   \n",
       "\n",
       "       global_rating  user_rating  \n",
       "36726           4.38         4.25  \n",
       "36727           4.14         5.00  \n",
       "36728           4.10         4.50  \n",
       "36729           3.81         4.25  \n",
       "36730           3.82         4.00  "
      ]
     },
     "execution_count": 27,
     "metadata": {},
     "output_type": "execute_result"
    }
   ],
   "source": [
    "user_df.head()"
   ]
  },
  {
   "cell_type": "markdown",
   "metadata": {},
   "source": [
    "#### Feature Engineering - Count Vectorizer"
   ]
  },
  {
   "cell_type": "code",
   "execution_count": 28,
   "metadata": {},
   "outputs": [],
   "source": [
    "from sklearn.feature_extraction.text import CountVectorizer\n",
    "vect = CountVectorizer()"
   ]
  },
  {
   "cell_type": "code",
   "execution_count": 29,
   "metadata": {},
   "outputs": [],
   "source": [
    "X = vect.fit_transform(user_df['beer_description'])\n",
    "\n",
    "tfidf_df = pd.DataFrame(X.toarray(), columns=vect.get_feature_names())\n",
    "user_df = pd.concat([user_df.reset_index(drop=True), tfidf_df], axis=1)"
   ]
  },
  {
   "cell_type": "code",
   "execution_count": 30,
   "metadata": {},
   "outputs": [],
   "source": [
    "user_df.drop(['username', 'nearest_neighbor_rank', 'beer_description', 'beer_name', 'brewery'], axis=1, inplace=True)"
   ]
  },
  {
   "cell_type": "code",
   "execution_count": 31,
   "metadata": {},
   "outputs": [
    {
     "data": {
      "text/plain": [
       "(1684, 130)"
      ]
     },
     "execution_count": 31,
     "metadata": {},
     "output_type": "execute_result"
    }
   ],
   "source": [
    "user_df.shape"
   ]
  },
  {
   "cell_type": "code",
   "execution_count": 32,
   "metadata": {},
   "outputs": [
    {
     "data": {
      "text/html": [
       "<div>\n",
       "<style scoped>\n",
       "    .dataframe tbody tr th:only-of-type {\n",
       "        vertical-align: middle;\n",
       "    }\n",
       "\n",
       "    .dataframe tbody tr th {\n",
       "        vertical-align: top;\n",
       "    }\n",
       "\n",
       "    .dataframe thead th {\n",
       "        text-align: right;\n",
       "    }\n",
       "</style>\n",
       "<table border=\"1\" class=\"dataframe\">\n",
       "  <thead>\n",
       "    <tr style=\"text-align: right;\">\n",
       "      <th></th>\n",
       "      <th>ABV</th>\n",
       "      <th>IBU</th>\n",
       "      <th>global_rating</th>\n",
       "      <th>user_rating</th>\n",
       "      <th>abbey</th>\n",
       "      <th>ale</th>\n",
       "      <th>altbier</th>\n",
       "      <th>amber</th>\n",
       "      <th>american</th>\n",
       "      <th>ancient</th>\n",
       "      <th>...</th>\n",
       "      <th>wee</th>\n",
       "      <th>weisse</th>\n",
       "      <th>wheat</th>\n",
       "      <th>white</th>\n",
       "      <th>wild</th>\n",
       "      <th>wine</th>\n",
       "      <th>winter</th>\n",
       "      <th>witbier</th>\n",
       "      <th>yam</th>\n",
       "      <th>zwickelbier</th>\n",
       "    </tr>\n",
       "  </thead>\n",
       "  <tbody>\n",
       "    <tr>\n",
       "      <th>0</th>\n",
       "      <td>8.0</td>\n",
       "      <td>44.1594</td>\n",
       "      <td>4.38</td>\n",
       "      <td>4.25</td>\n",
       "      <td>0</td>\n",
       "      <td>0</td>\n",
       "      <td>0</td>\n",
       "      <td>0</td>\n",
       "      <td>0</td>\n",
       "      <td>0</td>\n",
       "      <td>...</td>\n",
       "      <td>0</td>\n",
       "      <td>0</td>\n",
       "      <td>0</td>\n",
       "      <td>0</td>\n",
       "      <td>0</td>\n",
       "      <td>0</td>\n",
       "      <td>0</td>\n",
       "      <td>0</td>\n",
       "      <td>0</td>\n",
       "      <td>0</td>\n",
       "    </tr>\n",
       "    <tr>\n",
       "      <th>1</th>\n",
       "      <td>5.2</td>\n",
       "      <td>44.1594</td>\n",
       "      <td>4.14</td>\n",
       "      <td>5.00</td>\n",
       "      <td>0</td>\n",
       "      <td>1</td>\n",
       "      <td>0</td>\n",
       "      <td>0</td>\n",
       "      <td>1</td>\n",
       "      <td>0</td>\n",
       "      <td>...</td>\n",
       "      <td>0</td>\n",
       "      <td>0</td>\n",
       "      <td>0</td>\n",
       "      <td>0</td>\n",
       "      <td>0</td>\n",
       "      <td>0</td>\n",
       "      <td>0</td>\n",
       "      <td>0</td>\n",
       "      <td>0</td>\n",
       "      <td>0</td>\n",
       "    </tr>\n",
       "    <tr>\n",
       "      <th>2</th>\n",
       "      <td>3.7</td>\n",
       "      <td>44.1594</td>\n",
       "      <td>4.10</td>\n",
       "      <td>4.50</td>\n",
       "      <td>0</td>\n",
       "      <td>1</td>\n",
       "      <td>0</td>\n",
       "      <td>0</td>\n",
       "      <td>0</td>\n",
       "      <td>0</td>\n",
       "      <td>...</td>\n",
       "      <td>0</td>\n",
       "      <td>0</td>\n",
       "      <td>0</td>\n",
       "      <td>0</td>\n",
       "      <td>0</td>\n",
       "      <td>0</td>\n",
       "      <td>0</td>\n",
       "      <td>0</td>\n",
       "      <td>0</td>\n",
       "      <td>0</td>\n",
       "    </tr>\n",
       "    <tr>\n",
       "      <th>3</th>\n",
       "      <td>4.1</td>\n",
       "      <td>39</td>\n",
       "      <td>3.81</td>\n",
       "      <td>4.25</td>\n",
       "      <td>0</td>\n",
       "      <td>0</td>\n",
       "      <td>0</td>\n",
       "      <td>0</td>\n",
       "      <td>0</td>\n",
       "      <td>0</td>\n",
       "      <td>...</td>\n",
       "      <td>0</td>\n",
       "      <td>0</td>\n",
       "      <td>0</td>\n",
       "      <td>0</td>\n",
       "      <td>0</td>\n",
       "      <td>0</td>\n",
       "      <td>0</td>\n",
       "      <td>0</td>\n",
       "      <td>0</td>\n",
       "      <td>0</td>\n",
       "    </tr>\n",
       "    <tr>\n",
       "      <th>4</th>\n",
       "      <td>8.2</td>\n",
       "      <td>52</td>\n",
       "      <td>3.82</td>\n",
       "      <td>4.00</td>\n",
       "      <td>0</td>\n",
       "      <td>0</td>\n",
       "      <td>0</td>\n",
       "      <td>0</td>\n",
       "      <td>0</td>\n",
       "      <td>0</td>\n",
       "      <td>...</td>\n",
       "      <td>0</td>\n",
       "      <td>0</td>\n",
       "      <td>0</td>\n",
       "      <td>0</td>\n",
       "      <td>0</td>\n",
       "      <td>0</td>\n",
       "      <td>0</td>\n",
       "      <td>0</td>\n",
       "      <td>0</td>\n",
       "      <td>0</td>\n",
       "    </tr>\n",
       "  </tbody>\n",
       "</table>\n",
       "<p>5 rows × 130 columns</p>\n",
       "</div>"
      ],
      "text/plain": [
       "   ABV      IBU  global_rating  user_rating  abbey  ale  altbier  amber  \\\n",
       "0  8.0  44.1594           4.38         4.25      0    0        0      0   \n",
       "1  5.2  44.1594           4.14         5.00      0    1        0      0   \n",
       "2  3.7  44.1594           4.10         4.50      0    1        0      0   \n",
       "3  4.1       39           3.81         4.25      0    0        0      0   \n",
       "4  8.2       52           3.82         4.00      0    0        0      0   \n",
       "\n",
       "   american  ancient  ...  wee  weisse  wheat  white  wild  wine  winter  \\\n",
       "0         0        0  ...    0       0      0      0     0     0       0   \n",
       "1         1        0  ...    0       0      0      0     0     0       0   \n",
       "2         0        0  ...    0       0      0      0     0     0       0   \n",
       "3         0        0  ...    0       0      0      0     0     0       0   \n",
       "4         0        0  ...    0       0      0      0     0     0       0   \n",
       "\n",
       "   witbier  yam  zwickelbier  \n",
       "0        0    0            0  \n",
       "1        0    0            0  \n",
       "2        0    0            0  \n",
       "3        0    0            0  \n",
       "4        0    0            0  \n",
       "\n",
       "[5 rows x 130 columns]"
      ]
     },
     "execution_count": 32,
     "metadata": {},
     "output_type": "execute_result"
    }
   ],
   "source": [
    "user_df.head()"
   ]
  },
  {
   "cell_type": "markdown",
   "metadata": {},
   "source": [
    "#### Build Model and Score"
   ]
  },
  {
   "cell_type": "code",
   "execution_count": 33,
   "metadata": {},
   "outputs": [],
   "source": [
    "features = user_df.columns[list(user_df.columns != 'user_rating')]\n",
    "target = 'user_rating'"
   ]
  },
  {
   "cell_type": "code",
   "execution_count": 34,
   "metadata": {},
   "outputs": [
    {
     "data": {
      "text/plain": [
       "Lasso(alpha=0.00027552143614173187, copy_X=True, fit_intercept=True,\n",
       "   max_iter=1000, normalize=True, positive=False, precompute=False,\n",
       "   random_state=12, selection='cyclic', tol=0.0001, warm_start=False)"
      ]
     },
     "execution_count": 34,
     "metadata": {},
     "output_type": "execute_result"
    }
   ],
   "source": [
    "from sklearn.model_selection import train_test_split\n",
    "X_train, X_test, y_train, y_test = train_test_split(user_df[features], user_df[target], random_state=rand_state)\n",
    "\n",
    "from sklearn.linear_model import LassoCV\n",
    "lassocv = LassoCV(fit_intercept=True, normalize=True, cv=5, random_state=rand_state)\n",
    "lassocv.fit(X_train, y_train)\n",
    "\n",
    "from sklearn.linear_model import Lasso\n",
    "lasso = Lasso(alpha=lassocv.alpha_,fit_intercept=True, normalize=True, random_state=rand_state)\n",
    "lasso.fit(X_train, y_train)"
   ]
  },
  {
   "cell_type": "code",
   "execution_count": 35,
   "metadata": {},
   "outputs": [
    {
     "name": "stdout",
     "output_type": "stream",
     "text": [
      "Percentage of estimators dropped = 53.49 %\n",
      "Features dropped:  ['altbier', 'amber', 'american', 'ancient', 'belgian', 'berliner', 'bière', 'blonde', 'bock', 'braggot', 'bruin', 'brut', 'california', 'cascadian', 'champagne', 'cider', 'common', 'de', 'doppelbock', 'dortmunder', 'double', 'dunkelweizen', 'euro', 'export', 'flanders', 'framboise', 'fruit', 'garde', 'german', 'golden', 'gose', 'grape', 'gruit', 'heavy', 'hell', 'herbed', 'international', 'ipa', 'italian', 'kellerbier', 'kriek', 'kölsch', 'lambic', 'lentebock', 'maibock', 'mars', 'milk', 'oatmeal', 'old', 'oud', 'patersbier', 'pilsner', 'porter', 'pumpkin', 'pyment', 'roggenbier', 'schwarzbier', 'scotch', 'session', 'special', 'strong', 'triple', 'vienna', 'wee', 'weisse', 'wheat', 'winter', 'yam', 'zwickelbier']\n",
      "Features kept:  ['ABV', 'IBU', 'global_rating', 'abbey', 'ale', 'baltic', 'barleywine', 'beer', 'bitter', 'black', 'brown', 'coffee', 'cream', 'czech', 'dark', 'dry', 'dubbel', 'england', 'english', 'extra', 'farmhouse', 'fruited', 'grisette', 'gueuze', 'hefeweizen', 'helles', 'imperial', 'india', 'ipl', 'irish', 'lager', 'light', 'mead', 'mild', 'milkshake', 'märzen', 'new', 'other', 'pale', 'quadrupel', 'radler', 'red', 'russian', 'rye', 'saison', 'scottish', 'shandy', 'single', 'smoked', 'sour', 'spiced', 'stout', 'sweet', 'table', 'traditional', 'tripel', 'white', 'wild', 'wine', 'witbier']\n"
     ]
    }
   ],
   "source": [
    "coef_dropped_perc = 100*np.sum(lasso.coef_ == 0) / len(lasso.coef_)\n",
    "print(\"Percentage of estimators dropped = {:.2f} %\".format(coef_dropped_perc))\n",
    "\n",
    "features_dropped = list(features[lasso.coef_ == 0])\n",
    "print(\"Features dropped: \", features_dropped)\n",
    "\n",
    "features_kept = list(features[lasso.coef_ != 0])\n",
    "print(\"Features kept: \", features_kept)"
   ]
  },
  {
   "cell_type": "code",
   "execution_count": 36,
   "metadata": {},
   "outputs": [
    {
     "name": "stdout",
     "output_type": "stream",
     "text": [
      "MSE = 0.23\n",
      "MAE = 0.36\n",
      "Errors within 0.25 = 48.46 %\n",
      "Errors within 0.50 = 72.92 %\n"
     ]
    }
   ],
   "source": [
    "preds = lasso.predict(X_test)\n",
    "error_list = preds - y_test\n",
    "\n",
    "mse = np.mean(np.array(error_list)**2)\n",
    "mae = np.absolute(error_list).mean()\n",
    "quarter_error_perc = 100 * np.sum(np.absolute(error_list) < 0.25) / len(error_list)\n",
    "half_error_perc = 100 * np.sum(np.absolute(error_list) < 0.50) / len(error_list)\n",
    "\n",
    "print(\"MSE = {:.2f}\".format(mse))\n",
    "print(\"MAE = {:.2f}\".format(mae))\n",
    "print(\"Errors within 0.25 = {:.2f} %\".format(quarter_error_perc))\n",
    "print(\"Errors within 0.50 = {:.2f} %\".format(half_error_perc))"
   ]
  },
  {
   "cell_type": "markdown",
   "metadata": {},
   "source": [
    "### C. NLP (TFIDF)"
   ]
  },
  {
   "cell_type": "code",
   "execution_count": 37,
   "metadata": {},
   "outputs": [],
   "source": [
    "user_df = df[df['username'] == user_of_interest]"
   ]
  },
  {
   "cell_type": "code",
   "execution_count": 38,
   "metadata": {},
   "outputs": [
    {
     "data": {
      "text/html": [
       "<div>\n",
       "<style scoped>\n",
       "    .dataframe tbody tr th:only-of-type {\n",
       "        vertical-align: middle;\n",
       "    }\n",
       "\n",
       "    .dataframe tbody tr th {\n",
       "        vertical-align: top;\n",
       "    }\n",
       "\n",
       "    .dataframe thead th {\n",
       "        text-align: right;\n",
       "    }\n",
       "</style>\n",
       "<table border=\"1\" class=\"dataframe\">\n",
       "  <thead>\n",
       "    <tr style=\"text-align: right;\">\n",
       "      <th></th>\n",
       "      <th>nearest_neighbor_rank</th>\n",
       "      <th>username</th>\n",
       "      <th>beer_name</th>\n",
       "      <th>beer_description</th>\n",
       "      <th>brewery</th>\n",
       "      <th>ABV</th>\n",
       "      <th>IBU</th>\n",
       "      <th>global_rating</th>\n",
       "      <th>user_rating</th>\n",
       "    </tr>\n",
       "  </thead>\n",
       "  <tbody>\n",
       "    <tr>\n",
       "      <th>36726</th>\n",
       "      <td>36.0</td>\n",
       "      <td>tnt</td>\n",
       "      <td>Society &amp; Solitude #7</td>\n",
       "      <td>IPA - Imperial / Double</td>\n",
       "      <td>Hill Farmstead Brewery</td>\n",
       "      <td>8.0</td>\n",
       "      <td>44.1594</td>\n",
       "      <td>4.38</td>\n",
       "      <td>4.25</td>\n",
       "    </tr>\n",
       "    <tr>\n",
       "      <th>36727</th>\n",
       "      <td>36.0</td>\n",
       "      <td>tnt</td>\n",
       "      <td>Riwaka Single Hop Pale Ale</td>\n",
       "      <td>Pale Ale - American</td>\n",
       "      <td>Hill Farmstead Brewery</td>\n",
       "      <td>5.2</td>\n",
       "      <td>44.1594</td>\n",
       "      <td>4.14</td>\n",
       "      <td>5.00</td>\n",
       "    </tr>\n",
       "    <tr>\n",
       "      <th>36728</th>\n",
       "      <td>36.0</td>\n",
       "      <td>tnt</td>\n",
       "      <td>Walk, Don't Run</td>\n",
       "      <td>Blonde Ale</td>\n",
       "      <td>Suarez Family Brewery</td>\n",
       "      <td>3.7</td>\n",
       "      <td>44.1594</td>\n",
       "      <td>4.10</td>\n",
       "      <td>4.50</td>\n",
       "    </tr>\n",
       "    <tr>\n",
       "      <th>36729</th>\n",
       "      <td>36.0</td>\n",
       "      <td>tnt</td>\n",
       "      <td>Czech Two</td>\n",
       "      <td>Pilsner - Czech</td>\n",
       "      <td>Gravely Brewing Co</td>\n",
       "      <td>4.1</td>\n",
       "      <td>39</td>\n",
       "      <td>3.81</td>\n",
       "      <td>4.25</td>\n",
       "    </tr>\n",
       "    <tr>\n",
       "      <th>36730</th>\n",
       "      <td>36.0</td>\n",
       "      <td>tnt</td>\n",
       "      <td>Spirit of Revolt</td>\n",
       "      <td>IPA - Imperial / Double</td>\n",
       "      <td>Revolution Brewing Company</td>\n",
       "      <td>8.2</td>\n",
       "      <td>52</td>\n",
       "      <td>3.82</td>\n",
       "      <td>4.00</td>\n",
       "    </tr>\n",
       "  </tbody>\n",
       "</table>\n",
       "</div>"
      ],
      "text/plain": [
       "       nearest_neighbor_rank username                   beer_name  \\\n",
       "36726                   36.0      tnt       Society & Solitude #7   \n",
       "36727                   36.0      tnt  Riwaka Single Hop Pale Ale   \n",
       "36728                   36.0      tnt             Walk, Don't Run   \n",
       "36729                   36.0      tnt                   Czech Two   \n",
       "36730                   36.0      tnt            Spirit of Revolt   \n",
       "\n",
       "              beer_description                     brewery  ABV      IBU  \\\n",
       "36726  IPA - Imperial / Double      Hill Farmstead Brewery  8.0  44.1594   \n",
       "36727      Pale Ale - American      Hill Farmstead Brewery  5.2  44.1594   \n",
       "36728               Blonde Ale       Suarez Family Brewery  3.7  44.1594   \n",
       "36729          Pilsner - Czech          Gravely Brewing Co  4.1       39   \n",
       "36730  IPA - Imperial / Double  Revolution Brewing Company  8.2       52   \n",
       "\n",
       "       global_rating  user_rating  \n",
       "36726           4.38         4.25  \n",
       "36727           4.14         5.00  \n",
       "36728           4.10         4.50  \n",
       "36729           3.81         4.25  \n",
       "36730           3.82         4.00  "
      ]
     },
     "execution_count": 38,
     "metadata": {},
     "output_type": "execute_result"
    }
   ],
   "source": [
    "user_df.head()"
   ]
  },
  {
   "cell_type": "markdown",
   "metadata": {},
   "source": [
    "#### Feature Engineering - Count Vectorizer"
   ]
  },
  {
   "cell_type": "code",
   "execution_count": 39,
   "metadata": {},
   "outputs": [],
   "source": [
    "from sklearn.feature_extraction.text import TfidfVectorizer\n",
    "vect = TfidfVectorizer()"
   ]
  },
  {
   "cell_type": "code",
   "execution_count": 40,
   "metadata": {},
   "outputs": [],
   "source": [
    "X = vect.fit_transform(user_df['beer_description'])\n",
    "\n",
    "tfidf_df = pd.DataFrame(X.toarray(), columns=vect.get_feature_names())\n",
    "user_df = pd.concat([user_df.reset_index(drop=True), tfidf_df], axis=1)"
   ]
  },
  {
   "cell_type": "code",
   "execution_count": 41,
   "metadata": {},
   "outputs": [],
   "source": [
    "user_df.drop(['username', 'nearest_neighbor_rank', 'beer_description', 'beer_name', 'brewery'], axis=1, inplace=True)"
   ]
  },
  {
   "cell_type": "code",
   "execution_count": 42,
   "metadata": {},
   "outputs": [
    {
     "data": {
      "text/plain": [
       "(1684, 130)"
      ]
     },
     "execution_count": 42,
     "metadata": {},
     "output_type": "execute_result"
    }
   ],
   "source": [
    "user_df.shape"
   ]
  },
  {
   "cell_type": "code",
   "execution_count": 43,
   "metadata": {},
   "outputs": [
    {
     "data": {
      "text/html": [
       "<div>\n",
       "<style scoped>\n",
       "    .dataframe tbody tr th:only-of-type {\n",
       "        vertical-align: middle;\n",
       "    }\n",
       "\n",
       "    .dataframe tbody tr th {\n",
       "        vertical-align: top;\n",
       "    }\n",
       "\n",
       "    .dataframe thead th {\n",
       "        text-align: right;\n",
       "    }\n",
       "</style>\n",
       "<table border=\"1\" class=\"dataframe\">\n",
       "  <thead>\n",
       "    <tr style=\"text-align: right;\">\n",
       "      <th></th>\n",
       "      <th>ABV</th>\n",
       "      <th>IBU</th>\n",
       "      <th>global_rating</th>\n",
       "      <th>user_rating</th>\n",
       "      <th>abbey</th>\n",
       "      <th>ale</th>\n",
       "      <th>altbier</th>\n",
       "      <th>amber</th>\n",
       "      <th>american</th>\n",
       "      <th>ancient</th>\n",
       "      <th>...</th>\n",
       "      <th>wee</th>\n",
       "      <th>weisse</th>\n",
       "      <th>wheat</th>\n",
       "      <th>white</th>\n",
       "      <th>wild</th>\n",
       "      <th>wine</th>\n",
       "      <th>winter</th>\n",
       "      <th>witbier</th>\n",
       "      <th>yam</th>\n",
       "      <th>zwickelbier</th>\n",
       "    </tr>\n",
       "  </thead>\n",
       "  <tbody>\n",
       "    <tr>\n",
       "      <th>0</th>\n",
       "      <td>8.0</td>\n",
       "      <td>44.1594</td>\n",
       "      <td>4.38</td>\n",
       "      <td>4.25</td>\n",
       "      <td>0.0</td>\n",
       "      <td>0.000000</td>\n",
       "      <td>0.0</td>\n",
       "      <td>0.0</td>\n",
       "      <td>0.000000</td>\n",
       "      <td>0.0</td>\n",
       "      <td>...</td>\n",
       "      <td>0.0</td>\n",
       "      <td>0.0</td>\n",
       "      <td>0.0</td>\n",
       "      <td>0.0</td>\n",
       "      <td>0.0</td>\n",
       "      <td>0.0</td>\n",
       "      <td>0.0</td>\n",
       "      <td>0.0</td>\n",
       "      <td>0.0</td>\n",
       "      <td>0.0</td>\n",
       "    </tr>\n",
       "    <tr>\n",
       "      <th>1</th>\n",
       "      <td>5.2</td>\n",
       "      <td>44.1594</td>\n",
       "      <td>4.14</td>\n",
       "      <td>5.00</td>\n",
       "      <td>0.0</td>\n",
       "      <td>0.490558</td>\n",
       "      <td>0.0</td>\n",
       "      <td>0.0</td>\n",
       "      <td>0.472183</td>\n",
       "      <td>0.0</td>\n",
       "      <td>...</td>\n",
       "      <td>0.0</td>\n",
       "      <td>0.0</td>\n",
       "      <td>0.0</td>\n",
       "      <td>0.0</td>\n",
       "      <td>0.0</td>\n",
       "      <td>0.0</td>\n",
       "      <td>0.0</td>\n",
       "      <td>0.0</td>\n",
       "      <td>0.0</td>\n",
       "      <td>0.0</td>\n",
       "    </tr>\n",
       "    <tr>\n",
       "      <th>2</th>\n",
       "      <td>3.7</td>\n",
       "      <td>44.1594</td>\n",
       "      <td>4.10</td>\n",
       "      <td>4.50</td>\n",
       "      <td>0.0</td>\n",
       "      <td>0.346861</td>\n",
       "      <td>0.0</td>\n",
       "      <td>0.0</td>\n",
       "      <td>0.000000</td>\n",
       "      <td>0.0</td>\n",
       "      <td>...</td>\n",
       "      <td>0.0</td>\n",
       "      <td>0.0</td>\n",
       "      <td>0.0</td>\n",
       "      <td>0.0</td>\n",
       "      <td>0.0</td>\n",
       "      <td>0.0</td>\n",
       "      <td>0.0</td>\n",
       "      <td>0.0</td>\n",
       "      <td>0.0</td>\n",
       "      <td>0.0</td>\n",
       "    </tr>\n",
       "    <tr>\n",
       "      <th>3</th>\n",
       "      <td>4.1</td>\n",
       "      <td>39</td>\n",
       "      <td>3.81</td>\n",
       "      <td>4.25</td>\n",
       "      <td>0.0</td>\n",
       "      <td>0.000000</td>\n",
       "      <td>0.0</td>\n",
       "      <td>0.0</td>\n",
       "      <td>0.000000</td>\n",
       "      <td>0.0</td>\n",
       "      <td>...</td>\n",
       "      <td>0.0</td>\n",
       "      <td>0.0</td>\n",
       "      <td>0.0</td>\n",
       "      <td>0.0</td>\n",
       "      <td>0.0</td>\n",
       "      <td>0.0</td>\n",
       "      <td>0.0</td>\n",
       "      <td>0.0</td>\n",
       "      <td>0.0</td>\n",
       "      <td>0.0</td>\n",
       "    </tr>\n",
       "    <tr>\n",
       "      <th>4</th>\n",
       "      <td>8.2</td>\n",
       "      <td>52</td>\n",
       "      <td>3.82</td>\n",
       "      <td>4.00</td>\n",
       "      <td>0.0</td>\n",
       "      <td>0.000000</td>\n",
       "      <td>0.0</td>\n",
       "      <td>0.0</td>\n",
       "      <td>0.000000</td>\n",
       "      <td>0.0</td>\n",
       "      <td>...</td>\n",
       "      <td>0.0</td>\n",
       "      <td>0.0</td>\n",
       "      <td>0.0</td>\n",
       "      <td>0.0</td>\n",
       "      <td>0.0</td>\n",
       "      <td>0.0</td>\n",
       "      <td>0.0</td>\n",
       "      <td>0.0</td>\n",
       "      <td>0.0</td>\n",
       "      <td>0.0</td>\n",
       "    </tr>\n",
       "  </tbody>\n",
       "</table>\n",
       "<p>5 rows × 130 columns</p>\n",
       "</div>"
      ],
      "text/plain": [
       "   ABV      IBU  global_rating  user_rating  abbey       ale  altbier  amber  \\\n",
       "0  8.0  44.1594           4.38         4.25    0.0  0.000000      0.0    0.0   \n",
       "1  5.2  44.1594           4.14         5.00    0.0  0.490558      0.0    0.0   \n",
       "2  3.7  44.1594           4.10         4.50    0.0  0.346861      0.0    0.0   \n",
       "3  4.1       39           3.81         4.25    0.0  0.000000      0.0    0.0   \n",
       "4  8.2       52           3.82         4.00    0.0  0.000000      0.0    0.0   \n",
       "\n",
       "   american  ancient  ...  wee  weisse  wheat  white  wild  wine  winter  \\\n",
       "0  0.000000      0.0  ...  0.0     0.0    0.0    0.0   0.0   0.0     0.0   \n",
       "1  0.472183      0.0  ...  0.0     0.0    0.0    0.0   0.0   0.0     0.0   \n",
       "2  0.000000      0.0  ...  0.0     0.0    0.0    0.0   0.0   0.0     0.0   \n",
       "3  0.000000      0.0  ...  0.0     0.0    0.0    0.0   0.0   0.0     0.0   \n",
       "4  0.000000      0.0  ...  0.0     0.0    0.0    0.0   0.0   0.0     0.0   \n",
       "\n",
       "   witbier  yam  zwickelbier  \n",
       "0      0.0  0.0          0.0  \n",
       "1      0.0  0.0          0.0  \n",
       "2      0.0  0.0          0.0  \n",
       "3      0.0  0.0          0.0  \n",
       "4      0.0  0.0          0.0  \n",
       "\n",
       "[5 rows x 130 columns]"
      ]
     },
     "execution_count": 43,
     "metadata": {},
     "output_type": "execute_result"
    }
   ],
   "source": [
    "user_df.head()"
   ]
  },
  {
   "cell_type": "markdown",
   "metadata": {},
   "source": [
    "#### Build Model and Score"
   ]
  },
  {
   "cell_type": "code",
   "execution_count": 44,
   "metadata": {},
   "outputs": [],
   "source": [
    "features = user_df.columns[list(user_df.columns != 'user_rating')]\n",
    "target = 'user_rating'"
   ]
  },
  {
   "cell_type": "code",
   "execution_count": 45,
   "metadata": {},
   "outputs": [
    {
     "data": {
      "text/plain": [
       "Lasso(alpha=0.0002954326049359895, copy_X=True, fit_intercept=True,\n",
       "   max_iter=1000, normalize=True, positive=False, precompute=False,\n",
       "   random_state=12, selection='cyclic', tol=0.0001, warm_start=False)"
      ]
     },
     "execution_count": 45,
     "metadata": {},
     "output_type": "execute_result"
    }
   ],
   "source": [
    "from sklearn.model_selection import train_test_split\n",
    "X_train, X_test, y_train, y_test = train_test_split(user_df[features], user_df[target], random_state=rand_state)\n",
    "\n",
    "from sklearn.linear_model import LassoCV\n",
    "lassocv = LassoCV(fit_intercept=True, normalize=True, cv=5, random_state=rand_state)\n",
    "lassocv.fit(X_train, y_train)\n",
    "\n",
    "from sklearn.linear_model import Lasso\n",
    "lasso = Lasso(alpha=lassocv.alpha_,fit_intercept=True, normalize=True, random_state=rand_state)\n",
    "lasso.fit(X_train, y_train)"
   ]
  },
  {
   "cell_type": "code",
   "execution_count": 46,
   "metadata": {},
   "outputs": [
    {
     "name": "stdout",
     "output_type": "stream",
     "text": [
      "Percentage of estimators dropped = 55.81 %\n",
      "Features dropped:  ['ale', 'altbier', 'amber', 'american', 'ancient', 'belgian', 'berliner', 'bière', 'blonde', 'bock', 'braggot', 'bruin', 'brut', 'california', 'cascadian', 'champagne', 'cider', 'common', 'czech', 'de', 'doppelbock', 'dortmunder', 'double', 'dunkelweizen', 'euro', 'export', 'flanders', 'framboise', 'garde', 'german', 'golden', 'gose', 'grape', 'gruit', 'heavy', 'hell', 'herbed', 'international', 'ipa', 'ipl', 'italian', 'kellerbier', 'kriek', 'kölsch', 'lambic', 'lentebock', 'maibock', 'mars', 'milk', 'milkshake', 'oatmeal', 'old', 'oud', 'patersbier', 'pilsner', 'porter', 'pumpkin', 'pyment', 'roggenbier', 'rye', 'schwarzbier', 'scotch', 'session', 'strong', 'triple', 'vienna', 'wee', 'weisse', 'wheat', 'winter', 'yam', 'zwickelbier']\n",
      "Features kept:  ['ABV', 'IBU', 'global_rating', 'abbey', 'baltic', 'barleywine', 'beer', 'bitter', 'black', 'brown', 'coffee', 'cream', 'dark', 'dry', 'dubbel', 'england', 'english', 'extra', 'farmhouse', 'fruit', 'fruited', 'grisette', 'gueuze', 'hefeweizen', 'helles', 'imperial', 'india', 'irish', 'lager', 'light', 'mead', 'mild', 'märzen', 'new', 'other', 'pale', 'quadrupel', 'radler', 'red', 'russian', 'saison', 'scottish', 'shandy', 'single', 'smoked', 'sour', 'special', 'spiced', 'stout', 'sweet', 'table', 'traditional', 'tripel', 'white', 'wild', 'wine', 'witbier']\n"
     ]
    }
   ],
   "source": [
    "coef_dropped_perc = 100*np.sum(lasso.coef_ == 0) / len(lasso.coef_)\n",
    "print(\"Percentage of estimators dropped = {:.2f} %\".format(coef_dropped_perc))\n",
    "\n",
    "features_dropped = list(features[lasso.coef_ == 0])\n",
    "print(\"Features dropped: \", features_dropped)\n",
    "\n",
    "features_kept = list(features[lasso.coef_ != 0])\n",
    "print(\"Features kept: \", features_kept)"
   ]
  },
  {
   "cell_type": "code",
   "execution_count": 47,
   "metadata": {},
   "outputs": [
    {
     "name": "stdout",
     "output_type": "stream",
     "text": [
      "MSE = 0.23\n",
      "MAE = 0.36\n",
      "Errors within 0.25 = 47.98 %\n",
      "Errors within 0.50 = 73.63 %\n"
     ]
    }
   ],
   "source": [
    "preds = lasso.predict(X_test)\n",
    "error_list = preds - y_test\n",
    "\n",
    "mse = np.mean(np.array(error_list)**2)\n",
    "mae = np.absolute(error_list).mean()\n",
    "quarter_error_perc = 100 * np.sum(np.absolute(error_list) < 0.25) / len(error_list)\n",
    "half_error_perc = 100 * np.sum(np.absolute(error_list) < 0.50) / len(error_list)\n",
    "\n",
    "print(\"MSE = {:.2f}\".format(mse))\n",
    "print(\"MAE = {:.2f}\".format(mae))\n",
    "print(\"Errors within 0.25 = {:.2f} %\".format(quarter_error_perc))\n",
    "print(\"Errors within 0.50 = {:.2f} %\".format(half_error_perc))"
   ]
  },
  {
   "cell_type": "code",
   "execution_count": 48,
   "metadata": {},
   "outputs": [
    {
     "data": {
      "text/plain": [
       "0.3634093348762903"
      ]
     },
     "execution_count": 48,
     "metadata": {},
     "output_type": "execute_result"
    }
   ],
   "source": [
    "from sklearn.metrics import mean_absolute_error\n",
    "mean_absolute_error(y_test, preds)"
   ]
  },
  {
   "cell_type": "markdown",
   "metadata": {},
   "source": [
    "# Hybrid "
   ]
  },
  {
   "cell_type": "markdown",
   "metadata": {},
   "source": [
    "### More Data"
   ]
  },
  {
   "cell_type": "code",
   "execution_count": 49,
   "metadata": {},
   "outputs": [],
   "source": [
    "user_of_interest = 'tnt'"
   ]
  },
  {
   "cell_type": "code",
   "execution_count": 50,
   "metadata": {},
   "outputs": [],
   "source": [
    "try:\n",
    "    df.drop('nearest_neighbor_rank', axis=1, inplace=True)\n",
    "except:\n",
    "    pass"
   ]
  },
  {
   "cell_type": "code",
   "execution_count": 51,
   "metadata": {},
   "outputs": [
    {
     "name": "stdout",
     "output_type": "stream",
     "text": [
      "User of Reference for Cosine Sim = tnt\n"
     ]
    }
   ],
   "source": [
    "df = COSINE_STEP(df, user_of_interest)"
   ]
  },
  {
   "cell_type": "code",
   "execution_count": 52,
   "metadata": {},
   "outputs": [],
   "source": [
    "features = ['ABV', 'IBU', 'IBU', 'global_rating']\n",
    "target = 'user_rating'"
   ]
  },
  {
   "cell_type": "code",
   "execution_count": 53,
   "metadata": {},
   "outputs": [
    {
     "data": {
      "text/html": [
       "<div>\n",
       "<style scoped>\n",
       "    .dataframe tbody tr th:only-of-type {\n",
       "        vertical-align: middle;\n",
       "    }\n",
       "\n",
       "    .dataframe tbody tr th {\n",
       "        vertical-align: top;\n",
       "    }\n",
       "\n",
       "    .dataframe thead th {\n",
       "        text-align: right;\n",
       "    }\n",
       "</style>\n",
       "<table border=\"1\" class=\"dataframe\">\n",
       "  <thead>\n",
       "    <tr style=\"text-align: right;\">\n",
       "      <th></th>\n",
       "      <th>nearest_neighbor_rank</th>\n",
       "      <th>username</th>\n",
       "      <th>beer_name</th>\n",
       "      <th>beer_description</th>\n",
       "      <th>brewery</th>\n",
       "      <th>ABV</th>\n",
       "      <th>IBU</th>\n",
       "      <th>global_rating</th>\n",
       "      <th>user_rating</th>\n",
       "    </tr>\n",
       "  </thead>\n",
       "  <tbody>\n",
       "    <tr>\n",
       "      <th>0</th>\n",
       "      <td>1.0</td>\n",
       "      <td>xtrmstaticx</td>\n",
       "      <td>Cucumber Pepper Kolsch</td>\n",
       "      <td>Kölsch</td>\n",
       "      <td>Earthbound Brewing</td>\n",
       "      <td>6.7</td>\n",
       "      <td>44.1594</td>\n",
       "      <td>3.76</td>\n",
       "      <td>3.75</td>\n",
       "    </tr>\n",
       "    <tr>\n",
       "      <th>1</th>\n",
       "      <td>1.0</td>\n",
       "      <td>xtrmstaticx</td>\n",
       "      <td>Brummel</td>\n",
       "      <td>IPA - Sour</td>\n",
       "      <td>Narrow Gauge Brewing Company</td>\n",
       "      <td>7.0</td>\n",
       "      <td>30</td>\n",
       "      <td>4.17</td>\n",
       "      <td>4.50</td>\n",
       "    </tr>\n",
       "    <tr>\n",
       "      <th>2</th>\n",
       "      <td>1.0</td>\n",
       "      <td>xtrmstaticx</td>\n",
       "      <td>Urban Underdog Pale Ale</td>\n",
       "      <td>Pale Ale - American</td>\n",
       "      <td>Urban Chestnut Brewing Company</td>\n",
       "      <td>4.8</td>\n",
       "      <td>30</td>\n",
       "      <td>3.56</td>\n",
       "      <td>4.00</td>\n",
       "    </tr>\n",
       "    <tr>\n",
       "      <th>3</th>\n",
       "      <td>1.0</td>\n",
       "      <td>xtrmstaticx</td>\n",
       "      <td>Blushing Monk (2019)</td>\n",
       "      <td>Fruit Beer</td>\n",
       "      <td>Founders Brewing Co.</td>\n",
       "      <td>9.2</td>\n",
       "      <td>20</td>\n",
       "      <td>4.01</td>\n",
       "      <td>4.50</td>\n",
       "    </tr>\n",
       "    <tr>\n",
       "      <th>4</th>\n",
       "      <td>1.0</td>\n",
       "      <td>xtrmstaticx</td>\n",
       "      <td>Big Shrug (2019)</td>\n",
       "      <td>American Wild Ale</td>\n",
       "      <td>Fonta Flora Brewery</td>\n",
       "      <td>6.4</td>\n",
       "      <td>44.1594</td>\n",
       "      <td>4.10</td>\n",
       "      <td>4.25</td>\n",
       "    </tr>\n",
       "  </tbody>\n",
       "</table>\n",
       "</div>"
      ],
      "text/plain": [
       "   nearest_neighbor_rank     username                beer_name  \\\n",
       "0                    1.0  xtrmstaticx   Cucumber Pepper Kolsch   \n",
       "1                    1.0  xtrmstaticx                  Brummel   \n",
       "2                    1.0  xtrmstaticx  Urban Underdog Pale Ale   \n",
       "3                    1.0  xtrmstaticx     Blushing Monk (2019)   \n",
       "4                    1.0  xtrmstaticx         Big Shrug (2019)   \n",
       "\n",
       "      beer_description                         brewery  ABV      IBU  \\\n",
       "0               Kölsch              Earthbound Brewing  6.7  44.1594   \n",
       "1           IPA - Sour    Narrow Gauge Brewing Company  7.0       30   \n",
       "2  Pale Ale - American  Urban Chestnut Brewing Company  4.8       30   \n",
       "3           Fruit Beer            Founders Brewing Co.  9.2       20   \n",
       "4    American Wild Ale             Fonta Flora Brewery  6.4  44.1594   \n",
       "\n",
       "   global_rating  user_rating  \n",
       "0           3.76         3.75  \n",
       "1           4.17         4.50  \n",
       "2           3.56         4.00  \n",
       "3           4.01         4.50  \n",
       "4           4.10         4.25  "
      ]
     },
     "execution_count": 53,
     "metadata": {},
     "output_type": "execute_result"
    }
   ],
   "source": [
    "df.head()"
   ]
  },
  {
   "cell_type": "code",
   "execution_count": 54,
   "metadata": {},
   "outputs": [
    {
     "name": "stdout",
     "output_type": "stream",
     "text": [
      "0\n",
      "MAE = 0.3853 with % within 0.25 43.527315914489314 and % within 0.5 75.41567695961996 for n = 5 with alpha = 0.0\n",
      "MAE = 0.37443 with % within 0.25 46.85273159144893 and % within 0.5 75.89073634204276 for n = 10 with alpha = 0.0\n",
      "MAE = 0.38686 with % within 0.25 43.46793349168646 and % within 0.5 74.82185273159145 for n = 15 with alpha = 0.0\n",
      "MAE = 0.38357 with % within 0.25 44.29928741092637 and % within 0.5 75.2375296912114 for n = 20 with alpha = 1e-05\n",
      "MAE = 0.37953 with % within 0.25 45.605700712589076 and % within 0.5 74.94061757719714 for n = 25 with alpha = 0.0\n",
      "MAE = 0.3765 with % within 0.25 46.43705463182898 and % within 0.5 74.70308788598575 for n = 30 with alpha = 1e-05\n",
      "MAE = 0.37717 with % within 0.25 46.25890736342043 and % within 0.5 74.94061757719714 for n = 35 with alpha = 0.0\n",
      "MAE = 0.38192 with % within 0.25 45.13064133016627 and % within 0.5 74.5249406175772 for n = 40 with alpha = 2e-05\n",
      "MAE = 0.38325 with % within 0.25 44.71496437054632 and % within 0.5 74.2874109263658 for n = 45 with alpha = 2e-05\n",
      "MAE = 0.38185 with % within 0.25 45.30878859857482 and % within 0.5 74.5249406175772 for n = 50 with alpha = 1e-05\n",
      "MAE = 0.38328 with % within 0.25 44.71496437054632 and % within 0.5 74.46555819477435 for n = 55 with alpha = 1e-05\n",
      "MAE = 0.38484 with % within 0.25 44.29928741092637 and % within 0.5 74.46555819477435 for n = 60 with alpha = 1e-05\n",
      "MAE = 0.38633 with % within 0.25 43.88361045130641 and % within 0.5 74.7624703087886 for n = 65 with alpha = 0.0\n",
      "MAE = 0.38719 with % within 0.25 43.58669833729216 and % within 0.5 74.70308788598575 for n = 70 with alpha = 0.0\n",
      "MAE = 0.38786 with % within 0.25 43.58669833729216 and % within 0.5 74.70308788598575 for n = 75 with alpha = 0.0\n",
      "MAE = 0.3861 with % within 0.25 43.942992874109265 and % within 0.5 74.82185273159145 for n = 80 with alpha = 0.0\n",
      "MAE = 0.3864 with % within 0.25 43.88361045130641 and % within 0.5 74.8812351543943 for n = 85 with alpha = 0.0\n",
      "MAE = 0.38544 with % within 0.25 44.180522565320665 and % within 0.5 74.8812351543943 for n = 100 with alpha = 0.0\n",
      "MAE = 0.38537 with % within 0.25 44.12114014251782 and % within 0.5 74.8812351543943 for n = 128 with alpha = 1e-05\n",
      "50\n",
      "MAE = 0.3853 with % within 0.25 43.527315914489314 and % within 0.5 75.41567695961996 for n = 5 with alpha = 0.0\n",
      "MAE = 0.37443 with % within 0.25 46.85273159144893 and % within 0.5 75.89073634204276 for n = 10 with alpha = 0.0\n",
      "MAE = 0.38686 with % within 0.25 43.46793349168646 and % within 0.5 74.82185273159145 for n = 15 with alpha = 0.0\n",
      "MAE = 0.38357 with % within 0.25 44.29928741092637 and % within 0.5 75.2375296912114 for n = 20 with alpha = 1e-05\n",
      "MAE = 0.37953 with % within 0.25 45.605700712589076 and % within 0.5 74.94061757719714 for n = 25 with alpha = 0.0\n",
      "MAE = 0.3765 with % within 0.25 46.43705463182898 and % within 0.5 74.70308788598575 for n = 30 with alpha = 1e-05\n",
      "MAE = 0.37691 with % within 0.25 46.25890736342043 and % within 0.5 74.94061757719714 for n = 35 with alpha = 0.0\n",
      "MAE = 0.38098 with % within 0.25 45.36817102137767 and % within 0.5 74.40617577197149 for n = 40 with alpha = 2e-05\n",
      "MAE = 0.38236 with % within 0.25 44.95249406175772 and % within 0.5 74.5249406175772 for n = 45 with alpha = 2e-05\n",
      "MAE = 0.38265 with % within 0.25 44.83372921615202 and % within 0.5 74.34679334916865 for n = 50 with alpha = 1e-05\n",
      "MAE = 0.38433 with % within 0.25 44.418052256532064 and % within 0.5 74.46555819477435 for n = 55 with alpha = 1e-05\n",
      "MAE = 0.38631 with % within 0.25 43.88361045130641 and % within 0.5 74.7624703087886 for n = 60 with alpha = 0.0\n",
      "MAE = 0.38717 with % within 0.25 43.58669833729216 and % within 0.5 74.70308788598575 for n = 65 with alpha = 0.0\n",
      "MAE = 0.38784 with % within 0.25 43.64608076009501 and % within 0.5 74.70308788598575 for n = 70 with alpha = 0.0\n",
      "MAE = 0.38624 with % within 0.25 43.942992874109265 and % within 0.5 74.8812351543943 for n = 75 with alpha = 0.0\n",
      "MAE = 0.38574 with % within 0.25 44.00237529691211 and % within 0.5 74.94061757719714 for n = 80 with alpha = 0.0\n",
      "MAE = 0.38539 with % within 0.25 44.06175771971496 and % within 0.5 74.8812351543943 for n = 85 with alpha = 1e-05\n",
      "100\n",
      "MAE = 0.3853 with % within 0.25 43.527315914489314 and % within 0.5 75.41567695961996 for n = 5 with alpha = 0.0\n",
      "MAE = 0.37443 with % within 0.25 46.85273159144893 and % within 0.5 75.89073634204276 for n = 10 with alpha = 0.0\n",
      "MAE = 0.38686 with % within 0.25 43.46793349168646 and % within 0.5 74.82185273159145 for n = 15 with alpha = 0.0\n",
      "MAE = 0.38357 with % within 0.25 44.29928741092637 and % within 0.5 75.2375296912114 for n = 20 with alpha = 1e-05\n",
      "MAE = 0.37953 with % within 0.25 45.605700712589076 and % within 0.5 74.94061757719714 for n = 25 with alpha = 0.0\n",
      "MAE = 0.3765 with % within 0.25 46.43705463182898 and % within 0.5 74.70308788598575 for n = 30 with alpha = 1e-05\n",
      "MAE = 0.37691 with % within 0.25 46.25890736342043 and % within 0.5 74.94061757719714 for n = 35 with alpha = 0.0\n",
      "MAE = 0.38098 with % within 0.25 45.36817102137767 and % within 0.5 74.40617577197149 for n = 40 with alpha = 2e-05\n",
      "MAE = 0.38289 with % within 0.25 44.65558194774347 and % within 0.5 74.2874109263658 for n = 45 with alpha = 2e-05\n",
      "MAE = 0.38361 with % within 0.25 44.77434679334917 and % within 0.5 74.46555819477435 for n = 50 with alpha = 1e-05\n",
      "MAE = 0.38635 with % within 0.25 43.705463182897866 and % within 0.5 74.70308788598575 for n = 55 with alpha = 0.0\n",
      "MAE = 0.3867 with % within 0.25 43.705463182897866 and % within 0.5 74.7624703087886 for n = 60 with alpha = 0.0\n",
      "MAE = 0.38776 with % within 0.25 43.58669833729216 and % within 0.5 74.7624703087886 for n = 65 with alpha = 0.0\n",
      "MAE = 0.38621 with % within 0.25 43.942992874109265 and % within 0.5 74.8812351543943 for n = 70 with alpha = 0.0\n",
      "MAE = 0.38562 with % within 0.25 44.12114014251782 and % within 0.5 74.82185273159145 for n = 75 with alpha = 0.0\n",
      "MAE = 0.38526 with % within 0.25 44.06175771971496 and % within 0.5 74.8812351543943 for n = 80 with alpha = 0.0\n",
      "250\n",
      "MAE = 0.38348 with % within 0.25 44.418052256532064 and % within 0.5 75.3562945368171 for n = 5 with alpha = 0.0\n",
      "MAE = 0.3736 with % within 0.25 46.97149643705463 and % within 0.5 75.77197149643706 for n = 10 with alpha = 0.0\n",
      "MAE = 0.38455 with % within 0.25 44.180522565320665 and % within 0.5 74.94061757719714 for n = 15 with alpha = 4e-05\n",
      "MAE = 0.38138 with % within 0.25 44.77434679334917 and % within 0.5 75.17814726840855 for n = 20 with alpha = 0.0\n",
      "MAE = 0.38086 with % within 0.25 45.13064133016627 and % within 0.5 75.2375296912114 for n = 25 with alpha = 0.0\n",
      "MAE = 0.37729 with % within 0.25 46.25890736342043 and % within 0.5 74.94061757719714 for n = 30 with alpha = 0.0\n",
      "MAE = 0.38131 with % within 0.25 45.30878859857482 and % within 0.5 74.46555819477435 for n = 35 with alpha = 2e-05\n",
      "MAE = 0.38324 with % within 0.25 44.65558194774347 and % within 0.5 74.22802850356294 for n = 40 with alpha = 2e-05\n",
      "MAE = 0.38363 with % within 0.25 44.596199524940616 and % within 0.5 74.40617577197149 for n = 45 with alpha = 1e-05\n",
      "MAE = 0.38617 with % within 0.25 43.82422802850356 and % within 0.5 74.7624703087886 for n = 50 with alpha = 0.0\n",
      "MAE = 0.38586 with % within 0.25 43.88361045130641 and % within 0.5 74.94061757719714 for n = 55 with alpha = 0.0\n",
      "MAE = 0.38616 with % within 0.25 44.00237529691211 and % within 0.5 74.7624703087886 for n = 60 with alpha = 0.0\n",
      "MAE = 0.38571 with % within 0.25 44.06175771971496 and % within 0.5 74.8812351543943 for n = 65 with alpha = 1e-05\n",
      "500\n",
      "MAE = 0.38348 with % within 0.25 44.418052256532064 and % within 0.5 75.3562945368171 for n = 5 with alpha = 0.0\n",
      "MAE = 0.39158 with % within 0.25 42.458432304038006 and % within 0.5 74.5249406175772 for n = 10 with alpha = 0.0\n",
      "MAE = 0.38422 with % within 0.25 44.12114014251782 and % within 0.5 75.17814726840855 for n = 15 with alpha = 1e-05\n",
      "MAE = 0.37741 with % within 0.25 46.37767220902613 and % within 0.5 74.82185273159145 for n = 20 with alpha = 0.0\n",
      "MAE = 0.37712 with % within 0.25 46.14014251781472 and % within 0.5 75.0 for n = 25 with alpha = 0.0\n",
      "MAE = 0.38118 with % within 0.25 45.30878859857482 and % within 0.5 74.40617577197149 for n = 30 with alpha = 2e-05\n",
      "MAE = 0.38313 with % within 0.25 44.53681710213777 and % within 0.5 74.2874109263658 for n = 35 with alpha = 1e-05\n",
      "MAE = 0.38362 with % within 0.25 44.71496437054632 and % within 0.5 74.46555819477435 for n = 40 with alpha = 1e-05\n",
      "MAE = 0.38684 with % within 0.25 43.82422802850356 and % within 0.5 74.70308788598575 for n = 45 with alpha = 0.0\n",
      "MAE = 0.38743 with % within 0.25 43.64608076009501 and % within 0.5 74.7624703087886 for n = 50 with alpha = 0.0\n",
      "MAE = 0.38456 with % within 0.25 44.23990498812351 and % within 0.5 74.5249406175772 for n = 55 with alpha = 1e-05\n",
      "750\n",
      "MAE = 0.38348 with % within 0.25 44.418052256532064 and % within 0.5 75.3562945368171 for n = 5 with alpha = 0.0\n",
      "MAE = 0.39158 with % within 0.25 42.458432304038006 and % within 0.5 74.5249406175772 for n = 10 with alpha = 0.0\n",
      "MAE = 0.37703 with % within 0.25 46.55581947743468 and % within 0.5 74.70308788598575 for n = 15 with alpha = 0.0\n",
      "MAE = 0.37689 with % within 0.25 46.19952494061758 and % within 0.5 74.70308788598575 for n = 20 with alpha = 1e-05\n",
      "MAE = 0.38142 with % within 0.25 45.48693586698337 and % within 0.5 74.34679334916865 for n = 25 with alpha = 2e-05\n",
      "MAE = 0.38307 with % within 0.25 45.07125890736342 and % within 0.5 74.10926365795724 for n = 30 with alpha = 1e-05\n",
      "MAE = 0.38704 with % within 0.25 43.705463182897866 and % within 0.5 74.1686460807601 for n = 35 with alpha = 1e-05\n",
      "MAE = 0.38816 with % within 0.25 43.527315914489314 and % within 0.5 74.6437054631829 for n = 40 with alpha = 0.0\n",
      "1000\n",
      "MAE = 0.37648 with % within 0.25 46.43705463182898 and % within 0.5 75.53444180522565 for n = 5 with alpha = 0.0\n",
      "MAE = 0.38407 with % within 0.25 44.358669833729216 and % within 0.5 74.94061757719714 for n = 10 with alpha = 0.0\n",
      "MAE = 0.37616 with % within 0.25 46.37767220902613 and % within 0.5 74.7624703087886 for n = 15 with alpha = 1e-05\n",
      "MAE = 0.3829 with % within 0.25 45.48693586698337 and % within 0.5 74.1686460807601 for n = 20 with alpha = 2e-05\n",
      "MAE = 0.38427 with % within 0.25 44.77434679334917 and % within 0.5 74.10926365795724 for n = 25 with alpha = 1e-05\n",
      "MAE = 0.38858 with % within 0.25 43.527315914489314 and % within 0.5 74.04988123515439 for n = 30 with alpha = 1e-05\n",
      "MAE = 0.38627 with % within 0.25 44.00237529691211 and % within 0.5 74.04988123515439 for n = 35 with alpha = 1e-05\n",
      "CPU times: user 1min 39s, sys: 23.3 s, total: 2min 2s\n",
      "Wall time: 2min 14s\n"
     ]
    }
   ],
   "source": [
    "%%time\n",
    "\n",
    "min_ppu_list = [0, 50, 100, 250, 500, 750, 1000]\n",
    "n_users_list = [5, 10, 15, 20, 25, 30, 35, 40, 45, 50, \n",
    "                55, 60, 65, 70, 75, 80, 85, 100, len(df['username'].unique())-1]\n",
    "\n",
    "\n",
    "mae_list = []\n",
    "quarter_abs_error_list = []\n",
    "half_abs_error_list = []\n",
    "    \n",
    "\n",
    "for min_ppu in min_ppu_list:\n",
    "    \n",
    "    print(min_ppu)\n",
    "    \n",
    "    user_indices = df.username.value_counts()[df.username.value_counts() > min_ppu].index\n",
    "    sub_df = df[df['username'].isin(user_indices)]\n",
    "    n_users_list = [n_users for n_users in n_users_list if n_users < len(user_indices)]\n",
    "\n",
    "    for top_n in n_users_list:\n",
    "        \n",
    "        # split data \n",
    "        top_n_nn = list(sub_df['nearest_neighbor_rank'].unique())[:top_n]\n",
    "        df_top_n = df[df['nearest_neighbor_rank'].isin(top_n_nn)]\n",
    "        X_train = df_top_n[features]\n",
    "        y_train = df_top_n[target]\n",
    "        y_train = np.array(y_train).reshape(len(y_train), )\n",
    "\n",
    "        X_test = df[df['username'] == user_of_interest][features]\n",
    "        y_test = df[df['username'] == user_of_interest][target]\n",
    "        y_test = np.array(y_test).reshape(len(y_test), )\n",
    "\n",
    "        # train\n",
    "        from sklearn.linear_model import LassoCV\n",
    "        model = LassoCV(fit_intercept=True, normalize=True, cv=5, random_state=rand_state)\n",
    "        model.fit(X_train, y_train)\n",
    "\n",
    "        # Evaluate model on user's data \n",
    "        preds = model.predict(X_test)\n",
    "\n",
    "        # unscale\n",
    "#         preds_unscaled = y_scaler.inverse_transform(preds)\n",
    "#         y_test_unscaled = y_scaler.inverse_transform(y_test)\n",
    "\n",
    "        # evaluate results\n",
    "        results_df = pd.DataFrame([preds, y_test]).transpose()\n",
    "        results_df.columns = ['predicted', 'actual']\n",
    "        results_df['error'] = results_df['predicted'] - results_df['actual']\n",
    "        results_df['abs_error'] = abs(results_df['error'])\n",
    "\n",
    "        # Performance Metrics \n",
    "        mae = np.mean(results_df['abs_error'])\n",
    "\n",
    "        quarter_abs_error_list.append(100*len(results_df[results_df['abs_error']<=0.25])/len(results_df))\n",
    "        half_abs_error_list.append(100*len(results_df[results_df['abs_error']<=0.50])/len(results_df))\n",
    "        mae_list.append(mae)\n",
    "\n",
    "        print('MAE =', np.round(mae,5), \n",
    "              'with % within 0.25', 100*len(results_df[results_df['abs_error']<=0.25])/len(results_df), \n",
    "              'and % within 0.5', 100*len(results_df[results_df['abs_error']<=0.50])/len(results_df),\n",
    "              \"for n =\", top_n, \"with alpha =\", np.round(model.alpha_, 5))\n",
    "    \n",
    "    # add breaks\n",
    "    quarter_abs_error_list.append(0)\n",
    "    half_abs_error_list.append(0)\n",
    "    mae_list.append(0)"
   ]
  },
  {
   "cell_type": "code",
   "execution_count": 55,
   "metadata": {},
   "outputs": [
    {
     "data": {
      "image/png": "[encoded data removed]",
      "text/plain": [
       "<Figure size 1080x720 with 1 Axes>"
      ]
     },
     "metadata": {
      "needs_background": "light"
     },
     "output_type": "display_data"
    }
   ],
   "source": [
    "ls = mae_list\n",
    "\n",
    "size = len(ls) \n",
    "idx_list = [idx + 1 for idx, val in enumerate(ls) if val == 0] \n",
    "ys = [ls[i: j] for i, j in\n",
    "        zip([0] + idx_list, idx_list + \n",
    "        ([size] if idx_list[-1] != size else []))] \n",
    "\n",
    "for i, y in enumerate(ys):\n",
    "    y = y[:-1]\n",
    "    ys[i] = y\n",
    "\n",
    "import matplotlib.cm as cm\n",
    "colors = cm.rainbow(np.linspace(0, 1, len(ys)))\n",
    "\n",
    "plt.figure(figsize=[15,10])\n",
    "plt.title(\"ENet with Nearest Neighbors and Min_PPU\")\n",
    "plt.xlabel(\"N Nearest Neighbors\")\n",
    "plt.ylabel(\"MAE\")\n",
    "\n",
    "i = 0\n",
    "for y, c in zip(ys, colors):\n",
    "    x = np.linspace(5, 5*len(y), len(y))\n",
    "    if i == 0:\n",
    "        x = [5, 10, 15, 20, 25, 30, 35, 40, 45, 50, 55, 60, 65, 70, 75, 80, 85, 100, len(df['username'].unique())-1]\n",
    "    else:\n",
    "        x = np.linspace(5, 5*len(y), len(y))\n",
    "    plt.scatter(x, y, color=c, label=\"Min PPU = \" + str(min_ppu_list[i]))\n",
    "    i += 1\n",
    "\n",
    "plt.legend(bbox_to_anchor=(1.05, 1), loc=2, borderaxespad=0.)\n",
    "plt.show()\n"
   ]
  },
  {
   "cell_type": "code",
   "execution_count": null,
   "metadata": {},
   "outputs": [],
   "source": []
  },
  {
   "cell_type": "markdown",
   "metadata": {},
   "source": [
    "### Less Data"
   ]
  },
  {
   "cell_type": "code",
   "execution_count": 56,
   "metadata": {},
   "outputs": [],
   "source": [
    "user_of_interest = 'tsharp93'"
   ]
  },
  {
   "cell_type": "code",
   "execution_count": 57,
   "metadata": {},
   "outputs": [],
   "source": [
    "try:\n",
    "    df.drop('nearest_neighbor_rank', axis=1, inplace=True)\n",
    "except:\n",
    "    pass"
   ]
  },
  {
   "cell_type": "code",
   "execution_count": 58,
   "metadata": {},
   "outputs": [
    {
     "name": "stdout",
     "output_type": "stream",
     "text": [
      "User of Reference for Cosine Sim = tsharp93\n"
     ]
    }
   ],
   "source": [
    "df = COSINE_STEP(df, user_of_interest)"
   ]
  },
  {
   "cell_type": "code",
   "execution_count": 64,
   "metadata": {},
   "outputs": [],
   "source": [
    "features = ['ABV', 'IBU', 'global_rating']\n",
    "target = 'user_rating'"
   ]
  },
  {
   "cell_type": "code",
   "execution_count": 65,
   "metadata": {},
   "outputs": [
    {
     "data": {
      "text/html": [
       "<div>\n",
       "<style scoped>\n",
       "    .dataframe tbody tr th:only-of-type {\n",
       "        vertical-align: middle;\n",
       "    }\n",
       "\n",
       "    .dataframe tbody tr th {\n",
       "        vertical-align: top;\n",
       "    }\n",
       "\n",
       "    .dataframe thead th {\n",
       "        text-align: right;\n",
       "    }\n",
       "</style>\n",
       "<table border=\"1\" class=\"dataframe\">\n",
       "  <thead>\n",
       "    <tr style=\"text-align: right;\">\n",
       "      <th></th>\n",
       "      <th>nearest_neighbor_rank</th>\n",
       "      <th>username</th>\n",
       "      <th>beer_name</th>\n",
       "      <th>beer_description</th>\n",
       "      <th>brewery</th>\n",
       "      <th>ABV</th>\n",
       "      <th>IBU</th>\n",
       "      <th>global_rating</th>\n",
       "      <th>user_rating</th>\n",
       "    </tr>\n",
       "  </thead>\n",
       "  <tbody>\n",
       "    <tr>\n",
       "      <th>0</th>\n",
       "      <td>1.0</td>\n",
       "      <td>r4ymond</td>\n",
       "      <td>Bramadero IPA</td>\n",
       "      <td>IPA - American</td>\n",
       "      <td>Del Oeste Brewery</td>\n",
       "      <td>6.715309</td>\n",
       "      <td>44.1594</td>\n",
       "      <td>3.56</td>\n",
       "      <td>4.00</td>\n",
       "    </tr>\n",
       "    <tr>\n",
       "      <th>1</th>\n",
       "      <td>1.0</td>\n",
       "      <td>r4ymond</td>\n",
       "      <td>FOK 2.3 Victoria</td>\n",
       "      <td>Sour - Berliner Weisse</td>\n",
       "      <td>F.O.K. Brewing LLC</td>\n",
       "      <td>5.200000</td>\n",
       "      <td>6</td>\n",
       "      <td>3.35</td>\n",
       "      <td>4.00</td>\n",
       "    </tr>\n",
       "    <tr>\n",
       "      <th>2</th>\n",
       "      <td>1.0</td>\n",
       "      <td>r4ymond</td>\n",
       "      <td>Quilmes Cristal</td>\n",
       "      <td>Lager - American</td>\n",
       "      <td>Cervecería y Maltería Quilmes</td>\n",
       "      <td>4.900000</td>\n",
       "      <td>12</td>\n",
       "      <td>2.92</td>\n",
       "      <td>4.00</td>\n",
       "    </tr>\n",
       "    <tr>\n",
       "      <th>3</th>\n",
       "      <td>1.0</td>\n",
       "      <td>r4ymond</td>\n",
       "      <td>Golden Monkey</td>\n",
       "      <td>Belgian Tripel</td>\n",
       "      <td>Victory Brewing Company</td>\n",
       "      <td>9.500000</td>\n",
       "      <td>25</td>\n",
       "      <td>3.77</td>\n",
       "      <td>3.00</td>\n",
       "    </tr>\n",
       "    <tr>\n",
       "      <th>4</th>\n",
       "      <td>1.0</td>\n",
       "      <td>r4ymond</td>\n",
       "      <td>B.O.B - Blood Orange Blonde</td>\n",
       "      <td>Blonde Ale</td>\n",
       "      <td>Ocean Lab Brewing Co.</td>\n",
       "      <td>5.500000</td>\n",
       "      <td>8</td>\n",
       "      <td>3.86</td>\n",
       "      <td>3.75</td>\n",
       "    </tr>\n",
       "  </tbody>\n",
       "</table>\n",
       "</div>"
      ],
      "text/plain": [
       "   nearest_neighbor_rank username                    beer_name  \\\n",
       "0                    1.0  r4ymond                Bramadero IPA   \n",
       "1                    1.0  r4ymond             FOK 2.3 Victoria   \n",
       "2                    1.0  r4ymond              Quilmes Cristal   \n",
       "3                    1.0  r4ymond                Golden Monkey   \n",
       "4                    1.0  r4ymond  B.O.B - Blood Orange Blonde   \n",
       "\n",
       "         beer_description                        brewery       ABV      IBU  \\\n",
       "0          IPA - American              Del Oeste Brewery  6.715309  44.1594   \n",
       "1  Sour - Berliner Weisse             F.O.K. Brewing LLC  5.200000        6   \n",
       "2        Lager - American  Cervecería y Maltería Quilmes  4.900000       12   \n",
       "3          Belgian Tripel        Victory Brewing Company  9.500000       25   \n",
       "4              Blonde Ale          Ocean Lab Brewing Co.  5.500000        8   \n",
       "\n",
       "   global_rating  user_rating  \n",
       "0           3.56         4.00  \n",
       "1           3.35         4.00  \n",
       "2           2.92         4.00  \n",
       "3           3.77         3.00  \n",
       "4           3.86         3.75  "
      ]
     },
     "execution_count": 65,
     "metadata": {},
     "output_type": "execute_result"
    }
   ],
   "source": [
    "df.head()"
   ]
  },
  {
   "cell_type": "code",
   "execution_count": 66,
   "metadata": {},
   "outputs": [
    {
     "name": "stdout",
     "output_type": "stream",
     "text": [
      "0\n",
      "MAE = 0.37082 with % within 0.25 40.0 and % within 0.5 67.5 for n = 5 with alpha = 3e-05\n",
      "MAE = 0.35973 with % within 0.25 35.0 and % within 0.5 77.5 for n = 10 with alpha = 0.0\n",
      "MAE = 0.36172 with % within 0.25 37.5 and % within 0.5 72.5 for n = 15 with alpha = 3e-05\n",
      "MAE = 0.36863 with % within 0.25 32.5 and % within 0.5 72.5 for n = 20 with alpha = 0.0\n",
      "MAE = 0.36928 with % within 0.25 37.5 and % within 0.5 70.0 for n = 25 with alpha = 0.0\n",
      "MAE = 0.36833 with % within 0.25 35.0 and % within 0.5 72.5 for n = 30 with alpha = 0.0\n",
      "MAE = 0.36788 with % within 0.25 35.0 and % within 0.5 72.5 for n = 35 with alpha = 0.0\n",
      "MAE = 0.36614 with % within 0.25 37.5 and % within 0.5 72.5 for n = 40 with alpha = 0.0\n",
      "MAE = 0.36566 with % within 0.25 37.5 and % within 0.5 70.0 for n = 45 with alpha = 0.0\n",
      "MAE = 0.36411 with % within 0.25 35.0 and % within 0.5 70.0 for n = 50 with alpha = 0.0\n",
      "MAE = 0.36352 with % within 0.25 35.0 and % within 0.5 70.0 for n = 55 with alpha = 0.0\n",
      "MAE = 0.36339 with % within 0.25 35.0 and % within 0.5 72.5 for n = 60 with alpha = 0.0\n",
      "MAE = 0.36367 with % within 0.25 37.5 and % within 0.5 72.5 for n = 65 with alpha = 0.0\n",
      "MAE = 0.36652 with % within 0.25 37.5 and % within 0.5 72.5 for n = 70 with alpha = 0.0\n",
      "MAE = 0.3658 with % within 0.25 37.5 and % within 0.5 72.5 for n = 75 with alpha = 0.0\n",
      "MAE = 0.36616 with % within 0.25 37.5 and % within 0.5 72.5 for n = 80 with alpha = 0.0\n",
      "MAE = 0.36614 with % within 0.25 37.5 and % within 0.5 72.5 for n = 85 with alpha = 0.0\n",
      "MAE = 0.36611 with % within 0.25 37.5 and % within 0.5 72.5 for n = 100 with alpha = 0.0\n",
      "MAE = 0.36618 with % within 0.25 37.5 and % within 0.5 72.5 for n = 128 with alpha = 0.0\n",
      "50\n",
      "MAE = 0.36971 with % within 0.25 40.0 and % within 0.5 70.0 for n = 5 with alpha = 8e-05\n",
      "MAE = 0.35978 with % within 0.25 35.0 and % within 0.5 77.5 for n = 10 with alpha = 0.0\n",
      "MAE = 0.36215 with % within 0.25 37.5 and % within 0.5 72.5 for n = 15 with alpha = 2e-05\n",
      "MAE = 0.3657 with % within 0.25 37.5 and % within 0.5 70.0 for n = 20 with alpha = 0.0\n",
      "MAE = 0.36801 with % within 0.25 35.0 and % within 0.5 70.0 for n = 25 with alpha = 0.0\n",
      "MAE = 0.36714 with % within 0.25 35.0 and % within 0.5 72.5 for n = 30 with alpha = 0.0\n",
      "MAE = 0.3664 with % within 0.25 37.5 and % within 0.5 72.5 for n = 35 with alpha = 0.0\n",
      "MAE = 0.36544 with % within 0.25 37.5 and % within 0.5 70.0 for n = 40 with alpha = 0.0\n",
      "MAE = 0.36415 with % within 0.25 35.0 and % within 0.5 70.0 for n = 45 with alpha = 0.0\n",
      "MAE = 0.36351 with % within 0.25 35.0 and % within 0.5 70.0 for n = 50 with alpha = 0.0\n",
      "MAE = 0.36345 with % within 0.25 35.0 and % within 0.5 72.5 for n = 55 with alpha = 0.0\n",
      "MAE = 0.36323 with % within 0.25 37.5 and % within 0.5 72.5 for n = 60 with alpha = 0.0\n",
      "MAE = 0.3637 with % within 0.25 37.5 and % within 0.5 72.5 for n = 65 with alpha = 0.0\n",
      "MAE = 0.36578 with % within 0.25 37.5 and % within 0.5 72.5 for n = 70 with alpha = 0.0\n",
      "MAE = 0.36599 with % within 0.25 37.5 and % within 0.5 72.5 for n = 75 with alpha = 0.0\n",
      "MAE = 0.36614 with % within 0.25 37.5 and % within 0.5 72.5 for n = 80 with alpha = 0.0\n",
      "MAE = 0.36605 with % within 0.25 37.5 and % within 0.5 72.5 for n = 85 with alpha = 0.0\n",
      "100\n",
      "MAE = 0.37394 with % within 0.25 35.0 and % within 0.5 72.5 for n = 5 with alpha = 0.0\n",
      "MAE = 0.36071 with % within 0.25 35.0 and % within 0.5 77.5 for n = 10 with alpha = 0.0\n",
      "MAE = 0.37016 with % within 0.25 35.0 and % within 0.5 72.5 for n = 15 with alpha = 0.0\n",
      "MAE = 0.36878 with % within 0.25 37.5 and % within 0.5 70.0 for n = 20 with alpha = 0.0\n",
      "MAE = 0.36823 with % within 0.25 35.0 and % within 0.5 72.5 for n = 25 with alpha = 0.0\n",
      "MAE = 0.36739 with % within 0.25 35.0 and % within 0.5 72.5 for n = 30 with alpha = 0.0\n",
      "MAE = 0.36495 with % within 0.25 37.5 and % within 0.5 70.0 for n = 35 with alpha = 0.0\n",
      "MAE = 0.36426 with % within 0.25 35.0 and % within 0.5 70.0 for n = 40 with alpha = 0.0\n",
      "MAE = 0.36386 with % within 0.25 37.5 and % within 0.5 70.0 for n = 45 with alpha = 0.0\n",
      "MAE = 0.36353 with % within 0.25 35.0 and % within 0.5 70.0 for n = 50 with alpha = 0.0\n",
      "MAE = 0.36341 with % within 0.25 35.0 and % within 0.5 72.5 for n = 55 with alpha = 0.0\n",
      "MAE = 0.36382 with % within 0.25 37.5 and % within 0.5 72.5 for n = 60 with alpha = 0.0\n",
      "MAE = 0.36577 with % within 0.25 37.5 and % within 0.5 72.5 for n = 65 with alpha = 0.0\n",
      "MAE = 0.36642 with % within 0.25 37.5 and % within 0.5 72.5 for n = 70 with alpha = 0.0\n",
      "MAE = 0.3662 with % within 0.25 37.5 and % within 0.5 72.5 for n = 75 with alpha = 0.0\n",
      "MAE = 0.36614 with % within 0.25 37.5 and % within 0.5 72.5 for n = 80 with alpha = 0.0\n",
      "250\n",
      "MAE = 0.3587 with % within 0.25 35.0 and % within 0.5 77.5 for n = 5 with alpha = 0.0\n",
      "MAE = 0.36103 with % within 0.25 35.0 and % within 0.5 72.5 for n = 10 with alpha = 2e-05\n",
      "MAE = 0.36584 with % within 0.25 37.5 and % within 0.5 70.0 for n = 15 with alpha = 2e-05\n",
      "MAE = 0.36836 with % within 0.25 35.0 and % within 0.5 72.5 for n = 20 with alpha = 0.0\n",
      "MAE = 0.3679 with % within 0.25 35.0 and % within 0.5 72.5 for n = 25 with alpha = 0.0\n",
      "MAE = 0.36667 with % within 0.25 37.5 and % within 0.5 72.5 for n = 30 with alpha = 0.0\n",
      "MAE = 0.36439 with % within 0.25 37.5 and % within 0.5 70.0 for n = 35 with alpha = 0.0\n",
      "MAE = 0.36374 with % within 0.25 37.5 and % within 0.5 70.0 for n = 40 with alpha = 0.0\n",
      "MAE = 0.36326 with % within 0.25 35.0 and % within 0.5 72.5 for n = 45 with alpha = 0.0\n",
      "MAE = 0.36325 with % within 0.25 35.0 and % within 0.5 72.5 for n = 50 with alpha = 0.0\n",
      "MAE = 0.36372 with % within 0.25 37.5 and % within 0.5 72.5 for n = 55 with alpha = 0.0\n",
      "MAE = 0.36612 with % within 0.25 37.5 and % within 0.5 72.5 for n = 60 with alpha = 0.0\n",
      "MAE = 0.36624 with % within 0.25 37.5 and % within 0.5 72.5 for n = 65 with alpha = 0.0\n",
      "500\n",
      "MAE = 0.3583 with % within 0.25 35.0 and % within 0.5 77.5 for n = 5 with alpha = 0.0\n",
      "MAE = 0.37795 with % within 0.25 35.0 and % within 0.5 70.0 for n = 10 with alpha = 0.0\n",
      "MAE = 0.36939 with % within 0.25 35.0 and % within 0.5 72.5 for n = 15 with alpha = 1e-05\n",
      "MAE = 0.36808 with % within 0.25 35.0 and % within 0.5 72.5 for n = 20 with alpha = 0.0\n",
      "MAE = 0.36518 with % within 0.25 37.5 and % within 0.5 72.5 for n = 25 with alpha = 0.0\n",
      "MAE = 0.36443 with % within 0.25 35.0 and % within 0.5 70.0 for n = 30 with alpha = 0.0\n",
      "MAE = 0.36378 with % within 0.25 35.0 and % within 0.5 70.0 for n = 35 with alpha = 0.0\n",
      "MAE = 0.36359 with % within 0.25 35.0 and % within 0.5 72.5 for n = 40 with alpha = 0.0\n",
      "MAE = 0.36405 with % within 0.25 37.5 and % within 0.5 72.5 for n = 45 with alpha = 0.0\n",
      "MAE = 0.36621 with % within 0.25 37.5 and % within 0.5 72.5 for n = 50 with alpha = 0.0\n",
      "MAE = 0.36639 with % within 0.25 37.5 and % within 0.5 72.5 for n = 55 with alpha = 0.0\n",
      "750\n",
      "MAE = 0.35933 with % within 0.25 35.0 and % within 0.5 77.5 for n = 5 with alpha = 0.0\n",
      "MAE = 0.36851 with % within 0.25 37.5 and % within 0.5 70.0 for n = 10 with alpha = 0.0\n",
      "MAE = 0.36598 with % within 0.25 35.0 and % within 0.5 72.5 for n = 15 with alpha = 0.0\n",
      "MAE = 0.36645 with % within 0.25 37.5 and % within 0.5 72.5 for n = 20 with alpha = 0.0\n",
      "MAE = 0.36473 with % within 0.25 35.0 and % within 0.5 70.0 for n = 25 with alpha = 0.0\n",
      "MAE = 0.36354 with % within 0.25 35.0 and % within 0.5 70.0 for n = 30 with alpha = 0.0\n",
      "MAE = 0.36396 with % within 0.25 35.0 and % within 0.5 72.5 for n = 35 with alpha = 0.0\n",
      "MAE = 0.3666 with % within 0.25 37.5 and % within 0.5 72.5 for n = 40 with alpha = 0.0\n",
      "1000\n",
      "MAE = 0.3607 with % within 0.25 37.5 and % within 0.5 77.5 for n = 5 with alpha = 3e-05\n",
      "MAE = 0.36894 with % within 0.25 37.5 and % within 0.5 70.0 for n = 10 with alpha = 0.0\n",
      "MAE = 0.36701 with % within 0.25 35.0 and % within 0.5 72.5 for n = 15 with alpha = 0.0\n",
      "MAE = 0.3661 with % within 0.25 37.5 and % within 0.5 72.5 for n = 20 with alpha = 0.0\n",
      "MAE = 0.36426 with % within 0.25 37.5 and % within 0.5 70.0 for n = 25 with alpha = 0.0\n",
      "MAE = 0.36456 with % within 0.25 35.0 and % within 0.5 72.5 for n = 30 with alpha = 0.0\n",
      "MAE = 0.36761 with % within 0.25 37.5 and % within 0.5 72.5 for n = 35 with alpha = 0.0\n",
      "CPU times: user 1min 13s, sys: 23.6 s, total: 1min 36s\n",
      "Wall time: 1min 9s\n"
     ]
    }
   ],
   "source": [
    "%%time\n",
    "\n",
    "min_ppu_list = [0, 50, 100, 250, 500, 750, 1000]\n",
    "n_users_list = [5, 10, 15, 20, 25, 30, 35, 40, 45, 50, \n",
    "                55, 60, 65, 70, 75, 80, 85, 100, len(df['username'].unique())-1]\n",
    "\n",
    "\n",
    "mae_list = []\n",
    "quarter_abs_error_list = []\n",
    "half_abs_error_list = []\n",
    "    \n",
    "\n",
    "for min_ppu in min_ppu_list:\n",
    "    \n",
    "    print(min_ppu)\n",
    "    \n",
    "    user_indices = df.username.value_counts()[df.username.value_counts() > min_ppu].index\n",
    "    sub_df = df[df['username'].isin(user_indices)]\n",
    "    n_users_list = [n_users for n_users in n_users_list if n_users < len(user_indices)]\n",
    "\n",
    "    for top_n in n_users_list:\n",
    "        \n",
    "        # split data \n",
    "        top_n_nn = list(sub_df['nearest_neighbor_rank'].unique())[:top_n]\n",
    "        df_top_n = df[df['nearest_neighbor_rank'].isin(top_n_nn)]\n",
    "        X_train = df_top_n[features]\n",
    "        y_train = df_top_n[target]\n",
    "        y_train = np.array(y_train).reshape(len(y_train), )\n",
    "\n",
    "        X_test = df[df['username'] == user_of_interest][features]\n",
    "        y_test = df[df['username'] == user_of_interest][target]\n",
    "        y_test = np.array(y_test).reshape(len(y_test), )\n",
    "\n",
    "        # train\n",
    "        from sklearn.linear_model import LassoCV\n",
    "        model = LassoCV(fit_intercept=True, normalize=True, cv=5, random_state=rand_state)\n",
    "        model.fit(X_train, y_train)\n",
    "\n",
    "        # Evaluate model on user's data \n",
    "        preds = model.predict(X_test)\n",
    "\n",
    "        # unscale\n",
    "#         preds_unscaled = y_scaler.inverse_transform(preds)\n",
    "#         y_test_unscaled = y_scaler.inverse_transform(y_test)\n",
    "\n",
    "        # evaluate results\n",
    "        results_df = pd.DataFrame([preds, y_test]).transpose()\n",
    "        results_df.columns = ['predicted', 'actual']\n",
    "        results_df['error'] = results_df['predicted'] - results_df['actual']\n",
    "        results_df['abs_error'] = abs(results_df['error'])\n",
    "\n",
    "        # Performance Metrics \n",
    "        mae = np.mean(results_df['abs_error'])\n",
    "\n",
    "        quarter_abs_error_list.append(100*len(results_df[results_df['abs_error']<=0.25])/len(results_df))\n",
    "        half_abs_error_list.append(100*len(results_df[results_df['abs_error']<=0.50])/len(results_df))\n",
    "        mae_list.append(mae)\n",
    "\n",
    "        print('MAE =', np.round(mae,5), \n",
    "              'with % within 0.25', 100*len(results_df[results_df['abs_error']<=0.25])/len(results_df), \n",
    "              'and % within 0.5', 100*len(results_df[results_df['abs_error']<=0.50])/len(results_df),\n",
    "              \"for n =\", top_n, \"with alpha =\", np.round(model.alpha_, 5))\n",
    "    \n",
    "    # add breaks\n",
    "    quarter_abs_error_list.append(0)\n",
    "    half_abs_error_list.append(0)\n",
    "    mae_list.append(0)"
   ]
  },
  {
   "cell_type": "code",
   "execution_count": 67,
   "metadata": {},
   "outputs": [
    {
     "data": {
      "image/png": "[encoded data removed]",
      "text/plain": [
       "<Figure size 1080x720 with 1 Axes>"
      ]
     },
     "metadata": {
      "needs_background": "light"
     },
     "output_type": "display_data"
    }
   ],
   "source": [
    "ls = mae_list\n",
    "\n",
    "size = len(ls) \n",
    "idx_list = [idx + 1 for idx, val in enumerate(ls) if val == 0] \n",
    "ys = [ls[i: j] for i, j in\n",
    "        zip([0] + idx_list, idx_list + \n",
    "        ([size] if idx_list[-1] != size else []))] \n",
    "\n",
    "for i, y in enumerate(ys):\n",
    "    y = y[:-1]\n",
    "    ys[i] = y\n",
    "\n",
    "import matplotlib.cm as cm\n",
    "colors = cm.rainbow(np.linspace(0, 1, len(ys)))\n",
    "\n",
    "plt.figure(figsize=[15,10])\n",
    "plt.title(\"ENet with Nearest Neighbors and Min_PPU\")\n",
    "plt.xlabel(\"N Nearest Neighbors\")\n",
    "plt.ylabel(\"MAE\")\n",
    "\n",
    "i = 0\n",
    "for y, c in zip(ys, colors):\n",
    "    x = np.linspace(5, 5*len(y), len(y))\n",
    "    if i == 0:\n",
    "        x = [5, 10, 15, 20, 25, 30, 35, 40, 45, 50, 55, 60, 65, 70, 75, 80, 85, 100, len(df['username'].unique())-1]\n",
    "    else:\n",
    "        x = np.linspace(5, 5*len(y), len(y))\n",
    "    plt.scatter(x, y, color=c, label=\"Min PPU = \" + str(min_ppu_list[i]))\n",
    "    i += 1\n",
    "\n",
    "plt.legend(bbox_to_anchor=(1.05, 1), loc=2, borderaxespad=0.)\n",
    "plt.show()\n"
   ]
  },
  {
   "cell_type": "code",
   "execution_count": null,
   "metadata": {},
   "outputs": [],
   "source": []
  },
  {
   "cell_type": "code",
   "execution_count": null,
   "metadata": {},
   "outputs": [],
   "source": []
  },
  {
   "cell_type": "code",
   "execution_count": null,
   "metadata": {},
   "outputs": [],
   "source": []
  }
 ],
 "metadata": {
  "kernelspec": {
   "display_name": "Python 3",
   "language": "python",
   "name": "python3"
  },
  "language_info": {
   "codemirror_mode": {
    "name": "ipython",
    "version": 3
   },
   "file_extension": ".py",
   "mimetype": "text/x-python",
   "name": "python",
   "nbconvert_exporter": "python",
   "pygments_lexer": "ipython3",
   "version": "3.7.3"
  }
 },
 "nbformat": 4,
 "nbformat_minor": 2
}
