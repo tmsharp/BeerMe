{
 "cells": [
  {
   "cell_type": "markdown",
   "metadata": {},
   "source": [
    "## Import"
   ]
  },
  {
   "cell_type": "code",
   "execution_count": 1,
   "metadata": {},
   "outputs": [],
   "source": [
    "import pandas as pd\n",
    "import sqlite3\n",
    "import matplotlib.pyplot as plt\n",
    "import numpy as np"
   ]
  },
  {
   "cell_type": "code",
   "execution_count": 2,
   "metadata": {},
   "outputs": [],
   "source": [
    "db_path = '../data/beer.db'"
   ]
  },
  {
   "cell_type": "code",
   "execution_count": 3,
   "metadata": {},
   "outputs": [],
   "source": [
    "query = \"SELECT * FROM user_extract\""
   ]
  },
  {
   "cell_type": "code",
   "execution_count": 4,
   "metadata": {},
   "outputs": [],
   "source": [
    "conn = sqlite3.connect(db_path)\n",
    "query = 'SELECT * FROM user_extract'\n",
    "df = pd.read_sql(query,conn)"
   ]
  },
  {
   "cell_type": "code",
   "execution_count": 5,
   "metadata": {},
   "outputs": [
    {
     "data": {
      "text/plain": [
       "24982"
      ]
     },
     "execution_count": 5,
     "metadata": {},
     "output_type": "execute_result"
    }
   ],
   "source": [
    "len(df)"
   ]
  },
  {
   "cell_type": "code",
   "execution_count": 6,
   "metadata": {},
   "outputs": [],
   "source": [
    "x = df[['username', 'beer_name', 'beer_description', 'brewery', 'ABV', 'IBU', 'global_rating', 'total']]\n",
    "y = df['user_rating']"
   ]
  },
  {
   "cell_type": "code",
   "execution_count": 7,
   "metadata": {},
   "outputs": [
    {
     "data": {
      "text/html": [
       "<div>\n",
       "<style scoped>\n",
       "    .dataframe tbody tr th:only-of-type {\n",
       "        vertical-align: middle;\n",
       "    }\n",
       "\n",
       "    .dataframe tbody tr th {\n",
       "        vertical-align: top;\n",
       "    }\n",
       "\n",
       "    .dataframe thead th {\n",
       "        text-align: right;\n",
       "    }\n",
       "</style>\n",
       "<table border=\"1\" class=\"dataframe\">\n",
       "  <thead>\n",
       "    <tr style=\"text-align: right;\">\n",
       "      <th></th>\n",
       "      <th>username</th>\n",
       "      <th>beer_name</th>\n",
       "      <th>beer_description</th>\n",
       "      <th>brewery</th>\n",
       "      <th>ABV</th>\n",
       "      <th>IBU</th>\n",
       "      <th>global_rating</th>\n",
       "      <th>total</th>\n",
       "    </tr>\n",
       "  </thead>\n",
       "  <tbody>\n",
       "    <tr>\n",
       "      <th>0</th>\n",
       "      <td>tnt</td>\n",
       "      <td>Society &amp; Solitude #7</td>\n",
       "      <td>IPA - Imperial / Double</td>\n",
       "      <td>Hill Farmstead Brewery</td>\n",
       "      <td>8.0</td>\n",
       "      <td>None</td>\n",
       "      <td>4.38</td>\n",
       "      <td>1</td>\n",
       "    </tr>\n",
       "    <tr>\n",
       "      <th>1</th>\n",
       "      <td>tnt</td>\n",
       "      <td>Riwaka Single Hop Pale Ale</td>\n",
       "      <td>Pale Ale - American</td>\n",
       "      <td>Hill Farmstead Brewery</td>\n",
       "      <td>5.2</td>\n",
       "      <td>None</td>\n",
       "      <td>4.14</td>\n",
       "      <td>1</td>\n",
       "    </tr>\n",
       "    <tr>\n",
       "      <th>2</th>\n",
       "      <td>tnt</td>\n",
       "      <td>Walk, Don't Run</td>\n",
       "      <td>Blonde Ale</td>\n",
       "      <td>Suarez Family Brewery</td>\n",
       "      <td>3.7</td>\n",
       "      <td>None</td>\n",
       "      <td>4.10</td>\n",
       "      <td>1</td>\n",
       "    </tr>\n",
       "    <tr>\n",
       "      <th>3</th>\n",
       "      <td>tnt</td>\n",
       "      <td>Czech Two</td>\n",
       "      <td>Pilsner - Czech</td>\n",
       "      <td>Gravely Brewing Co</td>\n",
       "      <td>4.1</td>\n",
       "      <td>39</td>\n",
       "      <td>3.81</td>\n",
       "      <td>1</td>\n",
       "    </tr>\n",
       "    <tr>\n",
       "      <th>4</th>\n",
       "      <td>tnt</td>\n",
       "      <td>Spirit of Revolt</td>\n",
       "      <td>IPA - Imperial / Double</td>\n",
       "      <td>Revolution Brewing Company</td>\n",
       "      <td>8.2</td>\n",
       "      <td>52</td>\n",
       "      <td>3.82</td>\n",
       "      <td>1</td>\n",
       "    </tr>\n",
       "  </tbody>\n",
       "</table>\n",
       "</div>"
      ],
      "text/plain": [
       "  username                   beer_name         beer_description  \\\n",
       "0      tnt       Society & Solitude #7  IPA - Imperial / Double   \n",
       "1      tnt  Riwaka Single Hop Pale Ale      Pale Ale - American   \n",
       "2      tnt             Walk, Don't Run               Blonde Ale   \n",
       "3      tnt                   Czech Two          Pilsner - Czech   \n",
       "4      tnt            Spirit of Revolt  IPA - Imperial / Double   \n",
       "\n",
       "                      brewery  ABV   IBU  global_rating  total  \n",
       "0      Hill Farmstead Brewery  8.0  None           4.38      1  \n",
       "1      Hill Farmstead Brewery  5.2  None           4.14      1  \n",
       "2       Suarez Family Brewery  3.7  None           4.10      1  \n",
       "3          Gravely Brewing Co  4.1    39           3.81      1  \n",
       "4  Revolution Brewing Company  8.2    52           3.82      1  "
      ]
     },
     "execution_count": 7,
     "metadata": {},
     "output_type": "execute_result"
    }
   ],
   "source": [
    "x.head()"
   ]
  },
  {
   "cell_type": "code",
   "execution_count": 8,
   "metadata": {},
   "outputs": [
    {
     "data": {
      "text/plain": [
       "0    4.25\n",
       "1    5.00\n",
       "2    4.50\n",
       "3    4.25\n",
       "4    4.00\n",
       "Name: user_rating, dtype: float64"
      ]
     },
     "execution_count": 8,
     "metadata": {},
     "output_type": "execute_result"
    }
   ],
   "source": [
    "y.head()"
   ]
  },
  {
   "cell_type": "markdown",
   "metadata": {},
   "source": [
    "## Preprocessing"
   ]
  },
  {
   "cell_type": "markdown",
   "metadata": {},
   "source": [
    "### Dummy Variables"
   ]
  },
  {
   "cell_type": "markdown",
   "metadata": {},
   "source": [
    "Descriptions"
   ]
  },
  {
   "cell_type": "code",
   "execution_count": 9,
   "metadata": {},
   "outputs": [],
   "source": [
    "description_dummies = pd.get_dummies(x['beer_description'], drop_first=True, prefix='beertype')"
   ]
  },
  {
   "cell_type": "code",
   "execution_count": 10,
   "metadata": {},
   "outputs": [
    {
     "data": {
      "text/html": [
       "<div>\n",
       "<style scoped>\n",
       "    .dataframe tbody tr th:only-of-type {\n",
       "        vertical-align: middle;\n",
       "    }\n",
       "\n",
       "    .dataframe tbody tr th {\n",
       "        vertical-align: top;\n",
       "    }\n",
       "\n",
       "    .dataframe thead th {\n",
       "        text-align: right;\n",
       "    }\n",
       "</style>\n",
       "<table border=\"1\" class=\"dataframe\">\n",
       "  <thead>\n",
       "    <tr style=\"text-align: right;\">\n",
       "      <th></th>\n",
       "      <th>username</th>\n",
       "      <th>beer_name</th>\n",
       "      <th>brewery</th>\n",
       "      <th>ABV</th>\n",
       "      <th>IBU</th>\n",
       "      <th>global_rating</th>\n",
       "      <th>total</th>\n",
       "      <th>beertype_Adambier</th>\n",
       "      <th>beertype_Altbier</th>\n",
       "      <th>beertype_American Wild Ale</th>\n",
       "      <th>...</th>\n",
       "      <th>beertype_Strong Ale - English</th>\n",
       "      <th>beertype_Strong Ale - Other</th>\n",
       "      <th>beertype_Table Beer</th>\n",
       "      <th>beertype_Traditional Ale</th>\n",
       "      <th>beertype_Wheat Beer - American Pale Wheat</th>\n",
       "      <th>beertype_Wheat Beer - Other</th>\n",
       "      <th>beertype_Wheat Wine</th>\n",
       "      <th>beertype_Winter Ale</th>\n",
       "      <th>beertype_Winter Warmer</th>\n",
       "      <th>beertype_Witbier</th>\n",
       "    </tr>\n",
       "  </thead>\n",
       "  <tbody>\n",
       "    <tr>\n",
       "      <th>0</th>\n",
       "      <td>tnt</td>\n",
       "      <td>Society &amp; Solitude #7</td>\n",
       "      <td>Hill Farmstead Brewery</td>\n",
       "      <td>8.0</td>\n",
       "      <td>None</td>\n",
       "      <td>4.38</td>\n",
       "      <td>1</td>\n",
       "      <td>0</td>\n",
       "      <td>0</td>\n",
       "      <td>0</td>\n",
       "      <td>...</td>\n",
       "      <td>0</td>\n",
       "      <td>0</td>\n",
       "      <td>0</td>\n",
       "      <td>0</td>\n",
       "      <td>0</td>\n",
       "      <td>0</td>\n",
       "      <td>0</td>\n",
       "      <td>0</td>\n",
       "      <td>0</td>\n",
       "      <td>0</td>\n",
       "    </tr>\n",
       "    <tr>\n",
       "      <th>1</th>\n",
       "      <td>tnt</td>\n",
       "      <td>Riwaka Single Hop Pale Ale</td>\n",
       "      <td>Hill Farmstead Brewery</td>\n",
       "      <td>5.2</td>\n",
       "      <td>None</td>\n",
       "      <td>4.14</td>\n",
       "      <td>1</td>\n",
       "      <td>0</td>\n",
       "      <td>0</td>\n",
       "      <td>0</td>\n",
       "      <td>...</td>\n",
       "      <td>0</td>\n",
       "      <td>0</td>\n",
       "      <td>0</td>\n",
       "      <td>0</td>\n",
       "      <td>0</td>\n",
       "      <td>0</td>\n",
       "      <td>0</td>\n",
       "      <td>0</td>\n",
       "      <td>0</td>\n",
       "      <td>0</td>\n",
       "    </tr>\n",
       "    <tr>\n",
       "      <th>2</th>\n",
       "      <td>tnt</td>\n",
       "      <td>Walk, Don't Run</td>\n",
       "      <td>Suarez Family Brewery</td>\n",
       "      <td>3.7</td>\n",
       "      <td>None</td>\n",
       "      <td>4.10</td>\n",
       "      <td>1</td>\n",
       "      <td>0</td>\n",
       "      <td>0</td>\n",
       "      <td>0</td>\n",
       "      <td>...</td>\n",
       "      <td>0</td>\n",
       "      <td>0</td>\n",
       "      <td>0</td>\n",
       "      <td>0</td>\n",
       "      <td>0</td>\n",
       "      <td>0</td>\n",
       "      <td>0</td>\n",
       "      <td>0</td>\n",
       "      <td>0</td>\n",
       "      <td>0</td>\n",
       "    </tr>\n",
       "    <tr>\n",
       "      <th>3</th>\n",
       "      <td>tnt</td>\n",
       "      <td>Czech Two</td>\n",
       "      <td>Gravely Brewing Co</td>\n",
       "      <td>4.1</td>\n",
       "      <td>39</td>\n",
       "      <td>3.81</td>\n",
       "      <td>1</td>\n",
       "      <td>0</td>\n",
       "      <td>0</td>\n",
       "      <td>0</td>\n",
       "      <td>...</td>\n",
       "      <td>0</td>\n",
       "      <td>0</td>\n",
       "      <td>0</td>\n",
       "      <td>0</td>\n",
       "      <td>0</td>\n",
       "      <td>0</td>\n",
       "      <td>0</td>\n",
       "      <td>0</td>\n",
       "      <td>0</td>\n",
       "      <td>0</td>\n",
       "    </tr>\n",
       "    <tr>\n",
       "      <th>4</th>\n",
       "      <td>tnt</td>\n",
       "      <td>Spirit of Revolt</td>\n",
       "      <td>Revolution Brewing Company</td>\n",
       "      <td>8.2</td>\n",
       "      <td>52</td>\n",
       "      <td>3.82</td>\n",
       "      <td>1</td>\n",
       "      <td>0</td>\n",
       "      <td>0</td>\n",
       "      <td>0</td>\n",
       "      <td>...</td>\n",
       "      <td>0</td>\n",
       "      <td>0</td>\n",
       "      <td>0</td>\n",
       "      <td>0</td>\n",
       "      <td>0</td>\n",
       "      <td>0</td>\n",
       "      <td>0</td>\n",
       "      <td>0</td>\n",
       "      <td>0</td>\n",
       "      <td>0</td>\n",
       "    </tr>\n",
       "  </tbody>\n",
       "</table>\n",
       "<p>5 rows × 204 columns</p>\n",
       "</div>"
      ],
      "text/plain": [
       "  username                   beer_name                     brewery  ABV   IBU  \\\n",
       "0      tnt       Society & Solitude #7      Hill Farmstead Brewery  8.0  None   \n",
       "1      tnt  Riwaka Single Hop Pale Ale      Hill Farmstead Brewery  5.2  None   \n",
       "2      tnt             Walk, Don't Run       Suarez Family Brewery  3.7  None   \n",
       "3      tnt                   Czech Two          Gravely Brewing Co  4.1    39   \n",
       "4      tnt            Spirit of Revolt  Revolution Brewing Company  8.2    52   \n",
       "\n",
       "   global_rating  total  beertype_Adambier  beertype_Altbier  \\\n",
       "0           4.38      1                  0                 0   \n",
       "1           4.14      1                  0                 0   \n",
       "2           4.10      1                  0                 0   \n",
       "3           3.81      1                  0                 0   \n",
       "4           3.82      1                  0                 0   \n",
       "\n",
       "   beertype_American Wild Ale  ...  beertype_Strong Ale - English  \\\n",
       "0                           0  ...                              0   \n",
       "1                           0  ...                              0   \n",
       "2                           0  ...                              0   \n",
       "3                           0  ...                              0   \n",
       "4                           0  ...                              0   \n",
       "\n",
       "   beertype_Strong Ale - Other  beertype_Table Beer  beertype_Traditional Ale  \\\n",
       "0                            0                    0                         0   \n",
       "1                            0                    0                         0   \n",
       "2                            0                    0                         0   \n",
       "3                            0                    0                         0   \n",
       "4                            0                    0                         0   \n",
       "\n",
       "   beertype_Wheat Beer - American Pale Wheat  beertype_Wheat Beer - Other  \\\n",
       "0                                          0                            0   \n",
       "1                                          0                            0   \n",
       "2                                          0                            0   \n",
       "3                                          0                            0   \n",
       "4                                          0                            0   \n",
       "\n",
       "   beertype_Wheat Wine  beertype_Winter Ale  beertype_Winter Warmer  \\\n",
       "0                    0                    0                       0   \n",
       "1                    0                    0                       0   \n",
       "2                    0                    0                       0   \n",
       "3                    0                    0                       0   \n",
       "4                    0                    0                       0   \n",
       "\n",
       "   beertype_Witbier  \n",
       "0                 0  \n",
       "1                 0  \n",
       "2                 0  \n",
       "3                 0  \n",
       "4                 0  \n",
       "\n",
       "[5 rows x 204 columns]"
      ]
     },
     "execution_count": 10,
     "metadata": {},
     "output_type": "execute_result"
    }
   ],
   "source": [
    "x = pd.merge(x, description_dummies, left_index=True, right_index=True)\n",
    "x = x.drop(['beer_description'], axis=1)\n",
    "x.head()"
   ]
  },
  {
   "cell_type": "markdown",
   "metadata": {},
   "source": [
    "Breweries"
   ]
  },
  {
   "cell_type": "code",
   "execution_count": 11,
   "metadata": {},
   "outputs": [],
   "source": [
    "brewery_dummies = pd.get_dummies(x['brewery'], drop_first=True, prefix='brewery')"
   ]
  },
  {
   "cell_type": "code",
   "execution_count": 12,
   "metadata": {},
   "outputs": [],
   "source": [
    "x = pd.merge(x, brewery_dummies, left_index=True, right_index=True)\n",
    "x = x.drop(['brewery'], axis=1)"
   ]
  },
  {
   "cell_type": "code",
   "execution_count": 13,
   "metadata": {
    "scrolled": true
   },
   "outputs": [
    {
     "data": {
      "text/html": [
       "<div>\n",
       "<style scoped>\n",
       "    .dataframe tbody tr th:only-of-type {\n",
       "        vertical-align: middle;\n",
       "    }\n",
       "\n",
       "    .dataframe tbody tr th {\n",
       "        vertical-align: top;\n",
       "    }\n",
       "\n",
       "    .dataframe thead th {\n",
       "        text-align: right;\n",
       "    }\n",
       "</style>\n",
       "<table border=\"1\" class=\"dataframe\">\n",
       "  <thead>\n",
       "    <tr style=\"text-align: right;\">\n",
       "      <th></th>\n",
       "      <th>username</th>\n",
       "      <th>beer_name</th>\n",
       "      <th>ABV</th>\n",
       "      <th>IBU</th>\n",
       "      <th>global_rating</th>\n",
       "      <th>total</th>\n",
       "      <th>beertype_Adambier</th>\n",
       "      <th>beertype_Altbier</th>\n",
       "      <th>beertype_American Wild Ale</th>\n",
       "      <th>beertype_Australian Sparkling Ale</th>\n",
       "      <th>...</th>\n",
       "      <th>brewery_Ölvisholt Brewery</th>\n",
       "      <th>brewery_Örebro Brygghus</th>\n",
       "      <th>brewery_ØL</th>\n",
       "      <th>brewery_ØLKYMISTEN</th>\n",
       "      <th>brewery_Ølgaard</th>\n",
       "      <th>brewery_Ølhuset Drømmer &amp; Divan</th>\n",
       "      <th>brewery_Ølsmia</th>\n",
       "      <th>brewery_Ørbæk Bryggeri</th>\n",
       "      <th>brewery_Švyturys</th>\n",
       "      <th>brewery_Žatecký pivovar</th>\n",
       "    </tr>\n",
       "  </thead>\n",
       "  <tbody>\n",
       "    <tr>\n",
       "      <th>0</th>\n",
       "      <td>tnt</td>\n",
       "      <td>Society &amp; Solitude #7</td>\n",
       "      <td>8.0</td>\n",
       "      <td>None</td>\n",
       "      <td>4.38</td>\n",
       "      <td>1</td>\n",
       "      <td>0</td>\n",
       "      <td>0</td>\n",
       "      <td>0</td>\n",
       "      <td>0</td>\n",
       "      <td>...</td>\n",
       "      <td>0</td>\n",
       "      <td>0</td>\n",
       "      <td>0</td>\n",
       "      <td>0</td>\n",
       "      <td>0</td>\n",
       "      <td>0</td>\n",
       "      <td>0</td>\n",
       "      <td>0</td>\n",
       "      <td>0</td>\n",
       "      <td>0</td>\n",
       "    </tr>\n",
       "    <tr>\n",
       "      <th>1</th>\n",
       "      <td>tnt</td>\n",
       "      <td>Riwaka Single Hop Pale Ale</td>\n",
       "      <td>5.2</td>\n",
       "      <td>None</td>\n",
       "      <td>4.14</td>\n",
       "      <td>1</td>\n",
       "      <td>0</td>\n",
       "      <td>0</td>\n",
       "      <td>0</td>\n",
       "      <td>0</td>\n",
       "      <td>...</td>\n",
       "      <td>0</td>\n",
       "      <td>0</td>\n",
       "      <td>0</td>\n",
       "      <td>0</td>\n",
       "      <td>0</td>\n",
       "      <td>0</td>\n",
       "      <td>0</td>\n",
       "      <td>0</td>\n",
       "      <td>0</td>\n",
       "      <td>0</td>\n",
       "    </tr>\n",
       "    <tr>\n",
       "      <th>2</th>\n",
       "      <td>tnt</td>\n",
       "      <td>Walk, Don't Run</td>\n",
       "      <td>3.7</td>\n",
       "      <td>None</td>\n",
       "      <td>4.10</td>\n",
       "      <td>1</td>\n",
       "      <td>0</td>\n",
       "      <td>0</td>\n",
       "      <td>0</td>\n",
       "      <td>0</td>\n",
       "      <td>...</td>\n",
       "      <td>0</td>\n",
       "      <td>0</td>\n",
       "      <td>0</td>\n",
       "      <td>0</td>\n",
       "      <td>0</td>\n",
       "      <td>0</td>\n",
       "      <td>0</td>\n",
       "      <td>0</td>\n",
       "      <td>0</td>\n",
       "      <td>0</td>\n",
       "    </tr>\n",
       "    <tr>\n",
       "      <th>3</th>\n",
       "      <td>tnt</td>\n",
       "      <td>Czech Two</td>\n",
       "      <td>4.1</td>\n",
       "      <td>39</td>\n",
       "      <td>3.81</td>\n",
       "      <td>1</td>\n",
       "      <td>0</td>\n",
       "      <td>0</td>\n",
       "      <td>0</td>\n",
       "      <td>0</td>\n",
       "      <td>...</td>\n",
       "      <td>0</td>\n",
       "      <td>0</td>\n",
       "      <td>0</td>\n",
       "      <td>0</td>\n",
       "      <td>0</td>\n",
       "      <td>0</td>\n",
       "      <td>0</td>\n",
       "      <td>0</td>\n",
       "      <td>0</td>\n",
       "      <td>0</td>\n",
       "    </tr>\n",
       "    <tr>\n",
       "      <th>4</th>\n",
       "      <td>tnt</td>\n",
       "      <td>Spirit of Revolt</td>\n",
       "      <td>8.2</td>\n",
       "      <td>52</td>\n",
       "      <td>3.82</td>\n",
       "      <td>1</td>\n",
       "      <td>0</td>\n",
       "      <td>0</td>\n",
       "      <td>0</td>\n",
       "      <td>0</td>\n",
       "      <td>...</td>\n",
       "      <td>0</td>\n",
       "      <td>0</td>\n",
       "      <td>0</td>\n",
       "      <td>0</td>\n",
       "      <td>0</td>\n",
       "      <td>0</td>\n",
       "      <td>0</td>\n",
       "      <td>0</td>\n",
       "      <td>0</td>\n",
       "      <td>0</td>\n",
       "    </tr>\n",
       "  </tbody>\n",
       "</table>\n",
       "<p>5 rows × 3087 columns</p>\n",
       "</div>"
      ],
      "text/plain": [
       "  username                   beer_name  ABV   IBU  global_rating  total  \\\n",
       "0      tnt       Society & Solitude #7  8.0  None           4.38      1   \n",
       "1      tnt  Riwaka Single Hop Pale Ale  5.2  None           4.14      1   \n",
       "2      tnt             Walk, Don't Run  3.7  None           4.10      1   \n",
       "3      tnt                   Czech Two  4.1    39           3.81      1   \n",
       "4      tnt            Spirit of Revolt  8.2    52           3.82      1   \n",
       "\n",
       "   beertype_Adambier  beertype_Altbier  beertype_American Wild Ale  \\\n",
       "0                  0                 0                           0   \n",
       "1                  0                 0                           0   \n",
       "2                  0                 0                           0   \n",
       "3                  0                 0                           0   \n",
       "4                  0                 0                           0   \n",
       "\n",
       "   beertype_Australian Sparkling Ale  ...  brewery_Ölvisholt Brewery  \\\n",
       "0                                  0  ...                          0   \n",
       "1                                  0  ...                          0   \n",
       "2                                  0  ...                          0   \n",
       "3                                  0  ...                          0   \n",
       "4                                  0  ...                          0   \n",
       "\n",
       "   brewery_Örebro Brygghus  brewery_ØL  brewery_ØLKYMISTEN  brewery_Ølgaard  \\\n",
       "0                        0           0                   0                0   \n",
       "1                        0           0                   0                0   \n",
       "2                        0           0                   0                0   \n",
       "3                        0           0                   0                0   \n",
       "4                        0           0                   0                0   \n",
       "\n",
       "   brewery_Ølhuset Drømmer & Divan  brewery_Ølsmia  brewery_Ørbæk Bryggeri  \\\n",
       "0                                0               0                       0   \n",
       "1                                0               0                       0   \n",
       "2                                0               0                       0   \n",
       "3                                0               0                       0   \n",
       "4                                0               0                       0   \n",
       "\n",
       "   brewery_Švyturys  brewery_Žatecký pivovar  \n",
       "0                 0                        0  \n",
       "1                 0                        0  \n",
       "2                 0                        0  \n",
       "3                 0                        0  \n",
       "4                 0                        0  \n",
       "\n",
       "[5 rows x 3087 columns]"
      ]
     },
     "execution_count": 13,
     "metadata": {},
     "output_type": "execute_result"
    }
   ],
   "source": [
    "x.head()"
   ]
  },
  {
   "cell_type": "markdown",
   "metadata": {},
   "source": [
    "### Outlier Analysis using IQR"
   ]
  },
  {
   "cell_type": "code",
   "execution_count": 14,
   "metadata": {},
   "outputs": [
    {
     "name": "stdout",
     "output_type": "stream",
     "text": [
      "num of outliers = 879\n",
      "% of outliers = 3.5185333440076856\n"
     ]
    },
    {
     "data": {
      "text/plain": [
       "array([[<matplotlib.axes._subplots.AxesSubplot object at 0x000002425FE5D898>]],\n",
       "      dtype=object)"
      ]
     },
     "execution_count": 14,
     "metadata": {},
     "output_type": "execute_result"
    },
    {
     "data": {
      "image/png": "[encoded data removed]",
      "text/plain": [
       "<Figure size 432x288 with 1 Axes>"
      ]
     },
     "metadata": {
      "needs_background": "light"
     },
     "output_type": "display_data"
    },
    {
     "data": {
      "image/png": "[encoded data removed]",
      "text/plain": [
       "<Figure size 432x288 with 1 Axes>"
      ]
     },
     "metadata": {
      "needs_background": "light"
     },
     "output_type": "display_data"
    }
   ],
   "source": [
    "feature = 'ABV'\n",
    "\n",
    "q1 = x[feature].quantile(.25)\n",
    "q3 = x[feature].quantile(.75)\n",
    "iqr = q3 - q1\n",
    "non_outlier_mask = (x[feature] >= q1 - 1.5*iqr) & (x[feature] <= q3 + 1.5*iqr)\n",
    "\n",
    "outliers = x[~non_outlier_mask]\n",
    "\n",
    "print(\"num of outliers =\", len(outliers))\n",
    "print(\"% of outliers =\", 100*len(outliers)/len(x))\n",
    "\n",
    "x.boxplot(column=[feature])\n",
    "x.hist(column=feature, bins=30)"
   ]
  },
  {
   "cell_type": "code",
   "execution_count": 15,
   "metadata": {},
   "outputs": [
    {
     "name": "stdout",
     "output_type": "stream",
     "text": [
      "num of outliers = 923\n",
      "% of outliers = 3.6946601553118246\n"
     ]
    },
    {
     "data": {
      "text/plain": [
       "array([[<matplotlib.axes._subplots.AxesSubplot object at 0x000002425FDD5A58>]],\n",
       "      dtype=object)"
      ]
     },
     "execution_count": 15,
     "metadata": {},
     "output_type": "execute_result"
    },
    {
     "data": {
      "image/png": "[encoded data removed]",
      "text/plain": [
       "<Figure size 432x288 with 1 Axes>"
      ]
     },
     "metadata": {
      "needs_background": "light"
     },
     "output_type": "display_data"
    },
    {
     "data": {
      "image/png": "[encoded data removed]",
      "text/plain": [
       "<Figure size 432x288 with 1 Axes>"
      ]
     },
     "metadata": {
      "needs_background": "light"
     },
     "output_type": "display_data"
    }
   ],
   "source": [
    "feature = 'global_rating'\n",
    "\n",
    "q1 = x[feature].quantile(.25)\n",
    "q3 = x[feature].quantile(.75)\n",
    "iqr = q3 - q1\n",
    "non_outlier_mask = (x[feature] >= q1 - 1.5*iqr) & (x[feature] <= q3 + 1.5*iqr)\n",
    "\n",
    "outliers = x[~non_outlier_mask]\n",
    "\n",
    "print(\"num of outliers =\", len(outliers))\n",
    "print(\"% of outliers =\", 100*len(outliers)/len(x))\n",
    "\n",
    "x.boxplot(column=[feature])\n",
    "x.hist(column=feature, bins=30)"
   ]
  },
  {
   "cell_type": "code",
   "execution_count": 16,
   "metadata": {},
   "outputs": [
    {
     "name": "stdout",
     "output_type": "stream",
     "text": [
      "num of outliers = 2669\n",
      "% of outliers = 10.683692258426067\n"
     ]
    },
    {
     "data": {
      "text/plain": [
       "array([[<matplotlib.axes._subplots.AxesSubplot object at 0x000002425FB58A58>]],\n",
       "      dtype=object)"
      ]
     },
     "execution_count": 16,
     "metadata": {},
     "output_type": "execute_result"
    },
    {
     "data": {
      "image/png": "[encoded data removed]",
      "text/plain": [
       "<Figure size 432x288 with 1 Axes>"
      ]
     },
     "metadata": {
      "needs_background": "light"
     },
     "output_type": "display_data"
    },
    {
     "data": {
      "image/png": "[encoded data removed]",
      "text/plain": [
       "<Figure size 432x288 with 1 Axes>"
      ]
     },
     "metadata": {
      "needs_background": "light"
     },
     "output_type": "display_data"
    }
   ],
   "source": [
    "feature = 'total'\n",
    "\n",
    "q1 = x[feature].quantile(.25)\n",
    "q3 = x[feature].quantile(.75)\n",
    "iqr = q3 - q1\n",
    "non_outlier_mask = (x[feature] >= q1 - 1.5*iqr) & (x[feature] <= q3 + 1.5*iqr)\n",
    "\n",
    "outliers = x[~non_outlier_mask]\n",
    "\n",
    "print(\"num of outliers =\", len(outliers))\n",
    "print(\"% of outliers =\", 100*len(outliers)/len(x))\n",
    "\n",
    "x.boxplot(column=[feature])\n",
    "x.hist(column=feature, bins=30)"
   ]
  },
  {
   "cell_type": "markdown",
   "metadata": {},
   "source": [
    "The factor measuring a user's total number of checkins for a specific beer seems to have a decent amount of outliers, however this is data I want to keep moving forward as it may be a good indication for user-user recommendations."
   ]
  },
  {
   "cell_type": "code",
   "execution_count": 17,
   "metadata": {},
   "outputs": [],
   "source": [
    "## IBU has many NAs and has to be converted to view outliers\n",
    "\n",
    "x['IBU'].fillna(value=np.nan, inplace=True)\n",
    "x['IBU'].replace('None', np.nan, inplace=True)\n",
    "\n",
    "x['IBU'].fillna(value=-1, inplace=True)"
   ]
  },
  {
   "cell_type": "code",
   "execution_count": 18,
   "metadata": {},
   "outputs": [],
   "source": [
    "x['IBU'] = x['IBU'].astype('float')"
   ]
  },
  {
   "cell_type": "code",
   "execution_count": 22,
   "metadata": {},
   "outputs": [
    {
     "name": "stdout",
     "output_type": "stream",
     "text": [
      "number of data points with missing IBU = 10468\n",
      "percentage of data points with missing IBU= 41.9021695620847\n"
     ]
    }
   ],
   "source": [
    "print(\"number of data points with missing IBU =\", len(x[x['IBU'] == -1]))\n",
    "print(\"percentage of data points with missing IBU =\", 100*len(x[x['IBU'] == -1])/len(x))"
   ]
  },
  {
   "cell_type": "code",
   "execution_count": 20,
   "metadata": {},
   "outputs": [
    {
     "name": "stdout",
     "output_type": "stream",
     "text": [
      "subset data length =  14514\n",
      "num of outliers = 71\n",
      "% of outliers = 0.2842046273316788\n"
     ]
    },
    {
     "data": {
      "text/plain": [
       "array([[<matplotlib.axes._subplots.AxesSubplot object at 0x0000024260322470>]],\n",
       "      dtype=object)"
      ]
     },
     "execution_count": 20,
     "metadata": {},
     "output_type": "execute_result"
    },
    {
     "data": {
      "image/png": "[encoded data removed]",
      "text/plain": [
       "<Figure size 432x288 with 1 Axes>"
      ]
     },
     "metadata": {
      "needs_background": "light"
     },
     "output_type": "display_data"
    },
    {
     "data": {
      "image/png": "[encoded data removed]",
      "text/plain": [
       "<Figure size 432x288 with 1 Axes>"
      ]
     },
     "metadata": {
      "needs_background": "light"
     },
     "output_type": "display_data"
    }
   ],
   "source": [
    "feature = 'IBU'\n",
    "\n",
    "x_noIBUna = x[x['IBU'] != -1]\n",
    "\n",
    "print('subset data length = ', len(x_noIBUna))\n",
    "\n",
    "q1 = x_noIBUna[feature].quantile(.25)\n",
    "q3 = x_noIBUna[feature].quantile(.75)\n",
    "iqr = q3 - q1\n",
    "non_outlier_mask = (x_noIBUna[feature] >= q1 - 1.5*iqr) & (x_noIBUna[feature] <= q3 + 1.5*iqr)\n",
    "\n",
    "outliers = x_noIBUna[~non_outlier_mask]\n",
    "\n",
    "print(\"num of outliers =\", len(outliers))\n",
    "print(\"% of outliers =\", 100*len(outliers)/len(x))\n",
    "\n",
    "x.boxplot(column=[feature])\n",
    "x.hist(column=feature, bins=30)"
   ]
  },
  {
   "cell_type": "markdown",
   "metadata": {},
   "source": [
    "All features except 'total' seem to have an acceptable amount of outliers (< 5%), which is expected for such a large dataset."
   ]
  },
  {
   "cell_type": "markdown",
   "metadata": {},
   "source": [
    "### Imputation - Missing Values and Types"
   ]
  },
  {
   "cell_type": "code",
   "execution_count": 23,
   "metadata": {},
   "outputs": [
    {
     "data": {
      "text/plain": [
       "username           0\n",
       "beer_name          0\n",
       "ABV              242\n",
       "IBU                0\n",
       "global_rating      0\n",
       "dtype: int64"
      ]
     },
     "execution_count": 23,
     "metadata": {},
     "output_type": "execute_result"
    }
   ],
   "source": [
    "x.isna().sum().head(5)"
   ]
  },
  {
   "cell_type": "code",
   "execution_count": 24,
   "metadata": {},
   "outputs": [],
   "source": [
    "# ABV\n",
    "x['ABV'] = x['ABV'].fillna(x['ABV'].mean())"
   ]
  },
  {
   "cell_type": "code",
   "execution_count": 27,
   "metadata": {},
   "outputs": [],
   "source": [
    "# IBU\n",
    "ibu_mean = x[x['IBU'] != -1]['IBU'].mean()\n",
    "x['IBU'].replace(-1, ibu_mean, inplace=True)"
   ]
  },
  {
   "cell_type": "code",
   "execution_count": 28,
   "metadata": {},
   "outputs": [
    {
     "data": {
      "text/plain": [
       "username                                       object\n",
       "beer_name                                      object\n",
       "ABV                                           float64\n",
       "IBU                                           float64\n",
       "global_rating                                 float64\n",
       "total                                           int64\n",
       "beertype_Adambier                               uint8\n",
       "beertype_Altbier                                uint8\n",
       "beertype_American Wild Ale                      uint8\n",
       "beertype_Australian Sparkling Ale               uint8\n",
       "beertype_Barleywine - American                  uint8\n",
       "beertype_Barleywine - English                   uint8\n",
       "beertype_Barleywine - Other                     uint8\n",
       "beertype_Belgian Blonde                         uint8\n",
       "beertype_Belgian Dubbel                         uint8\n",
       "beertype_Belgian Quadrupel                      uint8\n",
       "beertype_Belgian Strong Dark Ale                uint8\n",
       "beertype_Belgian Strong Golden Ale              uint8\n",
       "beertype_Belgian Tripel                         uint8\n",
       "beertype_Bière de Champagne / Bière Brut        uint8\n",
       "beertype_Bière de Garde                         uint8\n",
       "beertype_Bière de Mars                          uint8\n",
       "beertype_Black & Tan                            uint8\n",
       "beertype_Blonde Ale                             uint8\n",
       "beertype_Bock - Doppelbock                      uint8\n",
       "beertype_Bock - Hell / Maibock / Lentebock      uint8\n",
       "beertype_Bock - Single / Traditional            uint8\n",
       "beertype_Bock - Weizenbock                      uint8\n",
       "beertype_Brown Ale - American                   uint8\n",
       "beertype_Brown Ale - Belgian                    uint8\n",
       "                                               ...   \n",
       "brewery_Zagovor Brewery                         uint8\n",
       "brewery_Zagrebačka Pivovara                     uint8\n",
       "brewery_Zebulon Artisan Ales                    uint8\n",
       "brewery_Zero Gravity Craft Brewery              uint8\n",
       "brewery_Zeta Brewing Company                    uint8\n",
       "brewery_Zeunerts                                uint8\n",
       "brewery_Zipline Brewing Co.                     uint8\n",
       "brewery_Zombeer CraftBrew                       uint8\n",
       "brewery_Zymologic                               uint8\n",
       "brewery_de Garde Brewing                        uint8\n",
       "brewery_h.persvik                               uint8\n",
       "brewery_iKi beer                                uint8\n",
       "brewery_von Trapp Brewing                       uint8\n",
       "brewery_Ängöl                                   uint8\n",
       "brewery_Åbro Bryggeri                           uint8\n",
       "brewery_Åkre Gård                               uint8\n",
       "brewery_Åre Bryggcompagni                       uint8\n",
       "brewery_Ægir Bryggeri                           uint8\n",
       "brewery_Ölbryggeriet                            uint8\n",
       "brewery_Ölgerðin Egill Skallagrímsson           uint8\n",
       "brewery_Ölvisholt Brewery                       uint8\n",
       "brewery_Örebro Brygghus                         uint8\n",
       "brewery_ØL                                      uint8\n",
       "brewery_ØLKYMISTEN                              uint8\n",
       "brewery_Ølgaard                                 uint8\n",
       "brewery_Ølhuset Drømmer & Divan                 uint8\n",
       "brewery_Ølsmia                                  uint8\n",
       "brewery_Ørbæk Bryggeri                          uint8\n",
       "brewery_Švyturys                                uint8\n",
       "brewery_Žatecký pivovar                         uint8\n",
       "Length: 3087, dtype: object"
      ]
     },
     "execution_count": 28,
     "metadata": {},
     "output_type": "execute_result"
    }
   ],
   "source": [
    "x['IBU'] = x['IBU'].astype('float')\n",
    "x.dtypes"
   ]
  },
  {
   "cell_type": "code",
   "execution_count": 29,
   "metadata": {},
   "outputs": [
    {
     "data": {
      "text/plain": [
       "username         0\n",
       "beer_name        0\n",
       "ABV              0\n",
       "IBU              0\n",
       "global_rating    0\n",
       "dtype: int64"
      ]
     },
     "execution_count": 29,
     "metadata": {},
     "output_type": "execute_result"
    }
   ],
   "source": [
    "x.isna().sum().head(5)"
   ]
  },
  {
   "cell_type": "markdown",
   "metadata": {},
   "source": [
    "## Write to CSV - too many columns for DB"
   ]
  },
  {
   "cell_type": "code",
   "execution_count": 39,
   "metadata": {},
   "outputs": [],
   "source": [
    "new_df = pd.merge(x,y, left_index=True, right_index=True)"
   ]
  },
  {
   "cell_type": "code",
   "execution_count": 40,
   "metadata": {},
   "outputs": [
    {
     "data": {
      "text/html": [
       "<div>\n",
       "<style scoped>\n",
       "    .dataframe tbody tr th:only-of-type {\n",
       "        vertical-align: middle;\n",
       "    }\n",
       "\n",
       "    .dataframe tbody tr th {\n",
       "        vertical-align: top;\n",
       "    }\n",
       "\n",
       "    .dataframe thead th {\n",
       "        text-align: right;\n",
       "    }\n",
       "</style>\n",
       "<table border=\"1\" class=\"dataframe\">\n",
       "  <thead>\n",
       "    <tr style=\"text-align: right;\">\n",
       "      <th></th>\n",
       "      <th>username</th>\n",
       "      <th>beer_name</th>\n",
       "      <th>ABV</th>\n",
       "      <th>IBU</th>\n",
       "      <th>global_rating</th>\n",
       "      <th>total</th>\n",
       "      <th>beertype_Adambier</th>\n",
       "      <th>beertype_Altbier</th>\n",
       "      <th>beertype_American Wild Ale</th>\n",
       "      <th>beertype_Australian Sparkling Ale</th>\n",
       "      <th>...</th>\n",
       "      <th>brewery_Örebro Brygghus</th>\n",
       "      <th>brewery_ØL</th>\n",
       "      <th>brewery_ØLKYMISTEN</th>\n",
       "      <th>brewery_Ølgaard</th>\n",
       "      <th>brewery_Ølhuset Drømmer &amp; Divan</th>\n",
       "      <th>brewery_Ølsmia</th>\n",
       "      <th>brewery_Ørbæk Bryggeri</th>\n",
       "      <th>brewery_Švyturys</th>\n",
       "      <th>brewery_Žatecký pivovar</th>\n",
       "      <th>user_rating</th>\n",
       "    </tr>\n",
       "  </thead>\n",
       "  <tbody>\n",
       "    <tr>\n",
       "      <th>0</th>\n",
       "      <td>tnt</td>\n",
       "      <td>Society &amp; Solitude #7</td>\n",
       "      <td>8.0</td>\n",
       "      <td>45.552157</td>\n",
       "      <td>4.38</td>\n",
       "      <td>1</td>\n",
       "      <td>0</td>\n",
       "      <td>0</td>\n",
       "      <td>0</td>\n",
       "      <td>0</td>\n",
       "      <td>...</td>\n",
       "      <td>0</td>\n",
       "      <td>0</td>\n",
       "      <td>0</td>\n",
       "      <td>0</td>\n",
       "      <td>0</td>\n",
       "      <td>0</td>\n",
       "      <td>0</td>\n",
       "      <td>0</td>\n",
       "      <td>0</td>\n",
       "      <td>4.25</td>\n",
       "    </tr>\n",
       "    <tr>\n",
       "      <th>1</th>\n",
       "      <td>tnt</td>\n",
       "      <td>Riwaka Single Hop Pale Ale</td>\n",
       "      <td>5.2</td>\n",
       "      <td>45.552157</td>\n",
       "      <td>4.14</td>\n",
       "      <td>1</td>\n",
       "      <td>0</td>\n",
       "      <td>0</td>\n",
       "      <td>0</td>\n",
       "      <td>0</td>\n",
       "      <td>...</td>\n",
       "      <td>0</td>\n",
       "      <td>0</td>\n",
       "      <td>0</td>\n",
       "      <td>0</td>\n",
       "      <td>0</td>\n",
       "      <td>0</td>\n",
       "      <td>0</td>\n",
       "      <td>0</td>\n",
       "      <td>0</td>\n",
       "      <td>5.00</td>\n",
       "    </tr>\n",
       "    <tr>\n",
       "      <th>2</th>\n",
       "      <td>tnt</td>\n",
       "      <td>Walk, Don't Run</td>\n",
       "      <td>3.7</td>\n",
       "      <td>45.552157</td>\n",
       "      <td>4.10</td>\n",
       "      <td>1</td>\n",
       "      <td>0</td>\n",
       "      <td>0</td>\n",
       "      <td>0</td>\n",
       "      <td>0</td>\n",
       "      <td>...</td>\n",
       "      <td>0</td>\n",
       "      <td>0</td>\n",
       "      <td>0</td>\n",
       "      <td>0</td>\n",
       "      <td>0</td>\n",
       "      <td>0</td>\n",
       "      <td>0</td>\n",
       "      <td>0</td>\n",
       "      <td>0</td>\n",
       "      <td>4.50</td>\n",
       "    </tr>\n",
       "    <tr>\n",
       "      <th>3</th>\n",
       "      <td>tnt</td>\n",
       "      <td>Czech Two</td>\n",
       "      <td>4.1</td>\n",
       "      <td>39.000000</td>\n",
       "      <td>3.81</td>\n",
       "      <td>1</td>\n",
       "      <td>0</td>\n",
       "      <td>0</td>\n",
       "      <td>0</td>\n",
       "      <td>0</td>\n",
       "      <td>...</td>\n",
       "      <td>0</td>\n",
       "      <td>0</td>\n",
       "      <td>0</td>\n",
       "      <td>0</td>\n",
       "      <td>0</td>\n",
       "      <td>0</td>\n",
       "      <td>0</td>\n",
       "      <td>0</td>\n",
       "      <td>0</td>\n",
       "      <td>4.25</td>\n",
       "    </tr>\n",
       "    <tr>\n",
       "      <th>4</th>\n",
       "      <td>tnt</td>\n",
       "      <td>Spirit of Revolt</td>\n",
       "      <td>8.2</td>\n",
       "      <td>52.000000</td>\n",
       "      <td>3.82</td>\n",
       "      <td>1</td>\n",
       "      <td>0</td>\n",
       "      <td>0</td>\n",
       "      <td>0</td>\n",
       "      <td>0</td>\n",
       "      <td>...</td>\n",
       "      <td>0</td>\n",
       "      <td>0</td>\n",
       "      <td>0</td>\n",
       "      <td>0</td>\n",
       "      <td>0</td>\n",
       "      <td>0</td>\n",
       "      <td>0</td>\n",
       "      <td>0</td>\n",
       "      <td>0</td>\n",
       "      <td>4.00</td>\n",
       "    </tr>\n",
       "  </tbody>\n",
       "</table>\n",
       "<p>5 rows × 3088 columns</p>\n",
       "</div>"
      ],
      "text/plain": [
       "  username                   beer_name  ABV        IBU  global_rating  total  \\\n",
       "0      tnt       Society & Solitude #7  8.0  45.552157           4.38      1   \n",
       "1      tnt  Riwaka Single Hop Pale Ale  5.2  45.552157           4.14      1   \n",
       "2      tnt             Walk, Don't Run  3.7  45.552157           4.10      1   \n",
       "3      tnt                   Czech Two  4.1  39.000000           3.81      1   \n",
       "4      tnt            Spirit of Revolt  8.2  52.000000           3.82      1   \n",
       "\n",
       "   beertype_Adambier  beertype_Altbier  beertype_American Wild Ale  \\\n",
       "0                  0                 0                           0   \n",
       "1                  0                 0                           0   \n",
       "2                  0                 0                           0   \n",
       "3                  0                 0                           0   \n",
       "4                  0                 0                           0   \n",
       "\n",
       "   beertype_Australian Sparkling Ale  ...  brewery_Örebro Brygghus  \\\n",
       "0                                  0  ...                        0   \n",
       "1                                  0  ...                        0   \n",
       "2                                  0  ...                        0   \n",
       "3                                  0  ...                        0   \n",
       "4                                  0  ...                        0   \n",
       "\n",
       "   brewery_ØL  brewery_ØLKYMISTEN  brewery_Ølgaard  \\\n",
       "0           0                   0                0   \n",
       "1           0                   0                0   \n",
       "2           0                   0                0   \n",
       "3           0                   0                0   \n",
       "4           0                   0                0   \n",
       "\n",
       "   brewery_Ølhuset Drømmer & Divan  brewery_Ølsmia  brewery_Ørbæk Bryggeri  \\\n",
       "0                                0               0                       0   \n",
       "1                                0               0                       0   \n",
       "2                                0               0                       0   \n",
       "3                                0               0                       0   \n",
       "4                                0               0                       0   \n",
       "\n",
       "   brewery_Švyturys  brewery_Žatecký pivovar  user_rating  \n",
       "0                 0                        0         4.25  \n",
       "1                 0                        0         5.00  \n",
       "2                 0                        0         4.50  \n",
       "3                 0                        0         4.25  \n",
       "4                 0                        0         4.00  \n",
       "\n",
       "[5 rows x 3088 columns]"
      ]
     },
     "execution_count": 40,
     "metadata": {},
     "output_type": "execute_result"
    }
   ],
   "source": [
    "new_df.head()"
   ]
  },
  {
   "cell_type": "code",
   "execution_count": 46,
   "metadata": {},
   "outputs": [],
   "source": [
    "new_df.to_csv('../data/prepped_data_whole.csv', index=False, chunksize=1000)"
   ]
  },
  {
   "cell_type": "code",
   "execution_count": null,
   "metadata": {},
   "outputs": [],
   "source": []
  }
 ],
 "metadata": {
  "kernelspec": {
   "display_name": "ml_guild",
   "language": "python",
   "name": "ml_guild"
  },
  "language_info": {
   "codemirror_mode": {
    "name": "ipython",
    "version": 3
   },
   "file_extension": ".py",
   "mimetype": "text/x-python",
   "name": "python",
   "nbconvert_exporter": "python",
   "pygments_lexer": "ipython3",
   "version": "3.6.7"
  }
 },
 "nbformat": 4,
 "nbformat_minor": 2
}
