{
 "cells": [
  {
   "cell_type": "code",
   "execution_count": 1,
   "metadata": {},
   "outputs": [],
   "source": [
    "rand_state = 12"
   ]
  },
  {
   "cell_type": "markdown",
   "metadata": {},
   "source": [
    "# Cleaning Pipeline"
   ]
  },
  {
   "cell_type": "code",
   "execution_count": 2,
   "metadata": {},
   "outputs": [],
   "source": [
    "from BeerMe.Pipeline import *"
   ]
  },
  {
   "cell_type": "code",
   "execution_count": 3,
   "metadata": {},
   "outputs": [
    {
     "name": "stdout",
     "output_type": "stream",
     "text": [
      "\n",
      "\n",
      "1. NA Count...\n",
      "ABV                923\n",
      "global_rating        0\n",
      "user_rating       3882\n",
      "IBU              47035\n",
      "dtype: int64\n",
      "\n",
      "\n",
      "2. Finding IQR outliers...\n",
      "FEATURE ABV\n",
      "num of outliers = 3,421\n",
      "% of outliers = 3.33%\n",
      "\n",
      "\n",
      "NA Count...\n",
      "ABV              0\n",
      "global_rating    0\n",
      "user_rating      0\n",
      "IBU              0\n",
      "dtype: int64\n"
     ]
    }
   ],
   "source": [
    "df = IMPORT_CLEAN_STEP(db_path='data/beer.db')"
   ]
  },
  {
   "cell_type": "code",
   "execution_count": 4,
   "metadata": {},
   "outputs": [],
   "source": [
    "df = df[['username', 'beer_name', 'beer_description', 'brewery', 'ABV', 'IBU', 'global_rating', 'user_rating']]"
   ]
  },
  {
   "cell_type": "code",
   "execution_count": 5,
   "metadata": {},
   "outputs": [
    {
     "data": {
      "text/html": [
       "<div>\n",
       "<style scoped>\n",
       "    .dataframe tbody tr th:only-of-type {\n",
       "        vertical-align: middle;\n",
       "    }\n",
       "\n",
       "    .dataframe tbody tr th {\n",
       "        vertical-align: top;\n",
       "    }\n",
       "\n",
       "    .dataframe thead th {\n",
       "        text-align: right;\n",
       "    }\n",
       "</style>\n",
       "<table border=\"1\" class=\"dataframe\">\n",
       "  <thead>\n",
       "    <tr style=\"text-align: right;\">\n",
       "      <th></th>\n",
       "      <th>username</th>\n",
       "      <th>beer_name</th>\n",
       "      <th>beer_description</th>\n",
       "      <th>brewery</th>\n",
       "      <th>ABV</th>\n",
       "      <th>IBU</th>\n",
       "      <th>global_rating</th>\n",
       "      <th>user_rating</th>\n",
       "    </tr>\n",
       "  </thead>\n",
       "  <tbody>\n",
       "    <tr>\n",
       "      <th>0</th>\n",
       "      <td>tnt</td>\n",
       "      <td>Society &amp; Solitude #7</td>\n",
       "      <td>IPA - Imperial / Double</td>\n",
       "      <td>Hill Farmstead Brewery</td>\n",
       "      <td>8.0</td>\n",
       "      <td>44.1594</td>\n",
       "      <td>4.38</td>\n",
       "      <td>4.25</td>\n",
       "    </tr>\n",
       "    <tr>\n",
       "      <th>1</th>\n",
       "      <td>tnt</td>\n",
       "      <td>Riwaka Single Hop Pale Ale</td>\n",
       "      <td>Pale Ale - American</td>\n",
       "      <td>Hill Farmstead Brewery</td>\n",
       "      <td>5.2</td>\n",
       "      <td>44.1594</td>\n",
       "      <td>4.14</td>\n",
       "      <td>5.00</td>\n",
       "    </tr>\n",
       "    <tr>\n",
       "      <th>2</th>\n",
       "      <td>tnt</td>\n",
       "      <td>Walk, Don't Run</td>\n",
       "      <td>Blonde Ale</td>\n",
       "      <td>Suarez Family Brewery</td>\n",
       "      <td>3.7</td>\n",
       "      <td>44.1594</td>\n",
       "      <td>4.10</td>\n",
       "      <td>4.50</td>\n",
       "    </tr>\n",
       "    <tr>\n",
       "      <th>3</th>\n",
       "      <td>tnt</td>\n",
       "      <td>Czech Two</td>\n",
       "      <td>Pilsner - Czech</td>\n",
       "      <td>Gravely Brewing Co</td>\n",
       "      <td>4.1</td>\n",
       "      <td>39</td>\n",
       "      <td>3.81</td>\n",
       "      <td>4.25</td>\n",
       "    </tr>\n",
       "    <tr>\n",
       "      <th>4</th>\n",
       "      <td>tnt</td>\n",
       "      <td>Spirit of Revolt</td>\n",
       "      <td>IPA - Imperial / Double</td>\n",
       "      <td>Revolution Brewing Company</td>\n",
       "      <td>8.2</td>\n",
       "      <td>52</td>\n",
       "      <td>3.82</td>\n",
       "      <td>4.00</td>\n",
       "    </tr>\n",
       "  </tbody>\n",
       "</table>\n",
       "</div>"
      ],
      "text/plain": [
       "  username                   beer_name         beer_description  \\\n",
       "0      tnt       Society & Solitude #7  IPA - Imperial / Double   \n",
       "1      tnt  Riwaka Single Hop Pale Ale      Pale Ale - American   \n",
       "2      tnt             Walk, Don't Run               Blonde Ale   \n",
       "3      tnt                   Czech Two          Pilsner - Czech   \n",
       "4      tnt            Spirit of Revolt  IPA - Imperial / Double   \n",
       "\n",
       "                      brewery  ABV      IBU  global_rating  user_rating  \n",
       "0      Hill Farmstead Brewery  8.0  44.1594           4.38         4.25  \n",
       "1      Hill Farmstead Brewery  5.2  44.1594           4.14         5.00  \n",
       "2       Suarez Family Brewery  3.7  44.1594           4.10         4.50  \n",
       "3          Gravely Brewing Co  4.1       39           3.81         4.25  \n",
       "4  Revolution Brewing Company  8.2       52           3.82         4.00  "
      ]
     },
     "execution_count": 5,
     "metadata": {},
     "output_type": "execute_result"
    }
   ],
   "source": [
    "df.head()"
   ]
  },
  {
   "cell_type": "markdown",
   "metadata": {},
   "source": [
    "# 0. Baseline - Average "
   ]
  },
  {
   "cell_type": "code",
   "execution_count": 6,
   "metadata": {},
   "outputs": [],
   "source": [
    "def baseline(df, user_of_interest):\n",
    "    global_mean = np.mean(df['user_rating'])\n",
    "    print(\"Global user_rating mean = {:.2f}\".format(global_mean))\n",
    "    beer_list = list(df[df['username']=='tsharp93']['beer_name'])\n",
    "    \n",
    "    estimated_rating_list = []\n",
    "    error_list = []\n",
    "    for beer in beer_list:\n",
    "        try:\n",
    "            estimated_rating = global_mean\n",
    "            estimated_rating_list.append(estimated_rating)\n",
    "\n",
    "            user_rating = df[(df['username']=='tsharp93') & (df['beer_name']==beer)]['user_rating'].iloc[0].astype(float)\n",
    "            error_list.append(estimated_rating-user_rating)\n",
    "        except IndexError:\n",
    "            print(beer)\n",
    "    mse = np.mean(np.array(error_list)**2)\n",
    "    mae = np.absolute(error_list).mean()\n",
    "    quarter_error_perc = 100 * np.sum(np.absolute(error_list) < 0.25) / len(error_list)\n",
    "    half_error_perc = 100 * np.sum(np.absolute(error_list) < 0.50) / len(error_list)\n",
    "\n",
    "    print(\"MSE = {:.2f}\".format(mse))\n",
    "    print(\"MAE = {:.2f}\".format(mae))\n",
    "    print(\"Errors within 0.25 = {:.2f} %\".format(quarter_error_perc))\n",
    "    print(\"Errors within 0.50 = {:.2f} %\".format(half_error_perc))"
   ]
  },
  {
   "cell_type": "markdown",
   "metadata": {},
   "source": [
    "# 1. Cold Start"
   ]
  },
  {
   "cell_type": "markdown",
   "metadata": {},
   "source": [
    "### For use when a user does not have enough data to build a model for his/her preferences"
   ]
  },
  {
   "cell_type": "code",
   "execution_count": 7,
   "metadata": {},
   "outputs": [],
   "source": [
    "def cold_start(df, user_of_interest):\n",
    "    try:\n",
    "        df.drop('nearest_neighbor_rank', axis=1, inplace=True)\n",
    "    except:\n",
    "        pass\n",
    "    df = COSINE_STEP(df, user_of_interest)\n",
    "    beer_list = list(df[df['username']=='tsharp93']['beer_name'])\n",
    "    estimated_rating_list = []\n",
    "    error_list = []\n",
    "    for beer in beer_list:\n",
    "        try:\n",
    "            estimated_rating = df[ (df.sort_values('nearest_neighbor_rank')['beer_name'] == beer) & (df['username']!=user_of_interest) ]['user_rating'].iloc[0]\n",
    "            estimated_rating_list.append(estimated_rating)\n",
    "\n",
    "            user_rating = df[(df['username']=='tsharp93') & (df['beer_name']==beer)]['user_rating'].iloc[0].astype(float)\n",
    "            error_list.append(estimated_rating-user_rating)\n",
    "        except IndexError:\n",
    "            print(\"SKIPPING:\", beer)\n",
    "    mse = np.mean(np.array(error_list)**2)\n",
    "    mae = np.absolute(error_list).mean()\n",
    "    quarter_error_perc = 100 * np.sum(np.absolute(error_list) < 0.25) / len(error_list)\n",
    "    half_error_perc = 100 * np.sum(np.absolute(error_list) < 0.50) / len(error_list)\n",
    "\n",
    "    print(\"MSE = {:.2f}\".format(mse))\n",
    "    print(\"MAE = {:.2f}\".format(mae))\n",
    "    print(\"Errors within 0.25 = {:.2f} %\".format(quarter_error_perc))\n",
    "    print(\"Errors within 0.50 = {:.2f} %\".format(half_error_perc))"
   ]
  },
  {
   "cell_type": "markdown",
   "metadata": {},
   "source": [
    "#### Problems with this approach: \n",
    "#### (1) Need another user to have the beer I have selected. If I want to get my user_rating for a beer that no one has tried, I can't do that. \n",
    "#### (2) Not very accurate. Almost half the points are outside of 0.5 error - sometimes worse than baseline"
   ]
  },
  {
   "cell_type": "markdown",
   "metadata": {},
   "source": [
    "# 2. Content Based Filtering "
   ]
  },
  {
   "cell_type": "markdown",
   "metadata": {},
   "source": [
    "### *Assumes the user of interest has enough data to build a model "
   ]
  },
  {
   "cell_type": "code",
   "execution_count": 8,
   "metadata": {},
   "outputs": [],
   "source": [
    "def run_model(df, user_of_interest, target):\n",
    "    \n",
    "    user_df = df\n",
    "        \n",
    "    features = list(df.columns[df.columns != target])\n",
    "    print(\"FEATURES \", features[:10])\n",
    "    print('\\n')\n",
    "    print(\"TARGET \", target)\n",
    "    print('\\n')\n",
    "  \n",
    "    from sklearn.model_selection import train_test_split\n",
    "    X_train, X_test, y_train, y_test = train_test_split(df[features], user_df[target], random_state=rand_state)\n",
    "    from sklearn.linear_model import LassoCV\n",
    "    lassocv = LassoCV(fit_intercept=True, normalize=True, cv=5, random_state=rand_state)\n",
    "    lassocv.fit(X_train, y_train)\n",
    "    from sklearn.linear_model import Lasso\n",
    "    lasso = Lasso(alpha=lassocv.alpha_,fit_intercept=True, normalize=True, random_state=rand_state)\n",
    "    lasso.fit(X_train, y_train)\n",
    "    \n",
    "    coef_dropped_perc = 100*np.sum(lasso.coef_ == 0) / len(lasso.coef_)\n",
    "    print(\"Percentage of estimators dropped = {:.2f} %\".format(coef_dropped_perc))\n",
    "    \n",
    "    preds = lasso.predict(X_test)\n",
    "    error_list = preds - y_test\n",
    "    mse = np.mean(np.array(error_list)**2)\n",
    "    mae = np.absolute(error_list).mean()\n",
    "    quarter_error_perc = 100 * np.sum(np.absolute(error_list) < 0.25) / len(error_list)\n",
    "    half_error_perc = 100 * np.sum(np.absolute(error_list) < 0.50) / len(error_list)\n",
    "    print(\"MSE = {:.2f}\".format(mse))\n",
    "    print(\"MAE = {:.2f}\".format(mae))\n",
    "    print(\"Errors within 0.25 = {:.2f} %\".format(quarter_error_perc))\n",
    "    print(\"Errors within 0.50 = {:.2f} %\".format(half_error_perc))"
   ]
  },
  {
   "cell_type": "markdown",
   "metadata": {},
   "source": [
    "### A. Encoding Beer Description"
   ]
  },
  {
   "cell_type": "code",
   "execution_count": 9,
   "metadata": {},
   "outputs": [],
   "source": [
    "def cat_encoding(df, encoding_col, drop_cols):\n",
    "\n",
    "    df = convert_categorical(df, [encoding_col])\n",
    "    df.drop(encoding_col, axis=1, inplace=True)\n",
    "    df.drop(drop_cols, axis=1, inplace=True)\n",
    "    \n",
    "    return df"
   ]
  },
  {
   "cell_type": "markdown",
   "metadata": {},
   "source": [
    "##### Improved Accuracy over both Cold Start and Baseline"
   ]
  },
  {
   "cell_type": "markdown",
   "metadata": {},
   "source": [
    "### B. NLP (Count Vectorizer)"
   ]
  },
  {
   "cell_type": "code",
   "execution_count": 10,
   "metadata": {},
   "outputs": [],
   "source": [
    "def count_vectorizer(df, vectoring_col, drop_cols):\n",
    "\n",
    "    from sklearn.feature_extraction.text import CountVectorizer\n",
    "    vect = CountVectorizer()\n",
    "    X = vect.fit_transform(df[vectoring_col])\n",
    "    tfidf_df = pd.DataFrame(X.toarray(), columns=vect.get_feature_names())\n",
    "    df = pd.concat([df.reset_index(drop=True), tfidf_df], axis=1)\n",
    "    \n",
    "    df.drop(vectoring_col, axis=1, inplace=True)\n",
    "    df.drop(drop_cols, axis=1, inplace=True)\n",
    "    \n",
    "    return df"
   ]
  },
  {
   "cell_type": "markdown",
   "metadata": {},
   "source": [
    "### C. NLP (TFIDF)"
   ]
  },
  {
   "cell_type": "code",
   "execution_count": 11,
   "metadata": {},
   "outputs": [],
   "source": [
    "def tfidf_vectorizer(df, vectoring_col, drop_cols):\n",
    "    \n",
    "    from sklearn.feature_extraction.text import TfidfVectorizer\n",
    "    vect = TfidfVectorizer()\n",
    "    X = vect.fit_transform(df[vectoring_col])\n",
    "    tfidf_df = pd.DataFrame(X.toarray(), columns=vect.get_feature_names())\n",
    "    df = pd.concat([df.reset_index(drop=True), tfidf_df], axis=1)\n",
    "    \n",
    "    df.drop(vectoring_col, axis=1, inplace=True)\n",
    "    df.drop(drop_cols, axis=1, inplace=True)\n",
    "    \n",
    "    return df"
   ]
  },
  {
   "cell_type": "markdown",
   "metadata": {},
   "source": [
    "# 3. Hybrid "
   ]
  },
  {
   "cell_type": "markdown",
   "metadata": {},
   "source": [
    "### More Data"
   ]
  },
  {
   "cell_type": "code",
   "execution_count": 54,
   "metadata": {},
   "outputs": [],
   "source": [
    "def hybrid(df, user_of_interest, target):\n",
    "    \n",
    "    features = list(df.columns[df.columns != target])\n",
    "    features.remove('username')\n",
    "    features.remove('beer_name')\n",
    "    print(\"FEATURES \", features[:10])\n",
    "    print('\\n')\n",
    "    print(\"TARGET \", target)\n",
    "    print('\\n')\n",
    "    \n",
    "    try:\n",
    "        df.drop('nearest_neighbor_rank', axis=1, inplace=True)\n",
    "    except:\n",
    "        pass\n",
    "    df = COSINE_STEP(df, user_of_interest)\n",
    "\n",
    "    min_ppu_list = [0, 50, 100, 250, 500, 750, 1000]\n",
    "    n_users_list = [5, 10, 15, 20, 25, 30, 35, 40, 45, 50, \n",
    "                    55, 60, 65, 70, 75, 80, 85, 100, len(df['username'].unique())-1]\n",
    "\n",
    "    mae_list = []\n",
    "    quarter_abs_error_list = []\n",
    "    half_abs_error_list = []\n",
    "\n",
    "\n",
    "    for min_ppu in min_ppu_list:\n",
    "\n",
    "        user_indices = df.username.value_counts()[df.username.value_counts() > min_ppu].index\n",
    "        sub_df = df[df['username'].isin(user_indices)]\n",
    "        n_users_list = [n_users for n_users in n_users_list if n_users < len(user_indices)]\n",
    "\n",
    "        for top_n in n_users_list:\n",
    "\n",
    "            # split data \n",
    "            top_n_nn = list(sub_df['nearest_neighbor_rank'].unique())[:top_n]\n",
    "            df_top_n = df[df['nearest_neighbor_rank'].isin(top_n_nn)]\n",
    "            X_train = df_top_n[features]\n",
    "            y_train = df_top_n[target]\n",
    "            y_train = np.array(y_train).reshape(len(y_train), )\n",
    "\n",
    "            X_test = df[df['username'] == user_of_interest][features]\n",
    "            y_test = df[df['username'] == user_of_interest][target]\n",
    "            y_test = np.array(y_test).reshape(len(y_test), )\n",
    "\n",
    "            # train\n",
    "            from sklearn.linear_model import LassoCV\n",
    "            model = LassoCV(fit_intercept=True, normalize=True, cv=5, random_state=rand_state)\n",
    "            model.fit(X_train, y_train)\n",
    "\n",
    "            # Evaluate model on user's data \n",
    "            preds = model.predict(X_test)\n",
    "\n",
    "            # evaluate results\n",
    "            results_df = pd.DataFrame([preds, y_test]).transpose()\n",
    "            results_df.columns = ['predicted', 'actual']\n",
    "            results_df['error'] = results_df['predicted'] - results_df['actual']\n",
    "            results_df['abs_error'] = abs(results_df['error'])\n",
    "\n",
    "            # Performance Metrics \n",
    "            mae = np.mean(results_df['abs_error'])\n",
    "\n",
    "            quarter_abs_error_list.append(100*len(results_df[results_df['abs_error']<=0.25])/len(results_df))\n",
    "            half_abs_error_list.append(100*len(results_df[results_df['abs_error']<=0.50])/len(results_df))\n",
    "            mae_list.append(mae)\n",
    "\n",
    "        # add breaks\n",
    "        quarter_abs_error_list.append(0)\n",
    "        half_abs_error_list.append(0)\n",
    "        mae_list.append(0)\n",
    "\n",
    "\n",
    "    # plot\n",
    "    ls = mae_list\n",
    "\n",
    "    size = len(ls) \n",
    "    idx_list = [idx + 1 for idx, val in enumerate(ls) if val == 0] \n",
    "    ys = [ls[i: j] for i, j in\n",
    "            zip([0] + idx_list, idx_list + \n",
    "            ([size] if idx_list[-1] != size else []))] \n",
    "\n",
    "    for i, y in enumerate(ys):\n",
    "        y = y[:-1]\n",
    "        ys[i] = y\n",
    "\n",
    "    import matplotlib.cm as cm\n",
    "    colors = cm.rainbow(np.linspace(0, 1, len(ys)))\n",
    "\n",
    "    plt.figure(figsize=[15,10])\n",
    "    plt.title(\"ENet with Nearest Neighbors and Min_PPU\")\n",
    "    plt.xlabel(\"N Nearest Neighbors\")\n",
    "    plt.ylabel(\"MAE\")\n",
    "\n",
    "    i = 0\n",
    "    for y, c in zip(ys, colors):\n",
    "        x = np.linspace(5, 5*len(y), len(y))\n",
    "        if i == 0:\n",
    "            x = [5, 10, 15, 20, 25, 30, 35, 40, 45, 50, 55, 60, 65, 70, 75, 80, 85, 100, len(df['username'].unique())-1]\n",
    "        else:\n",
    "            x = np.linspace(5, 5*len(y), len(y))\n",
    "        plt.scatter(x, y, color=c, label=\"Min PPU = \" + str(min_ppu_list[i]))\n",
    "        i += 1\n",
    "\n",
    "    plt.legend(bbox_to_anchor=(1.05, 1), loc=2, borderaxespad=0.)\n",
    "    plt.show()\n"
   ]
  },
  {
   "cell_type": "code",
   "execution_count": null,
   "metadata": {},
   "outputs": [],
   "source": []
  },
  {
   "cell_type": "markdown",
   "metadata": {},
   "source": [
    "# Putting it all together"
   ]
  },
  {
   "cell_type": "code",
   "execution_count": null,
   "metadata": {},
   "outputs": [],
   "source": [
    "user_of_interest = 'tsharp93'"
   ]
  },
  {
   "cell_type": "code",
   "execution_count": 33,
   "metadata": {},
   "outputs": [
    {
     "name": "stdout",
     "output_type": "stream",
     "text": [
      "BASELINE\n",
      "Global user_rating mean = 3.71\n",
      "MSE = 0.23\n",
      "MAE = 0.40\n",
      "Errors within 0.25 = 35.00 %\n",
      "Errors within 0.50 = 67.50 %\n",
      "\n",
      "\n",
      "COLD START\n",
      "User of Reference for Cosine Sim = tsharp93\n",
      "SKIPPING: Sig Sour 6.5\n",
      "SKIPPING: The Drongo\n",
      "SKIPPING: They Both Melt\n",
      "SKIPPING: Black Matter\n",
      "SKIPPING: The Caucasian\n",
      "SKIPPING: Caturro Coffee Cream Ale\n",
      "SKIPPING: Shiner Day Quencher\n",
      "SKIPPING: Barrel-Aged 4Beans\n",
      "SKIPPING: Marionberry Lavender Sour Ale\n",
      "SKIPPING: Southern Torrent Saison\n",
      "SKIPPING: The Drongo\n",
      "SKIPPING: They Both Melt\n",
      "MSE = 0.27\n",
      "MAE = 0.38\n",
      "Errors within 0.25 = 35.71 %\n",
      "Errors within 0.50 = 53.57 %\n",
      "\n",
      "\n",
      "CONTENT BASED FILTERING\n",
      "categorical encoding\n",
      "FEATURES  ['ABV', 'IBU', 'global_rating', 'beer_description_Adambier', 'beer_description_Altbier', 'beer_description_American Wild Ale', 'beer_description_Australian Sparkling Ale', 'beer_description_Barleywine - American', 'beer_description_Barleywine - English', 'beer_description_Barleywine - Other']\n",
      "\n",
      "\n",
      "TARGET  user_rating\n",
      "\n",
      "\n",
      "Percentage of estimators dropped = 15.57 %\n",
      "MSE = 0.31\n",
      "MAE = 0.41\n",
      "Errors within 0.25 = 42.09 %\n",
      "Errors within 0.50 = 70.83 %\n",
      "\n",
      "\n",
      "count vectorizer\n",
      "FEATURES  ['ABV', 'IBU', 'global_rating', 'abbey', 'adambier', 'alcoholic', 'ale', 'altbier', 'amber', 'american']\n",
      "\n",
      "\n",
      "TARGET  user_rating\n",
      "\n",
      "\n",
      "Percentage of estimators dropped = 22.22 %\n",
      "MSE = 0.31\n",
      "MAE = 0.41\n",
      "Errors within 0.25 = 42.19 %\n",
      "Errors within 0.50 = 70.73 %\n",
      "\n",
      "\n",
      "tfidf vectorizer\n",
      "FEATURES  ['ABV', 'IBU', 'global_rating', 'abbey', 'adambier', 'alcoholic', 'ale', 'altbier', 'amber', 'american']\n",
      "\n",
      "\n",
      "TARGET  user_rating\n",
      "\n",
      "\n",
      "Percentage of estimators dropped = 25.93 %\n",
      "MSE = 0.31\n",
      "MAE = 0.41\n",
      "Errors within 0.25 = 42.27 %\n",
      "Errors within 0.50 = 70.77 %\n"
     ]
    }
   ],
   "source": [
    "drop_cols =['username', 'beer_name', 'brewery']\n",
    "\n",
    "print(\"BASELINE\")\n",
    "baseline(df, user_of_interest)\n",
    "\n",
    "print(\"\\n\")\n",
    "print(\"COLD START\")\n",
    "cold_start(df, user_of_interest)\n",
    "\n",
    "print(\"\\n\")\n",
    "print(\"CONTENT BASED FILTERING\")\n",
    "print(\"categorical encoding\")\n",
    "user_df = cat_encoding(df, 'beer_description', drop_cols)\n",
    "run_model(user_df, user_of_interest, 'user_rating')\n",
    "\n",
    "print(\"\\n\")\n",
    "print(\"count vectorizer\")\n",
    "user_df = count_vectorizer(df,'beer_description', drop_cols)\n",
    "run_model(user_df, user_of_interest, 'user_rating')\n",
    "\n",
    "print(\"\\n\")\n",
    "print(\"tfidf vectorizer\")\n",
    "user_df = tfidf_vectorizer(df,'beer_description', drop_cols)\n",
    "run_model(user_df, user_of_interest, 'user_rating')"
   ]
  },
  {
   "cell_type": "code",
   "execution_count": 55,
   "metadata": {},
   "outputs": [
    {
     "name": "stdout",
     "output_type": "stream",
     "text": [
      "\n",
      "\n",
      "Hybrid\n",
      "categorical encoding\n",
      "FEATURES  ['ABV', 'IBU', 'global_rating', 'beer_description_Adambier', 'beer_description_Altbier', 'beer_description_American Wild Ale', 'beer_description_Australian Sparkling Ale', 'beer_description_Barleywine - American', 'beer_description_Barleywine - English', 'beer_description_Barleywine - Other']\n",
      "\n",
      "\n",
      "TARGET  user_rating\n",
      "\n",
      "\n",
      "User of Reference for Cosine Sim = tsharp93\n"
     ]
    },
    {
     "data": {
      "image/png": "[encoded data removed]",
      "text/plain": [
       "<Figure size 1080x720 with 1 Axes>"
      ]
     },
     "metadata": {
      "needs_background": "light"
     },
     "output_type": "display_data"
    },
    {
     "name": "stdout",
     "output_type": "stream",
     "text": [
      "\n",
      "\n",
      "count vectorizer\n",
      "FEATURES  ['ABV', 'IBU', 'global_rating', 'abbey', 'adambier', 'alcoholic', 'ale', 'altbier', 'amber', 'american']\n",
      "\n",
      "\n",
      "TARGET  user_rating\n",
      "\n",
      "\n",
      "User of Reference for Cosine Sim = tsharp93\n"
     ]
    },
    {
     "data": {
      "image/png": "[encoded data removed]",
      "text/plain": [
       "<Figure size 1080x720 with 1 Axes>"
      ]
     },
     "metadata": {
      "needs_background": "light"
     },
     "output_type": "display_data"
    },
    {
     "name": "stdout",
     "output_type": "stream",
     "text": [
      "\n",
      "\n",
      "tfidf vectorizer\n",
      "FEATURES  ['ABV', 'IBU', 'global_rating', 'abbey', 'adambier', 'alcoholic', 'ale', 'altbier', 'amber', 'american']\n",
      "\n",
      "\n",
      "TARGET  user_rating\n",
      "\n",
      "\n",
      "User of Reference for Cosine Sim = tsharp93\n"
     ]
    },
    {
     "data": {
      "image/png": "[encoded data removed]",
      "text/plain": [
       "<Figure size 1080x720 with 1 Axes>"
      ]
     },
     "metadata": {
      "needs_background": "light"
     },
     "output_type": "display_data"
    }
   ],
   "source": [
    "drop_cols = ['brewery']\n",
    "\n",
    "print(\"\\n\")\n",
    "print(\"Hybrid\")\n",
    "print(\"categorical encoding\")\n",
    "hybrid_df = cat_encoding(df, 'beer_description', drop_cols)\n",
    "hybrid(hybrid_df, user_of_interest, 'user_rating')\n",
    "\n",
    "print(\"\\n\")\n",
    "print(\"count vectorizer\")\n",
    "hybrid_df = count_vectorizer(df, 'beer_description', drop_cols)\n",
    "hybrid(hybrid_df, user_of_interest, 'user_rating')\n",
    "\n",
    "print(\"\\n\")\n",
    "print(\"tfidf vectorizer\")\n",
    "hybrid_df= tfidf_vectorizer(df,'beer_description', drop_cols)\n",
    "hybrid(hybrid_df, user_of_interest, 'user_rating')"
   ]
  },
  {
   "cell_type": "code",
   "execution_count": null,
   "metadata": {},
   "outputs": [],
   "source": []
  }
 ],
 "metadata": {
  "kernelspec": {
   "display_name": "Python 3",
   "language": "python",
   "name": "python3"
  },
  "language_info": {
   "codemirror_mode": {
    "name": "ipython",
    "version": 3
   },
   "file_extension": ".py",
   "mimetype": "text/x-python",
   "name": "python",
   "nbconvert_exporter": "python",
   "pygments_lexer": "ipython3",
   "version": "3.7.3"
  }
 },
 "nbformat": 4,
 "nbformat_minor": 2
}
