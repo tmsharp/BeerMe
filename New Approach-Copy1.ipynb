{
 "cells": [
  {
   "cell_type": "code",
   "execution_count": 66,
   "metadata": {},
   "outputs": [],
   "source": [
    "user_of_interest = 'tnt'"
   ]
  },
  {
   "cell_type": "code",
   "execution_count": 33,
   "metadata": {},
   "outputs": [],
   "source": [
    "rand_state = 12"
   ]
  },
  {
   "cell_type": "markdown",
   "metadata": {},
   "source": [
    "# Cleaning Pipeline"
   ]
  },
  {
   "cell_type": "code",
   "execution_count": 34,
   "metadata": {},
   "outputs": [],
   "source": [
    "from BeerMe.Pipeline import *"
   ]
  },
  {
   "cell_type": "code",
   "execution_count": 35,
   "metadata": {},
   "outputs": [
    {
     "name": "stdout",
     "output_type": "stream",
     "text": [
      "\n",
      "\n",
      "1. NA Count...\n",
      "ABV                923\n",
      "global_rating        0\n",
      "user_rating       3882\n",
      "IBU              47035\n",
      "dtype: int64\n",
      "\n",
      "\n",
      "2. Finding IQR outliers...\n",
      "FEATURE ABV\n",
      "num of outliers = 3,421\n",
      "% of outliers = 3.33%\n",
      "\n",
      "\n",
      "NA Count...\n",
      "ABV              0\n",
      "global_rating    0\n",
      "user_rating      0\n",
      "IBU              0\n",
      "dtype: int64\n"
     ]
    }
   ],
   "source": [
    "df = IMPORT_CLEAN_STEP(db_path='data/beer.db')"
   ]
  },
  {
   "cell_type": "code",
   "execution_count": 36,
   "metadata": {},
   "outputs": [],
   "source": [
    "df = df[['username', 'beer_name', 'beer_description', 'brewery', 'ABV', 'IBU', 'global_rating', 'user_rating']]"
   ]
  },
  {
   "cell_type": "code",
   "execution_count": 37,
   "metadata": {},
   "outputs": [
    {
     "data": {
      "text/html": [
       "<div>\n",
       "<style scoped>\n",
       "    .dataframe tbody tr th:only-of-type {\n",
       "        vertical-align: middle;\n",
       "    }\n",
       "\n",
       "    .dataframe tbody tr th {\n",
       "        vertical-align: top;\n",
       "    }\n",
       "\n",
       "    .dataframe thead th {\n",
       "        text-align: right;\n",
       "    }\n",
       "</style>\n",
       "<table border=\"1\" class=\"dataframe\">\n",
       "  <thead>\n",
       "    <tr style=\"text-align: right;\">\n",
       "      <th></th>\n",
       "      <th>username</th>\n",
       "      <th>beer_name</th>\n",
       "      <th>beer_description</th>\n",
       "      <th>brewery</th>\n",
       "      <th>ABV</th>\n",
       "      <th>IBU</th>\n",
       "      <th>global_rating</th>\n",
       "      <th>user_rating</th>\n",
       "    </tr>\n",
       "  </thead>\n",
       "  <tbody>\n",
       "    <tr>\n",
       "      <th>0</th>\n",
       "      <td>tnt</td>\n",
       "      <td>Society &amp; Solitude #7</td>\n",
       "      <td>IPA - Imperial / Double</td>\n",
       "      <td>Hill Farmstead Brewery</td>\n",
       "      <td>8.0</td>\n",
       "      <td>44.1594</td>\n",
       "      <td>4.38</td>\n",
       "      <td>4.25</td>\n",
       "    </tr>\n",
       "    <tr>\n",
       "      <th>1</th>\n",
       "      <td>tnt</td>\n",
       "      <td>Riwaka Single Hop Pale Ale</td>\n",
       "      <td>Pale Ale - American</td>\n",
       "      <td>Hill Farmstead Brewery</td>\n",
       "      <td>5.2</td>\n",
       "      <td>44.1594</td>\n",
       "      <td>4.14</td>\n",
       "      <td>5.00</td>\n",
       "    </tr>\n",
       "    <tr>\n",
       "      <th>2</th>\n",
       "      <td>tnt</td>\n",
       "      <td>Walk, Don't Run</td>\n",
       "      <td>Blonde Ale</td>\n",
       "      <td>Suarez Family Brewery</td>\n",
       "      <td>3.7</td>\n",
       "      <td>44.1594</td>\n",
       "      <td>4.10</td>\n",
       "      <td>4.50</td>\n",
       "    </tr>\n",
       "    <tr>\n",
       "      <th>3</th>\n",
       "      <td>tnt</td>\n",
       "      <td>Czech Two</td>\n",
       "      <td>Pilsner - Czech</td>\n",
       "      <td>Gravely Brewing Co</td>\n",
       "      <td>4.1</td>\n",
       "      <td>39</td>\n",
       "      <td>3.81</td>\n",
       "      <td>4.25</td>\n",
       "    </tr>\n",
       "    <tr>\n",
       "      <th>4</th>\n",
       "      <td>tnt</td>\n",
       "      <td>Spirit of Revolt</td>\n",
       "      <td>IPA - Imperial / Double</td>\n",
       "      <td>Revolution Brewing Company</td>\n",
       "      <td>8.2</td>\n",
       "      <td>52</td>\n",
       "      <td>3.82</td>\n",
       "      <td>4.00</td>\n",
       "    </tr>\n",
       "  </tbody>\n",
       "</table>\n",
       "</div>"
      ],
      "text/plain": [
       "  username                   beer_name         beer_description  \\\n",
       "0      tnt       Society & Solitude #7  IPA - Imperial / Double   \n",
       "1      tnt  Riwaka Single Hop Pale Ale      Pale Ale - American   \n",
       "2      tnt             Walk, Don't Run               Blonde Ale   \n",
       "3      tnt                   Czech Two          Pilsner - Czech   \n",
       "4      tnt            Spirit of Revolt  IPA - Imperial / Double   \n",
       "\n",
       "                      brewery  ABV      IBU  global_rating  user_rating  \n",
       "0      Hill Farmstead Brewery  8.0  44.1594           4.38         4.25  \n",
       "1      Hill Farmstead Brewery  5.2  44.1594           4.14         5.00  \n",
       "2       Suarez Family Brewery  3.7  44.1594           4.10         4.50  \n",
       "3          Gravely Brewing Co  4.1       39           3.81         4.25  \n",
       "4  Revolution Brewing Company  8.2       52           3.82         4.00  "
      ]
     },
     "execution_count": 37,
     "metadata": {},
     "output_type": "execute_result"
    }
   ],
   "source": [
    "df.head()"
   ]
  },
  {
   "cell_type": "markdown",
   "metadata": {},
   "source": [
    "# 0. Baseline - Average "
   ]
  },
  {
   "cell_type": "code",
   "execution_count": 38,
   "metadata": {},
   "outputs": [],
   "source": [
    "def baseline(df, user_of_interest):\n",
    "    global_mean = np.mean(df['user_rating'])\n",
    "    print(\"Global user_rating mean = {:.2f}\".format(global_mean))\n",
    "    beer_list = list(df[df['username']=='tsharp93']['beer_name'])\n",
    "    \n",
    "    estimated_rating_list = []\n",
    "    error_list = []\n",
    "    for beer in beer_list:\n",
    "        try:\n",
    "            estimated_rating = global_mean\n",
    "            estimated_rating_list.append(estimated_rating)\n",
    "\n",
    "            user_rating = df[(df['username']=='tsharp93') & (df['beer_name']==beer)]['user_rating'].iloc[0].astype(float)\n",
    "            error_list.append(estimated_rating-user_rating)\n",
    "        except IndexError:\n",
    "            print(beer)\n",
    "    mse = np.mean(np.array(error_list)**2)\n",
    "    mae = np.absolute(error_list).mean()\n",
    "    quarter_error_perc = 100 * np.sum(np.absolute(error_list) < 0.25) / len(error_list)\n",
    "    half_error_perc = 100 * np.sum(np.absolute(error_list) < 0.50) / len(error_list)\n",
    "\n",
    "    print(\"MSE = {:.2f}\".format(mse))\n",
    "    print(\"MAE = {:.2f}\".format(mae))\n",
    "    print(\"Errors within 0.25 = {:.2f} %\".format(quarter_error_perc))\n",
    "    print(\"Errors within 0.50 = {:.2f} %\".format(half_error_perc))"
   ]
  },
  {
   "cell_type": "code",
   "execution_count": 39,
   "metadata": {},
   "outputs": [
    {
     "name": "stdout",
     "output_type": "stream",
     "text": [
      "Global user_rating mean = 3.71\n",
      "MSE = 0.23\n",
      "MAE = 0.40\n",
      "Errors within 0.25 = 35.00 %\n",
      "Errors within 0.50 = 67.50 %\n"
     ]
    }
   ],
   "source": [
    "baseline(df, user_of_interest)"
   ]
  },
  {
   "cell_type": "markdown",
   "metadata": {},
   "source": [
    "# 1. Cold Start"
   ]
  },
  {
   "cell_type": "markdown",
   "metadata": {},
   "source": [
    "### For use when a user does not have enough data to build a model for his/her preferences"
   ]
  },
  {
   "cell_type": "code",
   "execution_count": 40,
   "metadata": {},
   "outputs": [],
   "source": [
    "def cold_start(df, user_of_interest):\n",
    "    try:\n",
    "        df.drop('nearest_neighbor_rank', axis=1, inplace=True)\n",
    "    except:\n",
    "        pass\n",
    "    df = COSINE_STEP(df, user_of_interest)\n",
    "    beer_list = list(df[df['username']=='tsharp93']['beer_name'])\n",
    "    estimated_rating_list = []\n",
    "    error_list = []\n",
    "    for beer in beer_list:\n",
    "        try:\n",
    "            estimated_rating = df[ (df.sort_values('nearest_neighbor_rank')['beer_name'] == beer) & (df['username']!=user_of_interest) ]['user_rating'].iloc[0]\n",
    "            estimated_rating_list.append(estimated_rating)\n",
    "\n",
    "            user_rating = df[(df['username']=='tsharp93') & (df['beer_name']==beer)]['user_rating'].iloc[0].astype(float)\n",
    "            error_list.append(estimated_rating-user_rating)\n",
    "        except IndexError:\n",
    "            print(\"SKIPPING:\", beer)\n",
    "    mse = np.mean(np.array(error_list)**2)\n",
    "    mae = np.absolute(error_list).mean()\n",
    "    quarter_error_perc = 100 * np.sum(np.absolute(error_list) < 0.25) / len(error_list)\n",
    "    half_error_perc = 100 * np.sum(np.absolute(error_list) < 0.50) / len(error_list)\n",
    "\n",
    "    print(\"MSE = {:.2f}\".format(mse))\n",
    "    print(\"MAE = {:.2f}\".format(mae))\n",
    "    print(\"Errors within 0.25 = {:.2f} %\".format(quarter_error_perc))\n",
    "    print(\"Errors within 0.50 = {:.2f} %\".format(half_error_perc))"
   ]
  },
  {
   "cell_type": "code",
   "execution_count": 41,
   "metadata": {},
   "outputs": [
    {
     "name": "stdout",
     "output_type": "stream",
     "text": [
      "User of Reference for Cosine Sim = tsharp93\n",
      "SKIPPING: Sig Sour 6.5\n",
      "SKIPPING: The Drongo\n",
      "SKIPPING: They Both Melt\n",
      "SKIPPING: Black Matter\n",
      "SKIPPING: The Caucasian\n",
      "SKIPPING: Caturro Coffee Cream Ale\n",
      "SKIPPING: Shiner Day Quencher\n",
      "SKIPPING: Barrel-Aged 4Beans\n",
      "SKIPPING: Marionberry Lavender Sour Ale\n",
      "SKIPPING: Southern Torrent Saison\n",
      "SKIPPING: The Drongo\n",
      "SKIPPING: They Both Melt\n",
      "MSE = 0.27\n",
      "MAE = 0.38\n",
      "Errors within 0.25 = 35.71 %\n",
      "Errors within 0.50 = 53.57 %\n"
     ]
    }
   ],
   "source": [
    "cold_start(df, user_of_interest)"
   ]
  },
  {
   "cell_type": "markdown",
   "metadata": {},
   "source": [
    "#### Problems with this approach: \n",
    "#### (1) Need another user to have the beer I have selected. If I want to get my user_rating for a beer that no one has tried, I can't do that. \n",
    "#### (2) Not very accurate. Almost half the points are outside of 0.5 error - sometimes worse than baseline"
   ]
  },
  {
   "cell_type": "markdown",
   "metadata": {},
   "source": [
    "# 2. Content Based Filtering "
   ]
  },
  {
   "cell_type": "markdown",
   "metadata": {},
   "source": [
    "### *Assumes the user of interest has enough data to build a model "
   ]
  },
  {
   "cell_type": "code",
   "execution_count": 113,
   "metadata": {},
   "outputs": [],
   "source": [
    "def run_model(df, target):\n",
    "    user_df = df  \n",
    "        \n",
    "    features = list(df.columns[df.columns != target])\n",
    "    print(\"FEATURES \", features)\n",
    "    print('\\n')\n",
    "    print(\"TARGET \", target)\n",
    "    print('\\n')\n",
    "  \n",
    "    from sklearn.model_selection import train_test_split\n",
    "    X_train, X_test, y_train, y_test = train_test_split(df[features], user_df[target], random_state=rand_state)\n",
    "    from sklearn.linear_model import LassoCV\n",
    "    lassocv = LassoCV(fit_intercept=True, normalize=True, cv=5, random_state=rand_state)\n",
    "    lassocv.fit(X_train, y_train)\n",
    "    from sklearn.linear_model import Lasso\n",
    "    lasso = Lasso(alpha=lassocv.alpha_,fit_intercept=True, normalize=True, random_state=rand_state)\n",
    "    lasso.fit(X_train, y_train)\n",
    "    \n",
    "    coef_dropped_perc = 100*np.sum(lasso.coef_ == 0) / len(lasso.coef_)\n",
    "    print(\"Percentage of estimators dropped = {:.2f} %\".format(coef_dropped_perc))\n",
    "    \n",
    "    preds = lasso.predict(X_test)\n",
    "    error_list = preds - y_test\n",
    "    mse = np.mean(np.array(error_list)**2)\n",
    "    mae = np.absolute(error_list).mean()\n",
    "    quarter_error_perc = 100 * np.sum(np.absolute(error_list) < 0.25) / len(error_list)\n",
    "    half_error_perc = 100 * np.sum(np.absolute(error_list) < 0.50) / len(error_list)\n",
    "    print(\"MSE = {:.2f}\".format(mse))\n",
    "    print(\"MAE = {:.2f}\".format(mae))\n",
    "    print(\"Errors within 0.25 = {:.2f} %\".format(quarter_error_perc))\n",
    "    print(\"Errors within 0.50 = {:.2f} %\".format(half_error_perc))"
   ]
  },
  {
   "cell_type": "markdown",
   "metadata": {},
   "source": [
    "### A. Encoding Beer Description"
   ]
  },
  {
   "cell_type": "code",
   "execution_count": 126,
   "metadata": {},
   "outputs": [],
   "source": [
    "def cat_encoding(df, user_of_interest, encoding_col, drop_cols):\n",
    "    user_df = df[df['username'] == user_of_interest]\n",
    "    user_df = convert_categorical(user_df, [encoding_col])\n",
    "    user_df.drop(encoding_col, axis=1, inplace=True)\n",
    "    user_df.drop(drop_cols, axis=1, inplace=True)\n",
    "    return user_df"
   ]
  },
  {
   "cell_type": "code",
   "execution_count": 127,
   "metadata": {},
   "outputs": [
    {
     "name": "stdout",
     "output_type": "stream",
     "text": [
      "FEATURES  ['ABV', 'IBU', 'global_rating', 'beer_description_Altbier', 'beer_description_American Wild Ale', 'beer_description_Barleywine - American', 'beer_description_Barleywine - English', 'beer_description_Belgian Blonde', 'beer_description_Belgian Dubbel', 'beer_description_Belgian Quadrupel', 'beer_description_Belgian Strong Dark Ale', 'beer_description_Belgian Strong Golden Ale', 'beer_description_Belgian Tripel', 'beer_description_Bière de Champagne / Bière Brut', 'beer_description_Bière de Garde', 'beer_description_Bière de Mars', 'beer_description_Blonde Ale', 'beer_description_Bock - Doppelbock', 'beer_description_Bock - Hell / Maibock / Lentebock', 'beer_description_Bock - Single / Traditional', 'beer_description_Brown Ale - American', 'beer_description_Brown Ale - Belgian', 'beer_description_Brown Ale - English', 'beer_description_Brown Ale - Imperial / Double', 'beer_description_California Common', 'beer_description_Cider - Traditional', 'beer_description_Cream Ale', 'beer_description_Dark Ale', 'beer_description_Dunkelweizen', 'beer_description_English Bitter', 'beer_description_English Mild Ale', 'beer_description_Extra Special / Strong Bitter', 'beer_description_Farmhouse Ale - Saison', 'beer_description_Fruit Beer', 'beer_description_Golden Ale', 'beer_description_Grisette', 'beer_description_Gruit / Ancient Herbed Ale', 'beer_description_Hefeweizen', 'beer_description_IPA - American', 'beer_description_IPA - Belgian', 'beer_description_IPA - Black / Cascadian Dark Ale', 'beer_description_IPA - Brut', 'beer_description_IPA - English', 'beer_description_IPA - Imperial / Double', 'beer_description_IPA - Imperial / Double Black', 'beer_description_IPA - Imperial / Double New England', 'beer_description_IPA - International', 'beer_description_IPA - Milkshake', 'beer_description_IPA - New England', 'beer_description_IPA - Red', 'beer_description_IPA - Rye', 'beer_description_IPA - Session / India Session Ale', 'beer_description_IPA - Triple', 'beer_description_IPA - White', 'beer_description_Italian Grape Ale', 'beer_description_Kellerbier / Zwickelbier', 'beer_description_Kölsch', 'beer_description_Lager - Amber', 'beer_description_Lager - American', 'beer_description_Lager - American Amber / Red', 'beer_description_Lager - American Light', 'beer_description_Lager - Dark', 'beer_description_Lager - Dortmunder / Export', 'beer_description_Lager - Euro Dark', 'beer_description_Lager - Euro Pale', 'beer_description_Lager - Helles', 'beer_description_Lager - IPL (India Pale Lager)', 'beer_description_Lager - Pale', 'beer_description_Lager - Vienna', 'beer_description_Lager - Winter', 'beer_description_Lambic - Framboise', 'beer_description_Lambic - Gueuze', 'beer_description_Lambic - Kriek', 'beer_description_Lambic - Traditional', 'beer_description_Mead - Braggot', 'beer_description_Mead - Other', 'beer_description_Mead - Pyment', 'beer_description_Märzen', 'beer_description_Old Ale', 'beer_description_Pale Ale - American', 'beer_description_Pale Ale - Belgian', 'beer_description_Pale Ale - English', 'beer_description_Pale Ale - International', 'beer_description_Patersbier', 'beer_description_Pilsner - Czech', 'beer_description_Pilsner - German', 'beer_description_Pilsner - Imperial / Double', 'beer_description_Pilsner - Other', 'beer_description_Porter - American', 'beer_description_Porter - Baltic', 'beer_description_Porter - English', 'beer_description_Porter - Imperial / Double', 'beer_description_Porter - Other', 'beer_description_Pumpkin / Yam Beer', 'beer_description_Red Ale - American Amber / Red', 'beer_description_Red Ale - Imperial / Double', 'beer_description_Red Ale - Irish', 'beer_description_Red Ale - Other', 'beer_description_Roggenbier', 'beer_description_Rye Beer', 'beer_description_Rye Wine', 'beer_description_Schwarzbier', 'beer_description_Scotch Ale / Wee Heavy', 'beer_description_Scottish Ale', 'beer_description_Scottish Export Ale', 'beer_description_Shandy / Radler', 'beer_description_Smoked Beer', 'beer_description_Sour - Berliner Weisse', 'beer_description_Sour - Flanders Oud Bruin', 'beer_description_Sour - Flanders Red Ale', 'beer_description_Sour - Fruited', 'beer_description_Sour - Gose', 'beer_description_Sour - Gose - Fruited', 'beer_description_Sour - Other', 'beer_description_Spiced / Herbed Beer', 'beer_description_Stout - American', 'beer_description_Stout - American Imperial / Double', 'beer_description_Stout - Coffee', 'beer_description_Stout - Imperial / Double', 'beer_description_Stout - Imperial / Double Milk', 'beer_description_Stout - Imperial / Double Oatmeal', 'beer_description_Stout - Irish Dry', 'beer_description_Stout - Milk / Sweet', 'beer_description_Stout - Oatmeal', 'beer_description_Stout - Other', 'beer_description_Stout - Russian Imperial', 'beer_description_Strong Ale - American', 'beer_description_Strong Ale - English', 'beer_description_Table Beer', 'beer_description_Traditional Ale', 'beer_description_Wheat Beer - American Pale Wheat', 'beer_description_Wheat Beer - Other', 'beer_description_Wheat Wine', 'beer_description_Winter Ale', 'beer_description_Witbier']\n",
      "\n",
      "\n",
      "TARGET  user_rating\n",
      "\n",
      "\n",
      "Percentage of estimators dropped = 63.70 %\n",
      "MSE = 0.23\n",
      "MAE = 0.36\n",
      "Errors within 0.25 = 46.79 %\n",
      "Errors within 0.50 = 74.58 %\n"
     ]
    }
   ],
   "source": [
    "user_df = cat_encoding(df, user_of_interest, 'beer_description', ['username', 'beer_name', 'brewery'])\n",
    "run_model(user_df, 'user_rating')"
   ]
  },
  {
   "cell_type": "markdown",
   "metadata": {},
   "source": [
    "##### Improved Accuracy over both Cold Start and Baseline"
   ]
  },
  {
   "cell_type": "markdown",
   "metadata": {},
   "source": [
    "### B. NLP (Count Vectorizer)"
   ]
  },
  {
   "cell_type": "code",
   "execution_count": 121,
   "metadata": {},
   "outputs": [],
   "source": [
    "def count_vectorizer(df, user_of_interest, vectoring_col, drop_cols):\n",
    "    user_df = df[df['username'] == user_of_interest]\n",
    "    \n",
    "    from sklearn.feature_extraction.text import CountVectorizer\n",
    "    vect = CountVectorizer()\n",
    "    X = vect.fit_transform(user_df[vectoring_col])\n",
    "    tfidf_df = pd.DataFrame(X.toarray(), columns=vect.get_feature_names())\n",
    "    user_df = pd.concat([user_df.reset_index(drop=True), tfidf_df], axis=1)\n",
    "    \n",
    "    user_df.drop(vectoring_col, axis=1, inplace=True)\n",
    "    user_df.drop(drop_cols, axis=1, inplace=True)\n",
    "    \n",
    "    return user_df"
   ]
  },
  {
   "cell_type": "code",
   "execution_count": 122,
   "metadata": {},
   "outputs": [
    {
     "data": {
      "text/html": [
       "<div>\n",
       "<style scoped>\n",
       "    .dataframe tbody tr th:only-of-type {\n",
       "        vertical-align: middle;\n",
       "    }\n",
       "\n",
       "    .dataframe tbody tr th {\n",
       "        vertical-align: top;\n",
       "    }\n",
       "\n",
       "    .dataframe thead th {\n",
       "        text-align: right;\n",
       "    }\n",
       "</style>\n",
       "<table border=\"1\" class=\"dataframe\">\n",
       "  <thead>\n",
       "    <tr style=\"text-align: right;\">\n",
       "      <th></th>\n",
       "      <th>ABV</th>\n",
       "      <th>IBU</th>\n",
       "      <th>global_rating</th>\n",
       "      <th>user_rating</th>\n",
       "      <th>abbey</th>\n",
       "      <th>ale</th>\n",
       "      <th>altbier</th>\n",
       "      <th>amber</th>\n",
       "      <th>american</th>\n",
       "      <th>ancient</th>\n",
       "      <th>...</th>\n",
       "      <th>wee</th>\n",
       "      <th>weisse</th>\n",
       "      <th>wheat</th>\n",
       "      <th>white</th>\n",
       "      <th>wild</th>\n",
       "      <th>wine</th>\n",
       "      <th>winter</th>\n",
       "      <th>witbier</th>\n",
       "      <th>yam</th>\n",
       "      <th>zwickelbier</th>\n",
       "    </tr>\n",
       "  </thead>\n",
       "  <tbody>\n",
       "    <tr>\n",
       "      <th>0</th>\n",
       "      <td>8.0</td>\n",
       "      <td>44.1594</td>\n",
       "      <td>4.38</td>\n",
       "      <td>4.25</td>\n",
       "      <td>0</td>\n",
       "      <td>0</td>\n",
       "      <td>0</td>\n",
       "      <td>0</td>\n",
       "      <td>0</td>\n",
       "      <td>0</td>\n",
       "      <td>...</td>\n",
       "      <td>0</td>\n",
       "      <td>0</td>\n",
       "      <td>0</td>\n",
       "      <td>0</td>\n",
       "      <td>0</td>\n",
       "      <td>0</td>\n",
       "      <td>0</td>\n",
       "      <td>0</td>\n",
       "      <td>0</td>\n",
       "      <td>0</td>\n",
       "    </tr>\n",
       "    <tr>\n",
       "      <th>1</th>\n",
       "      <td>5.2</td>\n",
       "      <td>44.1594</td>\n",
       "      <td>4.14</td>\n",
       "      <td>5.00</td>\n",
       "      <td>0</td>\n",
       "      <td>1</td>\n",
       "      <td>0</td>\n",
       "      <td>0</td>\n",
       "      <td>1</td>\n",
       "      <td>0</td>\n",
       "      <td>...</td>\n",
       "      <td>0</td>\n",
       "      <td>0</td>\n",
       "      <td>0</td>\n",
       "      <td>0</td>\n",
       "      <td>0</td>\n",
       "      <td>0</td>\n",
       "      <td>0</td>\n",
       "      <td>0</td>\n",
       "      <td>0</td>\n",
       "      <td>0</td>\n",
       "    </tr>\n",
       "  </tbody>\n",
       "</table>\n",
       "<p>2 rows × 130 columns</p>\n",
       "</div>"
      ],
      "text/plain": [
       "   ABV      IBU  global_rating  user_rating  abbey  ale  altbier  amber  \\\n",
       "0  8.0  44.1594           4.38         4.25      0    0        0      0   \n",
       "1  5.2  44.1594           4.14         5.00      0    1        0      0   \n",
       "\n",
       "   american  ancient  ...  wee  weisse  wheat  white  wild  wine  winter  \\\n",
       "0         0        0  ...    0       0      0      0     0     0       0   \n",
       "1         1        0  ...    0       0      0      0     0     0       0   \n",
       "\n",
       "   witbier  yam  zwickelbier  \n",
       "0        0    0            0  \n",
       "1        0    0            0  \n",
       "\n",
       "[2 rows x 130 columns]"
      ]
     },
     "execution_count": 122,
     "metadata": {},
     "output_type": "execute_result"
    }
   ],
   "source": [
    "user_df = count_vectorizer(df, user_of_interest, 'beer_description', ['username', 'beer_name', 'brewery'])\n",
    "run_model(user_df, 'user_rating')"
   ]
  },
  {
   "cell_type": "markdown",
   "metadata": {},
   "source": [
    "### C. NLP (TFIDF)"
   ]
  },
  {
   "cell_type": "code",
   "execution_count": 124,
   "metadata": {},
   "outputs": [],
   "source": [
    "def tfidf_vectorizer(df, user_of_interest, vectoring_col, drop_cols):\n",
    "    user_df = df[df['username'] == user_of_interest]\n",
    "    \n",
    "    from sklearn.feature_extraction.text import TfidfVectorizer\n",
    "    vect = TfidfVectorizer()\n",
    "    X = vect.fit_transform(user_df[vectoring_col])\n",
    "    tfidf_df = pd.DataFrame(X.toarray(), columns=vect.get_feature_names())\n",
    "    user_df = pd.concat([user_df.reset_index(drop=True), tfidf_df], axis=1)\n",
    "    \n",
    "    user_df.drop(vectoring_col, axis=1, inplace=True)\n",
    "    user_df.drop(drop_cols, axis=1, inplace=True)\n",
    "    \n",
    "    return user_df"
   ]
  },
  {
   "cell_type": "code",
   "execution_count": 125,
   "metadata": {},
   "outputs": [
    {
     "name": "stdout",
     "output_type": "stream",
     "text": [
      "FEATURES  ['ABV', 'IBU', 'global_rating', 'abbey', 'ale', 'altbier', 'amber', 'american', 'ancient', 'baltic', 'barleywine', 'beer', 'belgian', 'berliner', 'bitter', 'bière', 'black', 'blonde', 'bock', 'braggot', 'brown', 'bruin', 'brut', 'california', 'cascadian', 'champagne', 'cider', 'coffee', 'common', 'cream', 'czech', 'dark', 'de', 'doppelbock', 'dortmunder', 'double', 'dry', 'dubbel', 'dunkelweizen', 'england', 'english', 'euro', 'export', 'extra', 'farmhouse', 'flanders', 'framboise', 'fruit', 'fruited', 'garde', 'german', 'golden', 'gose', 'grape', 'grisette', 'gruit', 'gueuze', 'heavy', 'hefeweizen', 'hell', 'helles', 'herbed', 'imperial', 'india', 'international', 'ipa', 'ipl', 'irish', 'italian', 'kellerbier', 'kriek', 'kölsch', 'lager', 'lambic', 'lentebock', 'light', 'maibock', 'mars', 'mead', 'mild', 'milk', 'milkshake', 'märzen', 'new', 'oatmeal', 'old', 'other', 'oud', 'pale', 'patersbier', 'pilsner', 'porter', 'pumpkin', 'pyment', 'quadrupel', 'radler', 'red', 'roggenbier', 'russian', 'rye', 'saison', 'schwarzbier', 'scotch', 'scottish', 'session', 'shandy', 'single', 'smoked', 'sour', 'special', 'spiced', 'stout', 'strong', 'sweet', 'table', 'traditional', 'tripel', 'triple', 'vienna', 'wee', 'weisse', 'wheat', 'white', 'wild', 'wine', 'winter', 'witbier', 'yam', 'zwickelbier']\n",
      "\n",
      "\n",
      "TARGET  user_rating\n",
      "\n",
      "\n",
      "Percentage of estimators dropped = 55.81 %\n",
      "MSE = 0.23\n",
      "MAE = 0.36\n",
      "Errors within 0.25 = 47.98 %\n",
      "Errors within 0.50 = 73.63 %\n"
     ]
    }
   ],
   "source": [
    "user_df = tfidf_vectorizer(df, user_of_interest, 'beer_description', ['username', 'beer_name', 'brewery'])\n",
    "run_model(user_df, 'user_rating')"
   ]
  },
  {
   "cell_type": "markdown",
   "metadata": {},
   "source": [
    "# 3. Hybrid "
   ]
  },
  {
   "cell_type": "markdown",
   "metadata": {},
   "source": [
    "### More Data"
   ]
  },
  {
   "cell_type": "code",
   "execution_count": 17,
   "metadata": {},
   "outputs": [],
   "source": [
    "user_of_interest = 'tnt'"
   ]
  },
  {
   "cell_type": "code",
   "execution_count": null,
   "metadata": {},
   "outputs": [],
   "source": [
    "features = ['ABV', 'IBU', 'IBU', 'global_rating']\n",
    "target = 'user_rating'"
   ]
  },
  {
   "cell_type": "code",
   "execution_count": 22,
   "metadata": {},
   "outputs": [],
   "source": [
    "def hybrid(df, user_of_interest, features, target):\n",
    "    \n",
    "    print(\"FEATURES \", features)\n",
    "    print(\"TARGET \", target)\n",
    "    \n",
    "    try:\n",
    "        df.drop('nearest_neighbor_rank', axis=1, inplace=True)\n",
    "    except:\n",
    "        pass\n",
    "    df = COSINE_STEP(df, user_of_interest)\n",
    "\n",
    "    min_ppu_list = [0, 50, 100, 250, 500, 750, 1000]\n",
    "    n_users_list = [5, 10, 15, 20, 25, 30, 35, 40, 45, 50, \n",
    "                    55, 60, 65, 70, 75, 80, 85, 100, len(df['username'].unique())-1]\n",
    "\n",
    "    mae_list = []\n",
    "    quarter_abs_error_list = []\n",
    "    half_abs_error_list = []\n",
    "\n",
    "\n",
    "    for min_ppu in min_ppu_list:\n",
    "\n",
    "        user_indices = df.username.value_counts()[df.username.value_counts() > min_ppu].index\n",
    "        sub_df = df[df['username'].isin(user_indices)]\n",
    "        n_users_list = [n_users for n_users in n_users_list if n_users < len(user_indices)]\n",
    "\n",
    "        for top_n in n_users_list:\n",
    "\n",
    "            # split data \n",
    "            top_n_nn = list(sub_df['nearest_neighbor_rank'].unique())[:top_n]\n",
    "            df_top_n = df[df['nearest_neighbor_rank'].isin(top_n_nn)]\n",
    "            X_train = df_top_n[features]\n",
    "            y_train = df_top_n[target]\n",
    "            y_train = np.array(y_train).reshape(len(y_train), )\n",
    "\n",
    "            X_test = df[df['username'] == user_of_interest][features]\n",
    "            y_test = df[df['username'] == user_of_interest][target]\n",
    "            y_test = np.array(y_test).reshape(len(y_test), )\n",
    "\n",
    "            # train\n",
    "            from sklearn.linear_model import LassoCV\n",
    "            model = LassoCV(fit_intercept=True, normalize=True, cv=5, random_state=rand_state)\n",
    "            model.fit(X_train, y_train)\n",
    "\n",
    "            # Evaluate model on user's data \n",
    "            preds = model.predict(X_test)\n",
    "\n",
    "            # evaluate results\n",
    "            results_df = pd.DataFrame([preds, y_test]).transpose()\n",
    "            results_df.columns = ['predicted', 'actual']\n",
    "            results_df['error'] = results_df['predicted'] - results_df['actual']\n",
    "            results_df['abs_error'] = abs(results_df['error'])\n",
    "\n",
    "            # Performance Metrics \n",
    "            mae = np.mean(results_df['abs_error'])\n",
    "\n",
    "            quarter_abs_error_list.append(100*len(results_df[results_df['abs_error']<=0.25])/len(results_df))\n",
    "            half_abs_error_list.append(100*len(results_df[results_df['abs_error']<=0.50])/len(results_df))\n",
    "            mae_list.append(mae)\n",
    "\n",
    "        # add breaks\n",
    "        quarter_abs_error_list.append(0)\n",
    "        half_abs_error_list.append(0)\n",
    "        mae_list.append(0)\n",
    "\n",
    "\n",
    "    # plot\n",
    "    ls = mae_list\n",
    "\n",
    "    size = len(ls) \n",
    "    idx_list = [idx + 1 for idx, val in enumerate(ls) if val == 0] \n",
    "    ys = [ls[i: j] for i, j in\n",
    "            zip([0] + idx_list, idx_list + \n",
    "            ([size] if idx_list[-1] != size else []))] \n",
    "\n",
    "    for i, y in enumerate(ys):\n",
    "        y = y[:-1]\n",
    "        ys[i] = y\n",
    "\n",
    "    import matplotlib.cm as cm\n",
    "    colors = cm.rainbow(np.linspace(0, 1, len(ys)))\n",
    "\n",
    "    plt.figure(figsize=[15,10])\n",
    "    plt.title(\"ENet with Nearest Neighbors and Min_PPU\")\n",
    "    plt.xlabel(\"N Nearest Neighbors\")\n",
    "    plt.ylabel(\"MAE\")\n",
    "\n",
    "    i = 0\n",
    "    for y, c in zip(ys, colors):\n",
    "        x = np.linspace(5, 5*len(y), len(y))\n",
    "        if i == 0:\n",
    "            x = [5, 10, 15, 20, 25, 30, 35, 40, 45, 50, 55, 60, 65, 70, 75, 80, 85, 100, len(df['username'].unique())-1]\n",
    "        else:\n",
    "            x = np.linspace(5, 5*len(y), len(y))\n",
    "        plt.scatter(x, y, color=c, label=\"Min PPU = \" + str(min_ppu_list[i]))\n",
    "        i += 1\n",
    "\n",
    "    plt.legend(bbox_to_anchor=(1.05, 1), loc=2, borderaxespad=0.)\n",
    "    plt.show()\n"
   ]
  },
  {
   "cell_type": "code",
   "execution_count": 23,
   "metadata": {},
   "outputs": [
    {
     "name": "stdout",
     "output_type": "stream",
     "text": [
      "User of Reference for Cosine Sim = tnt\n"
     ]
    },
    {
     "data": {
      "image/png": "[encoded data removed]",
      "text/plain": [
       "<Figure size 1080x720 with 1 Axes>"
      ]
     },
     "metadata": {
      "needs_background": "light"
     },
     "output_type": "display_data"
    }
   ],
   "source": [
    "hybrid(df, user_of_interest)"
   ]
  }
 ],
 "metadata": {
  "kernelspec": {
   "display_name": "Python 3",
   "language": "python",
   "name": "python3"
  },
  "language_info": {
   "codemirror_mode": {
    "name": "ipython",
    "version": 3
   },
   "file_extension": ".py",
   "mimetype": "text/x-python",
   "name": "python",
   "nbconvert_exporter": "python",
   "pygments_lexer": "ipython3",
   "version": "3.7.3"
  }
 },
 "nbformat": 4,
 "nbformat_minor": 2
}
