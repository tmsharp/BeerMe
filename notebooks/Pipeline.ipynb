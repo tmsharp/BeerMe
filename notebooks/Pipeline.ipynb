{
 "cells": [
  {
   "cell_type": "markdown",
   "metadata": {},
   "source": [
    "# Pipeline"
   ]
  },
  {
   "cell_type": "markdown",
   "metadata": {},
   "source": [
    "1. Preprocessing\n",
    "2. Cosine Similarity / Nearest Neighbors\n",
    "3. Build / Test Models"
   ]
  },
  {
   "cell_type": "markdown",
   "metadata": {},
   "source": [
    "## 1. Preprocessing"
   ]
  },
  {
   "cell_type": "code",
   "execution_count": 1,
   "metadata": {},
   "outputs": [],
   "source": [
    "import pandas as pd\n",
    "import numpy as np\n",
    "import matplotlib.pyplot as plt\n",
    "import sqlite3"
   ]
  },
  {
   "cell_type": "code",
   "execution_count": 2,
   "metadata": {},
   "outputs": [],
   "source": [
    "db_path = '../data/beer.db'\n",
    "conn = sqlite3.connect(db_path)\n",
    "\n",
    "query = \"SELECT * FROM user_extract\"\n",
    "df = pd.read_sql(query, conn)"
   ]
  },
  {
   "cell_type": "code",
   "execution_count": 3,
   "metadata": {},
   "outputs": [],
   "source": [
    "# 1. remove duplicates \n",
    "df = df[~df.duplicated()]"
   ]
  },
  {
   "cell_type": "code",
   "execution_count": 4,
   "metadata": {},
   "outputs": [],
   "source": [
    "# 2. one-hot encode categorical variables\n",
    "categorical_variables = ['beer_description', 'brewery']\n",
    "for cat_var in categorical_variables:\n",
    "    dummies = pd.get_dummies(df[cat_var], drop_first=True, prefix=cat_var)\n",
    "    df = pd.merge(df, dummies, left_index=True, right_index=True)"
   ]
  },
  {
   "cell_type": "code",
   "execution_count": 5,
   "metadata": {},
   "outputs": [
    {
     "name": "stdout",
     "output_type": "stream",
     "text": [
      "FEATURE ABV\n",
      "num of outliers = 3,421\n",
      "% of outliers = 3.33%\n",
      "\n",
      "\n",
      "FEATURE global_rating\n",
      "num of outliers = 3,648\n",
      "% of outliers = 3.56%\n",
      "\n",
      "\n",
      "FEATURE user_rating\n",
      "num of outliers = 11,267\n",
      "% of outliers = 10.98%\n",
      "\n",
      "\n",
      "FEATURE IBU\n",
      "ANALYZING ALL NON-NA VALUES\n",
      "num of outliers = 557\n",
      "% of outliers = 1.00%\n",
      "\n",
      "\n"
     ]
    }
   ],
   "source": [
    "# 4. flag outliers\n",
    "features = ['ABV', 'global_rating', 'user_rating', 'IBU']\n",
    "skipnas = True\n",
    "\n",
    "for feature in features:\n",
    "    try:\n",
    "        q1 = df[feature].quantile(.25)\n",
    "        q3 = df[feature].quantile(.75)\n",
    "        iqr = q3 - q1\n",
    "        non_outlier_mask = (df[feature] >= q1 - 1.5*iqr) & (df[feature] <= q3 + 1.5*iqr)\n",
    "        outliers = df[~non_outlier_mask]\n",
    "\n",
    "        print(\"FEATURE {}\".format(feature))\n",
    "        print(\"num of outliers = {:,d}\".format(len(outliers)))\n",
    "        print(\"% of outliers = {:.2f}%\".format(100*len(outliers)/len(df)))\n",
    "        print(\"\\n\")\n",
    "    except TypeError:\n",
    "        print(\"FEATURE {}\".format(feature))\n",
    "        print(\"ANALYZING ALL NON-NA VALUES\")\n",
    "        \n",
    "        non_nas = df[~df[feature].isna()][feature].astype(float)\n",
    "        q1 = non_nas.quantile(.25)\n",
    "        q3 = non_nas.quantile(.75)\n",
    "        iqr = q3 - q1\n",
    "        non_outlier_mask = (non_nas >= q1 - 1.5*iqr) & (non_nas <= q3 + 1.5*iqr)\n",
    "        outliers = non_nas[~non_outlier_mask]\n",
    "        print(\"num of outliers = {:,d}\".format(len(outliers)))\n",
    "        print(\"% of outliers = {:.2f}%\".format(100*len(outliers)/len(non_nas)))\n",
    "        print(\"\\n\")"
   ]
  },
  {
   "cell_type": "code",
   "execution_count": 6,
   "metadata": {},
   "outputs": [
    {
     "name": "stderr",
     "output_type": "stream",
     "text": [
      "/opt/conda/lib/python3.7/site-packages/numpy/lib/function_base.py:3652: RuntimeWarning: Invalid value encountered in percentile\n",
      "  interpolation=interpolation)\n",
      "/opt/conda/lib/python3.7/site-packages/matplotlib/cbook/__init__.py:1246: RuntimeWarning: invalid value encountered in less_equal\n",
      "  wiskhi = np.compress(x <= hival, x)\n",
      "/opt/conda/lib/python3.7/site-packages/matplotlib/cbook/__init__.py:1253: RuntimeWarning: invalid value encountered in greater_equal\n",
      "  wisklo = np.compress(x >= loval, x)\n",
      "/opt/conda/lib/python3.7/site-packages/matplotlib/cbook/__init__.py:1261: RuntimeWarning: invalid value encountered in less\n",
      "  np.compress(x < stats['whislo'], x),\n",
      "/opt/conda/lib/python3.7/site-packages/matplotlib/cbook/__init__.py:1262: RuntimeWarning: invalid value encountered in greater\n",
      "  np.compress(x > stats['whishi'], x)\n"
     ]
    },
    {
     "data": {
      "image/png": "[encoded data removed]",
      "text/plain": [
       "<Figure size 432x288 with 1 Axes>"
      ]
     },
     "metadata": {
      "needs_background": "light"
     },
     "output_type": "display_data"
    },
    {
     "data": {
      "text/plain": [
       "<matplotlib.axes._subplots.AxesSubplot at 0x7f502a347fd0>"
      ]
     },
     "execution_count": 6,
     "metadata": {},
     "output_type": "execute_result"
    },
    {
     "data": {
      "image/png": "[encoded data removed]",
      "text/plain": [
       "<Figure size 432x288 with 1 Axes>"
      ]
     },
     "metadata": {
      "needs_background": "light"
     },
     "output_type": "display_data"
    }
   ],
   "source": [
    "plt.boxplot(df['user_rating'])\n",
    "plt.show()\n",
    "df['user_rating'].hist()"
   ]
  },
  {
   "cell_type": "code",
   "execution_count": 7,
   "metadata": {},
   "outputs": [],
   "source": [
    "# 4. Impute missing values \n",
    "features = ['ABV', 'global_rating', 'user_rating', 'IBU']\n",
    "impute_method = 'mean'\n",
    "\n",
    "for feature in features:\n",
    "    if impute_method == 'mean':\n",
    "        non_nas = df[~df[feature].isna()][feature].astype(float)\n",
    "        feature_mean = non_nas.mean()\n",
    "        df[feature] = df[feature].fillna(feature_mean)"
   ]
  },
  {
   "cell_type": "markdown",
   "metadata": {},
   "source": [
    "## 2. Cosine Similarity / Nearest Neighbors"
   ]
  },
  {
   "cell_type": "code",
   "execution_count": 8,
   "metadata": {},
   "outputs": [],
   "source": [
    "# 1. Create User-Item Matrix \n",
    "fill_method = 'item_mean'\n",
    "\n",
    "data = df\n",
    "values = 'user_rating'\n",
    "index = 'username'\n",
    "columns = 'beer_name'\n",
    "agg_func = 'mean'\n",
    "\n",
    "if fill_method == 'item_mean':\n",
    "    ui_matrix = pd.pivot_table(data=data, values=values, index=index, \n",
    "                               columns=columns, aggfunc=agg_func)\n",
    "    ui_matrix = ui_matrix.fillna(ui_matrix.mean(axis=0), axis=0)\n",
    "\n",
    "elif fill_method == 'user_mean':\n",
    "    ui_matrix = pd.pivot_table(data=data, values=values, index=index, \n",
    "                               columns=columns, aggfunc=agg_func)\n",
    "    ui_matrix.apply(lambda row: row.fillna(row.mean()), axis=1)\n",
    "\n",
    "elif fill_method == 0:\n",
    "    ui_matrix = pd.pivot_table(data=data, values=values, index=index, \n",
    "                               columns=columns, aggfunc=agg_func, fill_value=0)\n",
    "else:\n",
    "    raise ValueError(\"Please checkout 'fill_method' value\")\n",
    "\n",
    "ui_matrix.columns = list(ui_matrix.columns)"
   ]
  },
  {
   "cell_type": "code",
   "execution_count": 9,
   "metadata": {},
   "outputs": [],
   "source": [
    "# 2. Scale / Standardize \n",
    "scale_standardize = 'standardize'\n",
    "\n",
    "if scale_standardize == 'scale':\n",
    "    print('Data is already scaled from 0 to 5')\n",
    "elif scale_standardize == 'standardize':\n",
    "    from sklearn.preprocessing import StandardScaler\n",
    "    scaler = StandardScaler()\n",
    "    standardized_ui_matrix = pd.DataFrame(scaler.fit_transform(ui_matrix))\n",
    "    standardized_ui_matrix.index = ui_matrix.index\n",
    "    standardized_ui_matrix.columns = ui_matrix.columns\n",
    "    ui_matrix = standardized_ui_matrix\n",
    "elif scale_standardize == None:\n",
    "    print(\"Skipping scaling / standardization\")\n",
    "else:\n",
    "    raise ValueError(\"Please checkout 'scale_standardize' value\")"
   ]
  },
  {
   "cell_type": "code",
   "execution_count": 10,
   "metadata": {},
   "outputs": [
    {
     "name": "stdout",
     "output_type": "stream",
     "text": [
      "User of Reference for Cosine Sim = tsharp93\n"
     ]
    }
   ],
   "source": [
    "# Calculate Cosine Similarity \n",
    "user_of_reference = 'tsharp93'\n",
    "print(\"User of Reference for Cosine Sim = {}\".format(user_of_reference))\n",
    "\n",
    "from sklearn.metrics.pairwise import cosine_similarity\n",
    "X = ui_matrix[ui_matrix.index == user_of_reference]\n",
    "Y = ui_matrix[ui_matrix.index != user_of_reference]\n",
    "\n",
    "sim = cosine_similarity(X,Y)[0].tolist()\n",
    "names = Y.index\n",
    "\n",
    "sim_df = pd.DataFrame({'username':names, 'sim_score':sim})\n",
    "sim_df = sim_df.sort_values(by='sim_score', ascending=False)"
   ]
  },
  {
   "cell_type": "code",
   "execution_count": 11,
   "metadata": {},
   "outputs": [
    {
     "data": {
      "text/html": [
       "<div>\n",
       "<style scoped>\n",
       "    .dataframe tbody tr th:only-of-type {\n",
       "        vertical-align: middle;\n",
       "    }\n",
       "\n",
       "    .dataframe tbody tr th {\n",
       "        vertical-align: top;\n",
       "    }\n",
       "\n",
       "    .dataframe thead th {\n",
       "        text-align: right;\n",
       "    }\n",
       "</style>\n",
       "<table border=\"1\" class=\"dataframe\">\n",
       "  <thead>\n",
       "    <tr style=\"text-align: right;\">\n",
       "      <th></th>\n",
       "      <th>username</th>\n",
       "      <th>sim_score</th>\n",
       "    </tr>\n",
       "  </thead>\n",
       "  <tbody>\n",
       "    <tr>\n",
       "      <th>18</th>\n",
       "      <td>Gmlman</td>\n",
       "      <td>0.857681</td>\n",
       "    </tr>\n",
       "    <tr>\n",
       "      <th>34</th>\n",
       "      <td>Mikeylga</td>\n",
       "      <td>0.856230</td>\n",
       "    </tr>\n",
       "    <tr>\n",
       "      <th>39</th>\n",
       "      <td>MythicMan57</td>\n",
       "      <td>0.845642</td>\n",
       "    </tr>\n",
       "    <tr>\n",
       "      <th>94</th>\n",
       "      <td>junana71</td>\n",
       "      <td>0.842739</td>\n",
       "    </tr>\n",
       "    <tr>\n",
       "      <th>98</th>\n",
       "      <td>kwitnes</td>\n",
       "      <td>0.840310</td>\n",
       "    </tr>\n",
       "  </tbody>\n",
       "</table>\n",
       "</div>"
      ],
      "text/plain": [
       "       username  sim_score\n",
       "18       Gmlman   0.857681\n",
       "34     Mikeylga   0.856230\n",
       "39  MythicMan57   0.845642\n",
       "94     junana71   0.842739\n",
       "98      kwitnes   0.840310"
      ]
     },
     "execution_count": 11,
     "metadata": {},
     "output_type": "execute_result"
    }
   ],
   "source": [
    "sim_df.head()"
   ]
  },
  {
   "cell_type": "code",
   "execution_count": 12,
   "metadata": {},
   "outputs": [],
   "source": [
    "# add neighbor rank to df\n",
    "neighbor_rank = sim_df.reset_index(drop=True)\n",
    "neighbor_rank.index.name = 'nearest_neighbor_rank'\n",
    "neighbor_rank.reset_index(inplace=True)\n",
    "neighbor_rank['nearest_neighbor_rank'] = neighbor_rank['nearest_neighbor_rank'] + 1\n",
    "neighbor_rank = neighbor_rank[['nearest_neighbor_rank', 'username']]"
   ]
  },
  {
   "cell_type": "code",
   "execution_count": 13,
   "metadata": {},
   "outputs": [
    {
     "data": {
      "text/html": [
       "<div>\n",
       "<style scoped>\n",
       "    .dataframe tbody tr th:only-of-type {\n",
       "        vertical-align: middle;\n",
       "    }\n",
       "\n",
       "    .dataframe tbody tr th {\n",
       "        vertical-align: top;\n",
       "    }\n",
       "\n",
       "    .dataframe thead th {\n",
       "        text-align: right;\n",
       "    }\n",
       "</style>\n",
       "<table border=\"1\" class=\"dataframe\">\n",
       "  <thead>\n",
       "    <tr style=\"text-align: right;\">\n",
       "      <th></th>\n",
       "      <th>nearest_neighbor_rank</th>\n",
       "      <th>username</th>\n",
       "    </tr>\n",
       "  </thead>\n",
       "  <tbody>\n",
       "    <tr>\n",
       "      <th>0</th>\n",
       "      <td>1</td>\n",
       "      <td>Gmlman</td>\n",
       "    </tr>\n",
       "    <tr>\n",
       "      <th>1</th>\n",
       "      <td>2</td>\n",
       "      <td>Mikeylga</td>\n",
       "    </tr>\n",
       "    <tr>\n",
       "      <th>2</th>\n",
       "      <td>3</td>\n",
       "      <td>MythicMan57</td>\n",
       "    </tr>\n",
       "    <tr>\n",
       "      <th>3</th>\n",
       "      <td>4</td>\n",
       "      <td>junana71</td>\n",
       "    </tr>\n",
       "    <tr>\n",
       "      <th>4</th>\n",
       "      <td>5</td>\n",
       "      <td>kwitnes</td>\n",
       "    </tr>\n",
       "  </tbody>\n",
       "</table>\n",
       "</div>"
      ],
      "text/plain": [
       "   nearest_neighbor_rank     username\n",
       "0                      1       Gmlman\n",
       "1                      2     Mikeylga\n",
       "2                      3  MythicMan57\n",
       "3                      4     junana71\n",
       "4                      5      kwitnes"
      ]
     },
     "execution_count": 13,
     "metadata": {},
     "output_type": "execute_result"
    }
   ],
   "source": [
    "neighbor_rank.head()"
   ]
  },
  {
   "cell_type": "code",
   "execution_count": 14,
   "metadata": {},
   "outputs": [
    {
     "name": "stdout",
     "output_type": "stream",
     "text": [
      "(102598, 8347)\n",
      "(102558, 8348)\n"
     ]
    }
   ],
   "source": [
    "print(df.shape)\n",
    "df = pd.merge(neighbor_rank, df, on='username')\n",
    "print(df.shape)"
   ]
  },
  {
   "cell_type": "markdown",
   "metadata": {},
   "source": [
    "## 3. Build Models"
   ]
  },
  {
   "cell_type": "markdown",
   "metadata": {},
   "source": [
    "### Select Features and Target"
   ]
  },
  {
   "cell_type": "code",
   "execution_count": 15,
   "metadata": {},
   "outputs": [
    {
     "name": "stdout",
     "output_type": "stream",
     "text": [
      "REMINDER User of Reference = tsharp93\n"
     ]
    }
   ],
   "source": [
    "brewery_cols = [col for col in df if col.startswith('brewery_')]\n",
    "beer_description_cols = [col for col in df if col.startswith('beer_description_')]\n",
    "\n",
    "features = ['ABV', 'IBU', 'global_rating'] + beer_description_cols\n",
    "target = 'user_rating'\n",
    "\n",
    "print(\"REMINDER User of Reference = {}\".format(user_of_reference))"
   ]
  },
  {
   "cell_type": "markdown",
   "metadata": {},
   "source": [
    "### Set Up Estimators and Grids"
   ]
  },
  {
   "cell_type": "code",
   "execution_count": 16,
   "metadata": {},
   "outputs": [],
   "source": [
    "# import GridSearchCV and desired estimators\n",
    "from sklearn.model_selection import GridSearchCV\n",
    "from sklearn.linear_model import LinearRegression, Lasso, ElasticNet\n",
    "from sklearn.svm import LinearSVR\n",
    "\n",
    "# empty estimator dictionary\n",
    "estimator_dict = {}\n",
    "\n",
    "# create models and grids \n",
    "\n",
    "# estimator = LinearRegression()\n",
    "# grid = {}\n",
    "# estimator_dict['linearregression'] = {'estimator':estimator, 'grid':grid}\n",
    "\n",
    "estimator = ElasticNet()\n",
    "grid = {\n",
    "    'alpha': np.linspace(0.1, 1.0, 10),\n",
    "    'l1_ratio': np.linspace(0.1, 1.0, 10),\n",
    "    'fit_intercept': [True, False]\n",
    "}\n",
    "estimator_dict['elasticnet'] = {'estimator':estimator, 'grid':grid}\n",
    "\n",
    "\n",
    "estimator = LinearSVR()\n",
    "grid = {\n",
    "    'epsilon': np.linspace(0.25/2, 0.5, 10),\n",
    "    'C': np.linspace(1.0, 10, 10),\n",
    "    'fit_intercept': [True, False],\n",
    "    'max_iter': [100000]\n",
    "}\n",
    "estimator_dict['linearsvr'] = {'estimator':estimator, 'grid':grid}"
   ]
  },
  {
   "cell_type": "markdown",
   "metadata": {},
   "source": [
    "### Set Scoring Metric"
   ]
  },
  {
   "cell_type": "code",
   "execution_count": 17,
   "metadata": {},
   "outputs": [],
   "source": [
    "scoring = 'neg_mean_squared_error'"
   ]
  },
  {
   "cell_type": "markdown",
   "metadata": {},
   "source": [
    "### Train/Test - Setup"
   ]
  },
  {
   "cell_type": "code",
   "execution_count": 18,
   "metadata": {},
   "outputs": [],
   "source": [
    "def multiple_gridsearchCV(estimator_dict, X_train, y_train):\n",
    "    \n",
    "    # grid search for each estimator, store best params and scores for each estimator\n",
    "    for key in estimator_dict.keys():\n",
    "        \n",
    "        # build gridsearchcv\n",
    "        gridsearchcv = GridSearchCV(estimator = estimator_dict[key]['estimator'], \n",
    "                                    param_grid = estimator_dict[key]['grid'],\n",
    "                                    cv=3, scoring=scoring, return_train_score=True, iid=True)\n",
    "\n",
    "        # silence SVR convergence warnings \n",
    "        import warnings\n",
    "        warnings.filterwarnings('ignore', 'Liblinear failed to converge,*')\n",
    "\n",
    "        # fit gridsearchcv\n",
    "        gridsearchcv.fit(X_train, y_train)\n",
    "\n",
    "        # gather results \n",
    "        estimator_dict[key]['nearest_neighbors'] = 'ALL'\n",
    "        estimator_dict[key]['n_training_points'] = len(X_train)\n",
    "        estimator_dict[key]['best_params'] = gridsearchcv.best_params_\n",
    "        estimator_dict[key]['neg_mean_squared_error'] = gridsearchcv.best_score_\n",
    "        estimator_dict[key]['stdev'] = gridsearchcv.cv_results_['std_test_score'][gridsearchcv.best_index_]\n",
    "        \n",
    "        results_dict = estimator_dict\n",
    "\n",
    "    return(results_dict)"
   ]
  },
  {
   "cell_type": "code",
   "execution_count": 19,
   "metadata": {},
   "outputs": [],
   "source": [
    "# setup df to store all results \n",
    "all_results_df = pd.DataFrame({'nearest_neighbors':[], 'n_training_points':[], \n",
    "                              'best_params':[], 'neg_mean_squared_error':[]})"
   ]
  },
  {
   "cell_type": "markdown",
   "metadata": {},
   "source": [
    "#### A. All Data"
   ]
  },
  {
   "cell_type": "code",
   "execution_count": 20,
   "metadata": {},
   "outputs": [],
   "source": [
    "# store training data \n",
    "training_data = df"
   ]
  },
  {
   "cell_type": "code",
   "execution_count": 21,
   "metadata": {},
   "outputs": [],
   "source": [
    "# # split data\n",
    "# X_train = training_data[training_data['username'] != user_of_reference][features]\n",
    "# y_train = training_data[training_data['username'] != user_of_reference][target]\n",
    "\n",
    "# # train\n",
    "# results_dict = multiple_gridsearchCV(estimator_dict, X_train, y_train)\n",
    "\n",
    "# # append results\n",
    "# results_df = pd.DataFrame.from_dict(results_dict, orient='index')[['nearest_neighbors', 'n_training_points', \n",
    "#                                                    'best_params', 'neg_mean_squared_error']]\n",
    "# all_results_df = all_results_df.append(results_df)"
   ]
  },
  {
   "cell_type": "markdown",
   "metadata": {},
   "source": [
    "#### B. Sort by Nearest Neighbors, Take Top *N* Nearest Neighbors"
   ]
  },
  {
   "cell_type": "code",
   "execution_count": 25,
   "metadata": {},
   "outputs": [],
   "source": [
    "# specify top_n range\n",
    "top_n = 10"
   ]
  },
  {
   "cell_type": "markdown",
   "metadata": {},
   "source": [
    "Prep Data by Methodology"
   ]
  },
  {
   "cell_type": "code",
   "execution_count": 26,
   "metadata": {},
   "outputs": [],
   "source": [
    "# take top_n nearest neighbors\n",
    "df_top_n = df[df['nearest_neighbor_rank'] <= top_n]\n",
    "\n",
    "# store training data \n",
    "training_data = df_top_n"
   ]
  },
  {
   "cell_type": "markdown",
   "metadata": {},
   "source": [
    "Train / Test"
   ]
  },
  {
   "cell_type": "code",
   "execution_count": 27,
   "metadata": {},
   "outputs": [],
   "source": [
    "# split data\n",
    "X_train = training_data[training_data['username'] != user_of_reference][features]\n",
    "y_train = training_data[training_data['username'] != user_of_reference][target]\n",
    "\n",
    "# train\n",
    "results_dict = multiple_gridsearchCV(estimator_dict, X_train, y_train)\n",
    "\n",
    "# append results\n",
    "results_df = pd.DataFrame.from_dict(results_dict, orient='index')[['nearest_neighbors', 'n_training_points', \n",
    "                                                   'best_params', 'neg_mean_squared_error']]\n",
    "all_results_df = all_results_df.append(results_df)"
   ]
  },
  {
   "cell_type": "markdown",
   "metadata": {},
   "source": [
    "View Results"
   ]
  },
  {
   "cell_type": "code",
   "execution_count": 28,
   "metadata": {},
   "outputs": [
    {
     "data": {
      "text/html": [
       "<div>\n",
       "<style scoped>\n",
       "    .dataframe tbody tr th:only-of-type {\n",
       "        vertical-align: middle;\n",
       "    }\n",
       "\n",
       "    .dataframe tbody tr th {\n",
       "        vertical-align: top;\n",
       "    }\n",
       "\n",
       "    .dataframe thead th {\n",
       "        text-align: right;\n",
       "    }\n",
       "</style>\n",
       "<table border=\"1\" class=\"dataframe\">\n",
       "  <thead>\n",
       "    <tr style=\"text-align: right;\">\n",
       "      <th></th>\n",
       "      <th>nearest_neighbors</th>\n",
       "      <th>n_training_points</th>\n",
       "      <th>best_params</th>\n",
       "      <th>neg_mean_squared_error</th>\n",
       "    </tr>\n",
       "  </thead>\n",
       "  <tbody>\n",
       "    <tr>\n",
       "      <th>elasticnet</th>\n",
       "      <td>ALL</td>\n",
       "      <td>39.0</td>\n",
       "      <td>{'alpha': 0.5, 'fit_intercept': True, 'l1_rati...</td>\n",
       "      <td>-0.42129</td>\n",
       "    </tr>\n",
       "    <tr>\n",
       "      <th>linearsvr</th>\n",
       "      <td>ALL</td>\n",
       "      <td>39.0</td>\n",
       "      <td>{'C': 2.0, 'epsilon': 0.20833333333333331, 'fi...</td>\n",
       "      <td>-0.51786</td>\n",
       "    </tr>\n",
       "  </tbody>\n",
       "</table>\n",
       "</div>"
      ],
      "text/plain": [
       "           nearest_neighbors  n_training_points  \\\n",
       "elasticnet               ALL               39.0   \n",
       "linearsvr                ALL               39.0   \n",
       "\n",
       "                                                  best_params  \\\n",
       "elasticnet  {'alpha': 0.5, 'fit_intercept': True, 'l1_rati...   \n",
       "linearsvr   {'C': 2.0, 'epsilon': 0.20833333333333331, 'fi...   \n",
       "\n",
       "            neg_mean_squared_error  \n",
       "elasticnet                -0.42129  \n",
       "linearsvr                 -0.51786  "
      ]
     },
     "execution_count": 28,
     "metadata": {},
     "output_type": "execute_result"
    }
   ],
   "source": [
    "all_results_df"
   ]
  },
  {
   "cell_type": "markdown",
   "metadata": {},
   "source": [
    "#### C. Sort by Nearest Neigbors, Take Top *n_points*"
   ]
  },
  {
   "cell_type": "code",
   "execution_count": 29,
   "metadata": {},
   "outputs": [],
   "source": [
    "# specify n_points\n",
    "n_points = 10000"
   ]
  },
  {
   "cell_type": "markdown",
   "metadata": {},
   "source": [
    "Prep Data by Methodology "
   ]
  },
  {
   "cell_type": "code",
   "execution_count": 30,
   "metadata": {},
   "outputs": [],
   "source": [
    "# sort by nearest neighbors\n",
    "df_sorted = df.sort_values('nearest_neighbor_rank')\n",
    "\n",
    "# take top n_points of sorted df\n",
    "df_sorted_top_n = df_sorted.iloc[:n_points, ]\n",
    "\n",
    "# store training data \n",
    "training_data = df_sorted_top_n"
   ]
  },
  {
   "cell_type": "markdown",
   "metadata": {},
   "source": [
    "Train / Test"
   ]
  },
  {
   "cell_type": "code",
   "execution_count": null,
   "metadata": {},
   "outputs": [],
   "source": [
    "# split data\n",
    "X_train = training_data[training_data['username'] != user_of_reference][features]\n",
    "y_train = training_data[training_data['username'] != user_of_reference][target]\n",
    "\n",
    "# train\n",
    "results_dict = multiple_gridsearchCV(estimator_dict, X_train, y_train)\n",
    "\n",
    "# append results\n",
    "results_df = pd.DataFrame.from_dict(results_dict, orient='index')[['nearest_neighbors', 'n_training_points', \n",
    "                                                   'best_params', 'neg_mean_squared_error']]\n",
    "all_results_df = all_results_df.append(results_df)"
   ]
  },
  {
   "cell_type": "markdown",
   "metadata": {},
   "source": [
    "View Results"
   ]
  },
  {
   "cell_type": "code",
   "execution_count": null,
   "metadata": {},
   "outputs": [],
   "source": [
    "all_results_df"
   ]
  },
  {
   "cell_type": "code",
   "execution_count": null,
   "metadata": {},
   "outputs": [],
   "source": []
  },
  {
   "cell_type": "code",
   "execution_count": null,
   "metadata": {},
   "outputs": [],
   "source": []
  },
  {
   "cell_type": "code",
   "execution_count": null,
   "metadata": {},
   "outputs": [],
   "source": []
  },
  {
   "cell_type": "code",
   "execution_count": null,
   "metadata": {},
   "outputs": [],
   "source": []
  },
  {
   "cell_type": "code",
   "execution_count": null,
   "metadata": {},
   "outputs": [],
   "source": []
  },
  {
   "cell_type": "code",
   "execution_count": null,
   "metadata": {},
   "outputs": [],
   "source": []
  },
  {
   "cell_type": "code",
   "execution_count": null,
   "metadata": {},
   "outputs": [],
   "source": []
  },
  {
   "cell_type": "markdown",
   "metadata": {},
   "source": [
    "#### D. Subset by Users w/ >= *min_ppu*, Take Top *N* Nearest Neighbors"
   ]
  },
  {
   "cell_type": "code",
   "execution_count": 58,
   "metadata": {},
   "outputs": [],
   "source": [
    "# subset df by users with min_ppu (points per user)\n",
    "min_ppu = 500"
   ]
  },
  {
   "cell_type": "markdown",
   "metadata": {},
   "source": [
    "Prep Data by Methodology"
   ]
  },
  {
   "cell_type": "code",
   "execution_count": null,
   "metadata": {},
   "outputs": [],
   "source": [
    "v = df['nearest_neighbor_rank'].value_counts()\n",
    "df[df['nearest_neighbor_rank'].isin(v.index[v.gt(5)])]"
   ]
  },
  {
   "cell_type": "code",
   "execution_count": 65,
   "metadata": {},
   "outputs": [
    {
     "data": {
      "text/plain": [
       "username\n",
       "AFernan25           False\n",
       "AlexKress           False\n",
       "Asier05              True\n",
       "Audyoh              False\n",
       "Boat                 True\n",
       "Brazilian_Bob        True\n",
       "Captain_zhopa        True\n",
       "CapteinAwsome        True\n",
       "ClemsMan            False\n",
       "Damgero             False\n",
       "DangarMan            True\n",
       "Davidnorman         False\n",
       "Edufernandez         True\n",
       "ElinFN              False\n",
       "Fear_the_Beerd      False\n",
       "FernandoRamirez     False\n",
       "Florindobucci       False\n",
       "Fujimike            False\n",
       "Gmlman              False\n",
       "Hanzz87             False\n",
       "Hariseldon38         True\n",
       "Heidistrand         False\n",
       "IkebanaSushiBars     True\n",
       "JandMDAD             True\n",
       "Jazzparanoia        False\n",
       "JustinX03            True\n",
       "Justinswaldrip      False\n",
       "Leirah               True\n",
       "LezzieBorden        False\n",
       "Lookaszk            False\n",
       "                    ...  \n",
       "kwitnes             False\n",
       "marcosten           False\n",
       "marcusSRG            True\n",
       "mat___              False\n",
       "mattiasholm          True\n",
       "mikeyjimenez         True\n",
       "nootjam              True\n",
       "nunonu              False\n",
       "oursfarcade          True\n",
       "palanblue           False\n",
       "pellapan            False\n",
       "perkrs              False\n",
       "r4ymond             False\n",
       "rosszlevy           False\n",
       "ryanan0421          False\n",
       "rzuest              False\n",
       "sarasvegaarden      False\n",
       "stasdas             False\n",
       "tamarawolfson       False\n",
       "tammytennille       False\n",
       "thebigjohnson95      True\n",
       "thomasstorfjord     False\n",
       "timmirone           False\n",
       "tnt                  True\n",
       "toniodc              True\n",
       "trygg12              True\n",
       "v_bertolucci         True\n",
       "vvk2003              True\n",
       "xtrmstaticx          True\n",
       "yoyorune             True\n",
       "Name: nearest_neighbor_rank, Length: 128, dtype: bool"
      ]
     },
     "execution_count": 65,
     "metadata": {},
     "output_type": "execute_result"
    }
   ],
   "source": [
    "df.groupby('username').count()['nearest_neighbor_rank'] >= min_ppu"
   ]
  },
  {
   "cell_type": "code",
   "execution_count": null,
   "metadata": {},
   "outputs": [],
   "source": [
    "n_points = 10000\n",
    "\n",
    "# take top n_points of sorted df\n",
    "df_sorted_top_n = df_sorted.iloc[:n_points,]"
   ]
  },
  {
   "cell_type": "markdown",
   "metadata": {},
   "source": [
    "Train / Test"
   ]
  },
  {
   "cell_type": "code",
   "execution_count": null,
   "metadata": {},
   "outputs": [],
   "source": [
    "# split data\n",
    "X_train = training_data[training_data['username'] != user_of_reference][features]\n",
    "y_train = training_data[training_data['username'] != user_of_reference][target]\n",
    "\n",
    "# train\n",
    "results_dict = multiple_gridsearchCV(estimator_dict, X_train, y_train)\n",
    "\n",
    "# append results\n",
    "results_df = pd.DataFrame.from_dict(results_dict, orient='index')[['nearest_neighbors', 'n_training_points', \n",
    "                                                   'best_params', 'neg_mean_squared_error']]\n",
    "all_results_df = all_results_df.append(results_df)"
   ]
  },
  {
   "cell_type": "markdown",
   "metadata": {},
   "source": [
    "View Results"
   ]
  },
  {
   "cell_type": "code",
   "execution_count": null,
   "metadata": {},
   "outputs": [],
   "source": [
    "all_results_df"
   ]
  },
  {
   "cell_type": "markdown",
   "metadata": {},
   "source": [
    "#### Results"
   ]
  },
  {
   "cell_type": "code",
   "execution_count": 56,
   "metadata": {},
   "outputs": [],
   "source": [
    "all_results_df['rmse'] = np.sqrt(-all_results_df['neg_mean_squared_error'])"
   ]
  },
  {
   "cell_type": "code",
   "execution_count": 57,
   "metadata": {},
   "outputs": [
    {
     "data": {
      "text/html": [
       "<div>\n",
       "<style scoped>\n",
       "    .dataframe tbody tr th:only-of-type {\n",
       "        vertical-align: middle;\n",
       "    }\n",
       "\n",
       "    .dataframe tbody tr th {\n",
       "        vertical-align: top;\n",
       "    }\n",
       "\n",
       "    .dataframe thead th {\n",
       "        text-align: right;\n",
       "    }\n",
       "</style>\n",
       "<table border=\"1\" class=\"dataframe\">\n",
       "  <thead>\n",
       "    <tr style=\"text-align: right;\">\n",
       "      <th></th>\n",
       "      <th>nearest_neighbors</th>\n",
       "      <th>n_training_points</th>\n",
       "      <th>best_params</th>\n",
       "      <th>neg_mean_squared_error</th>\n",
       "      <th>rmse</th>\n",
       "    </tr>\n",
       "  </thead>\n",
       "  <tbody>\n",
       "    <tr>\n",
       "      <th>elasticnet</th>\n",
       "      <td>ALL</td>\n",
       "      <td>39.0</td>\n",
       "      <td>{'alpha': 0.5, 'fit_intercept': True, 'l1_rati...</td>\n",
       "      <td>-0.421290</td>\n",
       "      <td>0.649068</td>\n",
       "    </tr>\n",
       "    <tr>\n",
       "      <th>linearsvr</th>\n",
       "      <td>ALL</td>\n",
       "      <td>39.0</td>\n",
       "      <td>{'C': 2.0, 'epsilon': 0.25, 'fit_intercept': T...</td>\n",
       "      <td>-0.519576</td>\n",
       "      <td>0.720816</td>\n",
       "    </tr>\n",
       "    <tr>\n",
       "      <th>elasticnet</th>\n",
       "      <td>ALL</td>\n",
       "      <td>39.0</td>\n",
       "      <td>{'alpha': 0.5, 'fit_intercept': True, 'l1_rati...</td>\n",
       "      <td>-0.421290</td>\n",
       "      <td>0.649068</td>\n",
       "    </tr>\n",
       "    <tr>\n",
       "      <th>linearsvr</th>\n",
       "      <td>ALL</td>\n",
       "      <td>39.0</td>\n",
       "      <td>{'C': 2.0, 'epsilon': 0.25, 'fit_intercept': T...</td>\n",
       "      <td>-0.519576</td>\n",
       "      <td>0.720816</td>\n",
       "    </tr>\n",
       "  </tbody>\n",
       "</table>\n",
       "</div>"
      ],
      "text/plain": [
       "           nearest_neighbors  n_training_points  \\\n",
       "elasticnet               ALL               39.0   \n",
       "linearsvr                ALL               39.0   \n",
       "elasticnet               ALL               39.0   \n",
       "linearsvr                ALL               39.0   \n",
       "\n",
       "                                                  best_params  \\\n",
       "elasticnet  {'alpha': 0.5, 'fit_intercept': True, 'l1_rati...   \n",
       "linearsvr   {'C': 2.0, 'epsilon': 0.25, 'fit_intercept': T...   \n",
       "elasticnet  {'alpha': 0.5, 'fit_intercept': True, 'l1_rati...   \n",
       "linearsvr   {'C': 2.0, 'epsilon': 0.25, 'fit_intercept': T...   \n",
       "\n",
       "            neg_mean_squared_error      rmse  \n",
       "elasticnet               -0.421290  0.649068  \n",
       "linearsvr                -0.519576  0.720816  \n",
       "elasticnet               -0.421290  0.649068  \n",
       "linearsvr                -0.519576  0.720816  "
      ]
     },
     "execution_count": 57,
     "metadata": {},
     "output_type": "execute_result"
    }
   ],
   "source": [
    "all_results_df"
   ]
  }
 ],
 "metadata": {
  "kernelspec": {
   "display_name": "ml_guild",
   "language": "python",
   "name": "ml_guild"
  },
  "language_info": {
   "codemirror_mode": {
    "name": "ipython",
    "version": 3
   },
   "file_extension": ".py",
   "mimetype": "text/x-python",
   "name": "python",
   "nbconvert_exporter": "python",
   "pygments_lexer": "ipython3",
   "version": "3.7.3"
  }
 },
 "nbformat": 4,
 "nbformat_minor": 2
}
