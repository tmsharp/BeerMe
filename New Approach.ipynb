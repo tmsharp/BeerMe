{
 "cells": [
  {
   "cell_type": "code",
   "execution_count": 1,
   "metadata": {},
   "outputs": [],
   "source": [
    "user_of_interest = 'tnt'"
   ]
  },
  {
   "cell_type": "code",
   "execution_count": 2,
   "metadata": {},
   "outputs": [],
   "source": [
    "rand_state = 12"
   ]
  },
  {
   "cell_type": "markdown",
   "metadata": {},
   "source": [
    "# Cleaning Pipeline"
   ]
  },
  {
   "cell_type": "code",
   "execution_count": 3,
   "metadata": {},
   "outputs": [],
   "source": [
    "from BeerMe.Pipeline import *"
   ]
  },
  {
   "cell_type": "code",
   "execution_count": 4,
   "metadata": {},
   "outputs": [
    {
     "name": "stdout",
     "output_type": "stream",
     "text": [
      "\n",
      "\n",
      "1. NA Count...\n",
      "ABV                923\n",
      "global_rating        0\n",
      "user_rating       3882\n",
      "IBU              47035\n",
      "dtype: int64\n",
      "\n",
      "\n",
      "2. Finding IQR outliers...\n",
      "FEATURE ABV\n",
      "num of outliers = 3,421\n",
      "% of outliers = 3.33%\n",
      "\n",
      "\n",
      "NA Count...\n",
      "ABV              0\n",
      "global_rating    0\n",
      "user_rating      0\n",
      "IBU              0\n",
      "dtype: int64\n"
     ]
    }
   ],
   "source": [
    "df = IMPORT_CLEAN_STEP(db_path='data/beer.db')"
   ]
  },
  {
   "cell_type": "code",
   "execution_count": 5,
   "metadata": {},
   "outputs": [],
   "source": [
    "df = df[~df.duplicated()]"
   ]
  },
  {
   "cell_type": "code",
   "execution_count": 6,
   "metadata": {},
   "outputs": [],
   "source": [
    "df = df[['username', 'beer_name', 'beer_description', 'brewery', 'ABV', 'IBU', 'user_rating']]"
   ]
  },
  {
   "cell_type": "code",
   "execution_count": 7,
   "metadata": {},
   "outputs": [
    {
     "data": {
      "text/html": [
       "<div>\n",
       "<style scoped>\n",
       "    .dataframe tbody tr th:only-of-type {\n",
       "        vertical-align: middle;\n",
       "    }\n",
       "\n",
       "    .dataframe tbody tr th {\n",
       "        vertical-align: top;\n",
       "    }\n",
       "\n",
       "    .dataframe thead th {\n",
       "        text-align: right;\n",
       "    }\n",
       "</style>\n",
       "<table border=\"1\" class=\"dataframe\">\n",
       "  <thead>\n",
       "    <tr style=\"text-align: right;\">\n",
       "      <th></th>\n",
       "      <th>username</th>\n",
       "      <th>beer_name</th>\n",
       "      <th>beer_description</th>\n",
       "      <th>brewery</th>\n",
       "      <th>ABV</th>\n",
       "      <th>IBU</th>\n",
       "      <th>user_rating</th>\n",
       "    </tr>\n",
       "  </thead>\n",
       "  <tbody>\n",
       "    <tr>\n",
       "      <th>107169</th>\n",
       "      <td>tsharp93</td>\n",
       "      <td>Firestone Lager</td>\n",
       "      <td>Lager - Helles</td>\n",
       "      <td>Firestone Walker Brewing Company</td>\n",
       "      <td>4.5</td>\n",
       "      <td>17</td>\n",
       "      <td>3.50</td>\n",
       "    </tr>\n",
       "    <tr>\n",
       "      <th>107174</th>\n",
       "      <td>tsharp93</td>\n",
       "      <td>Head High</td>\n",
       "      <td>IPA - American</td>\n",
       "      <td>Kane Brewing Company</td>\n",
       "      <td>6.6</td>\n",
       "      <td>80</td>\n",
       "      <td>3.50</td>\n",
       "    </tr>\n",
       "    <tr>\n",
       "      <th>107176</th>\n",
       "      <td>tsharp93</td>\n",
       "      <td>The Drongo</td>\n",
       "      <td>Sour - Other</td>\n",
       "      <td>Clown Shoes</td>\n",
       "      <td>6.5</td>\n",
       "      <td>44.1594</td>\n",
       "      <td>4.25</td>\n",
       "    </tr>\n",
       "    <tr>\n",
       "      <th>107177</th>\n",
       "      <td>tsharp93</td>\n",
       "      <td>Forbidden Planet</td>\n",
       "      <td>IPA - Imperial / Double</td>\n",
       "      <td>Raduga</td>\n",
       "      <td>8.4</td>\n",
       "      <td>115</td>\n",
       "      <td>4.50</td>\n",
       "    </tr>\n",
       "    <tr>\n",
       "      <th>107178</th>\n",
       "      <td>tsharp93</td>\n",
       "      <td>They Both Melt</td>\n",
       "      <td>Lager - Munich Dunkel</td>\n",
       "      <td>Bluejacket</td>\n",
       "      <td>5.6</td>\n",
       "      <td>44.1594</td>\n",
       "      <td>3.25</td>\n",
       "    </tr>\n",
       "  </tbody>\n",
       "</table>\n",
       "</div>"
      ],
      "text/plain": [
       "        username         beer_name         beer_description  \\\n",
       "107169  tsharp93   Firestone Lager           Lager - Helles   \n",
       "107174  tsharp93         Head High           IPA - American   \n",
       "107176  tsharp93        The Drongo             Sour - Other   \n",
       "107177  tsharp93  Forbidden Planet  IPA - Imperial / Double   \n",
       "107178  tsharp93    They Both Melt    Lager - Munich Dunkel   \n",
       "\n",
       "                                 brewery  ABV      IBU  user_rating  \n",
       "107169  Firestone Walker Brewing Company  4.5       17         3.50  \n",
       "107174              Kane Brewing Company  6.6       80         3.50  \n",
       "107176                       Clown Shoes  6.5  44.1594         4.25  \n",
       "107177                            Raduga  8.4      115         4.50  \n",
       "107178                        Bluejacket  5.6  44.1594         3.25  "
      ]
     },
     "execution_count": 7,
     "metadata": {},
     "output_type": "execute_result"
    }
   ],
   "source": [
    "df[df.duplicated()]"
   ]
  },
  {
   "cell_type": "markdown",
   "metadata": {},
   "source": [
    "# 0. Baseline - Average "
   ]
  },
  {
   "cell_type": "code",
   "execution_count": 8,
   "metadata": {},
   "outputs": [
    {
     "name": "stdout",
     "output_type": "stream",
     "text": [
      "Global user_rating mean = 3.71\n"
     ]
    }
   ],
   "source": [
    "global_mean = np.mean(df['user_rating'])\n",
    "print(\"Global user_rating mean = {:.2f}\".format(global_mean))"
   ]
  },
  {
   "cell_type": "code",
   "execution_count": 9,
   "metadata": {},
   "outputs": [],
   "source": [
    "beer_list = list(df[df['username']=='tsharp93']['beer_name'])"
   ]
  },
  {
   "cell_type": "code",
   "execution_count": 10,
   "metadata": {},
   "outputs": [],
   "source": [
    "estimated_rating_list = []\n",
    "error_list = []\n",
    "for beer in beer_list:\n",
    "    try:\n",
    "        estimated_rating = global_mean\n",
    "        estimated_rating_list.append(estimated_rating)\n",
    "\n",
    "        user_rating = df[(df['username']=='tsharp93') & (df['beer_name']==beer)]['user_rating'].iloc[0].astype(float)\n",
    "        error_list.append(estimated_rating-user_rating)\n",
    "    except IndexError:\n",
    "        print(beer)"
   ]
  },
  {
   "cell_type": "code",
   "execution_count": 11,
   "metadata": {},
   "outputs": [
    {
     "name": "stdout",
     "output_type": "stream",
     "text": [
      "MSE = 0.23\n",
      "MAE = 0.40\n",
      "Errors within 0.25 = 35.00 %\n",
      "Errors within 0.50 = 67.50 %\n"
     ]
    }
   ],
   "source": [
    "mse = np.mean(np.array(error_list)**2)\n",
    "mae = np.absolute(error_list).mean()\n",
    "quarter_error_perc = 100 * np.sum(np.absolute(error_list) < 0.25) / len(error_list)\n",
    "half_error_perc = 100 * np.sum(np.absolute(error_list) < 0.50) / len(error_list)\n",
    "\n",
    "print(\"MSE = {:.2f}\".format(mse))\n",
    "print(\"MAE = {:.2f}\".format(mae))\n",
    "print(\"Errors within 0.25 = {:.2f} %\".format(quarter_error_perc))\n",
    "print(\"Errors within 0.50 = {:.2f} %\".format(half_error_perc))"
   ]
  },
  {
   "cell_type": "markdown",
   "metadata": {},
   "source": [
    "# 1. Cold Start"
   ]
  },
  {
   "cell_type": "markdown",
   "metadata": {},
   "source": [
    "### For use when a user does not have enough data to build a model for his/her preferences"
   ]
  },
  {
   "cell_type": "code",
   "execution_count": 12,
   "metadata": {},
   "outputs": [
    {
     "name": "stdout",
     "output_type": "stream",
     "text": [
      "User of Reference for Cosine Sim = tnt\n",
      "(102598, 7)\n",
      "(102598, 8)\n"
     ]
    }
   ],
   "source": [
    "df = COSINE_STEP(df, user_of_interest)"
   ]
  },
  {
   "cell_type": "code",
   "execution_count": 13,
   "metadata": {},
   "outputs": [],
   "source": [
    "beer_list = list(df[df['username']=='tsharp93']['beer_name'])"
   ]
  },
  {
   "cell_type": "code",
   "execution_count": 14,
   "metadata": {},
   "outputs": [],
   "source": [
    "estimated_rating_list = []\n",
    "error_list = []\n",
    "for beer in beer_list:\n",
    "    try:\n",
    "        estimated_rating = df[ (df.sort_values('nearest_neighbor_rank')['beer_name'] == beer) & (df['username']!=user_of_interest) ]['user_rating'].iloc[0]\n",
    "        estimated_rating_list.append(estimated_rating)\n",
    "\n",
    "        user_rating = df[(df['username']=='tsharp93') & (df['beer_name']==beer)]['user_rating'].iloc[0].astype(float)\n",
    "        error_list.append(estimated_rating-user_rating)\n",
    "    except IndexError:\n",
    "        print(beer)"
   ]
  },
  {
   "cell_type": "code",
   "execution_count": 15,
   "metadata": {},
   "outputs": [
    {
     "name": "stdout",
     "output_type": "stream",
     "text": [
      "MSE = 0.33\n",
      "MAE = 0.38\n",
      "Errors within 0.25 = 42.50 %\n",
      "Errors within 0.50 = 55.00 %\n"
     ]
    }
   ],
   "source": [
    "mse = np.mean(np.array(error_list)**2)\n",
    "mae = np.absolute(error_list).mean()\n",
    "quarter_error_perc = 100 * np.sum(np.absolute(error_list) < 0.25) / len(error_list)\n",
    "half_error_perc = 100 * np.sum(np.absolute(error_list) < 0.50) / len(error_list)\n",
    "\n",
    "print(\"MSE = {:.2f}\".format(mse))\n",
    "print(\"MAE = {:.2f}\".format(mae))\n",
    "print(\"Errors within 0.25 = {:.2f} %\".format(quarter_error_perc))\n",
    "print(\"Errors within 0.50 = {:.2f} %\".format(half_error_perc))"
   ]
  },
  {
   "cell_type": "markdown",
   "metadata": {},
   "source": [
    "#### Problems with this approach: \n",
    "#### (1) Need another user to have the beer I have selected. If I want to get my user_rating for a beer that no one has tried, I can't do that. \n",
    "#### (2) Not very accurate. Almost half the points are outside of 0.5 error - sometimes worse than baseline"
   ]
  },
  {
   "cell_type": "markdown",
   "metadata": {},
   "source": [
    "# 2. Content Based Filtering "
   ]
  },
  {
   "cell_type": "markdown",
   "metadata": {},
   "source": [
    "### *Assumes the user of interest has enough data to build a model "
   ]
  },
  {
   "cell_type": "markdown",
   "metadata": {},
   "source": [
    "### A. Encoding Beer Description"
   ]
  },
  {
   "cell_type": "code",
   "execution_count": 16,
   "metadata": {},
   "outputs": [
    {
     "data": {
      "text/plain": [
       "1684"
      ]
     },
     "execution_count": 16,
     "metadata": {},
     "output_type": "execute_result"
    }
   ],
   "source": [
    "user_df = df[df['username'] == user_of_interest]\n",
    "len(user_df)"
   ]
  },
  {
   "cell_type": "code",
   "execution_count": 17,
   "metadata": {},
   "outputs": [
    {
     "data": {
      "text/html": [
       "<div>\n",
       "<style scoped>\n",
       "    .dataframe tbody tr th:only-of-type {\n",
       "        vertical-align: middle;\n",
       "    }\n",
       "\n",
       "    .dataframe tbody tr th {\n",
       "        vertical-align: top;\n",
       "    }\n",
       "\n",
       "    .dataframe thead th {\n",
       "        text-align: right;\n",
       "    }\n",
       "</style>\n",
       "<table border=\"1\" class=\"dataframe\">\n",
       "  <thead>\n",
       "    <tr style=\"text-align: right;\">\n",
       "      <th></th>\n",
       "      <th>nearest_neighbor_rank</th>\n",
       "      <th>username</th>\n",
       "      <th>beer_name</th>\n",
       "      <th>beer_description</th>\n",
       "      <th>brewery</th>\n",
       "      <th>ABV</th>\n",
       "      <th>IBU</th>\n",
       "      <th>user_rating</th>\n",
       "    </tr>\n",
       "  </thead>\n",
       "  <tbody>\n",
       "    <tr>\n",
       "      <th>100914</th>\n",
       "      <td>NaN</td>\n",
       "      <td>tnt</td>\n",
       "      <td>Society &amp; Solitude #7</td>\n",
       "      <td>IPA - Imperial / Double</td>\n",
       "      <td>Hill Farmstead Brewery</td>\n",
       "      <td>8.0</td>\n",
       "      <td>44.1594</td>\n",
       "      <td>4.25</td>\n",
       "    </tr>\n",
       "    <tr>\n",
       "      <th>100915</th>\n",
       "      <td>NaN</td>\n",
       "      <td>tnt</td>\n",
       "      <td>Riwaka Single Hop Pale Ale</td>\n",
       "      <td>Pale Ale - American</td>\n",
       "      <td>Hill Farmstead Brewery</td>\n",
       "      <td>5.2</td>\n",
       "      <td>44.1594</td>\n",
       "      <td>5.00</td>\n",
       "    </tr>\n",
       "    <tr>\n",
       "      <th>100916</th>\n",
       "      <td>NaN</td>\n",
       "      <td>tnt</td>\n",
       "      <td>Walk, Don't Run</td>\n",
       "      <td>Blonde Ale</td>\n",
       "      <td>Suarez Family Brewery</td>\n",
       "      <td>3.7</td>\n",
       "      <td>44.1594</td>\n",
       "      <td>4.50</td>\n",
       "    </tr>\n",
       "    <tr>\n",
       "      <th>100917</th>\n",
       "      <td>NaN</td>\n",
       "      <td>tnt</td>\n",
       "      <td>Czech Two</td>\n",
       "      <td>Pilsner - Czech</td>\n",
       "      <td>Gravely Brewing Co</td>\n",
       "      <td>4.1</td>\n",
       "      <td>39</td>\n",
       "      <td>4.25</td>\n",
       "    </tr>\n",
       "    <tr>\n",
       "      <th>100918</th>\n",
       "      <td>NaN</td>\n",
       "      <td>tnt</td>\n",
       "      <td>Spirit of Revolt</td>\n",
       "      <td>IPA - Imperial / Double</td>\n",
       "      <td>Revolution Brewing Company</td>\n",
       "      <td>8.2</td>\n",
       "      <td>52</td>\n",
       "      <td>4.00</td>\n",
       "    </tr>\n",
       "  </tbody>\n",
       "</table>\n",
       "</div>"
      ],
      "text/plain": [
       "        nearest_neighbor_rank username                   beer_name  \\\n",
       "100914                    NaN      tnt       Society & Solitude #7   \n",
       "100915                    NaN      tnt  Riwaka Single Hop Pale Ale   \n",
       "100916                    NaN      tnt             Walk, Don't Run   \n",
       "100917                    NaN      tnt                   Czech Two   \n",
       "100918                    NaN      tnt            Spirit of Revolt   \n",
       "\n",
       "               beer_description                     brewery  ABV      IBU  \\\n",
       "100914  IPA - Imperial / Double      Hill Farmstead Brewery  8.0  44.1594   \n",
       "100915      Pale Ale - American      Hill Farmstead Brewery  5.2  44.1594   \n",
       "100916               Blonde Ale       Suarez Family Brewery  3.7  44.1594   \n",
       "100917          Pilsner - Czech          Gravely Brewing Co  4.1       39   \n",
       "100918  IPA - Imperial / Double  Revolution Brewing Company  8.2       52   \n",
       "\n",
       "        user_rating  \n",
       "100914         4.25  \n",
       "100915         5.00  \n",
       "100916         4.50  \n",
       "100917         4.25  \n",
       "100918         4.00  "
      ]
     },
     "execution_count": 17,
     "metadata": {},
     "output_type": "execute_result"
    }
   ],
   "source": [
    "user_df.head()"
   ]
  },
  {
   "cell_type": "markdown",
   "metadata": {},
   "source": [
    "#### Feature Engineering - Encode Categorical Beer Description"
   ]
  },
  {
   "cell_type": "code",
   "execution_count": 18,
   "metadata": {},
   "outputs": [],
   "source": [
    "user_df = convert_categorical(user_df, ['beer_description'])"
   ]
  },
  {
   "cell_type": "code",
   "execution_count": 19,
   "metadata": {},
   "outputs": [],
   "source": [
    "user_df.drop(['username', 'nearest_neighbor_rank', 'beer_description', 'beer_name', 'brewery'], axis=1, inplace=True)"
   ]
  },
  {
   "cell_type": "code",
   "execution_count": 20,
   "metadata": {},
   "outputs": [
    {
     "data": {
      "text/plain": [
       "(1684, 135)"
      ]
     },
     "execution_count": 20,
     "metadata": {},
     "output_type": "execute_result"
    }
   ],
   "source": [
    "user_df.shape"
   ]
  },
  {
   "cell_type": "code",
   "execution_count": 21,
   "metadata": {},
   "outputs": [
    {
     "data": {
      "text/html": [
       "<div>\n",
       "<style scoped>\n",
       "    .dataframe tbody tr th:only-of-type {\n",
       "        vertical-align: middle;\n",
       "    }\n",
       "\n",
       "    .dataframe tbody tr th {\n",
       "        vertical-align: top;\n",
       "    }\n",
       "\n",
       "    .dataframe thead th {\n",
       "        text-align: right;\n",
       "    }\n",
       "</style>\n",
       "<table border=\"1\" class=\"dataframe\">\n",
       "  <thead>\n",
       "    <tr style=\"text-align: right;\">\n",
       "      <th></th>\n",
       "      <th>ABV</th>\n",
       "      <th>IBU</th>\n",
       "      <th>user_rating</th>\n",
       "      <th>beer_description_Altbier</th>\n",
       "      <th>beer_description_American Wild Ale</th>\n",
       "      <th>beer_description_Barleywine - American</th>\n",
       "      <th>beer_description_Barleywine - English</th>\n",
       "      <th>beer_description_Belgian Blonde</th>\n",
       "      <th>beer_description_Belgian Dubbel</th>\n",
       "      <th>beer_description_Belgian Quadrupel</th>\n",
       "      <th>...</th>\n",
       "      <th>beer_description_Stout - Russian Imperial</th>\n",
       "      <th>beer_description_Strong Ale - American</th>\n",
       "      <th>beer_description_Strong Ale - English</th>\n",
       "      <th>beer_description_Table Beer</th>\n",
       "      <th>beer_description_Traditional Ale</th>\n",
       "      <th>beer_description_Wheat Beer - American Pale Wheat</th>\n",
       "      <th>beer_description_Wheat Beer - Other</th>\n",
       "      <th>beer_description_Wheat Wine</th>\n",
       "      <th>beer_description_Winter Ale</th>\n",
       "      <th>beer_description_Witbier</th>\n",
       "    </tr>\n",
       "  </thead>\n",
       "  <tbody>\n",
       "    <tr>\n",
       "      <th>100914</th>\n",
       "      <td>8.0</td>\n",
       "      <td>44.1594</td>\n",
       "      <td>4.25</td>\n",
       "      <td>0</td>\n",
       "      <td>0</td>\n",
       "      <td>0</td>\n",
       "      <td>0</td>\n",
       "      <td>0</td>\n",
       "      <td>0</td>\n",
       "      <td>0</td>\n",
       "      <td>...</td>\n",
       "      <td>0</td>\n",
       "      <td>0</td>\n",
       "      <td>0</td>\n",
       "      <td>0</td>\n",
       "      <td>0</td>\n",
       "      <td>0</td>\n",
       "      <td>0</td>\n",
       "      <td>0</td>\n",
       "      <td>0</td>\n",
       "      <td>0</td>\n",
       "    </tr>\n",
       "    <tr>\n",
       "      <th>100915</th>\n",
       "      <td>5.2</td>\n",
       "      <td>44.1594</td>\n",
       "      <td>5.00</td>\n",
       "      <td>0</td>\n",
       "      <td>0</td>\n",
       "      <td>0</td>\n",
       "      <td>0</td>\n",
       "      <td>0</td>\n",
       "      <td>0</td>\n",
       "      <td>0</td>\n",
       "      <td>...</td>\n",
       "      <td>0</td>\n",
       "      <td>0</td>\n",
       "      <td>0</td>\n",
       "      <td>0</td>\n",
       "      <td>0</td>\n",
       "      <td>0</td>\n",
       "      <td>0</td>\n",
       "      <td>0</td>\n",
       "      <td>0</td>\n",
       "      <td>0</td>\n",
       "    </tr>\n",
       "    <tr>\n",
       "      <th>100916</th>\n",
       "      <td>3.7</td>\n",
       "      <td>44.1594</td>\n",
       "      <td>4.50</td>\n",
       "      <td>0</td>\n",
       "      <td>0</td>\n",
       "      <td>0</td>\n",
       "      <td>0</td>\n",
       "      <td>0</td>\n",
       "      <td>0</td>\n",
       "      <td>0</td>\n",
       "      <td>...</td>\n",
       "      <td>0</td>\n",
       "      <td>0</td>\n",
       "      <td>0</td>\n",
       "      <td>0</td>\n",
       "      <td>0</td>\n",
       "      <td>0</td>\n",
       "      <td>0</td>\n",
       "      <td>0</td>\n",
       "      <td>0</td>\n",
       "      <td>0</td>\n",
       "    </tr>\n",
       "    <tr>\n",
       "      <th>100917</th>\n",
       "      <td>4.1</td>\n",
       "      <td>39</td>\n",
       "      <td>4.25</td>\n",
       "      <td>0</td>\n",
       "      <td>0</td>\n",
       "      <td>0</td>\n",
       "      <td>0</td>\n",
       "      <td>0</td>\n",
       "      <td>0</td>\n",
       "      <td>0</td>\n",
       "      <td>...</td>\n",
       "      <td>0</td>\n",
       "      <td>0</td>\n",
       "      <td>0</td>\n",
       "      <td>0</td>\n",
       "      <td>0</td>\n",
       "      <td>0</td>\n",
       "      <td>0</td>\n",
       "      <td>0</td>\n",
       "      <td>0</td>\n",
       "      <td>0</td>\n",
       "    </tr>\n",
       "    <tr>\n",
       "      <th>100918</th>\n",
       "      <td>8.2</td>\n",
       "      <td>52</td>\n",
       "      <td>4.00</td>\n",
       "      <td>0</td>\n",
       "      <td>0</td>\n",
       "      <td>0</td>\n",
       "      <td>0</td>\n",
       "      <td>0</td>\n",
       "      <td>0</td>\n",
       "      <td>0</td>\n",
       "      <td>...</td>\n",
       "      <td>0</td>\n",
       "      <td>0</td>\n",
       "      <td>0</td>\n",
       "      <td>0</td>\n",
       "      <td>0</td>\n",
       "      <td>0</td>\n",
       "      <td>0</td>\n",
       "      <td>0</td>\n",
       "      <td>0</td>\n",
       "      <td>0</td>\n",
       "    </tr>\n",
       "  </tbody>\n",
       "</table>\n",
       "<p>5 rows × 135 columns</p>\n",
       "</div>"
      ],
      "text/plain": [
       "        ABV      IBU  user_rating  beer_description_Altbier  \\\n",
       "100914  8.0  44.1594         4.25                         0   \n",
       "100915  5.2  44.1594         5.00                         0   \n",
       "100916  3.7  44.1594         4.50                         0   \n",
       "100917  4.1       39         4.25                         0   \n",
       "100918  8.2       52         4.00                         0   \n",
       "\n",
       "        beer_description_American Wild Ale  \\\n",
       "100914                                   0   \n",
       "100915                                   0   \n",
       "100916                                   0   \n",
       "100917                                   0   \n",
       "100918                                   0   \n",
       "\n",
       "        beer_description_Barleywine - American  \\\n",
       "100914                                       0   \n",
       "100915                                       0   \n",
       "100916                                       0   \n",
       "100917                                       0   \n",
       "100918                                       0   \n",
       "\n",
       "        beer_description_Barleywine - English  \\\n",
       "100914                                      0   \n",
       "100915                                      0   \n",
       "100916                                      0   \n",
       "100917                                      0   \n",
       "100918                                      0   \n",
       "\n",
       "        beer_description_Belgian Blonde  beer_description_Belgian Dubbel  \\\n",
       "100914                                0                                0   \n",
       "100915                                0                                0   \n",
       "100916                                0                                0   \n",
       "100917                                0                                0   \n",
       "100918                                0                                0   \n",
       "\n",
       "        beer_description_Belgian Quadrupel  ...  \\\n",
       "100914                                   0  ...   \n",
       "100915                                   0  ...   \n",
       "100916                                   0  ...   \n",
       "100917                                   0  ...   \n",
       "100918                                   0  ...   \n",
       "\n",
       "        beer_description_Stout - Russian Imperial  \\\n",
       "100914                                          0   \n",
       "100915                                          0   \n",
       "100916                                          0   \n",
       "100917                                          0   \n",
       "100918                                          0   \n",
       "\n",
       "        beer_description_Strong Ale - American  \\\n",
       "100914                                       0   \n",
       "100915                                       0   \n",
       "100916                                       0   \n",
       "100917                                       0   \n",
       "100918                                       0   \n",
       "\n",
       "        beer_description_Strong Ale - English  beer_description_Table Beer  \\\n",
       "100914                                      0                            0   \n",
       "100915                                      0                            0   \n",
       "100916                                      0                            0   \n",
       "100917                                      0                            0   \n",
       "100918                                      0                            0   \n",
       "\n",
       "        beer_description_Traditional Ale  \\\n",
       "100914                                 0   \n",
       "100915                                 0   \n",
       "100916                                 0   \n",
       "100917                                 0   \n",
       "100918                                 0   \n",
       "\n",
       "        beer_description_Wheat Beer - American Pale Wheat  \\\n",
       "100914                                                  0   \n",
       "100915                                                  0   \n",
       "100916                                                  0   \n",
       "100917                                                  0   \n",
       "100918                                                  0   \n",
       "\n",
       "        beer_description_Wheat Beer - Other  beer_description_Wheat Wine  \\\n",
       "100914                                    0                            0   \n",
       "100915                                    0                            0   \n",
       "100916                                    0                            0   \n",
       "100917                                    0                            0   \n",
       "100918                                    0                            0   \n",
       "\n",
       "        beer_description_Winter Ale  beer_description_Witbier  \n",
       "100914                            0                         0  \n",
       "100915                            0                         0  \n",
       "100916                            0                         0  \n",
       "100917                            0                         0  \n",
       "100918                            0                         0  \n",
       "\n",
       "[5 rows x 135 columns]"
      ]
     },
     "execution_count": 21,
     "metadata": {},
     "output_type": "execute_result"
    }
   ],
   "source": [
    "user_df.head()"
   ]
  },
  {
   "cell_type": "markdown",
   "metadata": {},
   "source": [
    "#### Build Model and Score"
   ]
  },
  {
   "cell_type": "code",
   "execution_count": 22,
   "metadata": {},
   "outputs": [],
   "source": [
    "features = user_df.columns[list(user_df.columns != 'user_rating')]\n",
    "target = 'user_rating'"
   ]
  },
  {
   "cell_type": "code",
   "execution_count": 23,
   "metadata": {},
   "outputs": [
    {
     "data": {
      "text/plain": [
       "Lasso(alpha=0.000452166405093667, copy_X=True, fit_intercept=True,\n",
       "   max_iter=1000, normalize=True, positive=False, precompute=False,\n",
       "   random_state=12, selection='cyclic', tol=0.0001, warm_start=False)"
      ]
     },
     "execution_count": 23,
     "metadata": {},
     "output_type": "execute_result"
    }
   ],
   "source": [
    "from sklearn.model_selection import train_test_split\n",
    "X_train, X_test, y_train, y_test = train_test_split(user_df[features], user_df[target], random_state=rand_state)\n",
    "\n",
    "from sklearn.linear_model import LassoCV\n",
    "lassocv = LassoCV(fit_intercept=True, normalize=True, cv=5, random_state=rand_state)\n",
    "lassocv.fit(X_train, y_train)\n",
    "\n",
    "from sklearn.linear_model import Lasso\n",
    "lasso = Lasso(alpha=lassocv.alpha_,fit_intercept=True, normalize=True, random_state=rand_state)\n",
    "lasso.fit(X_train, y_train)"
   ]
  },
  {
   "cell_type": "code",
   "execution_count": 24,
   "metadata": {},
   "outputs": [
    {
     "name": "stdout",
     "output_type": "stream",
     "text": [
      "Percentage of estimators dropped = 62.69 %\n",
      "Features dropped:  ['beer_description_Altbier', 'beer_description_Barleywine - American', 'beer_description_Barleywine - English', 'beer_description_Belgian Blonde', 'beer_description_Belgian Strong Golden Ale', 'beer_description_Belgian Tripel', 'beer_description_Bière de Champagne / Bière Brut', 'beer_description_Bière de Garde', 'beer_description_Bière de Mars', 'beer_description_Blonde Ale', 'beer_description_Bock - Doppelbock', 'beer_description_Bock - Hell / Maibock / Lentebock', 'beer_description_Brown Ale - Belgian', 'beer_description_Brown Ale - English', 'beer_description_Brown Ale - Imperial / Double', 'beer_description_California Common', 'beer_description_Cider - Traditional', 'beer_description_Dunkelweizen', 'beer_description_English Bitter', 'beer_description_Fruit Beer', 'beer_description_Golden Ale', 'beer_description_Grisette', 'beer_description_Gruit / Ancient Herbed Ale', 'beer_description_IPA - American', 'beer_description_IPA - Belgian', 'beer_description_IPA - Black / Cascadian Dark Ale', 'beer_description_IPA - Brut', 'beer_description_IPA - Imperial / Double', 'beer_description_IPA - International', 'beer_description_IPA - Milkshake', 'beer_description_IPA - Red', 'beer_description_IPA - Rye', 'beer_description_IPA - Triple', 'beer_description_Italian Grape Ale', 'beer_description_Kellerbier / Zwickelbier', 'beer_description_Kölsch', 'beer_description_Lager - Amber', 'beer_description_Lager - Dark', 'beer_description_Lager - Dortmunder / Export', 'beer_description_Lager - Euro Dark', 'beer_description_Lager - Euro Pale', 'beer_description_Lager - Helles', 'beer_description_Lager - IPL (India Pale Lager)', 'beer_description_Lager - Pale', 'beer_description_Lager - Vienna', 'beer_description_Lager - Winter', 'beer_description_Lambic - Framboise', 'beer_description_Lambic - Kriek', 'beer_description_Mead - Braggot', 'beer_description_Mead - Other', 'beer_description_Mead - Pyment', 'beer_description_Märzen', 'beer_description_Old Ale', 'beer_description_Pale Ale - Belgian', 'beer_description_Pale Ale - International', 'beer_description_Patersbier', 'beer_description_Pilsner - Czech', 'beer_description_Pilsner - German', 'beer_description_Pilsner - Imperial / Double', 'beer_description_Porter - American', 'beer_description_Porter - English', 'beer_description_Red Ale - Other', 'beer_description_Roggenbier', 'beer_description_Schwarzbier', 'beer_description_Scotch Ale / Wee Heavy', 'beer_description_Scottish Ale', 'beer_description_Scottish Export Ale', 'beer_description_Sour - Berliner Weisse', 'beer_description_Sour - Flanders Oud Bruin', 'beer_description_Sour - Flanders Red Ale', 'beer_description_Sour - Gose', 'beer_description_Sour - Other', 'beer_description_Stout - Coffee', 'beer_description_Stout - Imperial / Double', 'beer_description_Stout - Imperial / Double Milk', 'beer_description_Stout - Imperial / Double Oatmeal', 'beer_description_Stout - Oatmeal', 'beer_description_Stout - Other', 'beer_description_Strong Ale - American', 'beer_description_Strong Ale - English', 'beer_description_Table Beer', 'beer_description_Wheat Beer - Other', 'beer_description_Wheat Wine', 'beer_description_Winter Ale']\n",
      "Features kept:  ['ABV', 'IBU', 'beer_description_American Wild Ale', 'beer_description_Belgian Dubbel', 'beer_description_Belgian Quadrupel', 'beer_description_Belgian Strong Dark Ale', 'beer_description_Bock - Single / Traditional', 'beer_description_Brown Ale - American', 'beer_description_Cream Ale', 'beer_description_Dark Ale', 'beer_description_English Mild Ale', 'beer_description_Extra Special / Strong Bitter', 'beer_description_Farmhouse Ale - Saison', 'beer_description_Hefeweizen', 'beer_description_IPA - English', 'beer_description_IPA - Imperial / Double Black', 'beer_description_IPA - Imperial / Double New England', 'beer_description_IPA - New England', 'beer_description_IPA - Session / India Session Ale', 'beer_description_IPA - White', 'beer_description_Lager - American', 'beer_description_Lager - American Amber / Red', 'beer_description_Lager - American Light', 'beer_description_Lambic - Gueuze', 'beer_description_Lambic - Traditional', 'beer_description_Pale Ale - American', 'beer_description_Pale Ale - English', 'beer_description_Pilsner - Other', 'beer_description_Porter - Baltic', 'beer_description_Porter - Imperial / Double', 'beer_description_Porter - Other', 'beer_description_Pumpkin / Yam Beer', 'beer_description_Red Ale - American Amber / Red', 'beer_description_Red Ale - Imperial / Double', 'beer_description_Red Ale - Irish', 'beer_description_Rye Beer', 'beer_description_Rye Wine', 'beer_description_Shandy / Radler', 'beer_description_Smoked Beer', 'beer_description_Sour - Fruited', 'beer_description_Sour - Gose - Fruited', 'beer_description_Spiced / Herbed Beer', 'beer_description_Stout - American', 'beer_description_Stout - American Imperial / Double', 'beer_description_Stout - Irish Dry', 'beer_description_Stout - Milk / Sweet', 'beer_description_Stout - Russian Imperial', 'beer_description_Traditional Ale', 'beer_description_Wheat Beer - American Pale Wheat', 'beer_description_Witbier']\n"
     ]
    }
   ],
   "source": [
    "coef_dropped_perc = 100*np.sum(lasso.coef_ == 0) / len(lasso.coef_)\n",
    "print(\"Percentage of estimators dropped = {:.2f} %\".format(coef_dropped_perc))\n",
    "\n",
    "features_dropped = list(features[lasso.coef_ == 0])\n",
    "print(\"Features dropped: \", features_dropped)\n",
    "\n",
    "features_kept = list(features[lasso.coef_ != 0])\n",
    "print(\"Features kept: \", features_kept)"
   ]
  },
  {
   "cell_type": "code",
   "execution_count": 25,
   "metadata": {},
   "outputs": [
    {
     "name": "stdout",
     "output_type": "stream",
     "text": [
      "MSE = 0.24\n",
      "MAE = 0.37\n",
      "Errors within 0.25 = 44.42 %\n",
      "Errors within 0.50 = 72.92 %\n"
     ]
    }
   ],
   "source": [
    "preds = lasso.predict(X_test)\n",
    "error_list = preds - y_test\n",
    "\n",
    "mse = np.mean(np.array(error_list)**2)\n",
    "mae = np.absolute(error_list).mean()\n",
    "quarter_error_perc = 100 * np.sum(np.absolute(error_list) < 0.25) / len(error_list)\n",
    "half_error_perc = 100 * np.sum(np.absolute(error_list) < 0.50) / len(error_list)\n",
    "\n",
    "print(\"MSE = {:.2f}\".format(mse))\n",
    "print(\"MAE = {:.2f}\".format(mae))\n",
    "print(\"Errors within 0.25 = {:.2f} %\".format(quarter_error_perc))\n",
    "print(\"Errors within 0.50 = {:.2f} %\".format(half_error_perc))"
   ]
  },
  {
   "cell_type": "markdown",
   "metadata": {},
   "source": [
    "##### Improved Accuracy over both Cold Start and Baseline"
   ]
  },
  {
   "cell_type": "markdown",
   "metadata": {},
   "source": [
    "### B. NLP (Count Vectorizer)"
   ]
  },
  {
   "cell_type": "code",
   "execution_count": 26,
   "metadata": {},
   "outputs": [],
   "source": [
    "user_df = df[df['username'] == user_of_interest]"
   ]
  },
  {
   "cell_type": "code",
   "execution_count": 27,
   "metadata": {},
   "outputs": [
    {
     "data": {
      "text/html": [
       "<div>\n",
       "<style scoped>\n",
       "    .dataframe tbody tr th:only-of-type {\n",
       "        vertical-align: middle;\n",
       "    }\n",
       "\n",
       "    .dataframe tbody tr th {\n",
       "        vertical-align: top;\n",
       "    }\n",
       "\n",
       "    .dataframe thead th {\n",
       "        text-align: right;\n",
       "    }\n",
       "</style>\n",
       "<table border=\"1\" class=\"dataframe\">\n",
       "  <thead>\n",
       "    <tr style=\"text-align: right;\">\n",
       "      <th></th>\n",
       "      <th>nearest_neighbor_rank</th>\n",
       "      <th>username</th>\n",
       "      <th>beer_name</th>\n",
       "      <th>beer_description</th>\n",
       "      <th>brewery</th>\n",
       "      <th>ABV</th>\n",
       "      <th>IBU</th>\n",
       "      <th>user_rating</th>\n",
       "    </tr>\n",
       "  </thead>\n",
       "  <tbody>\n",
       "    <tr>\n",
       "      <th>100914</th>\n",
       "      <td>NaN</td>\n",
       "      <td>tnt</td>\n",
       "      <td>Society &amp; Solitude #7</td>\n",
       "      <td>IPA - Imperial / Double</td>\n",
       "      <td>Hill Farmstead Brewery</td>\n",
       "      <td>8.0</td>\n",
       "      <td>44.1594</td>\n",
       "      <td>4.25</td>\n",
       "    </tr>\n",
       "    <tr>\n",
       "      <th>100915</th>\n",
       "      <td>NaN</td>\n",
       "      <td>tnt</td>\n",
       "      <td>Riwaka Single Hop Pale Ale</td>\n",
       "      <td>Pale Ale - American</td>\n",
       "      <td>Hill Farmstead Brewery</td>\n",
       "      <td>5.2</td>\n",
       "      <td>44.1594</td>\n",
       "      <td>5.00</td>\n",
       "    </tr>\n",
       "    <tr>\n",
       "      <th>100916</th>\n",
       "      <td>NaN</td>\n",
       "      <td>tnt</td>\n",
       "      <td>Walk, Don't Run</td>\n",
       "      <td>Blonde Ale</td>\n",
       "      <td>Suarez Family Brewery</td>\n",
       "      <td>3.7</td>\n",
       "      <td>44.1594</td>\n",
       "      <td>4.50</td>\n",
       "    </tr>\n",
       "    <tr>\n",
       "      <th>100917</th>\n",
       "      <td>NaN</td>\n",
       "      <td>tnt</td>\n",
       "      <td>Czech Two</td>\n",
       "      <td>Pilsner - Czech</td>\n",
       "      <td>Gravely Brewing Co</td>\n",
       "      <td>4.1</td>\n",
       "      <td>39</td>\n",
       "      <td>4.25</td>\n",
       "    </tr>\n",
       "    <tr>\n",
       "      <th>100918</th>\n",
       "      <td>NaN</td>\n",
       "      <td>tnt</td>\n",
       "      <td>Spirit of Revolt</td>\n",
       "      <td>IPA - Imperial / Double</td>\n",
       "      <td>Revolution Brewing Company</td>\n",
       "      <td>8.2</td>\n",
       "      <td>52</td>\n",
       "      <td>4.00</td>\n",
       "    </tr>\n",
       "  </tbody>\n",
       "</table>\n",
       "</div>"
      ],
      "text/plain": [
       "        nearest_neighbor_rank username                   beer_name  \\\n",
       "100914                    NaN      tnt       Society & Solitude #7   \n",
       "100915                    NaN      tnt  Riwaka Single Hop Pale Ale   \n",
       "100916                    NaN      tnt             Walk, Don't Run   \n",
       "100917                    NaN      tnt                   Czech Two   \n",
       "100918                    NaN      tnt            Spirit of Revolt   \n",
       "\n",
       "               beer_description                     brewery  ABV      IBU  \\\n",
       "100914  IPA - Imperial / Double      Hill Farmstead Brewery  8.0  44.1594   \n",
       "100915      Pale Ale - American      Hill Farmstead Brewery  5.2  44.1594   \n",
       "100916               Blonde Ale       Suarez Family Brewery  3.7  44.1594   \n",
       "100917          Pilsner - Czech          Gravely Brewing Co  4.1       39   \n",
       "100918  IPA - Imperial / Double  Revolution Brewing Company  8.2       52   \n",
       "\n",
       "        user_rating  \n",
       "100914         4.25  \n",
       "100915         5.00  \n",
       "100916         4.50  \n",
       "100917         4.25  \n",
       "100918         4.00  "
      ]
     },
     "execution_count": 27,
     "metadata": {},
     "output_type": "execute_result"
    }
   ],
   "source": [
    "user_df.head()"
   ]
  },
  {
   "cell_type": "markdown",
   "metadata": {},
   "source": [
    "#### Feature Engineering - Count Vectorizer"
   ]
  },
  {
   "cell_type": "code",
   "execution_count": 28,
   "metadata": {},
   "outputs": [],
   "source": [
    "from sklearn.feature_extraction.text import CountVectorizer\n",
    "vect = CountVectorizer()"
   ]
  },
  {
   "cell_type": "code",
   "execution_count": 29,
   "metadata": {},
   "outputs": [],
   "source": [
    "X = vect.fit_transform(user_df['beer_description'])\n",
    "\n",
    "tfidf_df = pd.DataFrame(X.toarray(), columns=vect.get_feature_names())\n",
    "user_df = pd.concat([user_df.reset_index(drop=True), tfidf_df], axis=1)"
   ]
  },
  {
   "cell_type": "code",
   "execution_count": 30,
   "metadata": {},
   "outputs": [],
   "source": [
    "user_df.drop(['username', 'nearest_neighbor_rank', 'beer_description', 'beer_name', 'brewery'], axis=1, inplace=True)"
   ]
  },
  {
   "cell_type": "code",
   "execution_count": 31,
   "metadata": {},
   "outputs": [
    {
     "data": {
      "text/plain": [
       "(1684, 129)"
      ]
     },
     "execution_count": 31,
     "metadata": {},
     "output_type": "execute_result"
    }
   ],
   "source": [
    "user_df.shape"
   ]
  },
  {
   "cell_type": "code",
   "execution_count": 32,
   "metadata": {},
   "outputs": [
    {
     "data": {
      "text/html": [
       "<div>\n",
       "<style scoped>\n",
       "    .dataframe tbody tr th:only-of-type {\n",
       "        vertical-align: middle;\n",
       "    }\n",
       "\n",
       "    .dataframe tbody tr th {\n",
       "        vertical-align: top;\n",
       "    }\n",
       "\n",
       "    .dataframe thead th {\n",
       "        text-align: right;\n",
       "    }\n",
       "</style>\n",
       "<table border=\"1\" class=\"dataframe\">\n",
       "  <thead>\n",
       "    <tr style=\"text-align: right;\">\n",
       "      <th></th>\n",
       "      <th>ABV</th>\n",
       "      <th>IBU</th>\n",
       "      <th>user_rating</th>\n",
       "      <th>abbey</th>\n",
       "      <th>ale</th>\n",
       "      <th>altbier</th>\n",
       "      <th>amber</th>\n",
       "      <th>american</th>\n",
       "      <th>ancient</th>\n",
       "      <th>baltic</th>\n",
       "      <th>...</th>\n",
       "      <th>wee</th>\n",
       "      <th>weisse</th>\n",
       "      <th>wheat</th>\n",
       "      <th>white</th>\n",
       "      <th>wild</th>\n",
       "      <th>wine</th>\n",
       "      <th>winter</th>\n",
       "      <th>witbier</th>\n",
       "      <th>yam</th>\n",
       "      <th>zwickelbier</th>\n",
       "    </tr>\n",
       "  </thead>\n",
       "  <tbody>\n",
       "    <tr>\n",
       "      <th>0</th>\n",
       "      <td>8.0</td>\n",
       "      <td>44.1594</td>\n",
       "      <td>4.25</td>\n",
       "      <td>0</td>\n",
       "      <td>0</td>\n",
       "      <td>0</td>\n",
       "      <td>0</td>\n",
       "      <td>0</td>\n",
       "      <td>0</td>\n",
       "      <td>0</td>\n",
       "      <td>...</td>\n",
       "      <td>0</td>\n",
       "      <td>0</td>\n",
       "      <td>0</td>\n",
       "      <td>0</td>\n",
       "      <td>0</td>\n",
       "      <td>0</td>\n",
       "      <td>0</td>\n",
       "      <td>0</td>\n",
       "      <td>0</td>\n",
       "      <td>0</td>\n",
       "    </tr>\n",
       "    <tr>\n",
       "      <th>1</th>\n",
       "      <td>5.2</td>\n",
       "      <td>44.1594</td>\n",
       "      <td>5.00</td>\n",
       "      <td>0</td>\n",
       "      <td>1</td>\n",
       "      <td>0</td>\n",
       "      <td>0</td>\n",
       "      <td>1</td>\n",
       "      <td>0</td>\n",
       "      <td>0</td>\n",
       "      <td>...</td>\n",
       "      <td>0</td>\n",
       "      <td>0</td>\n",
       "      <td>0</td>\n",
       "      <td>0</td>\n",
       "      <td>0</td>\n",
       "      <td>0</td>\n",
       "      <td>0</td>\n",
       "      <td>0</td>\n",
       "      <td>0</td>\n",
       "      <td>0</td>\n",
       "    </tr>\n",
       "    <tr>\n",
       "      <th>2</th>\n",
       "      <td>3.7</td>\n",
       "      <td>44.1594</td>\n",
       "      <td>4.50</td>\n",
       "      <td>0</td>\n",
       "      <td>1</td>\n",
       "      <td>0</td>\n",
       "      <td>0</td>\n",
       "      <td>0</td>\n",
       "      <td>0</td>\n",
       "      <td>0</td>\n",
       "      <td>...</td>\n",
       "      <td>0</td>\n",
       "      <td>0</td>\n",
       "      <td>0</td>\n",
       "      <td>0</td>\n",
       "      <td>0</td>\n",
       "      <td>0</td>\n",
       "      <td>0</td>\n",
       "      <td>0</td>\n",
       "      <td>0</td>\n",
       "      <td>0</td>\n",
       "    </tr>\n",
       "    <tr>\n",
       "      <th>3</th>\n",
       "      <td>4.1</td>\n",
       "      <td>39</td>\n",
       "      <td>4.25</td>\n",
       "      <td>0</td>\n",
       "      <td>0</td>\n",
       "      <td>0</td>\n",
       "      <td>0</td>\n",
       "      <td>0</td>\n",
       "      <td>0</td>\n",
       "      <td>0</td>\n",
       "      <td>...</td>\n",
       "      <td>0</td>\n",
       "      <td>0</td>\n",
       "      <td>0</td>\n",
       "      <td>0</td>\n",
       "      <td>0</td>\n",
       "      <td>0</td>\n",
       "      <td>0</td>\n",
       "      <td>0</td>\n",
       "      <td>0</td>\n",
       "      <td>0</td>\n",
       "    </tr>\n",
       "    <tr>\n",
       "      <th>4</th>\n",
       "      <td>8.2</td>\n",
       "      <td>52</td>\n",
       "      <td>4.00</td>\n",
       "      <td>0</td>\n",
       "      <td>0</td>\n",
       "      <td>0</td>\n",
       "      <td>0</td>\n",
       "      <td>0</td>\n",
       "      <td>0</td>\n",
       "      <td>0</td>\n",
       "      <td>...</td>\n",
       "      <td>0</td>\n",
       "      <td>0</td>\n",
       "      <td>0</td>\n",
       "      <td>0</td>\n",
       "      <td>0</td>\n",
       "      <td>0</td>\n",
       "      <td>0</td>\n",
       "      <td>0</td>\n",
       "      <td>0</td>\n",
       "      <td>0</td>\n",
       "    </tr>\n",
       "  </tbody>\n",
       "</table>\n",
       "<p>5 rows × 129 columns</p>\n",
       "</div>"
      ],
      "text/plain": [
       "   ABV      IBU  user_rating  abbey  ale  altbier  amber  american  ancient  \\\n",
       "0  8.0  44.1594         4.25      0    0        0      0         0        0   \n",
       "1  5.2  44.1594         5.00      0    1        0      0         1        0   \n",
       "2  3.7  44.1594         4.50      0    1        0      0         0        0   \n",
       "3  4.1       39         4.25      0    0        0      0         0        0   \n",
       "4  8.2       52         4.00      0    0        0      0         0        0   \n",
       "\n",
       "   baltic  ...  wee  weisse  wheat  white  wild  wine  winter  witbier  yam  \\\n",
       "0       0  ...    0       0      0      0     0     0       0        0    0   \n",
       "1       0  ...    0       0      0      0     0     0       0        0    0   \n",
       "2       0  ...    0       0      0      0     0     0       0        0    0   \n",
       "3       0  ...    0       0      0      0     0     0       0        0    0   \n",
       "4       0  ...    0       0      0      0     0     0       0        0    0   \n",
       "\n",
       "   zwickelbier  \n",
       "0            0  \n",
       "1            0  \n",
       "2            0  \n",
       "3            0  \n",
       "4            0  \n",
       "\n",
       "[5 rows x 129 columns]"
      ]
     },
     "execution_count": 32,
     "metadata": {},
     "output_type": "execute_result"
    }
   ],
   "source": [
    "user_df.head()"
   ]
  },
  {
   "cell_type": "markdown",
   "metadata": {},
   "source": [
    "#### Build Model and Score"
   ]
  },
  {
   "cell_type": "code",
   "execution_count": 33,
   "metadata": {},
   "outputs": [],
   "source": [
    "features = user_df.columns[list(user_df.columns != 'user_rating')]\n",
    "target = 'user_rating'"
   ]
  },
  {
   "cell_type": "code",
   "execution_count": 34,
   "metadata": {},
   "outputs": [
    {
     "data": {
      "text/plain": [
       "Lasso(alpha=0.0002774451133807317, copy_X=True, fit_intercept=True,\n",
       "   max_iter=1000, normalize=True, positive=False, precompute=False,\n",
       "   random_state=12, selection='cyclic', tol=0.0001, warm_start=False)"
      ]
     },
     "execution_count": 34,
     "metadata": {},
     "output_type": "execute_result"
    }
   ],
   "source": [
    "from sklearn.model_selection import train_test_split\n",
    "X_train, X_test, y_train, y_test = train_test_split(user_df[features], user_df[target], random_state=rand_state)\n",
    "\n",
    "from sklearn.linear_model import LassoCV\n",
    "lassocv = LassoCV(fit_intercept=True, normalize=True, cv=5, random_state=rand_state)\n",
    "lassocv.fit(X_train, y_train)\n",
    "\n",
    "from sklearn.linear_model import Lasso\n",
    "lasso = Lasso(alpha=lassocv.alpha_,fit_intercept=True, normalize=True, random_state=rand_state)\n",
    "lasso.fit(X_train, y_train)"
   ]
  },
  {
   "cell_type": "code",
   "execution_count": 35,
   "metadata": {},
   "outputs": [
    {
     "name": "stdout",
     "output_type": "stream",
     "text": [
      "Percentage of estimators dropped = 53.91 %\n",
      "Features dropped:  ['abbey', 'ale', 'altbier', 'amber', 'american', 'ancient', 'belgian', 'berliner', 'bière', 'blonde', 'bock', 'braggot', 'bruin', 'brut', 'california', 'cascadian', 'champagne', 'common', 'czech', 'de', 'doppelbock', 'dortmunder', 'double', 'dunkelweizen', 'euro', 'export', 'flanders', 'framboise', 'garde', 'german', 'golden', 'gose', 'grape', 'gruit', 'heavy', 'hell', 'herbed', 'international', 'ipa', 'italian', 'kellerbier', 'kriek', 'kölsch', 'lambic', 'lentebock', 'maibock', 'mars', 'milk', 'oatmeal', 'old', 'oud', 'patersbier', 'pilsner', 'porter', 'pumpkin', 'pyment', 'roggenbier', 'schwarzbier', 'scotch', 'session', 'strong', 'triple', 'vienna', 'wee', 'weisse', 'wheat', 'winter', 'yam', 'zwickelbier']\n",
      "Features kept:  ['ABV', 'IBU', 'baltic', 'barleywine', 'beer', 'bitter', 'black', 'brown', 'cider', 'coffee', 'cream', 'dark', 'dry', 'dubbel', 'england', 'english', 'extra', 'farmhouse', 'fruit', 'fruited', 'grisette', 'gueuze', 'hefeweizen', 'helles', 'imperial', 'india', 'ipl', 'irish', 'lager', 'light', 'mead', 'mild', 'milkshake', 'märzen', 'new', 'other', 'pale', 'quadrupel', 'radler', 'red', 'russian', 'rye', 'saison', 'scottish', 'shandy', 'single', 'smoked', 'sour', 'special', 'spiced', 'stout', 'sweet', 'table', 'traditional', 'tripel', 'white', 'wild', 'wine', 'witbier']\n"
     ]
    }
   ],
   "source": [
    "coef_dropped_perc = 100*np.sum(lasso.coef_ == 0) / len(lasso.coef_)\n",
    "print(\"Percentage of estimators dropped = {:.2f} %\".format(coef_dropped_perc))\n",
    "\n",
    "features_dropped = list(features[lasso.coef_ == 0])\n",
    "print(\"Features dropped: \", features_dropped)\n",
    "\n",
    "features_kept = list(features[lasso.coef_ != 0])\n",
    "print(\"Features kept: \", features_kept)"
   ]
  },
  {
   "cell_type": "code",
   "execution_count": 36,
   "metadata": {},
   "outputs": [
    {
     "name": "stdout",
     "output_type": "stream",
     "text": [
      "MSE = 0.24\n",
      "MAE = 0.37\n",
      "Errors within 0.25 = 47.03 %\n",
      "Errors within 0.50 = 72.21 %\n"
     ]
    }
   ],
   "source": [
    "preds = lasso.predict(X_test)\n",
    "error_list = preds - y_test\n",
    "\n",
    "mse = np.mean(np.array(error_list)**2)\n",
    "mae = np.absolute(error_list).mean()\n",
    "quarter_error_perc = 100 * np.sum(np.absolute(error_list) < 0.25) / len(error_list)\n",
    "half_error_perc = 100 * np.sum(np.absolute(error_list) < 0.50) / len(error_list)\n",
    "\n",
    "print(\"MSE = {:.2f}\".format(mse))\n",
    "print(\"MAE = {:.2f}\".format(mae))\n",
    "print(\"Errors within 0.25 = {:.2f} %\".format(quarter_error_perc))\n",
    "print(\"Errors within 0.50 = {:.2f} %\".format(half_error_perc))"
   ]
  },
  {
   "cell_type": "markdown",
   "metadata": {},
   "source": [
    "### C. NLP (TFIDF)"
   ]
  },
  {
   "cell_type": "code",
   "execution_count": 37,
   "metadata": {},
   "outputs": [],
   "source": [
    "user_df = df[df['username'] == user_of_interest]"
   ]
  },
  {
   "cell_type": "code",
   "execution_count": 38,
   "metadata": {},
   "outputs": [
    {
     "data": {
      "text/html": [
       "<div>\n",
       "<style scoped>\n",
       "    .dataframe tbody tr th:only-of-type {\n",
       "        vertical-align: middle;\n",
       "    }\n",
       "\n",
       "    .dataframe tbody tr th {\n",
       "        vertical-align: top;\n",
       "    }\n",
       "\n",
       "    .dataframe thead th {\n",
       "        text-align: right;\n",
       "    }\n",
       "</style>\n",
       "<table border=\"1\" class=\"dataframe\">\n",
       "  <thead>\n",
       "    <tr style=\"text-align: right;\">\n",
       "      <th></th>\n",
       "      <th>nearest_neighbor_rank</th>\n",
       "      <th>username</th>\n",
       "      <th>beer_name</th>\n",
       "      <th>beer_description</th>\n",
       "      <th>brewery</th>\n",
       "      <th>ABV</th>\n",
       "      <th>IBU</th>\n",
       "      <th>user_rating</th>\n",
       "    </tr>\n",
       "  </thead>\n",
       "  <tbody>\n",
       "    <tr>\n",
       "      <th>100914</th>\n",
       "      <td>NaN</td>\n",
       "      <td>tnt</td>\n",
       "      <td>Society &amp; Solitude #7</td>\n",
       "      <td>IPA - Imperial / Double</td>\n",
       "      <td>Hill Farmstead Brewery</td>\n",
       "      <td>8.0</td>\n",
       "      <td>44.1594</td>\n",
       "      <td>4.25</td>\n",
       "    </tr>\n",
       "    <tr>\n",
       "      <th>100915</th>\n",
       "      <td>NaN</td>\n",
       "      <td>tnt</td>\n",
       "      <td>Riwaka Single Hop Pale Ale</td>\n",
       "      <td>Pale Ale - American</td>\n",
       "      <td>Hill Farmstead Brewery</td>\n",
       "      <td>5.2</td>\n",
       "      <td>44.1594</td>\n",
       "      <td>5.00</td>\n",
       "    </tr>\n",
       "    <tr>\n",
       "      <th>100916</th>\n",
       "      <td>NaN</td>\n",
       "      <td>tnt</td>\n",
       "      <td>Walk, Don't Run</td>\n",
       "      <td>Blonde Ale</td>\n",
       "      <td>Suarez Family Brewery</td>\n",
       "      <td>3.7</td>\n",
       "      <td>44.1594</td>\n",
       "      <td>4.50</td>\n",
       "    </tr>\n",
       "    <tr>\n",
       "      <th>100917</th>\n",
       "      <td>NaN</td>\n",
       "      <td>tnt</td>\n",
       "      <td>Czech Two</td>\n",
       "      <td>Pilsner - Czech</td>\n",
       "      <td>Gravely Brewing Co</td>\n",
       "      <td>4.1</td>\n",
       "      <td>39</td>\n",
       "      <td>4.25</td>\n",
       "    </tr>\n",
       "    <tr>\n",
       "      <th>100918</th>\n",
       "      <td>NaN</td>\n",
       "      <td>tnt</td>\n",
       "      <td>Spirit of Revolt</td>\n",
       "      <td>IPA - Imperial / Double</td>\n",
       "      <td>Revolution Brewing Company</td>\n",
       "      <td>8.2</td>\n",
       "      <td>52</td>\n",
       "      <td>4.00</td>\n",
       "    </tr>\n",
       "  </tbody>\n",
       "</table>\n",
       "</div>"
      ],
      "text/plain": [
       "        nearest_neighbor_rank username                   beer_name  \\\n",
       "100914                    NaN      tnt       Society & Solitude #7   \n",
       "100915                    NaN      tnt  Riwaka Single Hop Pale Ale   \n",
       "100916                    NaN      tnt             Walk, Don't Run   \n",
       "100917                    NaN      tnt                   Czech Two   \n",
       "100918                    NaN      tnt            Spirit of Revolt   \n",
       "\n",
       "               beer_description                     brewery  ABV      IBU  \\\n",
       "100914  IPA - Imperial / Double      Hill Farmstead Brewery  8.0  44.1594   \n",
       "100915      Pale Ale - American      Hill Farmstead Brewery  5.2  44.1594   \n",
       "100916               Blonde Ale       Suarez Family Brewery  3.7  44.1594   \n",
       "100917          Pilsner - Czech          Gravely Brewing Co  4.1       39   \n",
       "100918  IPA - Imperial / Double  Revolution Brewing Company  8.2       52   \n",
       "\n",
       "        user_rating  \n",
       "100914         4.25  \n",
       "100915         5.00  \n",
       "100916         4.50  \n",
       "100917         4.25  \n",
       "100918         4.00  "
      ]
     },
     "execution_count": 38,
     "metadata": {},
     "output_type": "execute_result"
    }
   ],
   "source": [
    "user_df.head()"
   ]
  },
  {
   "cell_type": "markdown",
   "metadata": {},
   "source": [
    "#### Feature Engineering - Count Vectorizer"
   ]
  },
  {
   "cell_type": "code",
   "execution_count": 39,
   "metadata": {},
   "outputs": [],
   "source": [
    "from sklearn.feature_extraction.text import TfidfVectorizer\n",
    "vect = TfidfVectorizer()"
   ]
  },
  {
   "cell_type": "code",
   "execution_count": 40,
   "metadata": {},
   "outputs": [],
   "source": [
    "X = vect.fit_transform(user_df['beer_description'])\n",
    "\n",
    "tfidf_df = pd.DataFrame(X.toarray(), columns=vect.get_feature_names())\n",
    "user_df = pd.concat([user_df.reset_index(drop=True), tfidf_df], axis=1)"
   ]
  },
  {
   "cell_type": "code",
   "execution_count": 41,
   "metadata": {},
   "outputs": [],
   "source": [
    "user_df.drop(['username', 'nearest_neighbor_rank', 'beer_description', 'beer_name', 'brewery'], axis=1, inplace=True)"
   ]
  },
  {
   "cell_type": "code",
   "execution_count": 42,
   "metadata": {},
   "outputs": [
    {
     "data": {
      "text/plain": [
       "(1684, 129)"
      ]
     },
     "execution_count": 42,
     "metadata": {},
     "output_type": "execute_result"
    }
   ],
   "source": [
    "user_df.shape"
   ]
  },
  {
   "cell_type": "code",
   "execution_count": 43,
   "metadata": {},
   "outputs": [
    {
     "data": {
      "text/html": [
       "<div>\n",
       "<style scoped>\n",
       "    .dataframe tbody tr th:only-of-type {\n",
       "        vertical-align: middle;\n",
       "    }\n",
       "\n",
       "    .dataframe tbody tr th {\n",
       "        vertical-align: top;\n",
       "    }\n",
       "\n",
       "    .dataframe thead th {\n",
       "        text-align: right;\n",
       "    }\n",
       "</style>\n",
       "<table border=\"1\" class=\"dataframe\">\n",
       "  <thead>\n",
       "    <tr style=\"text-align: right;\">\n",
       "      <th></th>\n",
       "      <th>ABV</th>\n",
       "      <th>IBU</th>\n",
       "      <th>user_rating</th>\n",
       "      <th>abbey</th>\n",
       "      <th>ale</th>\n",
       "      <th>altbier</th>\n",
       "      <th>amber</th>\n",
       "      <th>american</th>\n",
       "      <th>ancient</th>\n",
       "      <th>baltic</th>\n",
       "      <th>...</th>\n",
       "      <th>wee</th>\n",
       "      <th>weisse</th>\n",
       "      <th>wheat</th>\n",
       "      <th>white</th>\n",
       "      <th>wild</th>\n",
       "      <th>wine</th>\n",
       "      <th>winter</th>\n",
       "      <th>witbier</th>\n",
       "      <th>yam</th>\n",
       "      <th>zwickelbier</th>\n",
       "    </tr>\n",
       "  </thead>\n",
       "  <tbody>\n",
       "    <tr>\n",
       "      <th>0</th>\n",
       "      <td>8.0</td>\n",
       "      <td>44.1594</td>\n",
       "      <td>4.25</td>\n",
       "      <td>0.0</td>\n",
       "      <td>0.000000</td>\n",
       "      <td>0.0</td>\n",
       "      <td>0.0</td>\n",
       "      <td>0.000000</td>\n",
       "      <td>0.0</td>\n",
       "      <td>0.0</td>\n",
       "      <td>...</td>\n",
       "      <td>0.0</td>\n",
       "      <td>0.0</td>\n",
       "      <td>0.0</td>\n",
       "      <td>0.0</td>\n",
       "      <td>0.0</td>\n",
       "      <td>0.0</td>\n",
       "      <td>0.0</td>\n",
       "      <td>0.0</td>\n",
       "      <td>0.0</td>\n",
       "      <td>0.0</td>\n",
       "    </tr>\n",
       "    <tr>\n",
       "      <th>1</th>\n",
       "      <td>5.2</td>\n",
       "      <td>44.1594</td>\n",
       "      <td>5.00</td>\n",
       "      <td>0.0</td>\n",
       "      <td>0.490558</td>\n",
       "      <td>0.0</td>\n",
       "      <td>0.0</td>\n",
       "      <td>0.472183</td>\n",
       "      <td>0.0</td>\n",
       "      <td>0.0</td>\n",
       "      <td>...</td>\n",
       "      <td>0.0</td>\n",
       "      <td>0.0</td>\n",
       "      <td>0.0</td>\n",
       "      <td>0.0</td>\n",
       "      <td>0.0</td>\n",
       "      <td>0.0</td>\n",
       "      <td>0.0</td>\n",
       "      <td>0.0</td>\n",
       "      <td>0.0</td>\n",
       "      <td>0.0</td>\n",
       "    </tr>\n",
       "    <tr>\n",
       "      <th>2</th>\n",
       "      <td>3.7</td>\n",
       "      <td>44.1594</td>\n",
       "      <td>4.50</td>\n",
       "      <td>0.0</td>\n",
       "      <td>0.346861</td>\n",
       "      <td>0.0</td>\n",
       "      <td>0.0</td>\n",
       "      <td>0.000000</td>\n",
       "      <td>0.0</td>\n",
       "      <td>0.0</td>\n",
       "      <td>...</td>\n",
       "      <td>0.0</td>\n",
       "      <td>0.0</td>\n",
       "      <td>0.0</td>\n",
       "      <td>0.0</td>\n",
       "      <td>0.0</td>\n",
       "      <td>0.0</td>\n",
       "      <td>0.0</td>\n",
       "      <td>0.0</td>\n",
       "      <td>0.0</td>\n",
       "      <td>0.0</td>\n",
       "    </tr>\n",
       "    <tr>\n",
       "      <th>3</th>\n",
       "      <td>4.1</td>\n",
       "      <td>39</td>\n",
       "      <td>4.25</td>\n",
       "      <td>0.0</td>\n",
       "      <td>0.000000</td>\n",
       "      <td>0.0</td>\n",
       "      <td>0.0</td>\n",
       "      <td>0.000000</td>\n",
       "      <td>0.0</td>\n",
       "      <td>0.0</td>\n",
       "      <td>...</td>\n",
       "      <td>0.0</td>\n",
       "      <td>0.0</td>\n",
       "      <td>0.0</td>\n",
       "      <td>0.0</td>\n",
       "      <td>0.0</td>\n",
       "      <td>0.0</td>\n",
       "      <td>0.0</td>\n",
       "      <td>0.0</td>\n",
       "      <td>0.0</td>\n",
       "      <td>0.0</td>\n",
       "    </tr>\n",
       "    <tr>\n",
       "      <th>4</th>\n",
       "      <td>8.2</td>\n",
       "      <td>52</td>\n",
       "      <td>4.00</td>\n",
       "      <td>0.0</td>\n",
       "      <td>0.000000</td>\n",
       "      <td>0.0</td>\n",
       "      <td>0.0</td>\n",
       "      <td>0.000000</td>\n",
       "      <td>0.0</td>\n",
       "      <td>0.0</td>\n",
       "      <td>...</td>\n",
       "      <td>0.0</td>\n",
       "      <td>0.0</td>\n",
       "      <td>0.0</td>\n",
       "      <td>0.0</td>\n",
       "      <td>0.0</td>\n",
       "      <td>0.0</td>\n",
       "      <td>0.0</td>\n",
       "      <td>0.0</td>\n",
       "      <td>0.0</td>\n",
       "      <td>0.0</td>\n",
       "    </tr>\n",
       "  </tbody>\n",
       "</table>\n",
       "<p>5 rows × 129 columns</p>\n",
       "</div>"
      ],
      "text/plain": [
       "   ABV      IBU  user_rating  abbey       ale  altbier  amber  american  \\\n",
       "0  8.0  44.1594         4.25    0.0  0.000000      0.0    0.0  0.000000   \n",
       "1  5.2  44.1594         5.00    0.0  0.490558      0.0    0.0  0.472183   \n",
       "2  3.7  44.1594         4.50    0.0  0.346861      0.0    0.0  0.000000   \n",
       "3  4.1       39         4.25    0.0  0.000000      0.0    0.0  0.000000   \n",
       "4  8.2       52         4.00    0.0  0.000000      0.0    0.0  0.000000   \n",
       "\n",
       "   ancient  baltic  ...  wee  weisse  wheat  white  wild  wine  winter  \\\n",
       "0      0.0     0.0  ...  0.0     0.0    0.0    0.0   0.0   0.0     0.0   \n",
       "1      0.0     0.0  ...  0.0     0.0    0.0    0.0   0.0   0.0     0.0   \n",
       "2      0.0     0.0  ...  0.0     0.0    0.0    0.0   0.0   0.0     0.0   \n",
       "3      0.0     0.0  ...  0.0     0.0    0.0    0.0   0.0   0.0     0.0   \n",
       "4      0.0     0.0  ...  0.0     0.0    0.0    0.0   0.0   0.0     0.0   \n",
       "\n",
       "   witbier  yam  zwickelbier  \n",
       "0      0.0  0.0          0.0  \n",
       "1      0.0  0.0          0.0  \n",
       "2      0.0  0.0          0.0  \n",
       "3      0.0  0.0          0.0  \n",
       "4      0.0  0.0          0.0  \n",
       "\n",
       "[5 rows x 129 columns]"
      ]
     },
     "execution_count": 43,
     "metadata": {},
     "output_type": "execute_result"
    }
   ],
   "source": [
    "user_df.head()"
   ]
  },
  {
   "cell_type": "markdown",
   "metadata": {},
   "source": [
    "#### Build Model and Score"
   ]
  },
  {
   "cell_type": "code",
   "execution_count": 44,
   "metadata": {},
   "outputs": [],
   "source": [
    "features = user_df.columns[list(user_df.columns != 'user_rating')]\n",
    "target = 'user_rating'"
   ]
  },
  {
   "cell_type": "code",
   "execution_count": 45,
   "metadata": {},
   "outputs": [
    {
     "data": {
      "text/plain": [
       "Lasso(alpha=0.0002774451133807317, copy_X=True, fit_intercept=True,\n",
       "   max_iter=1000, normalize=True, positive=False, precompute=False,\n",
       "   random_state=12, selection='cyclic', tol=0.0001, warm_start=False)"
      ]
     },
     "execution_count": 45,
     "metadata": {},
     "output_type": "execute_result"
    }
   ],
   "source": [
    "from sklearn.model_selection import train_test_split\n",
    "X_train, X_test, y_train, y_test = train_test_split(user_df[features], user_df[target], random_state=rand_state)\n",
    "\n",
    "from sklearn.linear_model import LassoCV\n",
    "lassocv = LassoCV(fit_intercept=True, normalize=True, cv=5, random_state=rand_state)\n",
    "lassocv.fit(X_train, y_train)\n",
    "\n",
    "from sklearn.linear_model import Lasso\n",
    "lasso = Lasso(alpha=lassocv.alpha_,fit_intercept=True, normalize=True, random_state=rand_state)\n",
    "lasso.fit(X_train, y_train)"
   ]
  },
  {
   "cell_type": "code",
   "execution_count": 46,
   "metadata": {},
   "outputs": [
    {
     "name": "stdout",
     "output_type": "stream",
     "text": [
      "Percentage of estimators dropped = 56.25 %\n",
      "Features dropped:  ['abbey', 'ale', 'altbier', 'amber', 'american', 'ancient', 'belgian', 'berliner', 'bière', 'blonde', 'bock', 'braggot', 'bruin', 'brut', 'california', 'cascadian', 'champagne', 'cider', 'common', 'czech', 'de', 'doppelbock', 'dortmunder', 'double', 'dunkelweizen', 'euro', 'export', 'flanders', 'framboise', 'garde', 'german', 'golden', 'gose', 'grape', 'gruit', 'heavy', 'hell', 'herbed', 'international', 'ipa', 'ipl', 'italian', 'kellerbier', 'kriek', 'kölsch', 'lambic', 'lentebock', 'maibock', 'mars', 'milk', 'oatmeal', 'old', 'oud', 'patersbier', 'pilsner', 'porter', 'pumpkin', 'pyment', 'roggenbier', 'rye', 'schwarzbier', 'scotch', 'session', 'strong', 'triple', 'vienna', 'wee', 'weisse', 'wheat', 'winter', 'yam', 'zwickelbier']\n",
      "Features kept:  ['ABV', 'IBU', 'baltic', 'barleywine', 'beer', 'bitter', 'black', 'brown', 'coffee', 'cream', 'dark', 'dry', 'dubbel', 'england', 'english', 'extra', 'farmhouse', 'fruit', 'fruited', 'grisette', 'gueuze', 'hefeweizen', 'helles', 'imperial', 'india', 'irish', 'lager', 'light', 'mead', 'mild', 'milkshake', 'märzen', 'new', 'other', 'pale', 'quadrupel', 'radler', 'red', 'russian', 'saison', 'scottish', 'shandy', 'single', 'smoked', 'sour', 'special', 'spiced', 'stout', 'sweet', 'table', 'traditional', 'tripel', 'white', 'wild', 'wine', 'witbier']\n"
     ]
    }
   ],
   "source": [
    "coef_dropped_perc = 100*np.sum(lasso.coef_ == 0) / len(lasso.coef_)\n",
    "print(\"Percentage of estimators dropped = {:.2f} %\".format(coef_dropped_perc))\n",
    "\n",
    "features_dropped = list(features[lasso.coef_ == 0])\n",
    "print(\"Features dropped: \", features_dropped)\n",
    "\n",
    "features_kept = list(features[lasso.coef_ != 0])\n",
    "print(\"Features kept: \", features_kept)"
   ]
  },
  {
   "cell_type": "code",
   "execution_count": 47,
   "metadata": {},
   "outputs": [
    {
     "name": "stdout",
     "output_type": "stream",
     "text": [
      "MSE = 0.24\n",
      "MAE = 0.37\n",
      "Errors within 0.25 = 46.79 %\n",
      "Errors within 0.50 = 72.21 %\n"
     ]
    }
   ],
   "source": [
    "preds = lasso.predict(X_test)\n",
    "error_list = preds - y_test\n",
    "\n",
    "mse = np.mean(np.array(error_list)**2)\n",
    "mae = np.absolute(error_list).mean()\n",
    "quarter_error_perc = 100 * np.sum(np.absolute(error_list) < 0.25) / len(error_list)\n",
    "half_error_perc = 100 * np.sum(np.absolute(error_list) < 0.50) / len(error_list)\n",
    "\n",
    "print(\"MSE = {:.2f}\".format(mse))\n",
    "print(\"MAE = {:.2f}\".format(mae))\n",
    "print(\"Errors within 0.25 = {:.2f} %\".format(quarter_error_perc))\n",
    "print(\"Errors within 0.50 = {:.2f} %\".format(half_error_perc))"
   ]
  },
  {
   "cell_type": "code",
   "execution_count": 48,
   "metadata": {},
   "outputs": [
    {
     "data": {
      "text/plain": [
       "0.369173870352508"
      ]
     },
     "execution_count": 48,
     "metadata": {},
     "output_type": "execute_result"
    }
   ],
   "source": [
    "from sklearn.metrics import mean_absolute_error\n",
    "mean_absolute_error(y_test, preds)"
   ]
  },
  {
   "cell_type": "markdown",
   "metadata": {},
   "source": [
    "# Hybrid "
   ]
  },
  {
   "cell_type": "code",
   "execution_count": null,
   "metadata": {},
   "outputs": [],
   "source": []
  },
  {
   "cell_type": "code",
   "execution_count": null,
   "metadata": {},
   "outputs": [],
   "source": []
  }
 ],
 "metadata": {
  "kernelspec": {
   "display_name": "Python 3",
   "language": "python",
   "name": "python3"
  },
  "language_info": {
   "codemirror_mode": {
    "name": "ipython",
    "version": 3
   },
   "file_extension": ".py",
   "mimetype": "text/x-python",
   "name": "python",
   "nbconvert_exporter": "python",
   "pygments_lexer": "ipython3",
   "version": "3.7.3"
  }
 },
 "nbformat": 4,
 "nbformat_minor": 2
}
