{
 "cells": [
  {
   "cell_type": "code",
   "execution_count": 1,
   "metadata": {},
   "outputs": [],
   "source": [
    "import pandas as pd\n",
    "import numpy as np\n",
    "import matplotlib.pyplot as plt"
   ]
  },
  {
   "cell_type": "markdown",
   "metadata": {},
   "source": [
    "## Import"
   ]
  },
  {
   "cell_type": "code",
   "execution_count": 2,
   "metadata": {},
   "outputs": [
    {
     "data": {
      "text/html": [
       "<div>\n",
       "<style scoped>\n",
       "    .dataframe tbody tr th:only-of-type {\n",
       "        vertical-align: middle;\n",
       "    }\n",
       "\n",
       "    .dataframe tbody tr th {\n",
       "        vertical-align: top;\n",
       "    }\n",
       "\n",
       "    .dataframe thead th {\n",
       "        text-align: right;\n",
       "    }\n",
       "</style>\n",
       "<table border=\"1\" class=\"dataframe\">\n",
       "  <thead>\n",
       "    <tr style=\"text-align: right;\">\n",
       "      <th></th>\n",
       "      <th>ABV</th>\n",
       "      <th>IBU</th>\n",
       "      <th>global_rating</th>\n",
       "      <th>total</th>\n",
       "      <th>IPA - American</th>\n",
       "      <th>IPA - Imperial / Double</th>\n",
       "      <th>IPA - New England</th>\n",
       "      <th>IPA - Session / India Session Ale</th>\n",
       "      <th>Pale Ale - American</th>\n",
       "      <th>30 Mile Brewing Co.</th>\n",
       "      <th>...</th>\n",
       "      <th>SweetWater Brewing Company</th>\n",
       "      <th>Thimble Island Brewing Company</th>\n",
       "      <th>Thomas Hooker Brewing Co.</th>\n",
       "      <th>Top Shelf Brewing Company</th>\n",
       "      <th>Tree House Brewing Company</th>\n",
       "      <th>Trillium Brewing Company</th>\n",
       "      <th>Tröegs Independent Brewing</th>\n",
       "      <th>Two Roads Brewing Company</th>\n",
       "      <th>Veracious Brewing Company</th>\n",
       "      <th>Wicked Weed Brewing</th>\n",
       "    </tr>\n",
       "  </thead>\n",
       "  <tbody>\n",
       "    <tr>\n",
       "      <th>18433</th>\n",
       "      <td>0.487964</td>\n",
       "      <td>-0.156481</td>\n",
       "      <td>0.314495</td>\n",
       "      <td>-0.308574</td>\n",
       "      <td>0</td>\n",
       "      <td>0</td>\n",
       "      <td>1</td>\n",
       "      <td>0</td>\n",
       "      <td>0</td>\n",
       "      <td>0</td>\n",
       "      <td>...</td>\n",
       "      <td>0</td>\n",
       "      <td>0</td>\n",
       "      <td>0</td>\n",
       "      <td>0</td>\n",
       "      <td>0</td>\n",
       "      <td>0</td>\n",
       "      <td>0</td>\n",
       "      <td>0</td>\n",
       "      <td>0</td>\n",
       "      <td>0</td>\n",
       "    </tr>\n",
       "    <tr>\n",
       "      <th>18434</th>\n",
       "      <td>-0.382043</td>\n",
       "      <td>-1.328470</td>\n",
       "      <td>0.270798</td>\n",
       "      <td>-0.308574</td>\n",
       "      <td>0</td>\n",
       "      <td>0</td>\n",
       "      <td>0</td>\n",
       "      <td>0</td>\n",
       "      <td>0</td>\n",
       "      <td>0</td>\n",
       "      <td>...</td>\n",
       "      <td>0</td>\n",
       "      <td>0</td>\n",
       "      <td>0</td>\n",
       "      <td>0</td>\n",
       "      <td>0</td>\n",
       "      <td>0</td>\n",
       "      <td>0</td>\n",
       "      <td>0</td>\n",
       "      <td>0</td>\n",
       "      <td>0</td>\n",
       "    </tr>\n",
       "    <tr>\n",
       "      <th>18435</th>\n",
       "      <td>-0.266042</td>\n",
       "      <td>-1.328470</td>\n",
       "      <td>0.445586</td>\n",
       "      <td>-0.308574</td>\n",
       "      <td>0</td>\n",
       "      <td>0</td>\n",
       "      <td>0</td>\n",
       "      <td>0</td>\n",
       "      <td>0</td>\n",
       "      <td>0</td>\n",
       "      <td>...</td>\n",
       "      <td>0</td>\n",
       "      <td>0</td>\n",
       "      <td>0</td>\n",
       "      <td>0</td>\n",
       "      <td>0</td>\n",
       "      <td>0</td>\n",
       "      <td>0</td>\n",
       "      <td>0</td>\n",
       "      <td>0</td>\n",
       "      <td>0</td>\n",
       "    </tr>\n",
       "    <tr>\n",
       "      <th>18436</th>\n",
       "      <td>0.197962</td>\n",
       "      <td>-0.297119</td>\n",
       "      <td>-0.035080</td>\n",
       "      <td>-0.308574</td>\n",
       "      <td>1</td>\n",
       "      <td>0</td>\n",
       "      <td>0</td>\n",
       "      <td>0</td>\n",
       "      <td>0</td>\n",
       "      <td>0</td>\n",
       "      <td>...</td>\n",
       "      <td>0</td>\n",
       "      <td>0</td>\n",
       "      <td>0</td>\n",
       "      <td>0</td>\n",
       "      <td>0</td>\n",
       "      <td>0</td>\n",
       "      <td>0</td>\n",
       "      <td>0</td>\n",
       "      <td>0</td>\n",
       "      <td>0</td>\n",
       "    </tr>\n",
       "    <tr>\n",
       "      <th>18437</th>\n",
       "      <td>-1.136049</td>\n",
       "      <td>-1.469109</td>\n",
       "      <td>-0.013231</td>\n",
       "      <td>-0.308574</td>\n",
       "      <td>0</td>\n",
       "      <td>0</td>\n",
       "      <td>0</td>\n",
       "      <td>0</td>\n",
       "      <td>0</td>\n",
       "      <td>0</td>\n",
       "      <td>...</td>\n",
       "      <td>0</td>\n",
       "      <td>0</td>\n",
       "      <td>0</td>\n",
       "      <td>0</td>\n",
       "      <td>0</td>\n",
       "      <td>0</td>\n",
       "      <td>0</td>\n",
       "      <td>0</td>\n",
       "      <td>0</td>\n",
       "      <td>0</td>\n",
       "    </tr>\n",
       "  </tbody>\n",
       "</table>\n",
       "<p>5 rows × 91 columns</p>\n",
       "</div>"
      ],
      "text/plain": [
       "            ABV       IBU  global_rating     total  IPA - American  \\\n",
       "18433  0.487964 -0.156481       0.314495 -0.308574               0   \n",
       "18434 -0.382043 -1.328470       0.270798 -0.308574               0   \n",
       "18435 -0.266042 -1.328470       0.445586 -0.308574               0   \n",
       "18436  0.197962 -0.297119      -0.035080 -0.308574               1   \n",
       "18437 -1.136049 -1.469109      -0.013231 -0.308574               0   \n",
       "\n",
       "       IPA - Imperial / Double  IPA - New England  \\\n",
       "18433                        0                  1   \n",
       "18434                        0                  0   \n",
       "18435                        0                  0   \n",
       "18436                        0                  0   \n",
       "18437                        0                  0   \n",
       "\n",
       "       IPA - Session / India Session Ale  Pale Ale - American  \\\n",
       "18433                                  0                    0   \n",
       "18434                                  0                    0   \n",
       "18435                                  0                    0   \n",
       "18436                                  0                    0   \n",
       "18437                                  0                    0   \n",
       "\n",
       "       30 Mile Brewing Co.  ...  SweetWater Brewing Company  \\\n",
       "18433                    0  ...                           0   \n",
       "18434                    0  ...                           0   \n",
       "18435                    0  ...                           0   \n",
       "18436                    0  ...                           0   \n",
       "18437                    0  ...                           0   \n",
       "\n",
       "       Thimble Island Brewing Company  Thomas Hooker Brewing Co.  \\\n",
       "18433                               0                          0   \n",
       "18434                               0                          0   \n",
       "18435                               0                          0   \n",
       "18436                               0                          0   \n",
       "18437                               0                          0   \n",
       "\n",
       "       Top Shelf Brewing Company  Tree House Brewing Company  \\\n",
       "18433                          0                           0   \n",
       "18434                          0                           0   \n",
       "18435                          0                           0   \n",
       "18436                          0                           0   \n",
       "18437                          0                           0   \n",
       "\n",
       "       Trillium Brewing Company  Tröegs Independent Brewing  \\\n",
       "18433                         0                           0   \n",
       "18434                         0                           0   \n",
       "18435                         0                           0   \n",
       "18436                         0                           0   \n",
       "18437                         0                           0   \n",
       "\n",
       "       Two Roads Brewing Company  Veracious Brewing Company  \\\n",
       "18433                          0                          0   \n",
       "18434                          0                          0   \n",
       "18435                          0                          0   \n",
       "18436                          0                          0   \n",
       "18437                          0                          0   \n",
       "\n",
       "       Wicked Weed Brewing  \n",
       "18433                    0  \n",
       "18434                    0  \n",
       "18435                    0  \n",
       "18436                    0  \n",
       "18437                    0  \n",
       "\n",
       "[5 rows x 91 columns]"
      ]
     },
     "execution_count": 2,
     "metadata": {},
     "output_type": "execute_result"
    }
   ],
   "source": [
    "x = pd.read_csv('../data/x_prepped.csv',index_col=0)\n",
    "x.head()"
   ]
  },
  {
   "cell_type": "code",
   "execution_count": 3,
   "metadata": {},
   "outputs": [
    {
     "data": {
      "text/html": [
       "<div>\n",
       "<style scoped>\n",
       "    .dataframe tbody tr th:only-of-type {\n",
       "        vertical-align: middle;\n",
       "    }\n",
       "\n",
       "    .dataframe tbody tr th {\n",
       "        vertical-align: top;\n",
       "    }\n",
       "\n",
       "    .dataframe thead th {\n",
       "        text-align: right;\n",
       "    }\n",
       "</style>\n",
       "<table border=\"1\" class=\"dataframe\">\n",
       "  <thead>\n",
       "    <tr style=\"text-align: right;\">\n",
       "      <th></th>\n",
       "      <th>user_rating</th>\n",
       "    </tr>\n",
       "  </thead>\n",
       "  <tbody>\n",
       "    <tr>\n",
       "      <th>18433</th>\n",
       "      <td>4.0</td>\n",
       "    </tr>\n",
       "    <tr>\n",
       "      <th>18434</th>\n",
       "      <td>4.0</td>\n",
       "    </tr>\n",
       "    <tr>\n",
       "      <th>18435</th>\n",
       "      <td>3.0</td>\n",
       "    </tr>\n",
       "    <tr>\n",
       "      <th>18436</th>\n",
       "      <td>3.5</td>\n",
       "    </tr>\n",
       "    <tr>\n",
       "      <th>18437</th>\n",
       "      <td>4.0</td>\n",
       "    </tr>\n",
       "  </tbody>\n",
       "</table>\n",
       "</div>"
      ],
      "text/plain": [
       "       user_rating\n",
       "18433          4.0\n",
       "18434          4.0\n",
       "18435          3.0\n",
       "18436          3.5\n",
       "18437          4.0"
      ]
     },
     "execution_count": 3,
     "metadata": {},
     "output_type": "execute_result"
    }
   ],
   "source": [
    "y = pd.read_csv('../data/y_prepped.csv',index_col=0)\n",
    "y.head()"
   ]
  },
  {
   "cell_type": "markdown",
   "metadata": {},
   "source": [
    "## Data Split"
   ]
  },
  {
   "cell_type": "code",
   "execution_count": 4,
   "metadata": {},
   "outputs": [],
   "source": [
    "from sklearn.model_selection import train_test_split"
   ]
  },
  {
   "cell_type": "code",
   "execution_count": 5,
   "metadata": {},
   "outputs": [],
   "source": [
    "X_train, X_test, y_train, y_test = train_test_split(x, y['user_rating'], test_size=0.2, random_state=12)"
   ]
  },
  {
   "cell_type": "code",
   "execution_count": 6,
   "metadata": {},
   "outputs": [
    {
     "data": {
      "text/html": [
       "<div>\n",
       "<style scoped>\n",
       "    .dataframe tbody tr th:only-of-type {\n",
       "        vertical-align: middle;\n",
       "    }\n",
       "\n",
       "    .dataframe tbody tr th {\n",
       "        vertical-align: top;\n",
       "    }\n",
       "\n",
       "    .dataframe thead th {\n",
       "        text-align: right;\n",
       "    }\n",
       "</style>\n",
       "<table border=\"1\" class=\"dataframe\">\n",
       "  <thead>\n",
       "    <tr style=\"text-align: right;\">\n",
       "      <th></th>\n",
       "      <th>ABV</th>\n",
       "      <th>IBU</th>\n",
       "      <th>global_rating</th>\n",
       "      <th>total</th>\n",
       "      <th>IPA - American</th>\n",
       "      <th>IPA - Imperial / Double</th>\n",
       "      <th>IPA - New England</th>\n",
       "      <th>IPA - Session / India Session Ale</th>\n",
       "      <th>Pale Ale - American</th>\n",
       "      <th>30 Mile Brewing Co.</th>\n",
       "      <th>...</th>\n",
       "      <th>SweetWater Brewing Company</th>\n",
       "      <th>Thimble Island Brewing Company</th>\n",
       "      <th>Thomas Hooker Brewing Co.</th>\n",
       "      <th>Top Shelf Brewing Company</th>\n",
       "      <th>Tree House Brewing Company</th>\n",
       "      <th>Trillium Brewing Company</th>\n",
       "      <th>Tröegs Independent Brewing</th>\n",
       "      <th>Two Roads Brewing Company</th>\n",
       "      <th>Veracious Brewing Company</th>\n",
       "      <th>Wicked Weed Brewing</th>\n",
       "    </tr>\n",
       "  </thead>\n",
       "  <tbody>\n",
       "    <tr>\n",
       "      <th>19775</th>\n",
       "      <td>-0.382043</td>\n",
       "      <td>0.000000</td>\n",
       "      <td>0.314495</td>\n",
       "      <td>-0.308574</td>\n",
       "      <td>0</td>\n",
       "      <td>0</td>\n",
       "      <td>0</td>\n",
       "      <td>0</td>\n",
       "      <td>0</td>\n",
       "      <td>0</td>\n",
       "      <td>...</td>\n",
       "      <td>0</td>\n",
       "      <td>0</td>\n",
       "      <td>0</td>\n",
       "      <td>0</td>\n",
       "      <td>0</td>\n",
       "      <td>0</td>\n",
       "      <td>0</td>\n",
       "      <td>0</td>\n",
       "      <td>0</td>\n",
       "      <td>0</td>\n",
       "    </tr>\n",
       "    <tr>\n",
       "      <th>19870</th>\n",
       "      <td>-0.440044</td>\n",
       "      <td>-0.953434</td>\n",
       "      <td>0.576676</td>\n",
       "      <td>-0.308574</td>\n",
       "      <td>0</td>\n",
       "      <td>0</td>\n",
       "      <td>0</td>\n",
       "      <td>0</td>\n",
       "      <td>0</td>\n",
       "      <td>0</td>\n",
       "      <td>...</td>\n",
       "      <td>0</td>\n",
       "      <td>0</td>\n",
       "      <td>0</td>\n",
       "      <td>0</td>\n",
       "      <td>0</td>\n",
       "      <td>0</td>\n",
       "      <td>0</td>\n",
       "      <td>0</td>\n",
       "      <td>0</td>\n",
       "      <td>0</td>\n",
       "    </tr>\n",
       "    <tr>\n",
       "      <th>18910</th>\n",
       "      <td>-0.034040</td>\n",
       "      <td>0.000000</td>\n",
       "      <td>1.385067</td>\n",
       "      <td>1.196663</td>\n",
       "      <td>1</td>\n",
       "      <td>0</td>\n",
       "      <td>0</td>\n",
       "      <td>0</td>\n",
       "      <td>0</td>\n",
       "      <td>0</td>\n",
       "      <td>...</td>\n",
       "      <td>0</td>\n",
       "      <td>0</td>\n",
       "      <td>0</td>\n",
       "      <td>0</td>\n",
       "      <td>1</td>\n",
       "      <td>0</td>\n",
       "      <td>0</td>\n",
       "      <td>0</td>\n",
       "      <td>0</td>\n",
       "      <td>0</td>\n",
       "    </tr>\n",
       "    <tr>\n",
       "      <th>18675</th>\n",
       "      <td>0.023960</td>\n",
       "      <td>1.015509</td>\n",
       "      <td>0.401889</td>\n",
       "      <td>-0.308574</td>\n",
       "      <td>1</td>\n",
       "      <td>0</td>\n",
       "      <td>0</td>\n",
       "      <td>0</td>\n",
       "      <td>0</td>\n",
       "      <td>0</td>\n",
       "      <td>...</td>\n",
       "      <td>0</td>\n",
       "      <td>0</td>\n",
       "      <td>0</td>\n",
       "      <td>0</td>\n",
       "      <td>0</td>\n",
       "      <td>0</td>\n",
       "      <td>0</td>\n",
       "      <td>0</td>\n",
       "      <td>0</td>\n",
       "      <td>0</td>\n",
       "    </tr>\n",
       "    <tr>\n",
       "      <th>21303</th>\n",
       "      <td>-1.252050</td>\n",
       "      <td>-0.578397</td>\n",
       "      <td>-0.056928</td>\n",
       "      <td>-0.308574</td>\n",
       "      <td>0</td>\n",
       "      <td>0</td>\n",
       "      <td>0</td>\n",
       "      <td>1</td>\n",
       "      <td>0</td>\n",
       "      <td>0</td>\n",
       "      <td>...</td>\n",
       "      <td>0</td>\n",
       "      <td>0</td>\n",
       "      <td>0</td>\n",
       "      <td>0</td>\n",
       "      <td>0</td>\n",
       "      <td>0</td>\n",
       "      <td>0</td>\n",
       "      <td>0</td>\n",
       "      <td>0</td>\n",
       "      <td>0</td>\n",
       "    </tr>\n",
       "  </tbody>\n",
       "</table>\n",
       "<p>5 rows × 91 columns</p>\n",
       "</div>"
      ],
      "text/plain": [
       "            ABV       IBU  global_rating     total  IPA - American  \\\n",
       "19775 -0.382043  0.000000       0.314495 -0.308574               0   \n",
       "19870 -0.440044 -0.953434       0.576676 -0.308574               0   \n",
       "18910 -0.034040  0.000000       1.385067  1.196663               1   \n",
       "18675  0.023960  1.015509       0.401889 -0.308574               1   \n",
       "21303 -1.252050 -0.578397      -0.056928 -0.308574               0   \n",
       "\n",
       "       IPA - Imperial / Double  IPA - New England  \\\n",
       "19775                        0                  0   \n",
       "19870                        0                  0   \n",
       "18910                        0                  0   \n",
       "18675                        0                  0   \n",
       "21303                        0                  0   \n",
       "\n",
       "       IPA - Session / India Session Ale  Pale Ale - American  \\\n",
       "19775                                  0                    0   \n",
       "19870                                  0                    0   \n",
       "18910                                  0                    0   \n",
       "18675                                  0                    0   \n",
       "21303                                  1                    0   \n",
       "\n",
       "       30 Mile Brewing Co.  ...  SweetWater Brewing Company  \\\n",
       "19775                    0  ...                           0   \n",
       "19870                    0  ...                           0   \n",
       "18910                    0  ...                           0   \n",
       "18675                    0  ...                           0   \n",
       "21303                    0  ...                           0   \n",
       "\n",
       "       Thimble Island Brewing Company  Thomas Hooker Brewing Co.  \\\n",
       "19775                               0                          0   \n",
       "19870                               0                          0   \n",
       "18910                               0                          0   \n",
       "18675                               0                          0   \n",
       "21303                               0                          0   \n",
       "\n",
       "       Top Shelf Brewing Company  Tree House Brewing Company  \\\n",
       "19775                          0                           0   \n",
       "19870                          0                           0   \n",
       "18910                          0                           1   \n",
       "18675                          0                           0   \n",
       "21303                          0                           0   \n",
       "\n",
       "       Trillium Brewing Company  Tröegs Independent Brewing  \\\n",
       "19775                         0                           0   \n",
       "19870                         0                           0   \n",
       "18910                         0                           0   \n",
       "18675                         0                           0   \n",
       "21303                         0                           0   \n",
       "\n",
       "       Two Roads Brewing Company  Veracious Brewing Company  \\\n",
       "19775                          0                          0   \n",
       "19870                          0                          0   \n",
       "18910                          0                          0   \n",
       "18675                          0                          0   \n",
       "21303                          0                          0   \n",
       "\n",
       "       Wicked Weed Brewing  \n",
       "19775                    0  \n",
       "19870                    0  \n",
       "18910                    0  \n",
       "18675                    0  \n",
       "21303                    0  \n",
       "\n",
       "[5 rows x 91 columns]"
      ]
     },
     "execution_count": 6,
     "metadata": {},
     "output_type": "execute_result"
    }
   ],
   "source": [
    "X_train.head()"
   ]
  },
  {
   "cell_type": "code",
   "execution_count": 7,
   "metadata": {
    "scrolled": true
   },
   "outputs": [
    {
     "data": {
      "text/plain": [
       "19775    4.25\n",
       "19870    3.00\n",
       "18910    4.50\n",
       "18675    4.00\n",
       "21303    3.50\n",
       "Name: user_rating, dtype: float64"
      ]
     },
     "execution_count": 7,
     "metadata": {},
     "output_type": "execute_result"
    }
   ],
   "source": [
    "y_train.head()"
   ]
  },
  {
   "cell_type": "markdown",
   "metadata": {},
   "source": [
    "## Modeling - Lasso"
   ]
  },
  {
   "cell_type": "markdown",
   "metadata": {},
   "source": [
    "### Default Alpha"
   ]
  },
  {
   "cell_type": "code",
   "execution_count": 8,
   "metadata": {},
   "outputs": [
    {
     "data": {
      "text/plain": [
       "Lasso(alpha=1.0, copy_X=True, fit_intercept=True, max_iter=1000, normalize=True,\n",
       "      positive=False, precompute=False, random_state=12, selection='cyclic',\n",
       "      tol=0.0001, warm_start=False)"
      ]
     },
     "execution_count": 8,
     "metadata": {},
     "output_type": "execute_result"
    }
   ],
   "source": [
    "from sklearn.linear_model import Lasso\n",
    "\n",
    "lasso = Lasso(normalize=True, random_state=12)\n",
    "\n",
    "lasso.fit(X_train, y_train)"
   ]
  },
  {
   "cell_type": "code",
   "execution_count": 9,
   "metadata": {},
   "outputs": [
    {
     "data": {
      "text/html": [
       "<div>\n",
       "<style scoped>\n",
       "    .dataframe tbody tr th:only-of-type {\n",
       "        vertical-align: middle;\n",
       "    }\n",
       "\n",
       "    .dataframe tbody tr th {\n",
       "        vertical-align: top;\n",
       "    }\n",
       "\n",
       "    .dataframe thead th {\n",
       "        text-align: right;\n",
       "    }\n",
       "</style>\n",
       "<table border=\"1\" class=\"dataframe\">\n",
       "  <thead>\n",
       "    <tr style=\"text-align: right;\">\n",
       "      <th></th>\n",
       "      <th>prediction</th>\n",
       "      <th>actual</th>\n",
       "    </tr>\n",
       "  </thead>\n",
       "  <tbody>\n",
       "    <tr>\n",
       "      <th>0</th>\n",
       "      <td>3.828113</td>\n",
       "      <td>4.00</td>\n",
       "    </tr>\n",
       "    <tr>\n",
       "      <th>1</th>\n",
       "      <td>3.828113</td>\n",
       "      <td>3.25</td>\n",
       "    </tr>\n",
       "    <tr>\n",
       "      <th>2</th>\n",
       "      <td>3.828113</td>\n",
       "      <td>3.75</td>\n",
       "    </tr>\n",
       "    <tr>\n",
       "      <th>3</th>\n",
       "      <td>3.828113</td>\n",
       "      <td>4.00</td>\n",
       "    </tr>\n",
       "    <tr>\n",
       "      <th>4</th>\n",
       "      <td>3.828113</td>\n",
       "      <td>1.25</td>\n",
       "    </tr>\n",
       "  </tbody>\n",
       "</table>\n",
       "</div>"
      ],
      "text/plain": [
       "   prediction  actual\n",
       "0    3.828113    4.00\n",
       "1    3.828113    3.25\n",
       "2    3.828113    3.75\n",
       "3    3.828113    4.00\n",
       "4    3.828113    1.25"
      ]
     },
     "execution_count": 9,
     "metadata": {},
     "output_type": "execute_result"
    }
   ],
   "source": [
    "predictions = lasso.predict(X_test)\n",
    "results_df = pd.DataFrame([predictions,y_test]).transpose()\n",
    "results_df.columns = ['prediction', 'actual']\n",
    "results_df.head()"
   ]
  },
  {
   "cell_type": "code",
   "execution_count": 10,
   "metadata": {},
   "outputs": [
    {
     "data": {
      "text/html": [
       "<div>\n",
       "<style scoped>\n",
       "    .dataframe tbody tr th:only-of-type {\n",
       "        vertical-align: middle;\n",
       "    }\n",
       "\n",
       "    .dataframe tbody tr th {\n",
       "        vertical-align: top;\n",
       "    }\n",
       "\n",
       "    .dataframe thead th {\n",
       "        text-align: right;\n",
       "    }\n",
       "</style>\n",
       "<table border=\"1\" class=\"dataframe\">\n",
       "  <thead>\n",
       "    <tr style=\"text-align: right;\">\n",
       "      <th></th>\n",
       "      <th>prediction</th>\n",
       "      <th>actual</th>\n",
       "      <th>error</th>\n",
       "    </tr>\n",
       "  </thead>\n",
       "  <tbody>\n",
       "    <tr>\n",
       "      <th>0</th>\n",
       "      <td>3.828113</td>\n",
       "      <td>4.00</td>\n",
       "      <td>-0.171887</td>\n",
       "    </tr>\n",
       "    <tr>\n",
       "      <th>1</th>\n",
       "      <td>3.828113</td>\n",
       "      <td>3.25</td>\n",
       "      <td>0.578113</td>\n",
       "    </tr>\n",
       "    <tr>\n",
       "      <th>2</th>\n",
       "      <td>3.828113</td>\n",
       "      <td>3.75</td>\n",
       "      <td>0.078113</td>\n",
       "    </tr>\n",
       "    <tr>\n",
       "      <th>3</th>\n",
       "      <td>3.828113</td>\n",
       "      <td>4.00</td>\n",
       "      <td>-0.171887</td>\n",
       "    </tr>\n",
       "    <tr>\n",
       "      <th>4</th>\n",
       "      <td>3.828113</td>\n",
       "      <td>1.25</td>\n",
       "      <td>2.578113</td>\n",
       "    </tr>\n",
       "  </tbody>\n",
       "</table>\n",
       "</div>"
      ],
      "text/plain": [
       "   prediction  actual     error\n",
       "0    3.828113    4.00 -0.171887\n",
       "1    3.828113    3.25  0.578113\n",
       "2    3.828113    3.75  0.078113\n",
       "3    3.828113    4.00 -0.171887\n",
       "4    3.828113    1.25  2.578113"
      ]
     },
     "execution_count": 10,
     "metadata": {},
     "output_type": "execute_result"
    }
   ],
   "source": [
    "results_df['error'] = results_df['prediction'] - results_df['actual']\n",
    "results_df.head()"
   ]
  },
  {
   "cell_type": "code",
   "execution_count": 11,
   "metadata": {},
   "outputs": [
    {
     "name": "stdout",
     "output_type": "stream",
     "text": [
      "avg error 0.018077382865431816 \n",
      "std of error 0.5796704303353049\n"
     ]
    }
   ],
   "source": [
    "avg_error = np.mean(results_df['error'])\n",
    "std_error = np.std(results_df['error'])\n",
    "print('avg error', avg_error, \n",
    "      '\\n'\n",
    "      'std of error', std_error)"
   ]
  },
  {
   "cell_type": "code",
   "execution_count": 12,
   "metadata": {},
   "outputs": [
    {
     "data": {
      "text/plain": [
       "0.3363445995763809"
      ]
     },
     "execution_count": 12,
     "metadata": {},
     "output_type": "execute_result"
    }
   ],
   "source": [
    "mse = np.mean(results_df['error']**2)\n",
    "mse"
   ]
  },
  {
   "cell_type": "code",
   "execution_count": 13,
   "metadata": {},
   "outputs": [
    {
     "data": {
      "text/plain": [
       "-0.0009725430131157786"
      ]
     },
     "execution_count": 13,
     "metadata": {},
     "output_type": "execute_result"
    }
   ],
   "source": [
    "r2 = lasso.score(X_test, y_test)\n",
    "r2"
   ]
  },
  {
   "cell_type": "code",
   "execution_count": 14,
   "metadata": {},
   "outputs": [
    {
     "data": {
      "text/plain": [
       "71.47058823529412"
      ]
     },
     "execution_count": 14,
     "metadata": {},
     "output_type": "execute_result"
    }
   ],
   "source": [
    "n_within_half_error = len(abs(results_df['error'])[abs(results_df['error']) <= 0.5])\n",
    "percent_within_half_error = 100*(n_within_half_error / len(results_df))\n",
    "percent_within_half_error"
   ]
  },
  {
   "cell_type": "code",
   "execution_count": 15,
   "metadata": {},
   "outputs": [
    {
     "data": {
      "text/plain": [
       "''"
      ]
     },
     "execution_count": 15,
     "metadata": {},
     "output_type": "execute_result"
    },
    {
     "data": {
      "image/png": "[encoded data removed]",
      "text/plain": [
       "<Figure size 864x432 with 1 Axes>"
      ]
     },
     "metadata": {
      "needs_background": "light"
     },
     "output_type": "display_data"
    }
   ],
   "source": [
    "plt.figure(figsize=(12,6))\n",
    "\n",
    "plt.hist(abs(results_df['error']), bins=10)\n",
    "plt.xticks(ticks=(np.arange(0, 3, step=0.25)))\n",
    "plt.grid()\n",
    ";"
   ]
  },
  {
   "cell_type": "markdown",
   "metadata": {},
   "source": [
    "### Lasso CV"
   ]
  },
  {
   "cell_type": "code",
   "execution_count": 16,
   "metadata": {},
   "outputs": [],
   "source": [
    "from sklearn.linear_model import LassoCV\n",
    "\n",
    "lasso_cv = LassoCV(normalize=True, random_state=12)"
   ]
  },
  {
   "cell_type": "code",
   "execution_count": 17,
   "metadata": {},
   "outputs": [
    {
     "name": "stderr",
     "output_type": "stream",
     "text": [
      "C:\\Users\\tomsharp\\AppData\\Local\\Continuum\\miniconda3\\envs\\ml_guild\\lib\\site-packages\\sklearn\\model_selection\\_split.py:1978: FutureWarning: The default value of cv will change from 3 to 5 in version 0.22. Specify it explicitly to silence this warning.\n",
      "  warnings.warn(CV_WARNING, FutureWarning)\n"
     ]
    },
    {
     "data": {
      "text/plain": [
       "LassoCV(alphas=None, copy_X=True, cv='warn', eps=0.001, fit_intercept=True,\n",
       "        max_iter=1000, n_alphas=100, n_jobs=None, normalize=True,\n",
       "        positive=False, precompute='auto', random_state=12, selection='cyclic',\n",
       "        tol=0.0001, verbose=False)"
      ]
     },
     "execution_count": 17,
     "metadata": {},
     "output_type": "execute_result"
    }
   ],
   "source": [
    "lasso_cv.fit(X_train, y_train)"
   ]
  },
  {
   "cell_type": "code",
   "execution_count": 18,
   "metadata": {},
   "outputs": [
    {
     "data": {
      "text/plain": [
       "0.00030514907897911557"
      ]
     },
     "execution_count": 18,
     "metadata": {},
     "output_type": "execute_result"
    }
   ],
   "source": [
    "lasso_cv.alpha_"
   ]
  },
  {
   "cell_type": "code",
   "execution_count": 19,
   "metadata": {},
   "outputs": [
    {
     "data": {
      "text/plain": [
       "3.8238096983554732"
      ]
     },
     "execution_count": 19,
     "metadata": {},
     "output_type": "execute_result"
    }
   ],
   "source": [
    "lasso_cv.intercept_"
   ]
  },
  {
   "cell_type": "code",
   "execution_count": 41,
   "metadata": {},
   "outputs": [
    {
     "data": {
      "text/html": [
       "<div>\n",
       "<style scoped>\n",
       "    .dataframe tbody tr th:only-of-type {\n",
       "        vertical-align: middle;\n",
       "    }\n",
       "\n",
       "    .dataframe tbody tr th {\n",
       "        vertical-align: top;\n",
       "    }\n",
       "\n",
       "    .dataframe thead th {\n",
       "        text-align: right;\n",
       "    }\n",
       "</style>\n",
       "<table border=\"1\" class=\"dataframe\">\n",
       "  <thead>\n",
       "    <tr style=\"text-align: right;\">\n",
       "      <th></th>\n",
       "      <th>coef</th>\n",
       "      <th>feature</th>\n",
       "    </tr>\n",
       "  </thead>\n",
       "  <tbody>\n",
       "    <tr>\n",
       "      <th>8</th>\n",
       "      <td>0.329622</td>\n",
       "      <td>Cape Cod Beer</td>\n",
       "    </tr>\n",
       "    <tr>\n",
       "      <th>20</th>\n",
       "      <td>0.303200</td>\n",
       "      <td>SingleCut Beersmiths</td>\n",
       "    </tr>\n",
       "    <tr>\n",
       "      <th>9</th>\n",
       "      <td>0.172731</td>\n",
       "      <td>Counterweight Brewing Co.</td>\n",
       "    </tr>\n",
       "    <tr>\n",
       "      <th>22</th>\n",
       "      <td>0.116453</td>\n",
       "      <td>Trillium Brewing Company</td>\n",
       "    </tr>\n",
       "    <tr>\n",
       "      <th>3</th>\n",
       "      <td>0.115295</td>\n",
       "      <td>total</td>\n",
       "    </tr>\n",
       "    <tr>\n",
       "      <th>13</th>\n",
       "      <td>0.088211</td>\n",
       "      <td>Half Full Brewery</td>\n",
       "    </tr>\n",
       "    <tr>\n",
       "      <th>14</th>\n",
       "      <td>0.052503</td>\n",
       "      <td>Lock City Brewing</td>\n",
       "    </tr>\n",
       "    <tr>\n",
       "      <th>5</th>\n",
       "      <td>0.051722</td>\n",
       "      <td>IPA - New England</td>\n",
       "    </tr>\n",
       "    <tr>\n",
       "      <th>19</th>\n",
       "      <td>0.051124</td>\n",
       "      <td>Rogue Ales</td>\n",
       "    </tr>\n",
       "    <tr>\n",
       "      <th>18</th>\n",
       "      <td>0.038265</td>\n",
       "      <td>Relic Brewing Co.</td>\n",
       "    </tr>\n",
       "    <tr>\n",
       "      <th>2</th>\n",
       "      <td>0.031640</td>\n",
       "      <td>global_rating</td>\n",
       "    </tr>\n",
       "    <tr>\n",
       "      <th>6</th>\n",
       "      <td>0.007229</td>\n",
       "      <td>Back East Brewing Company</td>\n",
       "    </tr>\n",
       "    <tr>\n",
       "      <th>4</th>\n",
       "      <td>-0.000000</td>\n",
       "      <td>Veracious Brewing Company</td>\n",
       "    </tr>\n",
       "    <tr>\n",
       "      <th>1</th>\n",
       "      <td>-0.014367</td>\n",
       "      <td>IBU</td>\n",
       "    </tr>\n",
       "    <tr>\n",
       "      <th>23</th>\n",
       "      <td>-0.022591</td>\n",
       "      <td>Tröegs Independent Brewing</td>\n",
       "    </tr>\n",
       "    <tr>\n",
       "      <th>0</th>\n",
       "      <td>-0.029015</td>\n",
       "      <td>ABV</td>\n",
       "    </tr>\n",
       "    <tr>\n",
       "      <th>16</th>\n",
       "      <td>-0.059297</td>\n",
       "      <td>Norbrook Farm Brewery</td>\n",
       "    </tr>\n",
       "    <tr>\n",
       "      <th>21</th>\n",
       "      <td>-0.086905</td>\n",
       "      <td>Stony Creek Brewery</td>\n",
       "    </tr>\n",
       "    <tr>\n",
       "      <th>12</th>\n",
       "      <td>-0.109426</td>\n",
       "      <td>Fairfield Craft Ales</td>\n",
       "    </tr>\n",
       "    <tr>\n",
       "      <th>10</th>\n",
       "      <td>-0.126211</td>\n",
       "      <td>Dogfish Head Craft Brewery</td>\n",
       "    </tr>\n",
       "    <tr>\n",
       "      <th>17</th>\n",
       "      <td>-0.131965</td>\n",
       "      <td>Pinglehead Brewing Company</td>\n",
       "    </tr>\n",
       "    <tr>\n",
       "      <th>15</th>\n",
       "      <td>-0.142553</td>\n",
       "      <td>New Belgium Brewing Company</td>\n",
       "    </tr>\n",
       "    <tr>\n",
       "      <th>24</th>\n",
       "      <td>-0.164094</td>\n",
       "      <td>Wicked Weed Brewing</td>\n",
       "    </tr>\n",
       "    <tr>\n",
       "      <th>7</th>\n",
       "      <td>-0.164332</td>\n",
       "      <td>Barrier Brewing Company</td>\n",
       "    </tr>\n",
       "    <tr>\n",
       "      <th>11</th>\n",
       "      <td>-0.251942</td>\n",
       "      <td>Evil Twin Brewing</td>\n",
       "    </tr>\n",
       "  </tbody>\n",
       "</table>\n",
       "</div>"
      ],
      "text/plain": [
       "        coef                      feature\n",
       "8   0.329622                Cape Cod Beer\n",
       "20  0.303200         SingleCut Beersmiths\n",
       "9   0.172731    Counterweight Brewing Co.\n",
       "22  0.116453     Trillium Brewing Company\n",
       "3   0.115295                        total\n",
       "13  0.088211            Half Full Brewery\n",
       "14  0.052503            Lock City Brewing\n",
       "5   0.051722            IPA - New England\n",
       "19  0.051124                   Rogue Ales\n",
       "18  0.038265            Relic Brewing Co.\n",
       "2   0.031640                global_rating\n",
       "6   0.007229    Back East Brewing Company\n",
       "4  -0.000000    Veracious Brewing Company\n",
       "1  -0.014367                          IBU\n",
       "23 -0.022591   Tröegs Independent Brewing\n",
       "0  -0.029015                          ABV\n",
       "16 -0.059297        Norbrook Farm Brewery\n",
       "21 -0.086905          Stony Creek Brewery\n",
       "12 -0.109426         Fairfield Craft Ales\n",
       "10 -0.126211   Dogfish Head Craft Brewery\n",
       "17 -0.131965   Pinglehead Brewing Company\n",
       "15 -0.142553  New Belgium Brewing Company\n",
       "24 -0.164094          Wicked Weed Brewing\n",
       "7  -0.164332      Barrier Brewing Company\n",
       "11 -0.251942            Evil Twin Brewing"
      ]
     },
     "execution_count": 41,
     "metadata": {},
     "output_type": "execute_result"
    }
   ],
   "source": [
    "coef_df = pd.DataFrame.from_dict(dict(zip(lasso_cv.coef_, x.columns)), orient='index').reset_index()\n",
    "coef_df.columns = ['coef', 'feature']\n",
    "coef_df.sort_values(['coef'], ascending=False)"
   ]
  },
  {
   "cell_type": "code",
   "execution_count": 20,
   "metadata": {},
   "outputs": [
    {
     "name": "stdout",
     "output_type": "stream",
     "text": [
      "0.0975937293906678\n"
     ]
    }
   ],
   "source": [
    "r2_cv = lasso_cv.score(X_train, y_train)\n",
    "print(r2_cv)"
   ]
  },
  {
   "cell_type": "code",
   "execution_count": 21,
   "metadata": {},
   "outputs": [
    {
     "data": {
      "text/html": [
       "<div>\n",
       "<style scoped>\n",
       "    .dataframe tbody tr th:only-of-type {\n",
       "        vertical-align: middle;\n",
       "    }\n",
       "\n",
       "    .dataframe tbody tr th {\n",
       "        vertical-align: top;\n",
       "    }\n",
       "\n",
       "    .dataframe thead th {\n",
       "        text-align: right;\n",
       "    }\n",
       "</style>\n",
       "<table border=\"1\" class=\"dataframe\">\n",
       "  <thead>\n",
       "    <tr style=\"text-align: right;\">\n",
       "      <th></th>\n",
       "      <th>y_test</th>\n",
       "      <th>predictions</th>\n",
       "      <th>error</th>\n",
       "    </tr>\n",
       "  </thead>\n",
       "  <tbody>\n",
       "    <tr>\n",
       "      <th>20920</th>\n",
       "      <td>4.00</td>\n",
       "      <td>3.832168</td>\n",
       "      <td>0.167832</td>\n",
       "    </tr>\n",
       "    <tr>\n",
       "      <th>20452</th>\n",
       "      <td>3.25</td>\n",
       "      <td>3.798355</td>\n",
       "      <td>-0.548355</td>\n",
       "    </tr>\n",
       "    <tr>\n",
       "      <th>19001</th>\n",
       "      <td>3.75</td>\n",
       "      <td>3.861897</td>\n",
       "      <td>-0.111897</td>\n",
       "    </tr>\n",
       "    <tr>\n",
       "      <th>20978</th>\n",
       "      <td>4.00</td>\n",
       "      <td>3.812060</td>\n",
       "      <td>0.187940</td>\n",
       "    </tr>\n",
       "    <tr>\n",
       "      <th>20635</th>\n",
       "      <td>1.25</td>\n",
       "      <td>3.736423</td>\n",
       "      <td>-2.486423</td>\n",
       "    </tr>\n",
       "  </tbody>\n",
       "</table>\n",
       "</div>"
      ],
      "text/plain": [
       "       y_test  predictions     error\n",
       "20920    4.00     3.832168  0.167832\n",
       "20452    3.25     3.798355 -0.548355\n",
       "19001    3.75     3.861897 -0.111897\n",
       "20978    4.00     3.812060  0.187940\n",
       "20635    1.25     3.736423 -2.486423"
      ]
     },
     "execution_count": 21,
     "metadata": {},
     "output_type": "execute_result"
    }
   ],
   "source": [
    "predictions = lasso_cv.predict(X_test)\n",
    "results_df_cv = pd.DataFrame({'y_test':y_test, 'predictions':predictions})\n",
    "results_df_cv['error'] = results_df_cv['y_test'] - results_df_cv['predictions']\n",
    "results_df_cv.head()"
   ]
  },
  {
   "cell_type": "code",
   "execution_count": 22,
   "metadata": {},
   "outputs": [
    {
     "data": {
      "text/plain": [
       "0.3122433914983586"
      ]
     },
     "execution_count": 22,
     "metadata": {},
     "output_type": "execute_result"
    }
   ],
   "source": [
    "mse_cv = np.mean(results_df_cv['error']**2)\n",
    "mse_cv"
   ]
  },
  {
   "cell_type": "code",
   "execution_count": 23,
   "metadata": {},
   "outputs": [
    {
     "data": {
      "text/plain": [
       "71.47058823529412"
      ]
     },
     "execution_count": 23,
     "metadata": {},
     "output_type": "execute_result"
    }
   ],
   "source": [
    "n_within_half_error_cv = len(abs(results_df_cv['error'])[abs(results_df_cv['error']) <= 0.5])\n",
    "percent_within_half_error_cv = 100*(n_within_half_error_cv / len(results_df_cv))\n",
    "percent_within_half_error_cv"
   ]
  },
  {
   "cell_type": "code",
   "execution_count": 24,
   "metadata": {},
   "outputs": [
    {
     "data": {
      "text/plain": [
       "''"
      ]
     },
     "execution_count": 24,
     "metadata": {},
     "output_type": "execute_result"
    },
    {
     "data": {
      "image/png": "[encoded data removed]",
      "text/plain": [
       "<Figure size 864x432 with 1 Axes>"
      ]
     },
     "metadata": {
      "needs_background": "light"
     },
     "output_type": "display_data"
    }
   ],
   "source": [
    "plt.figure(figsize=(12,6))\n",
    "\n",
    "plt.hist(abs(results_df_cv['error']), bins=10)\n",
    "plt.xticks(ticks=(np.arange(0, 3, step=0.25)))\n",
    "plt.grid()\n",
    ";"
   ]
  },
  {
   "cell_type": "markdown",
   "metadata": {},
   "source": [
    "## Export Model"
   ]
  },
  {
   "cell_type": "code",
   "execution_count": 21,
   "metadata": {},
   "outputs": [],
   "source": [
    "final_lasso_model = lasso_cv"
   ]
  },
  {
   "cell_type": "code",
   "execution_count": 22,
   "metadata": {},
   "outputs": [],
   "source": [
    "import pickle"
   ]
  },
  {
   "cell_type": "code",
   "execution_count": 23,
   "metadata": {},
   "outputs": [],
   "source": [
    "# with open('../models/lasso.pkl', 'wb') as pickle_file:\n",
    "#     pickle.dump(final_lasso_model, pickle_file)"
   ]
  },
  {
   "cell_type": "code",
   "execution_count": null,
   "metadata": {},
   "outputs": [],
   "source": []
  }
 ],
 "metadata": {
  "kernelspec": {
   "display_name": "ml_guild",
   "language": "python",
   "name": "ml_guild"
  },
  "language_info": {
   "codemirror_mode": {
    "name": "ipython",
    "version": 3
   },
   "file_extension": ".py",
   "mimetype": "text/x-python",
   "name": "python",
   "nbconvert_exporter": "python",
   "pygments_lexer": "ipython3",
   "version": "3.6.7"
  }
 },
 "nbformat": 4,
 "nbformat_minor": 2
}
