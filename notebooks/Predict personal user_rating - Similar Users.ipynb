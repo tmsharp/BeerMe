{
 "cells": [
  {
   "cell_type": "code",
   "execution_count": 1,
   "metadata": {},
   "outputs": [],
   "source": [
    "import pandas as pd\n",
    "import numpy as np\n",
    "import matplotlib.pyplot as plt"
   ]
  },
  {
   "cell_type": "markdown",
   "metadata": {},
   "source": [
    "## Import"
   ]
  },
  {
   "cell_type": "code",
   "execution_count": 2,
   "metadata": {},
   "outputs": [
    {
     "data": {
      "text/html": [
       "<div>\n",
       "<style scoped>\n",
       "    .dataframe tbody tr th:only-of-type {\n",
       "        vertical-align: middle;\n",
       "    }\n",
       "\n",
       "    .dataframe tbody tr th {\n",
       "        vertical-align: top;\n",
       "    }\n",
       "\n",
       "    .dataframe thead th {\n",
       "        text-align: right;\n",
       "    }\n",
       "</style>\n",
       "<table border=\"1\" class=\"dataframe\">\n",
       "  <thead>\n",
       "    <tr style=\"text-align: right;\">\n",
       "      <th></th>\n",
       "      <th>username</th>\n",
       "      <th>beer_name</th>\n",
       "      <th>ABV</th>\n",
       "      <th>IBU</th>\n",
       "      <th>global_rating</th>\n",
       "      <th>total</th>\n",
       "      <th>beertype_Adambier</th>\n",
       "      <th>beertype_Altbier</th>\n",
       "      <th>beertype_American Wild Ale</th>\n",
       "      <th>beertype_Australian Sparkling Ale</th>\n",
       "      <th>...</th>\n",
       "      <th>brewery_Örebro Brygghus</th>\n",
       "      <th>brewery_ØL</th>\n",
       "      <th>brewery_ØLKYMISTEN</th>\n",
       "      <th>brewery_Ølgaard</th>\n",
       "      <th>brewery_Ølhuset Drømmer &amp; Divan</th>\n",
       "      <th>brewery_Ølsmia</th>\n",
       "      <th>brewery_Ørbæk Bryggeri</th>\n",
       "      <th>brewery_Švyturys</th>\n",
       "      <th>brewery_Žatecký pivovar</th>\n",
       "      <th>user_rating</th>\n",
       "    </tr>\n",
       "  </thead>\n",
       "  <tbody>\n",
       "    <tr>\n",
       "      <th>0</th>\n",
       "      <td>tnt</td>\n",
       "      <td>Society &amp; Solitude #7</td>\n",
       "      <td>8.0</td>\n",
       "      <td>45.552157</td>\n",
       "      <td>4.38</td>\n",
       "      <td>1</td>\n",
       "      <td>0</td>\n",
       "      <td>0</td>\n",
       "      <td>0</td>\n",
       "      <td>0</td>\n",
       "      <td>...</td>\n",
       "      <td>0</td>\n",
       "      <td>0</td>\n",
       "      <td>0</td>\n",
       "      <td>0</td>\n",
       "      <td>0</td>\n",
       "      <td>0</td>\n",
       "      <td>0</td>\n",
       "      <td>0</td>\n",
       "      <td>0</td>\n",
       "      <td>4.25</td>\n",
       "    </tr>\n",
       "    <tr>\n",
       "      <th>1</th>\n",
       "      <td>tnt</td>\n",
       "      <td>Riwaka Single Hop Pale Ale</td>\n",
       "      <td>5.2</td>\n",
       "      <td>45.552157</td>\n",
       "      <td>4.14</td>\n",
       "      <td>1</td>\n",
       "      <td>0</td>\n",
       "      <td>0</td>\n",
       "      <td>0</td>\n",
       "      <td>0</td>\n",
       "      <td>...</td>\n",
       "      <td>0</td>\n",
       "      <td>0</td>\n",
       "      <td>0</td>\n",
       "      <td>0</td>\n",
       "      <td>0</td>\n",
       "      <td>0</td>\n",
       "      <td>0</td>\n",
       "      <td>0</td>\n",
       "      <td>0</td>\n",
       "      <td>5.00</td>\n",
       "    </tr>\n",
       "    <tr>\n",
       "      <th>2</th>\n",
       "      <td>tnt</td>\n",
       "      <td>Walk, Don't Run</td>\n",
       "      <td>3.7</td>\n",
       "      <td>45.552157</td>\n",
       "      <td>4.10</td>\n",
       "      <td>1</td>\n",
       "      <td>0</td>\n",
       "      <td>0</td>\n",
       "      <td>0</td>\n",
       "      <td>0</td>\n",
       "      <td>...</td>\n",
       "      <td>0</td>\n",
       "      <td>0</td>\n",
       "      <td>0</td>\n",
       "      <td>0</td>\n",
       "      <td>0</td>\n",
       "      <td>0</td>\n",
       "      <td>0</td>\n",
       "      <td>0</td>\n",
       "      <td>0</td>\n",
       "      <td>4.50</td>\n",
       "    </tr>\n",
       "    <tr>\n",
       "      <th>3</th>\n",
       "      <td>tnt</td>\n",
       "      <td>Czech Two</td>\n",
       "      <td>4.1</td>\n",
       "      <td>39.000000</td>\n",
       "      <td>3.81</td>\n",
       "      <td>1</td>\n",
       "      <td>0</td>\n",
       "      <td>0</td>\n",
       "      <td>0</td>\n",
       "      <td>0</td>\n",
       "      <td>...</td>\n",
       "      <td>0</td>\n",
       "      <td>0</td>\n",
       "      <td>0</td>\n",
       "      <td>0</td>\n",
       "      <td>0</td>\n",
       "      <td>0</td>\n",
       "      <td>0</td>\n",
       "      <td>0</td>\n",
       "      <td>0</td>\n",
       "      <td>4.25</td>\n",
       "    </tr>\n",
       "    <tr>\n",
       "      <th>4</th>\n",
       "      <td>tnt</td>\n",
       "      <td>Spirit of Revolt</td>\n",
       "      <td>8.2</td>\n",
       "      <td>52.000000</td>\n",
       "      <td>3.82</td>\n",
       "      <td>1</td>\n",
       "      <td>0</td>\n",
       "      <td>0</td>\n",
       "      <td>0</td>\n",
       "      <td>0</td>\n",
       "      <td>...</td>\n",
       "      <td>0</td>\n",
       "      <td>0</td>\n",
       "      <td>0</td>\n",
       "      <td>0</td>\n",
       "      <td>0</td>\n",
       "      <td>0</td>\n",
       "      <td>0</td>\n",
       "      <td>0</td>\n",
       "      <td>0</td>\n",
       "      <td>4.00</td>\n",
       "    </tr>\n",
       "  </tbody>\n",
       "</table>\n",
       "<p>5 rows × 3088 columns</p>\n",
       "</div>"
      ],
      "text/plain": [
       "  username                   beer_name  ABV        IBU  global_rating  total  \\\n",
       "0      tnt       Society & Solitude #7  8.0  45.552157           4.38      1   \n",
       "1      tnt  Riwaka Single Hop Pale Ale  5.2  45.552157           4.14      1   \n",
       "2      tnt             Walk, Don't Run  3.7  45.552157           4.10      1   \n",
       "3      tnt                   Czech Two  4.1  39.000000           3.81      1   \n",
       "4      tnt            Spirit of Revolt  8.2  52.000000           3.82      1   \n",
       "\n",
       "   beertype_Adambier  beertype_Altbier  beertype_American Wild Ale  \\\n",
       "0                  0                 0                           0   \n",
       "1                  0                 0                           0   \n",
       "2                  0                 0                           0   \n",
       "3                  0                 0                           0   \n",
       "4                  0                 0                           0   \n",
       "\n",
       "   beertype_Australian Sparkling Ale  ...  brewery_Örebro Brygghus  \\\n",
       "0                                  0  ...                        0   \n",
       "1                                  0  ...                        0   \n",
       "2                                  0  ...                        0   \n",
       "3                                  0  ...                        0   \n",
       "4                                  0  ...                        0   \n",
       "\n",
       "   brewery_ØL  brewery_ØLKYMISTEN  brewery_Ølgaard  \\\n",
       "0           0                   0                0   \n",
       "1           0                   0                0   \n",
       "2           0                   0                0   \n",
       "3           0                   0                0   \n",
       "4           0                   0                0   \n",
       "\n",
       "   brewery_Ølhuset Drømmer & Divan  brewery_Ølsmia  brewery_Ørbæk Bryggeri  \\\n",
       "0                                0               0                       0   \n",
       "1                                0               0                       0   \n",
       "2                                0               0                       0   \n",
       "3                                0               0                       0   \n",
       "4                                0               0                       0   \n",
       "\n",
       "   brewery_Švyturys  brewery_Žatecký pivovar  user_rating  \n",
       "0                 0                        0         4.25  \n",
       "1                 0                        0         5.00  \n",
       "2                 0                        0         4.50  \n",
       "3                 0                        0         4.25  \n",
       "4                 0                        0         4.00  \n",
       "\n",
       "[5 rows x 3088 columns]"
      ]
     },
     "execution_count": 2,
     "metadata": {},
     "output_type": "execute_result"
    }
   ],
   "source": [
    "datafile = '../data/prepped_data_whole.csv'\n",
    "\n",
    "df = pd.read_csv(datafile)\n",
    "\n",
    "df.head()"
   ]
  },
  {
   "cell_type": "markdown",
   "metadata": {},
   "source": [
    "# Find Similar Users. Build Model on their Data, Test on my Data"
   ]
  },
  {
   "cell_type": "markdown",
   "metadata": {},
   "source": [
    "## 1. Similarity Matrix - Impute with 0"
   ]
  },
  {
   "cell_type": "code",
   "execution_count": 3,
   "metadata": {},
   "outputs": [
    {
     "data": {
      "text/html": [
       "<div>\n",
       "<style scoped>\n",
       "    .dataframe tbody tr th:only-of-type {\n",
       "        vertical-align: middle;\n",
       "    }\n",
       "\n",
       "    .dataframe tbody tr th {\n",
       "        vertical-align: top;\n",
       "    }\n",
       "\n",
       "    .dataframe thead th {\n",
       "        text-align: right;\n",
       "    }\n",
       "</style>\n",
       "<table border=\"1\" class=\"dataframe\">\n",
       "  <thead>\n",
       "    <tr style=\"text-align: right;\">\n",
       "      <th>beer_name</th>\n",
       "      <th>username</th>\n",
       "      <th>\"Body\" System</th>\n",
       "      <th>\"Not Just Some\" Oatmeal Stout</th>\n",
       "      <th>\"That Guy\" Rye</th>\n",
       "      <th>\"V\"</th>\n",
       "      <th>\"michelle\" Sour Red Saison</th>\n",
       "      <th>#001 India Pale Ale Dry Hop Cascade</th>\n",
       "      <th>#004 Tysk Hveteøl Bavarian Tettnanger</th>\n",
       "      <th>#007 Tsjekkisk Pilsner Bohemian Saaz</th>\n",
       "      <th>#097 Soken Bitter</th>\n",
       "      <th>...</th>\n",
       "      <th>Żywiec</th>\n",
       "      <th>Żywiec APA</th>\n",
       "      <th>Żywiec Białe</th>\n",
       "      <th>Żywiec Sesyjne IPA</th>\n",
       "      <th>‘Tis the Saison</th>\n",
       "      <th>₡hop Shop #1</th>\n",
       "      <th>₡hop Shop #4</th>\n",
       "      <th>√225 Saison</th>\n",
       "      <th>√225 Saison Zymatore - Calvados &amp; Whiskey &amp; Sherry Barrels</th>\n",
       "      <th>日本から来たネコ (Some Cat From Japan)</th>\n",
       "    </tr>\n",
       "  </thead>\n",
       "  <tbody>\n",
       "    <tr>\n",
       "      <th>0</th>\n",
       "      <td>AlexKress</td>\n",
       "      <td>0</td>\n",
       "      <td>0.0</td>\n",
       "      <td>0.0</td>\n",
       "      <td>0.0</td>\n",
       "      <td>0.0</td>\n",
       "      <td>0.0</td>\n",
       "      <td>0.0</td>\n",
       "      <td>0.0</td>\n",
       "      <td>0.0</td>\n",
       "      <td>...</td>\n",
       "      <td>0.0</td>\n",
       "      <td>0.0</td>\n",
       "      <td>0.00</td>\n",
       "      <td>0.00</td>\n",
       "      <td>0</td>\n",
       "      <td>0</td>\n",
       "      <td>0.0</td>\n",
       "      <td>0.0</td>\n",
       "      <td>0</td>\n",
       "      <td>0</td>\n",
       "    </tr>\n",
       "    <tr>\n",
       "      <th>1</th>\n",
       "      <td>CapteinAwsome</td>\n",
       "      <td>0</td>\n",
       "      <td>0.0</td>\n",
       "      <td>0.0</td>\n",
       "      <td>0.0</td>\n",
       "      <td>0.0</td>\n",
       "      <td>3.5</td>\n",
       "      <td>3.5</td>\n",
       "      <td>1.5</td>\n",
       "      <td>0.0</td>\n",
       "      <td>...</td>\n",
       "      <td>0.0</td>\n",
       "      <td>0.0</td>\n",
       "      <td>2.75</td>\n",
       "      <td>2.75</td>\n",
       "      <td>0</td>\n",
       "      <td>0</td>\n",
       "      <td>0.0</td>\n",
       "      <td>4.0</td>\n",
       "      <td>0</td>\n",
       "      <td>0</td>\n",
       "    </tr>\n",
       "    <tr>\n",
       "      <th>2</th>\n",
       "      <td>Davidnorman</td>\n",
       "      <td>0</td>\n",
       "      <td>0.0</td>\n",
       "      <td>0.0</td>\n",
       "      <td>0.0</td>\n",
       "      <td>0.0</td>\n",
       "      <td>0.0</td>\n",
       "      <td>0.0</td>\n",
       "      <td>0.0</td>\n",
       "      <td>0.0</td>\n",
       "      <td>...</td>\n",
       "      <td>0.0</td>\n",
       "      <td>0.0</td>\n",
       "      <td>0.00</td>\n",
       "      <td>0.00</td>\n",
       "      <td>0</td>\n",
       "      <td>0</td>\n",
       "      <td>0.0</td>\n",
       "      <td>0.0</td>\n",
       "      <td>0</td>\n",
       "      <td>0</td>\n",
       "    </tr>\n",
       "    <tr>\n",
       "      <th>3</th>\n",
       "      <td>Fear_the_Beerd</td>\n",
       "      <td>0</td>\n",
       "      <td>0.0</td>\n",
       "      <td>0.0</td>\n",
       "      <td>0.0</td>\n",
       "      <td>0.0</td>\n",
       "      <td>0.0</td>\n",
       "      <td>0.0</td>\n",
       "      <td>0.0</td>\n",
       "      <td>0.0</td>\n",
       "      <td>...</td>\n",
       "      <td>0.0</td>\n",
       "      <td>0.0</td>\n",
       "      <td>0.00</td>\n",
       "      <td>0.00</td>\n",
       "      <td>0</td>\n",
       "      <td>0</td>\n",
       "      <td>0.0</td>\n",
       "      <td>0.0</td>\n",
       "      <td>0</td>\n",
       "      <td>0</td>\n",
       "    </tr>\n",
       "    <tr>\n",
       "      <th>4</th>\n",
       "      <td>Florindobucci</td>\n",
       "      <td>0</td>\n",
       "      <td>0.0</td>\n",
       "      <td>0.0</td>\n",
       "      <td>0.0</td>\n",
       "      <td>0.0</td>\n",
       "      <td>0.0</td>\n",
       "      <td>0.0</td>\n",
       "      <td>0.0</td>\n",
       "      <td>0.0</td>\n",
       "      <td>...</td>\n",
       "      <td>0.0</td>\n",
       "      <td>0.0</td>\n",
       "      <td>0.00</td>\n",
       "      <td>0.00</td>\n",
       "      <td>0</td>\n",
       "      <td>0</td>\n",
       "      <td>0.0</td>\n",
       "      <td>0.0</td>\n",
       "      <td>0</td>\n",
       "      <td>0</td>\n",
       "    </tr>\n",
       "  </tbody>\n",
       "</table>\n",
       "<p>5 rows × 16603 columns</p>\n",
       "</div>"
      ],
      "text/plain": [
       "beer_name        username  \"Body\" System  \"Not Just Some\" Oatmeal Stout  \\\n",
       "0               AlexKress              0                            0.0   \n",
       "1           CapteinAwsome              0                            0.0   \n",
       "2             Davidnorman              0                            0.0   \n",
       "3          Fear_the_Beerd              0                            0.0   \n",
       "4           Florindobucci              0                            0.0   \n",
       "\n",
       "beer_name  \"That Guy\" Rye  \"V\"  \"michelle\" Sour Red Saison  \\\n",
       "0                     0.0  0.0                         0.0   \n",
       "1                     0.0  0.0                         0.0   \n",
       "2                     0.0  0.0                         0.0   \n",
       "3                     0.0  0.0                         0.0   \n",
       "4                     0.0  0.0                         0.0   \n",
       "\n",
       "beer_name  #001 India Pale Ale Dry Hop Cascade  \\\n",
       "0                                          0.0   \n",
       "1                                          3.5   \n",
       "2                                          0.0   \n",
       "3                                          0.0   \n",
       "4                                          0.0   \n",
       "\n",
       "beer_name  #004 Tysk Hveteøl Bavarian Tettnanger  \\\n",
       "0                                            0.0   \n",
       "1                                            3.5   \n",
       "2                                            0.0   \n",
       "3                                            0.0   \n",
       "4                                            0.0   \n",
       "\n",
       "beer_name  #007 Tsjekkisk Pilsner Bohemian Saaz  #097 Soken Bitter  ...  \\\n",
       "0                                           0.0                0.0  ...   \n",
       "1                                           1.5                0.0  ...   \n",
       "2                                           0.0                0.0  ...   \n",
       "3                                           0.0                0.0  ...   \n",
       "4                                           0.0                0.0  ...   \n",
       "\n",
       "beer_name  Żywiec  Żywiec APA  Żywiec Białe  Żywiec Sesyjne IPA  \\\n",
       "0             0.0         0.0          0.00                0.00   \n",
       "1             0.0         0.0          2.75                2.75   \n",
       "2             0.0         0.0          0.00                0.00   \n",
       "3             0.0         0.0          0.00                0.00   \n",
       "4             0.0         0.0          0.00                0.00   \n",
       "\n",
       "beer_name  ‘Tis the Saison  ₡hop Shop #1  ₡hop Shop #4  √225 Saison  \\\n",
       "0                        0             0           0.0          0.0   \n",
       "1                        0             0           0.0          4.0   \n",
       "2                        0             0           0.0          0.0   \n",
       "3                        0             0           0.0          0.0   \n",
       "4                        0             0           0.0          0.0   \n",
       "\n",
       "beer_name  √225 Saison Zymatore - Calvados & Whiskey & Sherry Barrels  \\\n",
       "0                                                          0            \n",
       "1                                                          0            \n",
       "2                                                          0            \n",
       "3                                                          0            \n",
       "4                                                          0            \n",
       "\n",
       "beer_name  日本から来たネコ (Some Cat From Japan)  \n",
       "0                                       0  \n",
       "1                                       0  \n",
       "2                                       0  \n",
       "3                                       0  \n",
       "4                                       0  \n",
       "\n",
       "[5 rows x 16603 columns]"
      ]
     },
     "execution_count": 3,
     "metadata": {},
     "output_type": "execute_result"
    }
   ],
   "source": [
    "piv =  pd.pivot_table(data=df, values='user_rating', index='username', columns='beer_name', \n",
    "                      aggfunc='mean', fill_value=0).reset_index()\n",
    "piv.head()"
   ]
  },
  {
   "cell_type": "code",
   "execution_count": 4,
   "metadata": {},
   "outputs": [
    {
     "data": {
      "text/html": [
       "<div>\n",
       "<style scoped>\n",
       "    .dataframe tbody tr th:only-of-type {\n",
       "        vertical-align: middle;\n",
       "    }\n",
       "\n",
       "    .dataframe tbody tr th {\n",
       "        vertical-align: top;\n",
       "    }\n",
       "\n",
       "    .dataframe thead th {\n",
       "        text-align: right;\n",
       "    }\n",
       "</style>\n",
       "<table border=\"1\" class=\"dataframe\">\n",
       "  <thead>\n",
       "    <tr style=\"text-align: right;\">\n",
       "      <th>beer_name</th>\n",
       "      <th>\"Body\" System</th>\n",
       "      <th>\"Not Just Some\" Oatmeal Stout</th>\n",
       "      <th>\"That Guy\" Rye</th>\n",
       "      <th>\"V\"</th>\n",
       "      <th>\"michelle\" Sour Red Saison</th>\n",
       "      <th>#001 India Pale Ale Dry Hop Cascade</th>\n",
       "      <th>#004 Tysk Hveteøl Bavarian Tettnanger</th>\n",
       "      <th>#007 Tsjekkisk Pilsner Bohemian Saaz</th>\n",
       "      <th>#097 Soken Bitter</th>\n",
       "      <th>#100</th>\n",
       "      <th>...</th>\n",
       "      <th>Żywiec</th>\n",
       "      <th>Żywiec APA</th>\n",
       "      <th>Żywiec Białe</th>\n",
       "      <th>Żywiec Sesyjne IPA</th>\n",
       "      <th>‘Tis the Saison</th>\n",
       "      <th>₡hop Shop #1</th>\n",
       "      <th>₡hop Shop #4</th>\n",
       "      <th>√225 Saison</th>\n",
       "      <th>√225 Saison Zymatore - Calvados &amp; Whiskey &amp; Sherry Barrels</th>\n",
       "      <th>日本から来たネコ (Some Cat From Japan)</th>\n",
       "    </tr>\n",
       "  </thead>\n",
       "  <tbody>\n",
       "    <tr>\n",
       "      <th>0</th>\n",
       "      <td>0</td>\n",
       "      <td>0.0</td>\n",
       "      <td>0.0</td>\n",
       "      <td>0.0</td>\n",
       "      <td>0.0</td>\n",
       "      <td>0.0</td>\n",
       "      <td>0.0</td>\n",
       "      <td>0.0</td>\n",
       "      <td>0.0</td>\n",
       "      <td>0.0</td>\n",
       "      <td>...</td>\n",
       "      <td>0.0</td>\n",
       "      <td>0.0</td>\n",
       "      <td>0.00</td>\n",
       "      <td>0.00</td>\n",
       "      <td>0</td>\n",
       "      <td>0</td>\n",
       "      <td>0.0</td>\n",
       "      <td>0.0</td>\n",
       "      <td>0</td>\n",
       "      <td>0</td>\n",
       "    </tr>\n",
       "    <tr>\n",
       "      <th>1</th>\n",
       "      <td>0</td>\n",
       "      <td>0.0</td>\n",
       "      <td>0.0</td>\n",
       "      <td>0.0</td>\n",
       "      <td>0.0</td>\n",
       "      <td>3.5</td>\n",
       "      <td>3.5</td>\n",
       "      <td>1.5</td>\n",
       "      <td>0.0</td>\n",
       "      <td>0.0</td>\n",
       "      <td>...</td>\n",
       "      <td>0.0</td>\n",
       "      <td>0.0</td>\n",
       "      <td>2.75</td>\n",
       "      <td>2.75</td>\n",
       "      <td>0</td>\n",
       "      <td>0</td>\n",
       "      <td>0.0</td>\n",
       "      <td>4.0</td>\n",
       "      <td>0</td>\n",
       "      <td>0</td>\n",
       "    </tr>\n",
       "    <tr>\n",
       "      <th>2</th>\n",
       "      <td>0</td>\n",
       "      <td>0.0</td>\n",
       "      <td>0.0</td>\n",
       "      <td>0.0</td>\n",
       "      <td>0.0</td>\n",
       "      <td>0.0</td>\n",
       "      <td>0.0</td>\n",
       "      <td>0.0</td>\n",
       "      <td>0.0</td>\n",
       "      <td>0.0</td>\n",
       "      <td>...</td>\n",
       "      <td>0.0</td>\n",
       "      <td>0.0</td>\n",
       "      <td>0.00</td>\n",
       "      <td>0.00</td>\n",
       "      <td>0</td>\n",
       "      <td>0</td>\n",
       "      <td>0.0</td>\n",
       "      <td>0.0</td>\n",
       "      <td>0</td>\n",
       "      <td>0</td>\n",
       "    </tr>\n",
       "    <tr>\n",
       "      <th>3</th>\n",
       "      <td>0</td>\n",
       "      <td>0.0</td>\n",
       "      <td>0.0</td>\n",
       "      <td>0.0</td>\n",
       "      <td>0.0</td>\n",
       "      <td>0.0</td>\n",
       "      <td>0.0</td>\n",
       "      <td>0.0</td>\n",
       "      <td>0.0</td>\n",
       "      <td>0.0</td>\n",
       "      <td>...</td>\n",
       "      <td>0.0</td>\n",
       "      <td>0.0</td>\n",
       "      <td>0.00</td>\n",
       "      <td>0.00</td>\n",
       "      <td>0</td>\n",
       "      <td>0</td>\n",
       "      <td>0.0</td>\n",
       "      <td>0.0</td>\n",
       "      <td>0</td>\n",
       "      <td>0</td>\n",
       "    </tr>\n",
       "    <tr>\n",
       "      <th>4</th>\n",
       "      <td>0</td>\n",
       "      <td>0.0</td>\n",
       "      <td>0.0</td>\n",
       "      <td>0.0</td>\n",
       "      <td>0.0</td>\n",
       "      <td>0.0</td>\n",
       "      <td>0.0</td>\n",
       "      <td>0.0</td>\n",
       "      <td>0.0</td>\n",
       "      <td>0.0</td>\n",
       "      <td>...</td>\n",
       "      <td>0.0</td>\n",
       "      <td>0.0</td>\n",
       "      <td>0.00</td>\n",
       "      <td>0.00</td>\n",
       "      <td>0</td>\n",
       "      <td>0</td>\n",
       "      <td>0.0</td>\n",
       "      <td>0.0</td>\n",
       "      <td>0</td>\n",
       "      <td>0</td>\n",
       "    </tr>\n",
       "  </tbody>\n",
       "</table>\n",
       "<p>5 rows × 16602 columns</p>\n",
       "</div>"
      ],
      "text/plain": [
       "beer_name  \"Body\" System  \"Not Just Some\" Oatmeal Stout  \"That Guy\" Rye  \"V\"  \\\n",
       "0                      0                            0.0             0.0  0.0   \n",
       "1                      0                            0.0             0.0  0.0   \n",
       "2                      0                            0.0             0.0  0.0   \n",
       "3                      0                            0.0             0.0  0.0   \n",
       "4                      0                            0.0             0.0  0.0   \n",
       "\n",
       "beer_name  \"michelle\" Sour Red Saison  #001 India Pale Ale Dry Hop Cascade  \\\n",
       "0                                 0.0                                  0.0   \n",
       "1                                 0.0                                  3.5   \n",
       "2                                 0.0                                  0.0   \n",
       "3                                 0.0                                  0.0   \n",
       "4                                 0.0                                  0.0   \n",
       "\n",
       "beer_name  #004 Tysk Hveteøl Bavarian Tettnanger  \\\n",
       "0                                            0.0   \n",
       "1                                            3.5   \n",
       "2                                            0.0   \n",
       "3                                            0.0   \n",
       "4                                            0.0   \n",
       "\n",
       "beer_name  #007 Tsjekkisk Pilsner Bohemian Saaz  #097 Soken Bitter  #100  ...  \\\n",
       "0                                           0.0                0.0   0.0  ...   \n",
       "1                                           1.5                0.0   0.0  ...   \n",
       "2                                           0.0                0.0   0.0  ...   \n",
       "3                                           0.0                0.0   0.0  ...   \n",
       "4                                           0.0                0.0   0.0  ...   \n",
       "\n",
       "beer_name  Żywiec  Żywiec APA  Żywiec Białe  Żywiec Sesyjne IPA  \\\n",
       "0             0.0         0.0          0.00                0.00   \n",
       "1             0.0         0.0          2.75                2.75   \n",
       "2             0.0         0.0          0.00                0.00   \n",
       "3             0.0         0.0          0.00                0.00   \n",
       "4             0.0         0.0          0.00                0.00   \n",
       "\n",
       "beer_name  ‘Tis the Saison  ₡hop Shop #1  ₡hop Shop #4  √225 Saison  \\\n",
       "0                        0             0           0.0          0.0   \n",
       "1                        0             0           0.0          4.0   \n",
       "2                        0             0           0.0          0.0   \n",
       "3                        0             0           0.0          0.0   \n",
       "4                        0             0           0.0          0.0   \n",
       "\n",
       "beer_name  √225 Saison Zymatore - Calvados & Whiskey & Sherry Barrels  \\\n",
       "0                                                          0            \n",
       "1                                                          0            \n",
       "2                                                          0            \n",
       "3                                                          0            \n",
       "4                                                          0            \n",
       "\n",
       "beer_name  日本から来たネコ (Some Cat From Japan)  \n",
       "0                                       0  \n",
       "1                                       0  \n",
       "2                                       0  \n",
       "3                                       0  \n",
       "4                                       0  \n",
       "\n",
       "[5 rows x 16602 columns]"
      ]
     },
     "execution_count": 4,
     "metadata": {},
     "output_type": "execute_result"
    }
   ],
   "source": [
    "X = piv[piv['username'] == 'tsharp93'].drop('username', axis=1)\n",
    "Y = piv[piv['username'] != 'tsharp93'].drop('username', axis=1)\n",
    "Y.head()"
   ]
  },
  {
   "cell_type": "code",
   "execution_count": 5,
   "metadata": {},
   "outputs": [
    {
     "data": {
      "text/html": [
       "<div>\n",
       "<style scoped>\n",
       "    .dataframe tbody tr th:only-of-type {\n",
       "        vertical-align: middle;\n",
       "    }\n",
       "\n",
       "    .dataframe tbody tr th {\n",
       "        vertical-align: top;\n",
       "    }\n",
       "\n",
       "    .dataframe thead th {\n",
       "        text-align: right;\n",
       "    }\n",
       "</style>\n",
       "<table border=\"1\" class=\"dataframe\">\n",
       "  <thead>\n",
       "    <tr style=\"text-align: right;\">\n",
       "      <th>beer_name</th>\n",
       "      <th>\"Body\" System</th>\n",
       "      <th>\"Not Just Some\" Oatmeal Stout</th>\n",
       "      <th>\"That Guy\" Rye</th>\n",
       "      <th>\"V\"</th>\n",
       "      <th>\"michelle\" Sour Red Saison</th>\n",
       "      <th>#001 India Pale Ale Dry Hop Cascade</th>\n",
       "      <th>#004 Tysk Hveteøl Bavarian Tettnanger</th>\n",
       "      <th>#007 Tsjekkisk Pilsner Bohemian Saaz</th>\n",
       "      <th>#097 Soken Bitter</th>\n",
       "      <th>#100</th>\n",
       "      <th>...</th>\n",
       "      <th>Żywiec</th>\n",
       "      <th>Żywiec APA</th>\n",
       "      <th>Żywiec Białe</th>\n",
       "      <th>Żywiec Sesyjne IPA</th>\n",
       "      <th>‘Tis the Saison</th>\n",
       "      <th>₡hop Shop #1</th>\n",
       "      <th>₡hop Shop #4</th>\n",
       "      <th>√225 Saison</th>\n",
       "      <th>√225 Saison Zymatore - Calvados &amp; Whiskey &amp; Sherry Barrels</th>\n",
       "      <th>日本から来たネコ (Some Cat From Japan)</th>\n",
       "    </tr>\n",
       "  </thead>\n",
       "  <tbody>\n",
       "    <tr>\n",
       "      <th>44</th>\n",
       "      <td>0</td>\n",
       "      <td>0.0</td>\n",
       "      <td>0.0</td>\n",
       "      <td>0.0</td>\n",
       "      <td>0.0</td>\n",
       "      <td>0.0</td>\n",
       "      <td>0.0</td>\n",
       "      <td>0.0</td>\n",
       "      <td>0.0</td>\n",
       "      <td>0.0</td>\n",
       "      <td>...</td>\n",
       "      <td>0.0</td>\n",
       "      <td>0.0</td>\n",
       "      <td>0.0</td>\n",
       "      <td>0.0</td>\n",
       "      <td>0</td>\n",
       "      <td>0</td>\n",
       "      <td>0.0</td>\n",
       "      <td>0.0</td>\n",
       "      <td>0</td>\n",
       "      <td>0</td>\n",
       "    </tr>\n",
       "  </tbody>\n",
       "</table>\n",
       "<p>1 rows × 16602 columns</p>\n",
       "</div>"
      ],
      "text/plain": [
       "beer_name  \"Body\" System  \"Not Just Some\" Oatmeal Stout  \"That Guy\" Rye  \"V\"  \\\n",
       "44                     0                            0.0             0.0  0.0   \n",
       "\n",
       "beer_name  \"michelle\" Sour Red Saison  #001 India Pale Ale Dry Hop Cascade  \\\n",
       "44                                0.0                                  0.0   \n",
       "\n",
       "beer_name  #004 Tysk Hveteøl Bavarian Tettnanger  \\\n",
       "44                                           0.0   \n",
       "\n",
       "beer_name  #007 Tsjekkisk Pilsner Bohemian Saaz  #097 Soken Bitter  #100  ...  \\\n",
       "44                                          0.0                0.0   0.0  ...   \n",
       "\n",
       "beer_name  Żywiec  Żywiec APA  Żywiec Białe  Żywiec Sesyjne IPA  \\\n",
       "44            0.0         0.0           0.0                 0.0   \n",
       "\n",
       "beer_name  ‘Tis the Saison  ₡hop Shop #1  ₡hop Shop #4  √225 Saison  \\\n",
       "44                       0             0           0.0          0.0   \n",
       "\n",
       "beer_name  √225 Saison Zymatore - Calvados & Whiskey & Sherry Barrels  \\\n",
       "44                                                         0            \n",
       "\n",
       "beer_name  日本から来たネコ (Some Cat From Japan)  \n",
       "44                                      0  \n",
       "\n",
       "[1 rows x 16602 columns]"
      ]
     },
     "execution_count": 5,
     "metadata": {},
     "output_type": "execute_result"
    }
   ],
   "source": [
    "X.head()"
   ]
  },
  {
   "cell_type": "code",
   "execution_count": 6,
   "metadata": {},
   "outputs": [],
   "source": [
    "from sklearn.metrics.pairwise import cosine_similarity"
   ]
  },
  {
   "cell_type": "code",
   "execution_count": 7,
   "metadata": {},
   "outputs": [
    {
     "data": {
      "text/html": [
       "<div>\n",
       "<style scoped>\n",
       "    .dataframe tbody tr th:only-of-type {\n",
       "        vertical-align: middle;\n",
       "    }\n",
       "\n",
       "    .dataframe tbody tr th {\n",
       "        vertical-align: top;\n",
       "    }\n",
       "\n",
       "    .dataframe thead th {\n",
       "        text-align: right;\n",
       "    }\n",
       "</style>\n",
       "<table border=\"1\" class=\"dataframe\">\n",
       "  <thead>\n",
       "    <tr style=\"text-align: right;\">\n",
       "      <th></th>\n",
       "      <th>username</th>\n",
       "      <th>sim_score</th>\n",
       "    </tr>\n",
       "  </thead>\n",
       "  <tbody>\n",
       "    <tr>\n",
       "      <th>4</th>\n",
       "      <td>Florindobucci</td>\n",
       "      <td>0.039014</td>\n",
       "    </tr>\n",
       "    <tr>\n",
       "      <th>28</th>\n",
       "      <td>emichael7390</td>\n",
       "      <td>0.037446</td>\n",
       "    </tr>\n",
       "    <tr>\n",
       "      <th>0</th>\n",
       "      <td>AlexKress</td>\n",
       "      <td>0.027732</td>\n",
       "    </tr>\n",
       "    <tr>\n",
       "      <th>3</th>\n",
       "      <td>Fear_the_Beerd</td>\n",
       "      <td>0.026869</td>\n",
       "    </tr>\n",
       "    <tr>\n",
       "      <th>19</th>\n",
       "      <td>SestervikensBryggeri_Lars</td>\n",
       "      <td>0.020740</td>\n",
       "    </tr>\n",
       "  </tbody>\n",
       "</table>\n",
       "</div>"
      ],
      "text/plain": [
       "                     username  sim_score\n",
       "4               Florindobucci   0.039014\n",
       "28               emichael7390   0.037446\n",
       "0                   AlexKress   0.027732\n",
       "3              Fear_the_Beerd   0.026869\n",
       "19  SestervikensBryggeri_Lars   0.020740"
      ]
     },
     "execution_count": 7,
     "metadata": {},
     "output_type": "execute_result"
    }
   ],
   "source": [
    "sim = cosine_similarity(X,Y)[0].tolist()\n",
    "names = piv[piv['username'] != 'tsharp93']['username']\n",
    "\n",
    "sim_df = pd.DataFrame({'username':names, 'sim_score':sim})\n",
    "sim_df.sort_values(by='sim_score', ascending=False).head()"
   ]
  },
  {
   "cell_type": "markdown",
   "metadata": {},
   "source": [
    "## Scale"
   ]
  },
  {
   "cell_type": "code",
   "execution_count": 8,
   "metadata": {},
   "outputs": [],
   "source": [
    "from sklearn.preprocessing import StandardScaler"
   ]
  },
  {
   "cell_type": "code",
   "execution_count": 9,
   "metadata": {},
   "outputs": [],
   "source": [
    "X_scaler = StandardScaler()\n",
    "Y_scaler = StandardScaler()"
   ]
  },
  {
   "cell_type": "code",
   "execution_count": 10,
   "metadata": {},
   "outputs": [
    {
     "data": {
      "text/plain": [
       "StandardScaler(copy=True, with_mean=True, with_std=True)"
      ]
     },
     "execution_count": 10,
     "metadata": {},
     "output_type": "execute_result"
    }
   ],
   "source": [
    "X_scaler.fit(df[['ABV', 'IBU', 'global_rating']])"
   ]
  },
  {
   "cell_type": "code",
   "execution_count": 11,
   "metadata": {},
   "outputs": [],
   "source": [
    "df[['ABV', 'IBU', 'global_rating']] = X_scaler.transform(df[['ABV', 'IBU', 'global_rating']])"
   ]
  },
  {
   "cell_type": "code",
   "execution_count": 12,
   "metadata": {},
   "outputs": [
    {
     "data": {
      "text/plain": [
       "StandardScaler(copy=True, with_mean=True, with_std=True)"
      ]
     },
     "execution_count": 12,
     "metadata": {},
     "output_type": "execute_result"
    }
   ],
   "source": [
    "Y_scaler.fit(np.array(df['user_rating']).reshape(-1,1))"
   ]
  },
  {
   "cell_type": "code",
   "execution_count": 13,
   "metadata": {},
   "outputs": [],
   "source": [
    "df['user_rating'] = Y_scaler.transform(np.array(df['user_rating']).reshape(-1,1))"
   ]
  },
  {
   "cell_type": "markdown",
   "metadata": {},
   "source": [
    "### Top N"
   ]
  },
  {
   "cell_type": "code",
   "execution_count": 22,
   "metadata": {},
   "outputs": [
    {
     "name": "stdout",
     "output_type": "stream",
     "text": [
      "number of users = 45\n"
     ]
    }
   ],
   "source": [
    "print(\"number of users = {}\".format(len(df['username'].unique())))"
   ]
  },
  {
   "cell_type": "code",
   "execution_count": 21,
   "metadata": {},
   "outputs": [
    {
     "name": "stdout",
     "output_type": "stream",
     "text": [
      "length of all points 24,982\n"
     ]
    }
   ],
   "source": [
    "print(\"length of all points = {:,d}\".format(len(df)))"
   ]
  },
  {
   "cell_type": "code",
   "execution_count": 19,
   "metadata": {},
   "outputs": [
    {
     "name": "stdout",
     "output_type": "stream",
     "text": [
      "N = 5, # Points = 3,899\n",
      "N = 6, # Points = 6,474\n",
      "N = 7, # Points = 7,724\n",
      "N = 8, # Points = 11,124\n",
      "N = 9, # Points = 12,808\n",
      "N = 10, # Points = 14,558\n"
     ]
    }
   ],
   "source": [
    "n_users_list = range(5,11)\n",
    "\n",
    "for n in n_users_list:\n",
    "    top_n = list(sim_df.sort_values('sim_score', ascending=False)[0:n]['username'])\n",
    "    top_n_df = df[df['username'].isin(top_n)]\n",
    "    print(\"N = {}, # Points = {:,d}\".format(n, len(top_n_df)))"
   ]
  },
  {
   "cell_type": "markdown",
   "metadata": {},
   "source": [
    "### Lasso"
   ]
  },
  {
   "cell_type": "code",
   "execution_count": 62,
   "metadata": {},
   "outputs": [
    {
     "name": "stdout",
     "output_type": "stream",
     "text": [
      "MAE = 0.32467724234973133 for n = 5\n",
      "MAE = 0.3384527693830408 for n = 6\n",
      "MAE = 0.34174837269378505 for n = 7\n",
      "MAE = 0.3883735419288512 for n = 8\n",
      "MAE = 0.36065592439586125 for n = 9\n",
      "MAE = 0.3520688337128628 for n = 10\n"
     ]
    }
   ],
   "source": [
    "rand_state = 10\n",
    "n_users_list = [5,6,7,8,9,10]\n",
    "\n",
    "mae_list = []\n",
    "quarter_abs_error_list = []\n",
    "half_abs_error_list = []\n",
    "for n in n_users_list:\n",
    "\n",
    "    # get data for top n users similar to selected user\n",
    "    top_n = list(sim_df.sort_values('sim_score', ascending=False)[0:n]['username'])\n",
    "    top_n_df = df[df['username'].isin(top_n)]\n",
    "\n",
    "    # exclude rows where user/global rating is not available\n",
    "    top_n_df = top_n_df[~top_n_df['user_rating'].isna()]\n",
    "    top_n_df = top_n_df[~top_n_df['global_rating'].isna()]\n",
    "\n",
    "    # split data\n",
    "    x = top_n_df.drop(['username', 'beer_name', 'user_rating'],axis=1)\n",
    "    y = top_n_df['user_rating']\n",
    "    # from sklearn.model_selection import train_test_split\n",
    "    # X_train, X_test, y_train, y_test = train_test_split(x, y, test_size=0.2, random_state=rand_state)\n",
    "    X_test = df[df['username'] == 'tsharp93'].drop(['username', 'beer_name', 'user_rating'], axis=1)\n",
    "    y_test = df[df['username'] == 'tsharp93']['user_rating']\n",
    "\n",
    "    # Train model\n",
    "    from sklearn.linear_model import LassoCV\n",
    "    model = LassoCV(fit_intercept=False, normalize=False, cv=5, random_state=rand_state)\n",
    "    model.fit(x, y)\n",
    "\n",
    "    # Evaluate model on user's data \n",
    "    preds = model.predict(X_test)\n",
    "    \n",
    "    # unscale\n",
    "    preds_unscaled = Y_scaler.inverse_transform(preds)\n",
    "    y_test_unscaled = Y_scaler.inverse_transform(y_test)\n",
    "\n",
    "    # evaluate results\n",
    "    results_df = pd.DataFrame([preds_unscaled, y_test_unscaled]).transpose()\n",
    "    results_df.columns = ['predicted', 'actual']\n",
    "    results_df['error'] = results_df['predicted'] - results_df['actual']\n",
    "    results_df['abs_error'] = abs(results_df['error'])\n",
    "\n",
    "    # Performance Metrics \n",
    "    mae = np.mean(results_df['abs_error'])\n",
    "    print('MAE =', mae, \"for n =\", n)\n",
    "    \n",
    "    quarter_abs_error_list.append(100*len(results_df[results_df['abs_error']<=0.25])/len(results_df))\n",
    "    half_abs_error_list.append(100*len(results_df[results_df['abs_error']<=0.50])/len(results_df))\n",
    "    mae_list.append(mae)"
   ]
  },
  {
   "cell_type": "code",
   "execution_count": 63,
   "metadata": {},
   "outputs": [
    {
     "data": {
      "text/plain": [
       "Text(0, 0.5, 'Mean Absolute Error (MAE)')"
      ]
     },
     "execution_count": 63,
     "metadata": {},
     "output_type": "execute_result"
    },
    {
     "data": {
      "image/png": "[encoded data removed]",
      "text/plain": [
       "<Figure size 432x288 with 1 Axes>"
      ]
     },
     "metadata": {
      "needs_background": "light"
     },
     "output_type": "display_data"
    }
   ],
   "source": [
    "plt.scatter(n_users_list, mae_list)\n",
    "plt.xlabel('Number of Similar Users')\n",
    "plt.ylabel('Mean Absolute Error (MAE)')\n",
    "plt.show()\n",
    "\n",
    "plt.scatter(n_users_list, quarter_abs_error_list)\n",
    "plt.xlabel('Number of Similar Users')\n",
    "plt.ylabel('% of Data Points within 0.25 Abs Error')\n",
    "plt.show()\n",
    "\n",
    "plt.scatter(n_users_list, half_abs_error_list)\n",
    "plt.xlabel('Number of Similar Users')\n",
    "plt.ylabel('% of Data Points within 0.50 Abs Error')\n",
    "plt.show()"
   ]
  },
  {
   "cell_type": "markdown",
   "metadata": {},
   "source": [
    "### ElasticNet"
   ]
  },
  {
   "cell_type": "code",
   "execution_count": 66,
   "metadata": {},
   "outputs": [
    {
     "name": "stdout",
     "output_type": "stream",
     "text": [
      "MAE = 0.32466187447625017 for n = 5\n",
      "MAE = 0.33598582624984386 for n = 6\n",
      "MAE = 0.34394487961069814 for n = 7\n",
      "MAE = 0.3848463935555247 for n = 8\n",
      "MAE = 0.363384215909654 for n = 9\n",
      "MAE = 0.3606381034996873 for n = 10\n"
     ]
    }
   ],
   "source": [
    "rand_state = 10\n",
    "n_users_list = [5,6,7,8,9,10]\n",
    "\n",
    "mae_list = []\n",
    "quarter_abs_error_list = []\n",
    "half_abs_error_list = []\n",
    "for n in n_users_list:\n",
    "\n",
    "    # get data for top n users similar to selected user\n",
    "    top_n = list(sim_df.sort_values('sim_score', ascending=False)[0:n]['username'])\n",
    "    top_n_df = df[df['username'].isin(top_n)]\n",
    "\n",
    "    # exclude rows where user/global rating is not available\n",
    "    top_n_df = top_n_df[~top_n_df['user_rating'].isna()]\n",
    "    top_n_df = top_n_df[~top_n_df['global_rating'].isna()]\n",
    "\n",
    "    # split data\n",
    "    x = top_n_df.drop(['username', 'beer_name', 'user_rating'],axis=1)\n",
    "    y = top_n_df['user_rating']\n",
    "    # from sklearn.model_selection import train_test_split\n",
    "    # X_train, X_test, y_train, y_test = train_test_split(x, y, test_size=0.2, random_state=rand_state)\n",
    "    X_test = df[df['username'] == 'tsharp93'].drop(['username', 'beer_name', 'user_rating'], axis=1)\n",
    "    y_test = df[df['username'] == 'tsharp93']['user_rating']\n",
    "\n",
    "    # Train model\n",
    "    from sklearn.linear_model import ElasticNetCV\n",
    "    model = ElasticNetCV(fit_intercept=False, normalize=False, cv=5, random_state=rand_state)\n",
    "    model.fit(x, y)\n",
    "\n",
    "    # Evaluate model on user's data \n",
    "    preds = model.predict(X_test)\n",
    "    \n",
    "    # unscale\n",
    "    preds_unscaled = Y_scaler.inverse_transform(preds)\n",
    "    y_test_unscaled = Y_scaler.inverse_transform(y_test)\n",
    "\n",
    "    # evaluate results\n",
    "    results_df = pd.DataFrame([preds_unscaled, y_test_unscaled]).transpose()\n",
    "    results_df.columns = ['predicted', 'actual']\n",
    "    results_df['error'] = results_df['predicted'] - results_df['actual']\n",
    "    results_df['abs_error'] = abs(results_df['error'])\n",
    "\n",
    "    # Performance Metrics \n",
    "    mae = np.mean(results_df['abs_error'])\n",
    "    print('MAE =', mae, \"for n =\", n)\n",
    "    \n",
    "    quarter_abs_error_list.append(100*len(results_df[results_df['abs_error']<=0.25])/len(results_df))\n",
    "    half_abs_error_list.append(100*len(results_df[results_df['abs_error']<=0.50])/len(results_df))\n",
    "    mae_list.append(mae)"
   ]
  },
  {
   "cell_type": "code",
   "execution_count": 68,
   "metadata": {},
   "outputs": [
    {
     "data": {
      "image/png": "[encoded data removed]",
      "text/plain": [
       "<Figure size 432x288 with 1 Axes>"
      ]
     },
     "metadata": {
      "needs_background": "light"
     },
     "output_type": "display_data"
    },
    {
     "data": {
      "image/png": "[encoded data removed]",
      "text/plain": [
       "<Figure size 432x288 with 1 Axes>"
      ]
     },
     "metadata": {
      "needs_background": "light"
     },
     "output_type": "display_data"
    },
    {
     "data": {
      "image/png": "[encoded data removed]",
      "text/plain": [
       "<Figure size 432x288 with 1 Axes>"
      ]
     },
     "metadata": {
      "needs_background": "light"
     },
     "output_type": "display_data"
    }
   ],
   "source": [
    "plt.scatter(n_users_list, mae_list)\n",
    "plt.xlabel('Number of Similar Users')\n",
    "plt.ylabel('Mean Absolute Error (MAE)')\n",
    "plt.show()\n",
    "\n",
    "plt.scatter(n_users_list, quarter_abs_error_list)\n",
    "plt.xlabel('Number of Similar Users')\n",
    "plt.ylabel('% of Data Points within 0.25 Abs Error')\n",
    "plt.show()\n",
    "\n",
    "plt.scatter(n_users_list, half_abs_error_list)\n",
    "plt.xlabel('Number of Similar Users')\n",
    "plt.ylabel('% of Data Points within 0.50 Abs Error')\n",
    "plt.show()"
   ]
  },
  {
   "cell_type": "markdown",
   "metadata": {},
   "source": [
    "### Random Forest - Default Hyperparameters"
   ]
  },
  {
   "cell_type": "code",
   "execution_count": null,
   "metadata": {},
   "outputs": [
    {
     "name": "stderr",
     "output_type": "stream",
     "text": [
      "/opt/conda/lib/python3.7/site-packages/sklearn/ensemble/forest.py:246: FutureWarning: The default value of n_estimators will change from 10 in version 0.20 to 100 in 0.22.\n",
      "  \"10 in version 0.20 to 100 in 0.22.\", FutureWarning)\n"
     ]
    },
    {
     "name": "stdout",
     "output_type": "stream",
     "text": [
      "MAE = 0.374 for n = 5\n"
     ]
    },
    {
     "name": "stderr",
     "output_type": "stream",
     "text": [
      "/opt/conda/lib/python3.7/site-packages/sklearn/ensemble/forest.py:246: FutureWarning: The default value of n_estimators will change from 10 in version 0.20 to 100 in 0.22.\n",
      "  \"10 in version 0.20 to 100 in 0.22.\", FutureWarning)\n"
     ]
    },
    {
     "name": "stdout",
     "output_type": "stream",
     "text": [
      "MAE = 0.3765 for n = 6\n"
     ]
    },
    {
     "name": "stderr",
     "output_type": "stream",
     "text": [
      "/opt/conda/lib/python3.7/site-packages/sklearn/ensemble/forest.py:246: FutureWarning: The default value of n_estimators will change from 10 in version 0.20 to 100 in 0.22.\n",
      "  \"10 in version 0.20 to 100 in 0.22.\", FutureWarning)\n"
     ]
    },
    {
     "name": "stdout",
     "output_type": "stream",
     "text": [
      "MAE = 0.3559999999999999 for n = 7\n"
     ]
    },
    {
     "name": "stderr",
     "output_type": "stream",
     "text": [
      "/opt/conda/lib/python3.7/site-packages/sklearn/ensemble/forest.py:246: FutureWarning: The default value of n_estimators will change from 10 in version 0.20 to 100 in 0.22.\n",
      "  \"10 in version 0.20 to 100 in 0.22.\", FutureWarning)\n"
     ]
    },
    {
     "name": "stdout",
     "output_type": "stream",
     "text": [
      "MAE = 0.44049999999999995 for n = 8\n"
     ]
    },
    {
     "name": "stderr",
     "output_type": "stream",
     "text": [
      "/opt/conda/lib/python3.7/site-packages/sklearn/ensemble/forest.py:246: FutureWarning: The default value of n_estimators will change from 10 in version 0.20 to 100 in 0.22.\n",
      "  \"10 in version 0.20 to 100 in 0.22.\", FutureWarning)\n"
     ]
    }
   ],
   "source": [
    "rand_state = 10\n",
    "n_users_list = [5,6,7,8,9,10]\n",
    "\n",
    "mae_list = []\n",
    "quarter_abs_error_list = []\n",
    "half_abs_error_list = []\n",
    "for n in n_users_list:\n",
    "\n",
    "    # get data for top n users similar to selected user\n",
    "    top_n = list(sim_df.sort_values('sim_score', ascending=False)[0:n]['username'])\n",
    "    top_n_df = df[df['username'].isin(top_n)]\n",
    "\n",
    "    # exclude rows where user/global rating is not available\n",
    "    top_n_df = top_n_df[~top_n_df['user_rating'].isna()]\n",
    "    top_n_df = top_n_df[~top_n_df['global_rating'].isna()]\n",
    "\n",
    "    # split data\n",
    "    x = top_n_df.drop(['username', 'beer_name', 'user_rating'],axis=1)\n",
    "    y = top_n_df['user_rating']\n",
    "    # from sklearn.model_selection import train_test_split\n",
    "    # X_train, X_test, y_train, y_test = train_test_split(x, y, test_size=0.2, random_state=rand_state)\n",
    "    X_test = df[df['username'] == 'tsharp93'].drop(['username', 'beer_name', 'user_rating'], axis=1)\n",
    "    y_test = df[df['username'] == 'tsharp93']['user_rating']\n",
    "\n",
    "    # Train model\n",
    "    from sklearn.ensemble import RandomForestRegressor\n",
    "    from sklearn.model_selection import GridSearchCV\n",
    "    \n",
    "    model = RandomForestRegressor(criterion='mae')\n",
    "#     param_grid = {  \"n_estimators\": [10,20,50],\n",
    "#                     \"max_depth\": [3,5,10,None],\n",
    "#                     \"max_features\": [5,10,25,50,100],\n",
    "#                     \"min_samples_split\": [2,5,7,10],\n",
    "#                     \"bootstrap\": [True, False] }\n",
    "#     grid_search = GridSearchCV(model, param_grid=param_grid, cv=5, iid=False)\n",
    "#     grid_search.fit(x, y)\n",
    "    model.fit(x,y)\n",
    "\n",
    "    # Evaluate model on user's data \n",
    "    preds = model.predict(X_test)\n",
    "    \n",
    "    # unscale\n",
    "    preds_unscaled = Y_scaler.inverse_transform(preds)\n",
    "    y_test_unscaled = Y_scaler.inverse_transform(y_test)\n",
    "\n",
    "    # evaluate results\n",
    "    results_df = pd.DataFrame([preds_unscaled, y_test_unscaled]).transpose()\n",
    "    results_df.columns = ['predicted', 'actual']\n",
    "    results_df['error'] = results_df['predicted'] - results_df['actual']\n",
    "    results_df['abs_error'] = abs(results_df['error'])\n",
    "\n",
    "    # Performance Metrics \n",
    "    mae = np.mean(results_df['abs_error'])\n",
    "    print('MAE =', mae, \"for n =\", n)\n",
    "    \n",
    "    quarter_abs_error_list.append(100*len(results_df[results_df['abs_error']<=0.25])/len(results_df))\n",
    "    half_abs_error_list.append(100*len(results_df[results_df['abs_error']<=0.50])/len(results_df))\n",
    "    mae_list.append(mae)"
   ]
  },
  {
   "cell_type": "code",
   "execution_count": null,
   "metadata": {},
   "outputs": [],
   "source": [
    "plt.scatter(n_users_list, mae_list)\n",
    "plt.xlabel('Number of Similar Users')\n",
    "plt.ylabel('Mean Absolute Error (MAE)')\n",
    "plt.show()\n",
    "\n",
    "plt.scatter(n_users_list, quarter_abs_error_list)\n",
    "plt.xlabel('Number of Similar Users')\n",
    "plt.ylabel('% of Data Points within 0.25 Abs Error')\n",
    "plt.show()\n",
    "\n",
    "plt.scatter(n_users_list, half_abs_error_list)\n",
    "plt.xlabel('Number of Similar Users')\n",
    "plt.ylabel('% of Data Points within 0.50 Abs Error')\n",
    "plt.show()"
   ]
  },
  {
   "cell_type": "code",
   "execution_count": 1,
   "metadata": {},
   "outputs": [
    {
     "data": {
      "text/plain": [
       "1"
      ]
     },
     "execution_count": 1,
     "metadata": {},
     "output_type": "execute_result"
    }
   ],
   "source": [
    "1"
   ]
  },
  {
   "cell_type": "markdown",
   "metadata": {},
   "source": [
    "### Random Forest - Grid Search"
   ]
  },
  {
   "cell_type": "code",
   "execution_count": 14,
   "metadata": {},
   "outputs": [
    {
     "name": "stdout",
     "output_type": "stream",
     "text": [
      "MAE = 0.37333333333333335 for n = 5\n"
     ]
    }
   ],
   "source": [
    "rand_state = 10\n",
    "# n_users_list = [5,6,7,8,9,10]\n",
    "n_users_list = [5]\n",
    "\n",
    "mae_list = []\n",
    "quarter_abs_error_list = []\n",
    "half_abs_error_list = []\n",
    "\n",
    "for n in n_users_list:\n",
    "\n",
    "    # get data for top n users similar to selected user\n",
    "    top_n = list(sim_df.sort_values('sim_score', ascending=False)[0:n]['username'])\n",
    "    top_n_df = df[df['username'].isin(top_n)]\n",
    "\n",
    "    # exclude rows where user/global rating is not available\n",
    "    top_n_df = top_n_df[~top_n_df['user_rating'].isna()]\n",
    "    top_n_df = top_n_df[~top_n_df['global_rating'].isna()]\n",
    "\n",
    "    # split data\n",
    "    x = top_n_df.drop(['username', 'beer_name', 'user_rating'],axis=1)\n",
    "    y = top_n_df['user_rating']\n",
    "    # from sklearn.model_selection import train_test_split\n",
    "    # X_train, X_test, y_train, y_test = train_test_split(x, y, test_size=0.2, random_state=rand_state)\n",
    "    X_test = df[df['username'] == 'tsharp93'].drop(['username', 'beer_name', 'user_rating'], axis=1)\n",
    "    y_test = df[df['username'] == 'tsharp93']['user_rating']\n",
    "\n",
    "    # Train model\n",
    "    from sklearn.ensemble import RandomForestRegressor\n",
    "    from sklearn.model_selection import GridSearchCV\n",
    "    \n",
    "    model = RandomForestRegressor(criterion='mae')\n",
    "    param_grid = {  \"n_estimators\": [10,20,30],\n",
    "                    \"max_depth\": [3,5, None],\n",
    "                    \"max_features\": [5,10,25,50,100]}\n",
    "    grid_search = GridSearchCV(model, param_grid=param_grid, cv=3, iid=False)\n",
    "    grid_search.fit(x, y)\n",
    "    \n",
    "    # Evaluate model on user's data \n",
    "    preds = grid_search.predict(X_test)\n",
    "    \n",
    "    # unscale\n",
    "    preds_unscaled = Y_scaler.inverse_transform(preds)\n",
    "    y_test_unscaled = Y_scaler.inverse_transform(y_test)\n",
    "\n",
    "    # evaluate results\n",
    "    results_df = pd.DataFrame([preds_unscaled, y_test_unscaled]).transpose()\n",
    "    results_df.columns = ['predicted', 'actual']\n",
    "    results_df['error'] = results_df['predicted'] - results_df['actual']\n",
    "    results_df['abs_error'] = abs(results_df['error'])\n",
    "\n",
    "    # Performance Metrics \n",
    "    mae = np.mean(results_df['abs_error'])\n",
    "    print('MAE =', mae, \"for n =\", n)\n",
    "    \n",
    "    quarter_abs_error_list.append(100*len(results_df[results_df['abs_error']<=0.25])/len(results_df))\n",
    "    half_abs_error_list.append(100*len(results_df[results_df['abs_error']<=0.50])/len(results_df))\n",
    "    mae_list.append(mae)"
   ]
  },
  {
   "cell_type": "code",
   "execution_count": null,
   "metadata": {},
   "outputs": [],
   "source": [
    "rand_state = 10\n",
    "# n_users_list = [5,6,7,8,9,10]\n",
    "n_users_list = [6,7]\n",
    "\n",
    "mae_list = []\n",
    "quarter_abs_error_list = []\n",
    "half_abs_error_list = []\n",
    "for n in n_users_list:\n",
    "\n",
    "    # get data for top n users similar to selected user\n",
    "    top_n = list(sim_df.sort_values('sim_score', ascending=False)[0:n]['username'])\n",
    "    top_n_df = df[df['username'].isin(top_n)]\n",
    "\n",
    "    # exclude rows where user/global rating is not available\n",
    "    top_n_df = top_n_df[~top_n_df['user_rating'].isna()]\n",
    "    top_n_df = top_n_df[~top_n_df['global_rating'].isna()]\n",
    "\n",
    "    # split data\n",
    "    x = top_n_df.drop(['username', 'beer_name', 'user_rating'],axis=1)\n",
    "    y = top_n_df['user_rating']\n",
    "    # from sklearn.model_selection import train_test_split\n",
    "    # X_train, X_test, y_train, y_test = train_test_split(x, y, test_size=0.2, random_state=rand_state)\n",
    "    X_test = df[df['username'] == 'tsharp93'].drop(['username', 'beer_name', 'user_rating'], axis=1)\n",
    "    y_test = df[df['username'] == 'tsharp93']['user_rating']\n",
    "\n",
    "    # Train model\n",
    "    from sklearn.ensemble import RandomForestRegressor\n",
    "    from sklearn.model_selection import GridSearchCV\n",
    "    \n",
    "    model = RandomForestRegressor(criterion='mae')\n",
    "    param_grid = {  \"n_estimators\": [10,20,30],\n",
    "                    \"max_depth\": [3,5, None],\n",
    "                    \"max_features\": [5,10,25,50,100]}\n",
    "    grid_search = GridSearchCV(model, param_grid=param_grid, cv=3, iid=False)\n",
    "    grid_search.fit(x, y)\n",
    "    \n",
    "    # Evaluate model on user's data \n",
    "    preds = grid_search.predict(X_test)\n",
    "    \n",
    "    # unscale\n",
    "    preds_unscaled = Y_scaler.inverse_transform(preds)\n",
    "    y_test_unscaled = Y_scaler.inverse_transform(y_test)\n",
    "\n",
    "    # evaluate results\n",
    "    results_df = pd.DataFrame([preds_unscaled, y_test_unscaled]).transpose()\n",
    "    results_df.columns = ['predicted', 'actual']\n",
    "    results_df['error'] = results_df['predicted'] - results_df['actual']\n",
    "    results_df['abs_error'] = abs(results_df['error'])\n",
    "\n",
    "    # Performance Metrics \n",
    "    mae = np.mean(results_df['abs_error'])\n",
    "    print('MAE =', mae, \"for n =\", n)\n",
    "    \n",
    "    quarter_abs_error_list.append(100*len(results_df[results_df['abs_error']<=0.25])/len(results_df))\n",
    "    half_abs_error_list.append(100*len(results_df[results_df['abs_error']<=0.50])/len(results_df))\n",
    "    mae_list.append(mae)"
   ]
  },
  {
   "cell_type": "code",
   "execution_count": null,
   "metadata": {},
   "outputs": [],
   "source": [
    "plt.scatter(n_users_list, mae_list)\n",
    "plt.xlabel('Number of Similar Users')\n",
    "plt.ylabel('Mean Absolute Error (MAE)')\n",
    "plt.show()\n",
    "\n",
    "plt.scatter(n_users_list, quarter_abs_error_list)\n",
    "plt.xlabel('Number of Similar Users')\n",
    "plt.ylabel('% of Data Points within 0.25 Abs Error')\n",
    "plt.show()\n",
    "\n",
    "plt.scatter(n_users_list, half_abs_error_list)\n",
    "plt.xlabel('Number of Similar Users')\n",
    "plt.ylabel('% of Data Points within 0.50 Abs Error')\n",
    "plt.show()"
   ]
  },
  {
   "cell_type": "markdown",
   "metadata": {},
   "source": [
    "### SVR, C = 0.5"
   ]
  },
  {
   "cell_type": "code",
   "execution_count": 14,
   "metadata": {},
   "outputs": [
    {
     "name": "stdout",
     "output_type": "stream",
     "text": [
      "MAE = 0.35273459425617254 for n = 5\n",
      "MAE = 0.3440107500901582 for n = 6\n",
      "MAE = 0.3377380377176118 for n = 7\n",
      "MAE = 0.3889524438734493 for n = 8\n",
      "MAE = 0.36669926211775083 for n = 9\n",
      "MAE = 0.3556517527313667 for n = 10\n"
     ]
    }
   ],
   "source": [
    "rand_state = 10\n",
    "n_users_list = [5,6,7,8,9,10]\n",
    "# n_users_list = [5]\n",
    "\n",
    "mae_list = []\n",
    "quarter_abs_error_list = []\n",
    "half_abs_error_list = []\n",
    "for n in n_users_list:\n",
    "\n",
    "    # get data for top n users similar to selected user\n",
    "    top_n = list(sim_df.sort_values('sim_score', ascending=False)[0:n]['username'])\n",
    "    top_n_df = df[df['username'].isin(top_n)]\n",
    "\n",
    "    # exclude rows where user/global rating is not available\n",
    "    top_n_df = top_n_df[~top_n_df['user_rating'].isna()]\n",
    "    top_n_df = top_n_df[~top_n_df['global_rating'].isna()]\n",
    "\n",
    "    # split data\n",
    "    x = top_n_df.drop(['username', 'beer_name', 'user_rating'],axis=1)\n",
    "    y = top_n_df['user_rating']\n",
    "    # from sklearn.model_selection import train_test_split\n",
    "    # X_train, X_test, y_train, y_test = train_test_split(x, y, test_size=0.2, random_state=rand_state)\n",
    "    X_test = df[df['username'] == 'tsharp93'].drop(['username', 'beer_name', 'user_rating'], axis=1)\n",
    "    y_test = df[df['username'] == 'tsharp93']['user_rating']\n",
    "\n",
    "    # Train model\n",
    "    from sklearn.svm import SVR\n",
    "    \n",
    "    for C in[0.5]:\n",
    "        model = SVR(kernel='linear', epsilon=0.25, C=C)\n",
    "        model.fit(x, y)\n",
    "\n",
    "        # Evaluate model on user's data \n",
    "        preds = model.predict(X_test)\n",
    "\n",
    "        # unscale\n",
    "        preds_unscaled = Y_scaler.inverse_transform(preds)\n",
    "        y_test_unscaled = Y_scaler.inverse_transform(y_test)\n",
    "\n",
    "        # evaluate results\n",
    "        results_df = pd.DataFrame([preds_unscaled, y_test_unscaled]).transpose()\n",
    "        results_df.columns = ['predicted', 'actual']\n",
    "        results_df['error'] = results_df['predicted'] - results_df['actual']\n",
    "        results_df['abs_error'] = abs(results_df['error'])\n",
    "\n",
    "        # Performance Metrics \n",
    "        mae = np.mean(results_df['abs_error'])\n",
    "        print('MAE =', mae, \"for n =\", n)\n",
    "\n",
    "        quarter_abs_error_list.append(100*len(results_df[results_df['abs_error']<=0.25])/len(results_df))\n",
    "        half_abs_error_list.append(100*len(results_df[results_df['abs_error']<=0.50])/len(results_df))\n",
    "        mae_list.append(mae)"
   ]
  },
  {
   "cell_type": "code",
   "execution_count": 15,
   "metadata": {},
   "outputs": [
    {
     "data": {
      "image/png": "[encoded data removed]",
      "text/plain": [
       "<Figure size 432x288 with 1 Axes>"
      ]
     },
     "metadata": {
      "needs_background": "light"
     },
     "output_type": "display_data"
    },
    {
     "data": {
      "image/png": "[encoded data removed]",
      "text/plain": [
       "<Figure size 432x288 with 1 Axes>"
      ]
     },
     "metadata": {
      "needs_background": "light"
     },
     "output_type": "display_data"
    },
    {
     "data": {
      "image/png": "[encoded data removed]",
      "text/plain": [
       "<Figure size 432x288 with 1 Axes>"
      ]
     },
     "metadata": {
      "needs_background": "light"
     },
     "output_type": "display_data"
    }
   ],
   "source": [
    "plt.scatter(n_users_list, mae_list)\n",
    "plt.xlabel('Number of Similar Users')\n",
    "plt.ylabel('Mean Absolute Error (MAE)')\n",
    "plt.show()\n",
    "\n",
    "plt.scatter(n_users_list, quarter_abs_error_list)\n",
    "plt.xlabel('Number of Similar Users')\n",
    "plt.ylabel('% of Data Points within 0.25 Abs Error')\n",
    "plt.show()\n",
    "\n",
    "plt.scatter(n_users_list, half_abs_error_list)\n",
    "plt.xlabel('Number of Similar Users')\n",
    "plt.ylabel('% of Data Points within 0.50 Abs Error')\n",
    "plt.show()"
   ]
  },
  {
   "cell_type": "markdown",
   "metadata": {},
   "source": [
    "### SVR, vary C"
   ]
  },
  {
   "cell_type": "code",
   "execution_count": null,
   "metadata": {},
   "outputs": [
    {
     "name": "stdout",
     "output_type": "stream",
     "text": [
      "MAE = 0.3714930641967908 for n = 5\n",
      "MAE = 0.34309884195283763 for n = 5\n",
      "MAE = 0.34964021025327596 for n = 5\n",
      "MAE = 0.35273459425617254 for n = 5\n",
      "MAE = 0.3568241237799316 for n = 5\n",
      "MAE = 0.3661357976451768 for n = 5\n",
      "MAE = 0.3549869767813108 for n = 6\n",
      "MAE = 0.3397654255193591 for n = 6\n",
      "MAE = 0.3406475557066979 for n = 6\n",
      "MAE = 0.3440107500901582 for n = 6\n",
      "MAE = 0.34380005735454916 for n = 6\n",
      "MAE = 0.34839206858371696 for n = 6\n",
      "MAE = 0.3610493159840017 for n = 7\n",
      "MAE = 0.34345068915366883 for n = 7\n",
      "MAE = 0.3449070594023515 for n = 7\n",
      "MAE = 0.3377380377176118 for n = 7\n",
      "MAE = 0.3360019359649727 for n = 7\n",
      "MAE = 0.3403999174643644 for n = 7\n",
      "MAE = 0.3594437388558991 for n = 8\n",
      "MAE = 0.37760285561624707 for n = 8\n",
      "MAE = 0.38444915486953446 for n = 8\n",
      "MAE = 0.3889524438734493 for n = 8\n",
      "MAE = 0.3899692400655237 for n = 8\n",
      "MAE = 0.3922708148356028 for n = 8\n"
     ]
    }
   ],
   "source": [
    "rand_state = 10\n",
    "n_users_list = [5,6,7,8,9,10]\n",
    "\n",
    "mae_list = []\n",
    "quarter_abs_error_list = []\n",
    "half_abs_error_list = []\n",
    "for n in n_users_list:\n",
    "\n",
    "    # get data for top n users similar to selected user\n",
    "    top_n = list(sim_df.sort_values('sim_score', ascending=False)[0:n]['username'])\n",
    "    top_n_df = df[df['username'].isin(top_n)]\n",
    "\n",
    "    # exclude rows where user/global rating is not available\n",
    "    top_n_df = top_n_df[~top_n_df['user_rating'].isna()]\n",
    "    top_n_df = top_n_df[~top_n_df['global_rating'].isna()]\n",
    "\n",
    "    # split data\n",
    "    x = top_n_df.drop(['username', 'beer_name', 'user_rating'],axis=1)\n",
    "    y = top_n_df['user_rating']\n",
    "    # from sklearn.model_selection import train_test_split\n",
    "    # X_train, X_test, y_train, y_test = train_test_split(x, y, test_size=0.2, random_state=rand_state)\n",
    "    X_test = df[df['username'] == 'tsharp93'].drop(['username', 'beer_name', 'user_rating'], axis=1)\n",
    "    y_test = df[df['username'] == 'tsharp93']['user_rating']\n",
    "\n",
    "    # Train model\n",
    "    from sklearn.svm import SVR\n",
    "    \n",
    "    for C in[0.0001, 0.1, 0.2, 0.5, 0.7, 1.0]:\n",
    "        model = SVR(kernel='linear', epsilon=0.25, C=C)\n",
    "        model.fit(x, y)\n",
    "\n",
    "        # Evaluate model on user's data \n",
    "        preds = model.predict(X_test)\n",
    "\n",
    "        # unscale\n",
    "        preds_unscaled = Y_scaler.inverse_transform(preds)\n",
    "        y_test_unscaled = Y_scaler.inverse_transform(y_test)\n",
    "\n",
    "        # evaluate results\n",
    "        results_df = pd.DataFrame([preds_unscaled, y_test_unscaled]).transpose()\n",
    "        results_df.columns = ['predicted', 'actual']\n",
    "        results_df['error'] = results_df['predicted'] - results_df['actual']\n",
    "        results_df['abs_error'] = abs(results_df['error'])\n",
    "\n",
    "        # Performance Metrics \n",
    "        mae = np.mean(results_df['abs_error'])\n",
    "        print('MAE =', mae, \"for n =\", n)\n",
    "\n",
    "        quarter_abs_error_list.append(100*len(results_df[results_df['abs_error']<=0.25])/len(results_df))\n",
    "        half_abs_error_list.append(100*len(results_df[results_df['abs_error']<=0.50])/len(results_df))\n",
    "        mae_list.append(mae)"
   ]
  },
  {
   "cell_type": "code",
   "execution_count": 22,
   "metadata": {},
   "outputs": [
    {
     "data": {
      "text/plain": [
       "36"
      ]
     },
     "execution_count": 22,
     "metadata": {},
     "output_type": "execute_result"
    }
   ],
   "source": [
    "len(mae_list)"
   ]
  },
  {
   "cell_type": "code",
   "execution_count": 40,
   "metadata": {},
   "outputs": [
    {
     "data": {
      "image/png": "[encoded data removed]",
      "text/plain": [
       "<Figure size 432x288 with 1 Axes>"
      ]
     },
     "metadata": {
      "needs_background": "light"
     },
     "output_type": "display_data"
    },
    {
     "data": {
      "image/png": "[encoded data removed]",
      "text/plain": [
       "<Figure size 432x288 with 1 Axes>"
      ]
     },
     "metadata": {
      "needs_background": "light"
     },
     "output_type": "display_data"
    },
    {
     "data": {
      "image/png": "[encoded data removed]",
      "text/plain": [
       "<Figure size 432x288 with 1 Axes>"
      ]
     },
     "metadata": {
      "needs_background": "light"
     },
     "output_type": "display_data"
    }
   ],
   "source": [
    "x = [0.0001, 0.1, 0.2, 0.5, 0.7, 1.0]\n",
    "start = 0\n",
    "end = start + 6\n",
    "\n",
    "plt.scatter(x, mae_list[start:end])\n",
    "plt.title(str(int(5 + start/6)) + ' Similar Users')\n",
    "plt.xlabel('C')\n",
    "plt.ylabel('Mean Absolute Error (MAE)')\n",
    "plt.show()\n",
    "\n",
    "plt.scatter(x, quarter_abs_error_list[start:end])\n",
    "plt.title(str(int(5 + start/6)) + ' Similar Users')\n",
    "plt.xlabel('C')\n",
    "plt.ylabel('% of Data Points within 0.25 Abs Error')\n",
    "plt.show()\n",
    "\n",
    "plt.scatter(x, half_abs_error_list[start:end])\n",
    "plt.title(str(int(5 + start/6)) + ' Similar Users')\n",
    "plt.xlabel('C')\n",
    "plt.ylabel('% of Data Points within 0.50 Abs Error')\n",
    "plt.show()"
   ]
  },
  {
   "cell_type": "code",
   "execution_count": 42,
   "metadata": {},
   "outputs": [
    {
     "data": {
      "image/png": "[encoded data removed]",
      "text/plain": [
       "<Figure size 432x288 with 1 Axes>"
      ]
     },
     "metadata": {
      "needs_background": "light"
     },
     "output_type": "display_data"
    },
    {
     "data": {
      "image/png": "[encoded data removed]",
      "text/plain": [
       "<Figure size 432x288 with 1 Axes>"
      ]
     },
     "metadata": {
      "needs_background": "light"
     },
     "output_type": "display_data"
    },
    {
     "data": {
      "image/png": "[encoded data removed]",
      "text/plain": [
       "<Figure size 432x288 with 1 Axes>"
      ]
     },
     "metadata": {
      "needs_background": "light"
     },
     "output_type": "display_data"
    }
   ],
   "source": [
    "x = [0.0001, 0.1, 0.2, 0.5, 0.7, 1.0]\n",
    "start = 6\n",
    "end = start + 6\n",
    "\n",
    "plt.scatter(x, mae_list[start:end])\n",
    "plt.title(str(int(5 + start/6)) + ' Similar Users')\n",
    "plt.xlabel('C')\n",
    "plt.ylabel('Mean Absolute Error (MAE)')\n",
    "plt.show()\n",
    "\n",
    "plt.scatter(x, quarter_abs_error_list[start:end])\n",
    "plt.title(str(int(5 + start/6)) + ' Similar Users')\n",
    "plt.xlabel('C')\n",
    "plt.ylabel('% of Data Points within 0.25 Abs Error')\n",
    "plt.show()\n",
    "\n",
    "plt.scatter(x, half_abs_error_list[start:end])\n",
    "plt.title(str(int(5 + start/6)) + ' Similar Users')\n",
    "plt.xlabel('C')\n",
    "plt.ylabel('% of Data Points within 0.50 Abs Error')\n",
    "plt.show()"
   ]
  },
  {
   "cell_type": "code",
   "execution_count": 43,
   "metadata": {},
   "outputs": [
    {
     "data": {
      "image/png": "[encoded data removed]",
      "text/plain": [
       "<Figure size 432x288 with 1 Axes>"
      ]
     },
     "metadata": {
      "needs_background": "light"
     },
     "output_type": "display_data"
    },
    {
     "data": {
      "image/png": "[encoded data removed]",
      "text/plain": [
       "<Figure size 432x288 with 1 Axes>"
      ]
     },
     "metadata": {
      "needs_background": "light"
     },
     "output_type": "display_data"
    },
    {
     "data": {
      "image/png": "[encoded data removed]",
      "text/plain": [
       "<Figure size 432x288 with 1 Axes>"
      ]
     },
     "metadata": {
      "needs_background": "light"
     },
     "output_type": "display_data"
    }
   ],
   "source": [
    "x = [0.0001, 0.1, 0.2, 0.5, 0.7, 1.0]\n",
    "start = 12\n",
    "end = start + 6\n",
    "\n",
    "plt.scatter(x, mae_list[start:end])\n",
    "plt.title(str(int(5 + start/6)) + ' Similar Users')\n",
    "plt.xlabel('C')\n",
    "plt.ylabel('Mean Absolute Error (MAE)')\n",
    "plt.show()\n",
    "\n",
    "plt.scatter(x, quarter_abs_error_list[start:end])\n",
    "plt.title(str(int(5 + start/6)) + ' Similar Users')\n",
    "plt.xlabel('C')\n",
    "plt.ylabel('% of Data Points within 0.25 Abs Error')\n",
    "plt.show()\n",
    "\n",
    "plt.scatter(x, half_abs_error_list[start:end])\n",
    "plt.title(str(int(5 + start/6)) + ' Similar Users')\n",
    "plt.xlabel('C')\n",
    "plt.ylabel('% of Data Points within 0.50 Abs Error')\n",
    "plt.show()"
   ]
  },
  {
   "cell_type": "code",
   "execution_count": 44,
   "metadata": {},
   "outputs": [
    {
     "data": {
      "image/png": "[encoded data removed]",
      "text/plain": [
       "<Figure size 432x288 with 1 Axes>"
      ]
     },
     "metadata": {
      "needs_background": "light"
     },
     "output_type": "display_data"
    },
    {
     "data": {
      "image/png": "[encoded data removed]",
      "text/plain": [
       "<Figure size 432x288 with 1 Axes>"
      ]
     },
     "metadata": {
      "needs_background": "light"
     },
     "output_type": "display_data"
    },
    {
     "data": {
      "image/png": "[encoded data removed]",
      "text/plain": [
       "<Figure size 432x288 with 1 Axes>"
      ]
     },
     "metadata": {
      "needs_background": "light"
     },
     "output_type": "display_data"
    }
   ],
   "source": [
    "x = [0.0001, 0.1, 0.2, 0.5, 0.7, 1.0]\n",
    "start = 18\n",
    "end = start + 6\n",
    "\n",
    "plt.scatter(x, mae_list[start:end])\n",
    "plt.title(str(int(5 + start/6)) + ' Similar Users')\n",
    "plt.xlabel('C')\n",
    "plt.ylabel('Mean Absolute Error (MAE)')\n",
    "plt.show()\n",
    "\n",
    "plt.scatter(x, quarter_abs_error_list[start:end])\n",
    "plt.title(str(int(5 + start/6)) + ' Similar Users')\n",
    "plt.xlabel('C')\n",
    "plt.ylabel('% of Data Points within 0.25 Abs Error')\n",
    "plt.show()\n",
    "\n",
    "plt.scatter(x, half_abs_error_list[start:end])\n",
    "plt.title(str(int(5 + start/6)) + ' Similar Users')\n",
    "plt.xlabel('C')\n",
    "plt.ylabel('% of Data Points within 0.50 Abs Error')\n",
    "plt.show()"
   ]
  },
  {
   "cell_type": "markdown",
   "metadata": {},
   "source": [
    "## 2. Change Imputation Method on Filling Similarity Matrix - Use Beer (Col) Mean"
   ]
  },
  {
   "cell_type": "code",
   "execution_count": 48,
   "metadata": {},
   "outputs": [
    {
     "data": {
      "text/html": [
       "<div>\n",
       "<style scoped>\n",
       "    .dataframe tbody tr th:only-of-type {\n",
       "        vertical-align: middle;\n",
       "    }\n",
       "\n",
       "    .dataframe tbody tr th {\n",
       "        vertical-align: top;\n",
       "    }\n",
       "\n",
       "    .dataframe thead th {\n",
       "        text-align: right;\n",
       "    }\n",
       "</style>\n",
       "<table border=\"1\" class=\"dataframe\">\n",
       "  <thead>\n",
       "    <tr style=\"text-align: right;\">\n",
       "      <th>beer_name</th>\n",
       "      <th>username</th>\n",
       "      <th>\"Body\" System</th>\n",
       "      <th>\"Not Just Some\" Oatmeal Stout</th>\n",
       "      <th>\"That Guy\" Rye</th>\n",
       "      <th>\"V\"</th>\n",
       "      <th>\"michelle\" Sour Red Saison</th>\n",
       "      <th>#001 India Pale Ale Dry Hop Cascade</th>\n",
       "      <th>#004 Tysk Hveteøl Bavarian Tettnanger</th>\n",
       "      <th>#007 Tsjekkisk Pilsner Bohemian Saaz</th>\n",
       "      <th>#097 Soken Bitter</th>\n",
       "      <th>...</th>\n",
       "      <th>Żywiec</th>\n",
       "      <th>Żywiec APA</th>\n",
       "      <th>Żywiec Białe</th>\n",
       "      <th>Żywiec Sesyjne IPA</th>\n",
       "      <th>‘Tis the Saison</th>\n",
       "      <th>₡hop Shop #1</th>\n",
       "      <th>₡hop Shop #4</th>\n",
       "      <th>√225 Saison</th>\n",
       "      <th>√225 Saison Zymatore - Calvados &amp; Whiskey &amp; Sherry Barrels</th>\n",
       "      <th>日本から来たネコ (Some Cat From Japan)</th>\n",
       "    </tr>\n",
       "  </thead>\n",
       "  <tbody>\n",
       "    <tr>\n",
       "      <th>0</th>\n",
       "      <td>AlexKress</td>\n",
       "      <td>NaN</td>\n",
       "      <td>NaN</td>\n",
       "      <td>NaN</td>\n",
       "      <td>NaN</td>\n",
       "      <td>NaN</td>\n",
       "      <td>NaN</td>\n",
       "      <td>NaN</td>\n",
       "      <td>NaN</td>\n",
       "      <td>NaN</td>\n",
       "      <td>...</td>\n",
       "      <td>NaN</td>\n",
       "      <td>NaN</td>\n",
       "      <td>NaN</td>\n",
       "      <td>NaN</td>\n",
       "      <td>NaN</td>\n",
       "      <td>NaN</td>\n",
       "      <td>NaN</td>\n",
       "      <td>NaN</td>\n",
       "      <td>NaN</td>\n",
       "      <td>NaN</td>\n",
       "    </tr>\n",
       "    <tr>\n",
       "      <th>1</th>\n",
       "      <td>CapteinAwsome</td>\n",
       "      <td>NaN</td>\n",
       "      <td>NaN</td>\n",
       "      <td>NaN</td>\n",
       "      <td>NaN</td>\n",
       "      <td>NaN</td>\n",
       "      <td>-0.38706</td>\n",
       "      <td>-0.38706</td>\n",
       "      <td>-3.419734</td>\n",
       "      <td>NaN</td>\n",
       "      <td>...</td>\n",
       "      <td>NaN</td>\n",
       "      <td>NaN</td>\n",
       "      <td>-1.524313</td>\n",
       "      <td>-1.524313</td>\n",
       "      <td>NaN</td>\n",
       "      <td>NaN</td>\n",
       "      <td>NaN</td>\n",
       "      <td>0.371108</td>\n",
       "      <td>NaN</td>\n",
       "      <td>NaN</td>\n",
       "    </tr>\n",
       "    <tr>\n",
       "      <th>2</th>\n",
       "      <td>Davidnorman</td>\n",
       "      <td>NaN</td>\n",
       "      <td>NaN</td>\n",
       "      <td>NaN</td>\n",
       "      <td>NaN</td>\n",
       "      <td>NaN</td>\n",
       "      <td>NaN</td>\n",
       "      <td>NaN</td>\n",
       "      <td>NaN</td>\n",
       "      <td>NaN</td>\n",
       "      <td>...</td>\n",
       "      <td>NaN</td>\n",
       "      <td>NaN</td>\n",
       "      <td>NaN</td>\n",
       "      <td>NaN</td>\n",
       "      <td>NaN</td>\n",
       "      <td>NaN</td>\n",
       "      <td>NaN</td>\n",
       "      <td>NaN</td>\n",
       "      <td>NaN</td>\n",
       "      <td>NaN</td>\n",
       "    </tr>\n",
       "    <tr>\n",
       "      <th>3</th>\n",
       "      <td>Fear_the_Beerd</td>\n",
       "      <td>NaN</td>\n",
       "      <td>NaN</td>\n",
       "      <td>NaN</td>\n",
       "      <td>NaN</td>\n",
       "      <td>NaN</td>\n",
       "      <td>NaN</td>\n",
       "      <td>NaN</td>\n",
       "      <td>NaN</td>\n",
       "      <td>NaN</td>\n",
       "      <td>...</td>\n",
       "      <td>NaN</td>\n",
       "      <td>NaN</td>\n",
       "      <td>NaN</td>\n",
       "      <td>NaN</td>\n",
       "      <td>NaN</td>\n",
       "      <td>NaN</td>\n",
       "      <td>NaN</td>\n",
       "      <td>NaN</td>\n",
       "      <td>NaN</td>\n",
       "      <td>NaN</td>\n",
       "    </tr>\n",
       "    <tr>\n",
       "      <th>4</th>\n",
       "      <td>Florindobucci</td>\n",
       "      <td>NaN</td>\n",
       "      <td>NaN</td>\n",
       "      <td>NaN</td>\n",
       "      <td>NaN</td>\n",
       "      <td>NaN</td>\n",
       "      <td>NaN</td>\n",
       "      <td>NaN</td>\n",
       "      <td>NaN</td>\n",
       "      <td>NaN</td>\n",
       "      <td>...</td>\n",
       "      <td>NaN</td>\n",
       "      <td>NaN</td>\n",
       "      <td>NaN</td>\n",
       "      <td>NaN</td>\n",
       "      <td>NaN</td>\n",
       "      <td>NaN</td>\n",
       "      <td>NaN</td>\n",
       "      <td>NaN</td>\n",
       "      <td>NaN</td>\n",
       "      <td>NaN</td>\n",
       "    </tr>\n",
       "  </tbody>\n",
       "</table>\n",
       "<p>5 rows × 16603 columns</p>\n",
       "</div>"
      ],
      "text/plain": [
       "beer_name        username  \"Body\" System  \"Not Just Some\" Oatmeal Stout  \\\n",
       "0               AlexKress            NaN                            NaN   \n",
       "1           CapteinAwsome            NaN                            NaN   \n",
       "2             Davidnorman            NaN                            NaN   \n",
       "3          Fear_the_Beerd            NaN                            NaN   \n",
       "4           Florindobucci            NaN                            NaN   \n",
       "\n",
       "beer_name  \"That Guy\" Rye  \"V\"  \"michelle\" Sour Red Saison  \\\n",
       "0                     NaN  NaN                         NaN   \n",
       "1                     NaN  NaN                         NaN   \n",
       "2                     NaN  NaN                         NaN   \n",
       "3                     NaN  NaN                         NaN   \n",
       "4                     NaN  NaN                         NaN   \n",
       "\n",
       "beer_name  #001 India Pale Ale Dry Hop Cascade  \\\n",
       "0                                          NaN   \n",
       "1                                     -0.38706   \n",
       "2                                          NaN   \n",
       "3                                          NaN   \n",
       "4                                          NaN   \n",
       "\n",
       "beer_name  #004 Tysk Hveteøl Bavarian Tettnanger  \\\n",
       "0                                            NaN   \n",
       "1                                       -0.38706   \n",
       "2                                            NaN   \n",
       "3                                            NaN   \n",
       "4                                            NaN   \n",
       "\n",
       "beer_name  #007 Tsjekkisk Pilsner Bohemian Saaz  #097 Soken Bitter  ...  \\\n",
       "0                                           NaN                NaN  ...   \n",
       "1                                     -3.419734                NaN  ...   \n",
       "2                                           NaN                NaN  ...   \n",
       "3                                           NaN                NaN  ...   \n",
       "4                                           NaN                NaN  ...   \n",
       "\n",
       "beer_name  Żywiec  Żywiec APA  Żywiec Białe  Żywiec Sesyjne IPA  \\\n",
       "0             NaN         NaN           NaN                 NaN   \n",
       "1             NaN         NaN     -1.524313           -1.524313   \n",
       "2             NaN         NaN           NaN                 NaN   \n",
       "3             NaN         NaN           NaN                 NaN   \n",
       "4             NaN         NaN           NaN                 NaN   \n",
       "\n",
       "beer_name  ‘Tis the Saison  ₡hop Shop #1  ₡hop Shop #4  √225 Saison  \\\n",
       "0                      NaN           NaN           NaN          NaN   \n",
       "1                      NaN           NaN           NaN     0.371108   \n",
       "2                      NaN           NaN           NaN          NaN   \n",
       "3                      NaN           NaN           NaN          NaN   \n",
       "4                      NaN           NaN           NaN          NaN   \n",
       "\n",
       "beer_name  √225 Saison Zymatore - Calvados & Whiskey & Sherry Barrels  \\\n",
       "0                                                        NaN            \n",
       "1                                                        NaN            \n",
       "2                                                        NaN            \n",
       "3                                                        NaN            \n",
       "4                                                        NaN            \n",
       "\n",
       "beer_name  日本から来たネコ (Some Cat From Japan)  \n",
       "0                                     NaN  \n",
       "1                                     NaN  \n",
       "2                                     NaN  \n",
       "3                                     NaN  \n",
       "4                                     NaN  \n",
       "\n",
       "[5 rows x 16603 columns]"
      ]
     },
     "execution_count": 48,
     "metadata": {},
     "output_type": "execute_result"
    }
   ],
   "source": [
    "piv =  pd.pivot_table(data=df, values='user_rating', index='username', columns='beer_name', \n",
    "                      aggfunc='mean').reset_index()\n",
    "piv.head()"
   ]
  },
  {
   "cell_type": "code",
   "execution_count": 52,
   "metadata": {},
   "outputs": [
    {
     "data": {
      "text/html": [
       "<div>\n",
       "<style scoped>\n",
       "    .dataframe tbody tr th:only-of-type {\n",
       "        vertical-align: middle;\n",
       "    }\n",
       "\n",
       "    .dataframe tbody tr th {\n",
       "        vertical-align: top;\n",
       "    }\n",
       "\n",
       "    .dataframe thead th {\n",
       "        text-align: right;\n",
       "    }\n",
       "</style>\n",
       "<table border=\"1\" class=\"dataframe\">\n",
       "  <thead>\n",
       "    <tr style=\"text-align: right;\">\n",
       "      <th>beer_name</th>\n",
       "      <th>username</th>\n",
       "      <th>\"Body\" System</th>\n",
       "      <th>\"Not Just Some\" Oatmeal Stout</th>\n",
       "      <th>\"That Guy\" Rye</th>\n",
       "      <th>\"V\"</th>\n",
       "      <th>\"michelle\" Sour Red Saison</th>\n",
       "      <th>#001 India Pale Ale Dry Hop Cascade</th>\n",
       "      <th>#004 Tysk Hveteøl Bavarian Tettnanger</th>\n",
       "      <th>#007 Tsjekkisk Pilsner Bohemian Saaz</th>\n",
       "      <th>#097 Soken Bitter</th>\n",
       "      <th>...</th>\n",
       "      <th>Żywiec</th>\n",
       "      <th>Żywiec APA</th>\n",
       "      <th>Żywiec Białe</th>\n",
       "      <th>Żywiec Sesyjne IPA</th>\n",
       "      <th>‘Tis the Saison</th>\n",
       "      <th>₡hop Shop #1</th>\n",
       "      <th>₡hop Shop #4</th>\n",
       "      <th>√225 Saison</th>\n",
       "      <th>√225 Saison Zymatore - Calvados &amp; Whiskey &amp; Sherry Barrels</th>\n",
       "      <th>日本から来たネコ (Some Cat From Japan)</th>\n",
       "    </tr>\n",
       "  </thead>\n",
       "  <tbody>\n",
       "    <tr>\n",
       "      <th>0</th>\n",
       "      <td>AlexKress</td>\n",
       "      <td>0.371108</td>\n",
       "      <td>1.129277</td>\n",
       "      <td>0.750193</td>\n",
       "      <td>-0.007976</td>\n",
       "      <td>0.750193</td>\n",
       "      <td>-0.007976</td>\n",
       "      <td>-0.38706</td>\n",
       "      <td>-2.472024</td>\n",
       "      <td>-1.903397</td>\n",
       "      <td>...</td>\n",
       "      <td>-1.713855</td>\n",
       "      <td>-0.766144</td>\n",
       "      <td>-1.145229</td>\n",
       "      <td>-1.334771</td>\n",
       "      <td>-1.145229</td>\n",
       "      <td>0.371108</td>\n",
       "      <td>1.129277</td>\n",
       "      <td>0.086795</td>\n",
       "      <td>-2.661566</td>\n",
       "      <td>0.371108</td>\n",
       "    </tr>\n",
       "    <tr>\n",
       "      <th>1</th>\n",
       "      <td>CapteinAwsome</td>\n",
       "      <td>0.371108</td>\n",
       "      <td>1.129277</td>\n",
       "      <td>0.750193</td>\n",
       "      <td>-0.007976</td>\n",
       "      <td>0.750193</td>\n",
       "      <td>-0.387060</td>\n",
       "      <td>-0.38706</td>\n",
       "      <td>-3.419734</td>\n",
       "      <td>-1.903397</td>\n",
       "      <td>...</td>\n",
       "      <td>-1.713855</td>\n",
       "      <td>-0.766144</td>\n",
       "      <td>-1.524313</td>\n",
       "      <td>-1.524313</td>\n",
       "      <td>-1.145229</td>\n",
       "      <td>0.371108</td>\n",
       "      <td>1.129277</td>\n",
       "      <td>0.371108</td>\n",
       "      <td>-2.661566</td>\n",
       "      <td>0.371108</td>\n",
       "    </tr>\n",
       "    <tr>\n",
       "      <th>2</th>\n",
       "      <td>Davidnorman</td>\n",
       "      <td>0.371108</td>\n",
       "      <td>1.129277</td>\n",
       "      <td>0.750193</td>\n",
       "      <td>-0.007976</td>\n",
       "      <td>0.750193</td>\n",
       "      <td>-0.007976</td>\n",
       "      <td>-0.38706</td>\n",
       "      <td>-2.472024</td>\n",
       "      <td>-1.903397</td>\n",
       "      <td>...</td>\n",
       "      <td>-1.713855</td>\n",
       "      <td>-0.766144</td>\n",
       "      <td>-1.145229</td>\n",
       "      <td>-1.334771</td>\n",
       "      <td>-1.145229</td>\n",
       "      <td>0.371108</td>\n",
       "      <td>1.129277</td>\n",
       "      <td>0.086795</td>\n",
       "      <td>-2.661566</td>\n",
       "      <td>0.371108</td>\n",
       "    </tr>\n",
       "    <tr>\n",
       "      <th>3</th>\n",
       "      <td>Fear_the_Beerd</td>\n",
       "      <td>0.371108</td>\n",
       "      <td>1.129277</td>\n",
       "      <td>0.750193</td>\n",
       "      <td>-0.007976</td>\n",
       "      <td>0.750193</td>\n",
       "      <td>-0.007976</td>\n",
       "      <td>-0.38706</td>\n",
       "      <td>-2.472024</td>\n",
       "      <td>-1.903397</td>\n",
       "      <td>...</td>\n",
       "      <td>-1.713855</td>\n",
       "      <td>-0.766144</td>\n",
       "      <td>-1.145229</td>\n",
       "      <td>-1.334771</td>\n",
       "      <td>-1.145229</td>\n",
       "      <td>0.371108</td>\n",
       "      <td>1.129277</td>\n",
       "      <td>0.086795</td>\n",
       "      <td>-2.661566</td>\n",
       "      <td>0.371108</td>\n",
       "    </tr>\n",
       "    <tr>\n",
       "      <th>4</th>\n",
       "      <td>Florindobucci</td>\n",
       "      <td>0.371108</td>\n",
       "      <td>1.129277</td>\n",
       "      <td>0.750193</td>\n",
       "      <td>-0.007976</td>\n",
       "      <td>0.750193</td>\n",
       "      <td>-0.007976</td>\n",
       "      <td>-0.38706</td>\n",
       "      <td>-2.472024</td>\n",
       "      <td>-1.903397</td>\n",
       "      <td>...</td>\n",
       "      <td>-1.713855</td>\n",
       "      <td>-0.766144</td>\n",
       "      <td>-1.145229</td>\n",
       "      <td>-1.334771</td>\n",
       "      <td>-1.145229</td>\n",
       "      <td>0.371108</td>\n",
       "      <td>1.129277</td>\n",
       "      <td>0.086795</td>\n",
       "      <td>-2.661566</td>\n",
       "      <td>0.371108</td>\n",
       "    </tr>\n",
       "  </tbody>\n",
       "</table>\n",
       "<p>5 rows × 16603 columns</p>\n",
       "</div>"
      ],
      "text/plain": [
       "beer_name        username  \"Body\" System  \"Not Just Some\" Oatmeal Stout  \\\n",
       "0               AlexKress       0.371108                       1.129277   \n",
       "1           CapteinAwsome       0.371108                       1.129277   \n",
       "2             Davidnorman       0.371108                       1.129277   \n",
       "3          Fear_the_Beerd       0.371108                       1.129277   \n",
       "4           Florindobucci       0.371108                       1.129277   \n",
       "\n",
       "beer_name  \"That Guy\" Rye       \"V\"  \"michelle\" Sour Red Saison  \\\n",
       "0                0.750193 -0.007976                    0.750193   \n",
       "1                0.750193 -0.007976                    0.750193   \n",
       "2                0.750193 -0.007976                    0.750193   \n",
       "3                0.750193 -0.007976                    0.750193   \n",
       "4                0.750193 -0.007976                    0.750193   \n",
       "\n",
       "beer_name  #001 India Pale Ale Dry Hop Cascade  \\\n",
       "0                                    -0.007976   \n",
       "1                                    -0.387060   \n",
       "2                                    -0.007976   \n",
       "3                                    -0.007976   \n",
       "4                                    -0.007976   \n",
       "\n",
       "beer_name  #004 Tysk Hveteøl Bavarian Tettnanger  \\\n",
       "0                                       -0.38706   \n",
       "1                                       -0.38706   \n",
       "2                                       -0.38706   \n",
       "3                                       -0.38706   \n",
       "4                                       -0.38706   \n",
       "\n",
       "beer_name  #007 Tsjekkisk Pilsner Bohemian Saaz  #097 Soken Bitter  ...  \\\n",
       "0                                     -2.472024          -1.903397  ...   \n",
       "1                                     -3.419734          -1.903397  ...   \n",
       "2                                     -2.472024          -1.903397  ...   \n",
       "3                                     -2.472024          -1.903397  ...   \n",
       "4                                     -2.472024          -1.903397  ...   \n",
       "\n",
       "beer_name    Żywiec  Żywiec APA  Żywiec Białe  Żywiec Sesyjne IPA  \\\n",
       "0         -1.713855   -0.766144     -1.145229           -1.334771   \n",
       "1         -1.713855   -0.766144     -1.524313           -1.524313   \n",
       "2         -1.713855   -0.766144     -1.145229           -1.334771   \n",
       "3         -1.713855   -0.766144     -1.145229           -1.334771   \n",
       "4         -1.713855   -0.766144     -1.145229           -1.334771   \n",
       "\n",
       "beer_name  ‘Tis the Saison  ₡hop Shop #1  ₡hop Shop #4  √225 Saison  \\\n",
       "0                -1.145229      0.371108      1.129277     0.086795   \n",
       "1                -1.145229      0.371108      1.129277     0.371108   \n",
       "2                -1.145229      0.371108      1.129277     0.086795   \n",
       "3                -1.145229      0.371108      1.129277     0.086795   \n",
       "4                -1.145229      0.371108      1.129277     0.086795   \n",
       "\n",
       "beer_name  √225 Saison Zymatore - Calvados & Whiskey & Sherry Barrels  \\\n",
       "0                                                  -2.661566            \n",
       "1                                                  -2.661566            \n",
       "2                                                  -2.661566            \n",
       "3                                                  -2.661566            \n",
       "4                                                  -2.661566            \n",
       "\n",
       "beer_name  日本から来たネコ (Some Cat From Japan)  \n",
       "0                                0.371108  \n",
       "1                                0.371108  \n",
       "2                                0.371108  \n",
       "3                                0.371108  \n",
       "4                                0.371108  \n",
       "\n",
       "[5 rows x 16603 columns]"
      ]
     },
     "execution_count": 52,
     "metadata": {},
     "output_type": "execute_result"
    }
   ],
   "source": [
    "piv = piv.fillna(piv.mean())\n",
    "piv.head()"
   ]
  },
  {
   "cell_type": "code",
   "execution_count": 53,
   "metadata": {},
   "outputs": [
    {
     "data": {
      "text/html": [
       "<div>\n",
       "<style scoped>\n",
       "    .dataframe tbody tr th:only-of-type {\n",
       "        vertical-align: middle;\n",
       "    }\n",
       "\n",
       "    .dataframe tbody tr th {\n",
       "        vertical-align: top;\n",
       "    }\n",
       "\n",
       "    .dataframe thead th {\n",
       "        text-align: right;\n",
       "    }\n",
       "</style>\n",
       "<table border=\"1\" class=\"dataframe\">\n",
       "  <thead>\n",
       "    <tr style=\"text-align: right;\">\n",
       "      <th>beer_name</th>\n",
       "      <th>\"Body\" System</th>\n",
       "      <th>\"Not Just Some\" Oatmeal Stout</th>\n",
       "      <th>\"That Guy\" Rye</th>\n",
       "      <th>\"V\"</th>\n",
       "      <th>\"michelle\" Sour Red Saison</th>\n",
       "      <th>#001 India Pale Ale Dry Hop Cascade</th>\n",
       "      <th>#004 Tysk Hveteøl Bavarian Tettnanger</th>\n",
       "      <th>#007 Tsjekkisk Pilsner Bohemian Saaz</th>\n",
       "      <th>#097 Soken Bitter</th>\n",
       "      <th>#100</th>\n",
       "      <th>...</th>\n",
       "      <th>Żywiec</th>\n",
       "      <th>Żywiec APA</th>\n",
       "      <th>Żywiec Białe</th>\n",
       "      <th>Żywiec Sesyjne IPA</th>\n",
       "      <th>‘Tis the Saison</th>\n",
       "      <th>₡hop Shop #1</th>\n",
       "      <th>₡hop Shop #4</th>\n",
       "      <th>√225 Saison</th>\n",
       "      <th>√225 Saison Zymatore - Calvados &amp; Whiskey &amp; Sherry Barrels</th>\n",
       "      <th>日本から来たネコ (Some Cat From Japan)</th>\n",
       "    </tr>\n",
       "  </thead>\n",
       "  <tbody>\n",
       "    <tr>\n",
       "      <th>0</th>\n",
       "      <td>0.371108</td>\n",
       "      <td>1.129277</td>\n",
       "      <td>0.750193</td>\n",
       "      <td>-0.007976</td>\n",
       "      <td>0.750193</td>\n",
       "      <td>-0.007976</td>\n",
       "      <td>-0.38706</td>\n",
       "      <td>-2.472024</td>\n",
       "      <td>-1.903397</td>\n",
       "      <td>-0.007976</td>\n",
       "      <td>...</td>\n",
       "      <td>-1.713855</td>\n",
       "      <td>-0.766144</td>\n",
       "      <td>-1.145229</td>\n",
       "      <td>-1.334771</td>\n",
       "      <td>-1.145229</td>\n",
       "      <td>0.371108</td>\n",
       "      <td>1.129277</td>\n",
       "      <td>0.086795</td>\n",
       "      <td>-2.661566</td>\n",
       "      <td>0.371108</td>\n",
       "    </tr>\n",
       "    <tr>\n",
       "      <th>1</th>\n",
       "      <td>0.371108</td>\n",
       "      <td>1.129277</td>\n",
       "      <td>0.750193</td>\n",
       "      <td>-0.007976</td>\n",
       "      <td>0.750193</td>\n",
       "      <td>-0.387060</td>\n",
       "      <td>-0.38706</td>\n",
       "      <td>-3.419734</td>\n",
       "      <td>-1.903397</td>\n",
       "      <td>-0.007976</td>\n",
       "      <td>...</td>\n",
       "      <td>-1.713855</td>\n",
       "      <td>-0.766144</td>\n",
       "      <td>-1.524313</td>\n",
       "      <td>-1.524313</td>\n",
       "      <td>-1.145229</td>\n",
       "      <td>0.371108</td>\n",
       "      <td>1.129277</td>\n",
       "      <td>0.371108</td>\n",
       "      <td>-2.661566</td>\n",
       "      <td>0.371108</td>\n",
       "    </tr>\n",
       "    <tr>\n",
       "      <th>2</th>\n",
       "      <td>0.371108</td>\n",
       "      <td>1.129277</td>\n",
       "      <td>0.750193</td>\n",
       "      <td>-0.007976</td>\n",
       "      <td>0.750193</td>\n",
       "      <td>-0.007976</td>\n",
       "      <td>-0.38706</td>\n",
       "      <td>-2.472024</td>\n",
       "      <td>-1.903397</td>\n",
       "      <td>-0.007976</td>\n",
       "      <td>...</td>\n",
       "      <td>-1.713855</td>\n",
       "      <td>-0.766144</td>\n",
       "      <td>-1.145229</td>\n",
       "      <td>-1.334771</td>\n",
       "      <td>-1.145229</td>\n",
       "      <td>0.371108</td>\n",
       "      <td>1.129277</td>\n",
       "      <td>0.086795</td>\n",
       "      <td>-2.661566</td>\n",
       "      <td>0.371108</td>\n",
       "    </tr>\n",
       "    <tr>\n",
       "      <th>3</th>\n",
       "      <td>0.371108</td>\n",
       "      <td>1.129277</td>\n",
       "      <td>0.750193</td>\n",
       "      <td>-0.007976</td>\n",
       "      <td>0.750193</td>\n",
       "      <td>-0.007976</td>\n",
       "      <td>-0.38706</td>\n",
       "      <td>-2.472024</td>\n",
       "      <td>-1.903397</td>\n",
       "      <td>-0.007976</td>\n",
       "      <td>...</td>\n",
       "      <td>-1.713855</td>\n",
       "      <td>-0.766144</td>\n",
       "      <td>-1.145229</td>\n",
       "      <td>-1.334771</td>\n",
       "      <td>-1.145229</td>\n",
       "      <td>0.371108</td>\n",
       "      <td>1.129277</td>\n",
       "      <td>0.086795</td>\n",
       "      <td>-2.661566</td>\n",
       "      <td>0.371108</td>\n",
       "    </tr>\n",
       "    <tr>\n",
       "      <th>4</th>\n",
       "      <td>0.371108</td>\n",
       "      <td>1.129277</td>\n",
       "      <td>0.750193</td>\n",
       "      <td>-0.007976</td>\n",
       "      <td>0.750193</td>\n",
       "      <td>-0.007976</td>\n",
       "      <td>-0.38706</td>\n",
       "      <td>-2.472024</td>\n",
       "      <td>-1.903397</td>\n",
       "      <td>-0.007976</td>\n",
       "      <td>...</td>\n",
       "      <td>-1.713855</td>\n",
       "      <td>-0.766144</td>\n",
       "      <td>-1.145229</td>\n",
       "      <td>-1.334771</td>\n",
       "      <td>-1.145229</td>\n",
       "      <td>0.371108</td>\n",
       "      <td>1.129277</td>\n",
       "      <td>0.086795</td>\n",
       "      <td>-2.661566</td>\n",
       "      <td>0.371108</td>\n",
       "    </tr>\n",
       "  </tbody>\n",
       "</table>\n",
       "<p>5 rows × 16602 columns</p>\n",
       "</div>"
      ],
      "text/plain": [
       "beer_name  \"Body\" System  \"Not Just Some\" Oatmeal Stout  \"That Guy\" Rye  \\\n",
       "0               0.371108                       1.129277        0.750193   \n",
       "1               0.371108                       1.129277        0.750193   \n",
       "2               0.371108                       1.129277        0.750193   \n",
       "3               0.371108                       1.129277        0.750193   \n",
       "4               0.371108                       1.129277        0.750193   \n",
       "\n",
       "beer_name       \"V\"  \"michelle\" Sour Red Saison  \\\n",
       "0         -0.007976                    0.750193   \n",
       "1         -0.007976                    0.750193   \n",
       "2         -0.007976                    0.750193   \n",
       "3         -0.007976                    0.750193   \n",
       "4         -0.007976                    0.750193   \n",
       "\n",
       "beer_name  #001 India Pale Ale Dry Hop Cascade  \\\n",
       "0                                    -0.007976   \n",
       "1                                    -0.387060   \n",
       "2                                    -0.007976   \n",
       "3                                    -0.007976   \n",
       "4                                    -0.007976   \n",
       "\n",
       "beer_name  #004 Tysk Hveteøl Bavarian Tettnanger  \\\n",
       "0                                       -0.38706   \n",
       "1                                       -0.38706   \n",
       "2                                       -0.38706   \n",
       "3                                       -0.38706   \n",
       "4                                       -0.38706   \n",
       "\n",
       "beer_name  #007 Tsjekkisk Pilsner Bohemian Saaz  #097 Soken Bitter      #100  \\\n",
       "0                                     -2.472024          -1.903397 -0.007976   \n",
       "1                                     -3.419734          -1.903397 -0.007976   \n",
       "2                                     -2.472024          -1.903397 -0.007976   \n",
       "3                                     -2.472024          -1.903397 -0.007976   \n",
       "4                                     -2.472024          -1.903397 -0.007976   \n",
       "\n",
       "beer_name  ...    Żywiec  Żywiec APA  Żywiec Białe  Żywiec Sesyjne IPA  \\\n",
       "0          ... -1.713855   -0.766144     -1.145229           -1.334771   \n",
       "1          ... -1.713855   -0.766144     -1.524313           -1.524313   \n",
       "2          ... -1.713855   -0.766144     -1.145229           -1.334771   \n",
       "3          ... -1.713855   -0.766144     -1.145229           -1.334771   \n",
       "4          ... -1.713855   -0.766144     -1.145229           -1.334771   \n",
       "\n",
       "beer_name  ‘Tis the Saison  ₡hop Shop #1  ₡hop Shop #4  √225 Saison  \\\n",
       "0                -1.145229      0.371108      1.129277     0.086795   \n",
       "1                -1.145229      0.371108      1.129277     0.371108   \n",
       "2                -1.145229      0.371108      1.129277     0.086795   \n",
       "3                -1.145229      0.371108      1.129277     0.086795   \n",
       "4                -1.145229      0.371108      1.129277     0.086795   \n",
       "\n",
       "beer_name  √225 Saison Zymatore - Calvados & Whiskey & Sherry Barrels  \\\n",
       "0                                                  -2.661566            \n",
       "1                                                  -2.661566            \n",
       "2                                                  -2.661566            \n",
       "3                                                  -2.661566            \n",
       "4                                                  -2.661566            \n",
       "\n",
       "beer_name  日本から来たネコ (Some Cat From Japan)  \n",
       "0                                0.371108  \n",
       "1                                0.371108  \n",
       "2                                0.371108  \n",
       "3                                0.371108  \n",
       "4                                0.371108  \n",
       "\n",
       "[5 rows x 16602 columns]"
      ]
     },
     "execution_count": 53,
     "metadata": {},
     "output_type": "execute_result"
    }
   ],
   "source": [
    "X = piv[piv['username'] == 'tsharp93'].drop('username', axis=1)\n",
    "Y = piv[piv['username'] != 'tsharp93'].drop('username', axis=1)\n",
    "Y.head()"
   ]
  },
  {
   "cell_type": "code",
   "execution_count": 54,
   "metadata": {},
   "outputs": [
    {
     "data": {
      "text/html": [
       "<div>\n",
       "<style scoped>\n",
       "    .dataframe tbody tr th:only-of-type {\n",
       "        vertical-align: middle;\n",
       "    }\n",
       "\n",
       "    .dataframe tbody tr th {\n",
       "        vertical-align: top;\n",
       "    }\n",
       "\n",
       "    .dataframe thead th {\n",
       "        text-align: right;\n",
       "    }\n",
       "</style>\n",
       "<table border=\"1\" class=\"dataframe\">\n",
       "  <thead>\n",
       "    <tr style=\"text-align: right;\">\n",
       "      <th></th>\n",
       "      <th>username</th>\n",
       "      <th>sim_score</th>\n",
       "    </tr>\n",
       "  </thead>\n",
       "  <tbody>\n",
       "    <tr>\n",
       "      <th>32</th>\n",
       "      <td>jimmyricci</td>\n",
       "      <td>0.999818</td>\n",
       "    </tr>\n",
       "    <tr>\n",
       "      <th>7</th>\n",
       "      <td>Justinswaldrip</td>\n",
       "      <td>0.999815</td>\n",
       "    </tr>\n",
       "    <tr>\n",
       "      <th>33</th>\n",
       "      <td>junana71</td>\n",
       "      <td>0.999795</td>\n",
       "    </tr>\n",
       "    <tr>\n",
       "      <th>27</th>\n",
       "      <td>danibean33</td>\n",
       "      <td>0.999754</td>\n",
       "    </tr>\n",
       "    <tr>\n",
       "      <th>34</th>\n",
       "      <td>jwarshawsky</td>\n",
       "      <td>0.999728</td>\n",
       "    </tr>\n",
       "  </tbody>\n",
       "</table>\n",
       "</div>"
      ],
      "text/plain": [
       "          username  sim_score\n",
       "32      jimmyricci   0.999818\n",
       "7   Justinswaldrip   0.999815\n",
       "33        junana71   0.999795\n",
       "27      danibean33   0.999754\n",
       "34     jwarshawsky   0.999728"
      ]
     },
     "execution_count": 54,
     "metadata": {},
     "output_type": "execute_result"
    }
   ],
   "source": [
    "sim = cosine_similarity(X,Y)[0].tolist()\n",
    "names = piv[piv['username'] != 'tsharp93']['username']\n",
    "\n",
    "sim_df = pd.DataFrame({'username':names, 'sim_score':sim})\n",
    "sim_df.sort_values(by='sim_score', ascending=False).head()"
   ]
  },
  {
   "cell_type": "markdown",
   "metadata": {},
   "source": [
    "#### Scale"
   ]
  },
  {
   "cell_type": "code",
   "execution_count": 57,
   "metadata": {},
   "outputs": [
    {
     "data": {
      "text/plain": [
       "StandardScaler(copy=True, with_mean=True, with_std=True)"
      ]
     },
     "execution_count": 57,
     "metadata": {},
     "output_type": "execute_result"
    }
   ],
   "source": [
    "X_scaler.fit(df[['ABV', 'IBU', 'global_rating']])"
   ]
  },
  {
   "cell_type": "code",
   "execution_count": 58,
   "metadata": {},
   "outputs": [],
   "source": [
    "df[['ABV', 'IBU', 'global_rating']] = X_scaler.transform(df[['ABV', 'IBU', 'global_rating']])"
   ]
  },
  {
   "cell_type": "code",
   "execution_count": 59,
   "metadata": {},
   "outputs": [
    {
     "data": {
      "text/plain": [
       "StandardScaler(copy=True, with_mean=True, with_std=True)"
      ]
     },
     "execution_count": 59,
     "metadata": {},
     "output_type": "execute_result"
    }
   ],
   "source": [
    "Y_scaler.fit(np.array(df['user_rating']).reshape(-1,1))"
   ]
  },
  {
   "cell_type": "code",
   "execution_count": 60,
   "metadata": {},
   "outputs": [],
   "source": [
    "df['user_rating'] = Y_scaler.transform(np.array(df['user_rating']).reshape(-1,1))"
   ]
  },
  {
   "cell_type": "code",
   "execution_count": 63,
   "metadata": {},
   "outputs": [
    {
     "data": {
      "text/html": [
       "<div>\n",
       "<style scoped>\n",
       "    .dataframe tbody tr th:only-of-type {\n",
       "        vertical-align: middle;\n",
       "    }\n",
       "\n",
       "    .dataframe tbody tr th {\n",
       "        vertical-align: top;\n",
       "    }\n",
       "\n",
       "    .dataframe thead th {\n",
       "        text-align: right;\n",
       "    }\n",
       "</style>\n",
       "<table border=\"1\" class=\"dataframe\">\n",
       "  <thead>\n",
       "    <tr style=\"text-align: right;\">\n",
       "      <th></th>\n",
       "      <th>username</th>\n",
       "      <th>beer_name</th>\n",
       "      <th>ABV</th>\n",
       "      <th>IBU</th>\n",
       "      <th>global_rating</th>\n",
       "      <th>total</th>\n",
       "      <th>beertype_Adambier</th>\n",
       "      <th>beertype_Altbier</th>\n",
       "      <th>beertype_American Wild Ale</th>\n",
       "      <th>beertype_Australian Sparkling Ale</th>\n",
       "      <th>...</th>\n",
       "      <th>brewery_Örebro Brygghus</th>\n",
       "      <th>brewery_ØL</th>\n",
       "      <th>brewery_ØLKYMISTEN</th>\n",
       "      <th>brewery_Ølgaard</th>\n",
       "      <th>brewery_Ølhuset Drømmer &amp; Divan</th>\n",
       "      <th>brewery_Ølsmia</th>\n",
       "      <th>brewery_Ørbæk Bryggeri</th>\n",
       "      <th>brewery_Švyturys</th>\n",
       "      <th>brewery_Žatecký pivovar</th>\n",
       "      <th>user_rating</th>\n",
       "    </tr>\n",
       "  </thead>\n",
       "  <tbody>\n",
       "    <tr>\n",
       "      <th>0</th>\n",
       "      <td>tnt</td>\n",
       "      <td>Society &amp; Solitude #7</td>\n",
       "      <td>0.562443</td>\n",
       "      <td>-3.939401e-18</td>\n",
       "      <td>1.367004</td>\n",
       "      <td>1</td>\n",
       "      <td>0</td>\n",
       "      <td>0</td>\n",
       "      <td>0</td>\n",
       "      <td>0</td>\n",
       "      <td>...</td>\n",
       "      <td>0</td>\n",
       "      <td>0</td>\n",
       "      <td>0</td>\n",
       "      <td>0</td>\n",
       "      <td>0</td>\n",
       "      <td>0</td>\n",
       "      <td>0</td>\n",
       "      <td>0</td>\n",
       "      <td>0</td>\n",
       "      <td>0.750193</td>\n",
       "    </tr>\n",
       "    <tr>\n",
       "      <th>1</th>\n",
       "      <td>tnt</td>\n",
       "      <td>Riwaka Single Hop Pale Ale</td>\n",
       "      <td>-0.717812</td>\n",
       "      <td>-3.939401e-18</td>\n",
       "      <td>0.910222</td>\n",
       "      <td>1</td>\n",
       "      <td>0</td>\n",
       "      <td>0</td>\n",
       "      <td>0</td>\n",
       "      <td>0</td>\n",
       "      <td>...</td>\n",
       "      <td>0</td>\n",
       "      <td>0</td>\n",
       "      <td>0</td>\n",
       "      <td>0</td>\n",
       "      <td>0</td>\n",
       "      <td>0</td>\n",
       "      <td>0</td>\n",
       "      <td>0</td>\n",
       "      <td>0</td>\n",
       "      <td>1.887446</td>\n",
       "    </tr>\n",
       "    <tr>\n",
       "      <th>2</th>\n",
       "      <td>tnt</td>\n",
       "      <td>Walk, Don't Run</td>\n",
       "      <td>-1.403663</td>\n",
       "      <td>-3.939401e-18</td>\n",
       "      <td>0.834092</td>\n",
       "      <td>1</td>\n",
       "      <td>0</td>\n",
       "      <td>0</td>\n",
       "      <td>0</td>\n",
       "      <td>0</td>\n",
       "      <td>...</td>\n",
       "      <td>0</td>\n",
       "      <td>0</td>\n",
       "      <td>0</td>\n",
       "      <td>0</td>\n",
       "      <td>0</td>\n",
       "      <td>0</td>\n",
       "      <td>0</td>\n",
       "      <td>0</td>\n",
       "      <td>0</td>\n",
       "      <td>1.129277</td>\n",
       "    </tr>\n",
       "    <tr>\n",
       "      <th>3</th>\n",
       "      <td>tnt</td>\n",
       "      <td>Czech Two</td>\n",
       "      <td>-1.220769</td>\n",
       "      <td>-3.244539e-01</td>\n",
       "      <td>0.282147</td>\n",
       "      <td>1</td>\n",
       "      <td>0</td>\n",
       "      <td>0</td>\n",
       "      <td>0</td>\n",
       "      <td>0</td>\n",
       "      <td>...</td>\n",
       "      <td>0</td>\n",
       "      <td>0</td>\n",
       "      <td>0</td>\n",
       "      <td>0</td>\n",
       "      <td>0</td>\n",
       "      <td>0</td>\n",
       "      <td>0</td>\n",
       "      <td>0</td>\n",
       "      <td>0</td>\n",
       "      <td>0.750193</td>\n",
       "    </tr>\n",
       "    <tr>\n",
       "      <th>4</th>\n",
       "      <td>tnt</td>\n",
       "      <td>Spirit of Revolt</td>\n",
       "      <td>0.653890</td>\n",
       "      <td>3.192885e-01</td>\n",
       "      <td>0.301180</td>\n",
       "      <td>1</td>\n",
       "      <td>0</td>\n",
       "      <td>0</td>\n",
       "      <td>0</td>\n",
       "      <td>0</td>\n",
       "      <td>...</td>\n",
       "      <td>0</td>\n",
       "      <td>0</td>\n",
       "      <td>0</td>\n",
       "      <td>0</td>\n",
       "      <td>0</td>\n",
       "      <td>0</td>\n",
       "      <td>0</td>\n",
       "      <td>0</td>\n",
       "      <td>0</td>\n",
       "      <td>0.371108</td>\n",
       "    </tr>\n",
       "  </tbody>\n",
       "</table>\n",
       "<p>5 rows × 3088 columns</p>\n",
       "</div>"
      ],
      "text/plain": [
       "  username                   beer_name       ABV           IBU  global_rating  \\\n",
       "0      tnt       Society & Solitude #7  0.562443 -3.939401e-18       1.367004   \n",
       "1      tnt  Riwaka Single Hop Pale Ale -0.717812 -3.939401e-18       0.910222   \n",
       "2      tnt             Walk, Don't Run -1.403663 -3.939401e-18       0.834092   \n",
       "3      tnt                   Czech Two -1.220769 -3.244539e-01       0.282147   \n",
       "4      tnt            Spirit of Revolt  0.653890  3.192885e-01       0.301180   \n",
       "\n",
       "   total  beertype_Adambier  beertype_Altbier  beertype_American Wild Ale  \\\n",
       "0      1                  0                 0                           0   \n",
       "1      1                  0                 0                           0   \n",
       "2      1                  0                 0                           0   \n",
       "3      1                  0                 0                           0   \n",
       "4      1                  0                 0                           0   \n",
       "\n",
       "   beertype_Australian Sparkling Ale  ...  brewery_Örebro Brygghus  \\\n",
       "0                                  0  ...                        0   \n",
       "1                                  0  ...                        0   \n",
       "2                                  0  ...                        0   \n",
       "3                                  0  ...                        0   \n",
       "4                                  0  ...                        0   \n",
       "\n",
       "   brewery_ØL  brewery_ØLKYMISTEN  brewery_Ølgaard  \\\n",
       "0           0                   0                0   \n",
       "1           0                   0                0   \n",
       "2           0                   0                0   \n",
       "3           0                   0                0   \n",
       "4           0                   0                0   \n",
       "\n",
       "   brewery_Ølhuset Drømmer & Divan  brewery_Ølsmia  brewery_Ørbæk Bryggeri  \\\n",
       "0                                0               0                       0   \n",
       "1                                0               0                       0   \n",
       "2                                0               0                       0   \n",
       "3                                0               0                       0   \n",
       "4                                0               0                       0   \n",
       "\n",
       "   brewery_Švyturys  brewery_Žatecký pivovar  user_rating  \n",
       "0                 0                        0     0.750193  \n",
       "1                 0                        0     1.887446  \n",
       "2                 0                        0     1.129277  \n",
       "3                 0                        0     0.750193  \n",
       "4                 0                        0     0.371108  \n",
       "\n",
       "[5 rows x 3088 columns]"
      ]
     },
     "execution_count": 63,
     "metadata": {},
     "output_type": "execute_result"
    }
   ],
   "source": [
    "df.head()"
   ]
  },
  {
   "cell_type": "markdown",
   "metadata": {},
   "source": [
    "### Lasso"
   ]
  },
  {
   "cell_type": "code",
   "execution_count": 61,
   "metadata": {},
   "outputs": [
    {
     "name": "stderr",
     "output_type": "stream",
     "text": [
      "/opt/conda/lib/python3.7/site-packages/sklearn/linear_model/coordinate_descent.py:492: ConvergenceWarning: Objective did not converge. You might want to increase the number of iterations. Fitting data with very small alpha may cause precision problems.\n",
      "  ConvergenceWarning)\n",
      "/opt/conda/lib/python3.7/site-packages/sklearn/linear_model/coordinate_descent.py:492: ConvergenceWarning: Objective did not converge. You might want to increase the number of iterations. Fitting data with very small alpha may cause precision problems.\n",
      "  ConvergenceWarning)\n"
     ]
    },
    {
     "name": "stdout",
     "output_type": "stream",
     "text": [
      "MAE = 0.49698377080677875 for n = 5\n"
     ]
    },
    {
     "name": "stderr",
     "output_type": "stream",
     "text": [
      "/opt/conda/lib/python3.7/site-packages/sklearn/linear_model/coordinate_descent.py:492: ConvergenceWarning: Objective did not converge. You might want to increase the number of iterations. Fitting data with very small alpha may cause precision problems.\n",
      "  ConvergenceWarning)\n",
      "/opt/conda/lib/python3.7/site-packages/sklearn/linear_model/coordinate_descent.py:492: ConvergenceWarning: Objective did not converge. You might want to increase the number of iterations. Fitting data with very small alpha may cause precision problems.\n",
      "  ConvergenceWarning)\n"
     ]
    },
    {
     "name": "stdout",
     "output_type": "stream",
     "text": [
      "MAE = 0.49255005087125375 for n = 6\n"
     ]
    },
    {
     "name": "stderr",
     "output_type": "stream",
     "text": [
      "/opt/conda/lib/python3.7/site-packages/sklearn/linear_model/coordinate_descent.py:492: ConvergenceWarning: Objective did not converge. You might want to increase the number of iterations. Fitting data with very small alpha may cause precision problems.\n",
      "  ConvergenceWarning)\n",
      "/opt/conda/lib/python3.7/site-packages/sklearn/linear_model/coordinate_descent.py:492: ConvergenceWarning: Objective did not converge. You might want to increase the number of iterations. Fitting data with very small alpha may cause precision problems.\n",
      "  ConvergenceWarning)\n"
     ]
    },
    {
     "name": "stdout",
     "output_type": "stream",
     "text": [
      "MAE = 0.49023119359475037 for n = 7\n"
     ]
    },
    {
     "name": "stderr",
     "output_type": "stream",
     "text": [
      "/opt/conda/lib/python3.7/site-packages/sklearn/linear_model/coordinate_descent.py:492: ConvergenceWarning: Objective did not converge. You might want to increase the number of iterations. Fitting data with very small alpha may cause precision problems.\n",
      "  ConvergenceWarning)\n",
      "/opt/conda/lib/python3.7/site-packages/sklearn/linear_model/coordinate_descent.py:492: ConvergenceWarning: Objective did not converge. You might want to increase the number of iterations. Fitting data with very small alpha may cause precision problems.\n",
      "  ConvergenceWarning)\n"
     ]
    },
    {
     "name": "stdout",
     "output_type": "stream",
     "text": [
      "MAE = 0.5127297574190417 for n = 8\n"
     ]
    },
    {
     "name": "stderr",
     "output_type": "stream",
     "text": [
      "/opt/conda/lib/python3.7/site-packages/sklearn/linear_model/coordinate_descent.py:492: ConvergenceWarning: Objective did not converge. You might want to increase the number of iterations. Fitting data with very small alpha may cause precision problems.\n",
      "  ConvergenceWarning)\n",
      "/opt/conda/lib/python3.7/site-packages/sklearn/linear_model/coordinate_descent.py:492: ConvergenceWarning: Objective did not converge. You might want to increase the number of iterations. Fitting data with very small alpha may cause precision problems.\n",
      "  ConvergenceWarning)\n"
     ]
    },
    {
     "name": "stdout",
     "output_type": "stream",
     "text": [
      "MAE = 0.5129935427562375 for n = 9\n"
     ]
    },
    {
     "name": "stderr",
     "output_type": "stream",
     "text": [
      "/opt/conda/lib/python3.7/site-packages/sklearn/linear_model/coordinate_descent.py:492: ConvergenceWarning: Objective did not converge. You might want to increase the number of iterations. Fitting data with very small alpha may cause precision problems.\n",
      "  ConvergenceWarning)\n"
     ]
    },
    {
     "name": "stdout",
     "output_type": "stream",
     "text": [
      "MAE = 0.5051468272458822 for n = 10\n"
     ]
    }
   ],
   "source": [
    "rand_state = 10\n",
    "n_users_list = [5,6,7,8,9,10]\n",
    "\n",
    "mae_list = []\n",
    "quarter_abs_error_list = []\n",
    "half_abs_error_list = []\n",
    "for n in n_users_list:\n",
    "\n",
    "    # get data for top n users similar to selected user\n",
    "    top_n = list(sim_df.sort_values('sim_score', ascending=False)[0:n]['username'])\n",
    "    top_n_df = df[df['username'].isin(top_n)]\n",
    "\n",
    "    # exclude rows where user/global rating is not available\n",
    "    top_n_df = top_n_df[~top_n_df['user_rating'].isna()]\n",
    "    top_n_df = top_n_df[~top_n_df['global_rating'].isna()]\n",
    "\n",
    "    # split data\n",
    "    x = top_n_df.drop(['username', 'beer_name', 'user_rating'],axis=1)\n",
    "    y = top_n_df['user_rating']\n",
    "    # from sklearn.model_selection import train_test_split\n",
    "    # X_train, X_test, y_train, y_test = train_test_split(x, y, test_size=0.2, random_state=rand_state)\n",
    "    X_test = df[df['username'] == 'tsharp93'].drop(['username', 'beer_name', 'user_rating'], axis=1)\n",
    "    y_test = df[df['username'] == 'tsharp93']['user_rating']\n",
    "\n",
    "    # Train model\n",
    "    from sklearn.linear_model import LassoCV\n",
    "    model = LassoCV(fit_intercept=False, normalize=False, cv=5, random_state=rand_state)\n",
    "    model.fit(x, y)\n",
    "\n",
    "    # Evaluate model on user's data \n",
    "    preds = model.predict(X_test)\n",
    "    \n",
    "    # unscale\n",
    "    preds_unscaled = Y_scaler.inverse_transform(preds)\n",
    "    y_test_unscaled = Y_scaler.inverse_transform(y_test)\n",
    "\n",
    "    # evaluate results\n",
    "    results_df = pd.DataFrame([preds_unscaled, y_test_unscaled]).transpose()\n",
    "    results_df.columns = ['predicted', 'actual']\n",
    "    results_df['error'] = results_df['predicted'] - results_df['actual']\n",
    "    results_df['abs_error'] = abs(results_df['error'])\n",
    "\n",
    "    # Performance Metrics \n",
    "    mae = np.mean(results_df['abs_error'])\n",
    "    print('MAE =', mae, \"for n =\", n)\n",
    "    \n",
    "    quarter_abs_error_list.append(100*len(results_df[results_df['abs_error']<=0.25])/len(results_df))\n",
    "    half_abs_error_list.append(100*len(results_df[results_df['abs_error']<=0.50])/len(results_df))\n",
    "    mae_list.append(mae)"
   ]
  },
  {
   "cell_type": "code",
   "execution_count": 62,
   "metadata": {},
   "outputs": [
    {
     "data": {
      "image/png": "[encoded data removed]",
      "text/plain": [
       "<Figure size 432x288 with 1 Axes>"
      ]
     },
     "metadata": {
      "needs_background": "light"
     },
     "output_type": "display_data"
    },
    {
     "data": {
      "image/png": "[encoded data removed]",
      "text/plain": [
       "<Figure size 432x288 with 1 Axes>"
      ]
     },
     "metadata": {
      "needs_background": "light"
     },
     "output_type": "display_data"
    },
    {
     "data": {
      "image/png": "[encoded data removed]",
      "text/plain": [
       "<Figure size 432x288 with 1 Axes>"
      ]
     },
     "metadata": {
      "needs_background": "light"
     },
     "output_type": "display_data"
    }
   ],
   "source": [
    "plt.scatter(n_users_list, mae_list)\n",
    "plt.xlabel('Number of Similar Users')\n",
    "plt.ylabel('Mean Absolute Error (MAE)')\n",
    "plt.show()\n",
    "\n",
    "plt.scatter(n_users_list, quarter_abs_error_list)\n",
    "plt.xlabel('Number of Similar Users')\n",
    "plt.ylabel('% of Data Points within 0.25 Abs Error')\n",
    "plt.show()\n",
    "\n",
    "plt.scatter(n_users_list, half_abs_error_list)\n",
    "plt.xlabel('Number of Similar Users')\n",
    "plt.ylabel('% of Data Points within 0.50 Abs Error')\n",
    "plt.show()"
   ]
  },
  {
   "cell_type": "markdown",
   "metadata": {},
   "source": [
    "### ElasticNet"
   ]
  },
  {
   "cell_type": "code",
   "execution_count": 68,
   "metadata": {},
   "outputs": [
    {
     "name": "stdout",
     "output_type": "stream",
     "text": [
      "MAE = 0.4989501144896883 for n = 5\n",
      "MAE = 0.5123475963575452 for n = 6\n",
      "MAE = 0.4927013153289939 for n = 7\n",
      "MAE = 0.5205606606563452 for n = 8\n",
      "MAE = 0.5202774041603635 for n = 9\n",
      "MAE = 0.5055627368207484 for n = 10\n"
     ]
    }
   ],
   "source": [
    "rand_state = 10\n",
    "n_users_list = [5,6,7,8,9,10]\n",
    "\n",
    "mae_list = []\n",
    "quarter_abs_error_list = []\n",
    "half_abs_error_list = []\n",
    "for n in n_users_list:\n",
    "\n",
    "    # get data for top n users similar to selected user\n",
    "    top_n = list(sim_df.sort_values('sim_score', ascending=False)[0:n]['username'])\n",
    "    top_n_df = df[df['username'].isin(top_n)]\n",
    "\n",
    "    # exclude rows where user/global rating is not available\n",
    "    top_n_df = top_n_df[~top_n_df['user_rating'].isna()]\n",
    "    top_n_df = top_n_df[~top_n_df['global_rating'].isna()]\n",
    "\n",
    "    # split data\n",
    "    x = top_n_df.drop(['username', 'beer_name', 'user_rating'],axis=1)\n",
    "    y = top_n_df['user_rating']\n",
    "    # from sklearn.model_selection import train_test_split\n",
    "    # X_train, X_test, y_train, y_test = train_test_split(x, y, test_size=0.2, random_state=rand_state)\n",
    "    X_test = df[df['username'] == 'tsharp93'].drop(['username', 'beer_name', 'user_rating'], axis=1)\n",
    "    y_test = df[df['username'] == 'tsharp93']['user_rating']\n",
    "\n",
    "    # Train model\n",
    "    from sklearn.linear_model import ElasticNetCV\n",
    "    model = ElasticNetCV(fit_intercept=False, normalize=False, cv=5, random_state=rand_state)\n",
    "    model.fit(x, y)\n",
    "\n",
    "    # Evaluate model on user's data \n",
    "    preds = model.predict(X_test)\n",
    "    \n",
    "    # unscale\n",
    "    preds_unscaled = Y_scaler.inverse_transform(preds)\n",
    "    y_test_unscaled = Y_scaler.inverse_transform(y_test)\n",
    "\n",
    "    # evaluate results\n",
    "    results_df = pd.DataFrame([preds_unscaled, y_test_unscaled]).transpose()\n",
    "    results_df.columns = ['predicted', 'actual']\n",
    "    results_df['error'] = results_df['predicted'] - results_df['actual']\n",
    "    results_df['abs_error'] = abs(results_df['error'])\n",
    "\n",
    "    # Performance Metrics \n",
    "    mae = np.mean(results_df['abs_error'])\n",
    "    print('MAE =', mae, \"for n =\", n)\n",
    "    \n",
    "    quarter_abs_error_list.append(100*len(results_df[results_df['abs_error']<=0.25])/len(results_df))\n",
    "    half_abs_error_list.append(100*len(results_df[results_df['abs_error']<=0.50])/len(results_df))\n",
    "    mae_list.append(mae)"
   ]
  },
  {
   "cell_type": "code",
   "execution_count": 69,
   "metadata": {},
   "outputs": [
    {
     "data": {
      "image/png": "[encoded data removed]",
      "text/plain": [
       "<Figure size 432x288 with 1 Axes>"
      ]
     },
     "metadata": {
      "needs_background": "light"
     },
     "output_type": "display_data"
    },
    {
     "data": {
      "image/png": "[encoded data removed]",
      "text/plain": [
       "<Figure size 432x288 with 1 Axes>"
      ]
     },
     "metadata": {
      "needs_background": "light"
     },
     "output_type": "display_data"
    },
    {
     "data": {
      "image/png": "[encoded data removed]",
      "text/plain": [
       "<Figure size 432x288 with 1 Axes>"
      ]
     },
     "metadata": {
      "needs_background": "light"
     },
     "output_type": "display_data"
    }
   ],
   "source": [
    "plt.scatter(n_users_list, mae_list)\n",
    "plt.xlabel('Number of Similar Users')\n",
    "plt.ylabel('Mean Absolute Error (MAE)')\n",
    "plt.show()\n",
    "\n",
    "plt.scatter(n_users_list, quarter_abs_error_list)\n",
    "plt.xlabel('Number of Similar Users')\n",
    "plt.ylabel('% of Data Points within 0.25 Abs Error')\n",
    "plt.show()\n",
    "\n",
    "plt.scatter(n_users_list, half_abs_error_list)\n",
    "plt.xlabel('Number of Similar Users')\n",
    "plt.ylabel('% of Data Points within 0.50 Abs Error')\n",
    "plt.show()"
   ]
  },
  {
   "cell_type": "code",
   "execution_count": null,
   "metadata": {},
   "outputs": [],
   "source": []
  }
 ],
 "metadata": {
  "kernelspec": {
   "display_name": "Python 3",
   "language": "python",
   "name": "python3"
  },
  "language_info": {
   "codemirror_mode": {
    "name": "ipython",
    "version": 3
   },
   "file_extension": ".py",
   "mimetype": "text/x-python",
   "name": "python",
   "nbconvert_exporter": "python",
   "pygments_lexer": "ipython3",
   "version": "3.6.7"
  }
 },
 "nbformat": 4,
 "nbformat_minor": 2
}
