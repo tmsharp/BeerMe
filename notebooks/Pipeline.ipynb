{
 "cells": [
  {
   "cell_type": "markdown",
   "metadata": {},
   "source": [
    "# Pipeline"
   ]
  },
  {
   "cell_type": "markdown",
   "metadata": {},
   "source": [
    "1. Preprocessing\n",
    "2. Cosine Similarity / Nearest Neighbors\n",
    "3. Scale / Standardize\n",
    "4. Build / Test Models"
   ]
  },
  {
   "cell_type": "markdown",
   "metadata": {},
   "source": [
    "## 1. Preprocessing"
   ]
  },
  {
   "cell_type": "code",
   "execution_count": 1,
   "metadata": {},
   "outputs": [],
   "source": [
    "import pandas as pd\n",
    "import numpy as np\n",
    "import matplotlib.pyplot as plt\n",
    "import sqlite3"
   ]
  },
  {
   "cell_type": "code",
   "execution_count": 2,
   "metadata": {},
   "outputs": [],
   "source": [
    "# read in data \n",
    "db_path = '../data/beer.db'\n",
    "conn = sqlite3.connect(db_path)\n",
    "\n",
    "query = \"SELECT * FROM user_extract\"\n",
    "df = pd.read_sql(query, conn)"
   ]
  },
  {
   "cell_type": "markdown",
   "metadata": {},
   "source": [
    "a. remove duplicates "
   ]
  },
  {
   "cell_type": "code",
   "execution_count": 3,
   "metadata": {},
   "outputs": [],
   "source": [
    "df = df[~df.duplicated()]"
   ]
  },
  {
   "cell_type": "markdown",
   "metadata": {},
   "source": [
    "b. one-hot encode categorical variables"
   ]
  },
  {
   "cell_type": "code",
   "execution_count": 4,
   "metadata": {},
   "outputs": [],
   "source": [
    "categorical_variables = ['beer_description', 'brewery']\n",
    "for cat_var in categorical_variables:\n",
    "    dummies = pd.get_dummies(df[cat_var], drop_first=True, prefix=cat_var)\n",
    "    df = pd.merge(df, dummies, left_index=True, right_index=True)"
   ]
  },
  {
   "cell_type": "markdown",
   "metadata": {},
   "source": [
    "c. flag outliers"
   ]
  },
  {
   "cell_type": "code",
   "execution_count": 5,
   "metadata": {},
   "outputs": [],
   "source": [
    "df['IBU'] = df['IBU'].astype(float)"
   ]
  },
  {
   "cell_type": "code",
   "execution_count": 6,
   "metadata": {},
   "outputs": [
    {
     "name": "stdout",
     "output_type": "stream",
     "text": [
      "FEATURE ABV\n",
      "num of outliers = 3,421\n",
      "% of outliers = 3.33%\n",
      "\n",
      "\n",
      "FEATURE global_rating\n",
      "num of outliers = 3,648\n",
      "% of outliers = 3.56%\n",
      "\n",
      "\n",
      "FEATURE user_rating\n",
      "num of outliers = 11,267\n",
      "% of outliers = 10.98%\n",
      "\n",
      "\n",
      "FEATURE IBU\n",
      "num of outliers = 47,592\n",
      "% of outliers = 46.39%\n",
      "\n",
      "\n"
     ]
    }
   ],
   "source": [
    "features = ['ABV', 'global_rating', 'user_rating', 'IBU']\n",
    "skipnas = True\n",
    "\n",
    "for feature in features:\n",
    "    q1 = df[feature].quantile(.25)\n",
    "    q3 = df[feature].quantile(.75)\n",
    "    iqr = q3 - q1\n",
    "    non_outlier_mask = (df[feature] >= q1 - 1.5*iqr) & (df[feature] <= q3 + 1.5*iqr)\n",
    "    outliers = df[~non_outlier_mask]\n",
    "\n",
    "    print(\"FEATURE {}\".format(feature))\n",
    "    print(\"num of outliers = {:,d}\".format(len(outliers)))\n",
    "    print(\"% of outliers = {:.2f}%\".format(100*len(outliers)/len(df)))\n",
    "    print(\"\\n\")"
   ]
  },
  {
   "cell_type": "code",
   "execution_count": 7,
   "metadata": {},
   "outputs": [
    {
     "data": {
      "text/plain": [
       "username                0\n",
       "beer_name               0\n",
       "beer_description        0\n",
       "brewery                 0\n",
       "ABV                   923\n",
       "IBU                 47035\n",
       "global_rating           0\n",
       "user_rating          3882\n",
       "dtype: int64"
      ]
     },
     "execution_count": 7,
     "metadata": {},
     "output_type": "execute_result"
    }
   ],
   "source": [
    "df.iloc[:,:8].isna().sum()"
   ]
  },
  {
   "cell_type": "markdown",
   "metadata": {},
   "source": [
    "d. Impute missing values"
   ]
  },
  {
   "cell_type": "code",
   "execution_count": 8,
   "metadata": {},
   "outputs": [],
   "source": [
    "features = ['ABV', 'global_rating', 'user_rating', 'IBU']\n",
    "impute_method = 'mean'\n",
    "\n",
    "for feature in features:\n",
    "    if impute_method == 'mean':\n",
    "        non_nas = df[~df[feature].isna()][feature].astype(float)\n",
    "        feature_mean = non_nas.mean()\n",
    "        df[feature] = df[feature].fillna(feature_mean)"
   ]
  },
  {
   "cell_type": "code",
   "execution_count": 9,
   "metadata": {},
   "outputs": [
    {
     "data": {
      "image/png": "[encoded data removed]",
      "text/plain": [
       "<Figure size 432x288 with 1 Axes>"
      ]
     },
     "metadata": {
      "needs_background": "light"
     },
     "output_type": "display_data"
    },
    {
     "data": {
      "text/plain": [
       "<matplotlib.axes._subplots.AxesSubplot at 0x7f87794f1ba8>"
      ]
     },
     "execution_count": 9,
     "metadata": {},
     "output_type": "execute_result"
    },
    {
     "data": {
      "image/png": "[encoded data removed]",
      "text/plain": [
       "<Figure size 432x288 with 1 Axes>"
      ]
     },
     "metadata": {
      "needs_background": "light"
     },
     "output_type": "display_data"
    }
   ],
   "source": [
    "plt.boxplot(df['user_rating'])\n",
    "plt.show()\n",
    "df['user_rating'].hist()"
   ]
  },
  {
   "cell_type": "code",
   "execution_count": 10,
   "metadata": {},
   "outputs": [
    {
     "data": {
      "text/plain": [
       "username            0\n",
       "beer_name           0\n",
       "beer_description    0\n",
       "brewery             0\n",
       "ABV                 0\n",
       "IBU                 0\n",
       "global_rating       0\n",
       "user_rating         0\n",
       "dtype: int64"
      ]
     },
     "execution_count": 10,
     "metadata": {},
     "output_type": "execute_result"
    }
   ],
   "source": [
    "df.iloc[:,:8].isna().sum()"
   ]
  },
  {
   "cell_type": "code",
   "execution_count": 11,
   "metadata": {},
   "outputs": [
    {
     "data": {
      "text/plain": [
       "username             object\n",
       "beer_name            object\n",
       "beer_description     object\n",
       "brewery              object\n",
       "ABV                 float64\n",
       "IBU                 float64\n",
       "global_rating       float64\n",
       "user_rating         float64\n",
       "dtype: object"
      ]
     },
     "execution_count": 11,
     "metadata": {},
     "output_type": "execute_result"
    }
   ],
   "source": [
    "df.iloc[:,:8].dtypes"
   ]
  },
  {
   "cell_type": "markdown",
   "metadata": {},
   "source": [
    "Take another look at 'user_rating' outliers after imputation"
   ]
  },
  {
   "cell_type": "code",
   "execution_count": 12,
   "metadata": {},
   "outputs": [
    {
     "name": "stdout",
     "output_type": "stream",
     "text": [
      "FEATURE ABV\n",
      "num of outliers = 2,498\n",
      "% of outliers = 2.43%\n",
      "\n",
      "\n",
      "FEATURE global_rating\n",
      "num of outliers = 3,648\n",
      "% of outliers = 3.56%\n",
      "\n",
      "\n",
      "FEATURE user_rating\n",
      "num of outliers = 7,385\n",
      "% of outliers = 7.20%\n",
      "\n",
      "\n",
      "FEATURE IBU\n",
      "num of outliers = 29,041\n",
      "% of outliers = 28.31%\n",
      "\n",
      "\n"
     ]
    }
   ],
   "source": [
    "features = ['ABV', 'global_rating', 'user_rating', 'IBU']\n",
    "\n",
    "for feature in features:\n",
    "    q1 = df[feature].quantile(.25)\n",
    "    q3 = df[feature].quantile(.75)\n",
    "    iqr = q3 - q1\n",
    "    non_outlier_mask = (df[feature] >= q1 - 1.5*iqr) & (df[feature] <= q3 + 1.5*iqr)\n",
    "    outliers = df[~non_outlier_mask]\n",
    "\n",
    "    print(\"FEATURE {}\".format(feature))\n",
    "    print(\"num of outliers = {:,d}\".format(len(outliers)))\n",
    "    print(\"% of outliers = {:.2f}%\".format(100*len(outliers)/len(df)))\n",
    "    print(\"\\n\")"
   ]
  },
  {
   "cell_type": "markdown",
   "metadata": {},
   "source": [
    "## 2. Cosine Similarity / Nearest Neighbors"
   ]
  },
  {
   "cell_type": "markdown",
   "metadata": {},
   "source": [
    "a. Create User-Item Matrix "
   ]
  },
  {
   "cell_type": "code",
   "execution_count": 13,
   "metadata": {},
   "outputs": [],
   "source": [
    "# User Specified Fill Method\n",
    "fill_method = 0"
   ]
  },
  {
   "cell_type": "code",
   "execution_count": 14,
   "metadata": {},
   "outputs": [
    {
     "data": {
      "text/html": [
       "<div>\n",
       "<style scoped>\n",
       "    .dataframe tbody tr th:only-of-type {\n",
       "        vertical-align: middle;\n",
       "    }\n",
       "\n",
       "    .dataframe tbody tr th {\n",
       "        vertical-align: top;\n",
       "    }\n",
       "\n",
       "    .dataframe thead th {\n",
       "        text-align: right;\n",
       "    }\n",
       "</style>\n",
       "<table border=\"1\" class=\"dataframe\">\n",
       "  <thead>\n",
       "    <tr style=\"text-align: right;\">\n",
       "      <th></th>\n",
       "      <th>!Wild Blend! (Morango+Amora)</th>\n",
       "      <th>\"33\" Export</th>\n",
       "      <th>\"Body\" System</th>\n",
       "      <th>\"British Bitter\" English Pale Ale</th>\n",
       "      <th>\"Calcium\" Blood Orange</th>\n",
       "      <th>\"Craft Beer\" Dark Lager Dry Hopped Oct. 2017</th>\n",
       "      <th>\"Cream Soda\" Wheat IPA</th>\n",
       "      <th>\"Cult of Pekko\" Hop-Scotch IPA (2017)</th>\n",
       "      <th>\"K\" is for Kriek</th>\n",
       "      <th>\"Not Just Some\" Oatmeal Stout</th>\n",
       "      <th>...</th>\n",
       "      <th>分 桃 (Fēn Táo)</th>\n",
       "      <th>分 桃 (Fēn Táo) (Blend 2)</th>\n",
       "      <th>废都 (Two Lost Capitals)</th>\n",
       "      <th>日本から来たネコ (Some Cat From Japan)</th>\n",
       "      <th>日本で人気がある Big In Japan DDH IPA</th>\n",
       "      <th>木島平村 Hard Cider #39</th>\n",
       "      <th>藻細工S-IPA (mosaic S-IPA)</th>\n",
       "      <th>調和</th>\n",
       "      <th>黄雪 (おうせき) - Yellow Snow</th>\n",
       "      <th>광화문 Seoulite Ale</th>\n",
       "    </tr>\n",
       "    <tr>\n",
       "      <th>username</th>\n",
       "      <th></th>\n",
       "      <th></th>\n",
       "      <th></th>\n",
       "      <th></th>\n",
       "      <th></th>\n",
       "      <th></th>\n",
       "      <th></th>\n",
       "      <th></th>\n",
       "      <th></th>\n",
       "      <th></th>\n",
       "      <th></th>\n",
       "      <th></th>\n",
       "      <th></th>\n",
       "      <th></th>\n",
       "      <th></th>\n",
       "      <th></th>\n",
       "      <th></th>\n",
       "      <th></th>\n",
       "      <th></th>\n",
       "      <th></th>\n",
       "      <th></th>\n",
       "    </tr>\n",
       "  </thead>\n",
       "  <tbody>\n",
       "    <tr>\n",
       "      <th>AFernan25</th>\n",
       "      <td>0</td>\n",
       "      <td>0.0</td>\n",
       "      <td>0</td>\n",
       "      <td>0.0</td>\n",
       "      <td>0.0</td>\n",
       "      <td>0.0</td>\n",
       "      <td>0</td>\n",
       "      <td>0.0</td>\n",
       "      <td>0.0</td>\n",
       "      <td>0.0</td>\n",
       "      <td>...</td>\n",
       "      <td>0</td>\n",
       "      <td>0.0</td>\n",
       "      <td>0</td>\n",
       "      <td>0</td>\n",
       "      <td>0</td>\n",
       "      <td>0.0</td>\n",
       "      <td>0.0</td>\n",
       "      <td>0.0</td>\n",
       "      <td>0.0</td>\n",
       "      <td>0.0</td>\n",
       "    </tr>\n",
       "    <tr>\n",
       "      <th>AlexKress</th>\n",
       "      <td>0</td>\n",
       "      <td>0.0</td>\n",
       "      <td>0</td>\n",
       "      <td>0.0</td>\n",
       "      <td>0.0</td>\n",
       "      <td>0.0</td>\n",
       "      <td>0</td>\n",
       "      <td>0.0</td>\n",
       "      <td>0.0</td>\n",
       "      <td>0.0</td>\n",
       "      <td>...</td>\n",
       "      <td>0</td>\n",
       "      <td>0.0</td>\n",
       "      <td>0</td>\n",
       "      <td>0</td>\n",
       "      <td>0</td>\n",
       "      <td>0.0</td>\n",
       "      <td>0.0</td>\n",
       "      <td>0.0</td>\n",
       "      <td>0.0</td>\n",
       "      <td>0.0</td>\n",
       "    </tr>\n",
       "    <tr>\n",
       "      <th>Asier05</th>\n",
       "      <td>0</td>\n",
       "      <td>0.0</td>\n",
       "      <td>0</td>\n",
       "      <td>0.0</td>\n",
       "      <td>0.0</td>\n",
       "      <td>0.0</td>\n",
       "      <td>0</td>\n",
       "      <td>0.0</td>\n",
       "      <td>0.0</td>\n",
       "      <td>0.0</td>\n",
       "      <td>...</td>\n",
       "      <td>0</td>\n",
       "      <td>0.0</td>\n",
       "      <td>0</td>\n",
       "      <td>0</td>\n",
       "      <td>0</td>\n",
       "      <td>0.0</td>\n",
       "      <td>0.0</td>\n",
       "      <td>0.0</td>\n",
       "      <td>0.0</td>\n",
       "      <td>0.0</td>\n",
       "    </tr>\n",
       "    <tr>\n",
       "      <th>Audyoh</th>\n",
       "      <td>0</td>\n",
       "      <td>0.0</td>\n",
       "      <td>0</td>\n",
       "      <td>0.0</td>\n",
       "      <td>0.0</td>\n",
       "      <td>0.0</td>\n",
       "      <td>0</td>\n",
       "      <td>0.0</td>\n",
       "      <td>0.0</td>\n",
       "      <td>0.0</td>\n",
       "      <td>...</td>\n",
       "      <td>0</td>\n",
       "      <td>0.0</td>\n",
       "      <td>0</td>\n",
       "      <td>0</td>\n",
       "      <td>0</td>\n",
       "      <td>0.0</td>\n",
       "      <td>0.0</td>\n",
       "      <td>0.0</td>\n",
       "      <td>0.0</td>\n",
       "      <td>0.0</td>\n",
       "    </tr>\n",
       "    <tr>\n",
       "      <th>Boat</th>\n",
       "      <td>4</td>\n",
       "      <td>0.0</td>\n",
       "      <td>0</td>\n",
       "      <td>0.0</td>\n",
       "      <td>0.0</td>\n",
       "      <td>0.0</td>\n",
       "      <td>0</td>\n",
       "      <td>0.0</td>\n",
       "      <td>0.0</td>\n",
       "      <td>0.0</td>\n",
       "      <td>...</td>\n",
       "      <td>0</td>\n",
       "      <td>0.0</td>\n",
       "      <td>0</td>\n",
       "      <td>0</td>\n",
       "      <td>0</td>\n",
       "      <td>0.0</td>\n",
       "      <td>0.0</td>\n",
       "      <td>0.0</td>\n",
       "      <td>0.0</td>\n",
       "      <td>0.0</td>\n",
       "    </tr>\n",
       "  </tbody>\n",
       "</table>\n",
       "<p>5 rows × 56776 columns</p>\n",
       "</div>"
      ],
      "text/plain": [
       "           !Wild Blend! (Morango+Amora)  \"33\" Export  \"Body\" System  \\\n",
       "username                                                              \n",
       "AFernan25                             0          0.0              0   \n",
       "AlexKress                             0          0.0              0   \n",
       "Asier05                               0          0.0              0   \n",
       "Audyoh                                0          0.0              0   \n",
       "Boat                                  4          0.0              0   \n",
       "\n",
       "           \"British Bitter\" English Pale Ale  \"Calcium\" Blood Orange  \\\n",
       "username                                                               \n",
       "AFernan25                                0.0                     0.0   \n",
       "AlexKress                                0.0                     0.0   \n",
       "Asier05                                  0.0                     0.0   \n",
       "Audyoh                                   0.0                     0.0   \n",
       "Boat                                     0.0                     0.0   \n",
       "\n",
       "           \"Craft Beer\" Dark Lager Dry Hopped Oct. 2017  \\\n",
       "username                                                  \n",
       "AFernan25                                           0.0   \n",
       "AlexKress                                           0.0   \n",
       "Asier05                                             0.0   \n",
       "Audyoh                                              0.0   \n",
       "Boat                                                0.0   \n",
       "\n",
       "           \"Cream Soda\" Wheat IPA  \"Cult of Pekko\" Hop-Scotch IPA (2017)  \\\n",
       "username                                                                   \n",
       "AFernan25                       0                                    0.0   \n",
       "AlexKress                       0                                    0.0   \n",
       "Asier05                         0                                    0.0   \n",
       "Audyoh                          0                                    0.0   \n",
       "Boat                            0                                    0.0   \n",
       "\n",
       "           \"K\" is for Kriek  \"Not Just Some\" Oatmeal Stout  ...  \\\n",
       "username                                                    ...   \n",
       "AFernan25               0.0                            0.0  ...   \n",
       "AlexKress               0.0                            0.0  ...   \n",
       "Asier05                 0.0                            0.0  ...   \n",
       "Audyoh                  0.0                            0.0  ...   \n",
       "Boat                    0.0                            0.0  ...   \n",
       "\n",
       "           分 桃 (Fēn Táo)  分 桃 (Fēn Táo) (Blend 2)  废都 (Two Lost Capitals)  \\\n",
       "username                                                                    \n",
       "AFernan25              0                      0.0                       0   \n",
       "AlexKress              0                      0.0                       0   \n",
       "Asier05                0                      0.0                       0   \n",
       "Audyoh                 0                      0.0                       0   \n",
       "Boat                   0                      0.0                       0   \n",
       "\n",
       "           日本から来たネコ (Some Cat From Japan)  日本で人気がある Big In Japan DDH IPA  \\\n",
       "username                                                                   \n",
       "AFernan25                               0                              0   \n",
       "AlexKress                               0                              0   \n",
       "Asier05                                 0                              0   \n",
       "Audyoh                                  0                              0   \n",
       "Boat                                    0                              0   \n",
       "\n",
       "           木島平村 Hard Cider #39  藻細工S-IPA (mosaic S-IPA)   調和  \\\n",
       "username                                                       \n",
       "AFernan25                  0.0                      0.0  0.0   \n",
       "AlexKress                  0.0                      0.0  0.0   \n",
       "Asier05                    0.0                      0.0  0.0   \n",
       "Audyoh                     0.0                      0.0  0.0   \n",
       "Boat                       0.0                      0.0  0.0   \n",
       "\n",
       "           黄雪 (おうせき) - Yellow Snow  광화문 Seoulite Ale  \n",
       "username                                              \n",
       "AFernan25                      0.0               0.0  \n",
       "AlexKress                      0.0               0.0  \n",
       "Asier05                        0.0               0.0  \n",
       "Audyoh                         0.0               0.0  \n",
       "Boat                           0.0               0.0  \n",
       "\n",
       "[5 rows x 56776 columns]"
      ]
     },
     "execution_count": 14,
     "metadata": {},
     "output_type": "execute_result"
    }
   ],
   "source": [
    "# Create User-Item Matrix \n",
    "data = df\n",
    "values = 'user_rating'\n",
    "index = 'username'\n",
    "columns = 'beer_name'\n",
    "agg_func = 'mean'\n",
    "\n",
    "if fill_method == 'item_mean':\n",
    "    ui_matrix = pd.pivot_table(data=data, values=values, index=index, \n",
    "                               columns=columns, aggfunc=agg_func)\n",
    "    ui_matrix = ui_matrix.fillna(ui_matrix.mean(axis=0), axis=0)\n",
    "\n",
    "elif fill_method == 'user_mean':\n",
    "    ui_matrix = pd.pivot_table(data=data, values=values, index=index, \n",
    "                               columns=columns, aggfunc=agg_func)\n",
    "    ui_matrix.apply(lambda row: row.fillna(row.mean()), axis=1)\n",
    "\n",
    "elif fill_method == 0:\n",
    "    ui_matrix = pd.pivot_table(data=data, values=values, index=index, \n",
    "                               columns=columns, aggfunc=agg_func, fill_value=0)\n",
    "else:\n",
    "    raise ValueError(\"Please checkout 'fill_method' value\")\n",
    "\n",
    "ui_matrix.columns = list(ui_matrix.columns)\n",
    "\n",
    "ui_matrix.head()"
   ]
  },
  {
   "cell_type": "markdown",
   "metadata": {},
   "source": [
    "c. Calculate Cosine Similarity"
   ]
  },
  {
   "cell_type": "code",
   "execution_count": 15,
   "metadata": {},
   "outputs": [
    {
     "name": "stdout",
     "output_type": "stream",
     "text": [
      "User of Reference for Cosine Sim = tsharp93\n"
     ]
    }
   ],
   "source": [
    "# Calculate Cosine Similarity \n",
    "user_of_reference = 'tsharp93'\n",
    "print(\"User of Reference for Cosine Sim = {}\".format(user_of_reference))\n",
    "\n",
    "from sklearn.metrics.pairwise import cosine_similarity\n",
    "X = ui_matrix[ui_matrix.index == user_of_reference]\n",
    "Y = ui_matrix[ui_matrix.index != user_of_reference]\n",
    "\n",
    "sim = cosine_similarity(X,Y)[0].tolist()\n",
    "names = Y.index\n",
    "\n",
    "sim_df = pd.DataFrame({'username':names, 'sim_score':sim})\n",
    "sim_df = sim_df.sort_values(by='sim_score', ascending=False)"
   ]
  },
  {
   "cell_type": "code",
   "execution_count": 16,
   "metadata": {},
   "outputs": [
    {
     "data": {
      "text/html": [
       "<div>\n",
       "<style scoped>\n",
       "    .dataframe tbody tr th:only-of-type {\n",
       "        vertical-align: middle;\n",
       "    }\n",
       "\n",
       "    .dataframe tbody tr th {\n",
       "        vertical-align: top;\n",
       "    }\n",
       "\n",
       "    .dataframe thead th {\n",
       "        text-align: right;\n",
       "    }\n",
       "</style>\n",
       "<table border=\"1\" class=\"dataframe\">\n",
       "  <thead>\n",
       "    <tr style=\"text-align: right;\">\n",
       "      <th></th>\n",
       "      <th>username</th>\n",
       "      <th>sim_score</th>\n",
       "    </tr>\n",
       "  </thead>\n",
       "  <tbody>\n",
       "    <tr>\n",
       "      <th>110</th>\n",
       "      <td>r4ymond</td>\n",
       "      <td>0.059821</td>\n",
       "    </tr>\n",
       "    <tr>\n",
       "      <th>82</th>\n",
       "      <td>edufontanez</td>\n",
       "      <td>0.054202</td>\n",
       "    </tr>\n",
       "    <tr>\n",
       "      <th>0</th>\n",
       "      <td>AFernan25</td>\n",
       "      <td>0.051696</td>\n",
       "    </tr>\n",
       "    <tr>\n",
       "      <th>15</th>\n",
       "      <td>FernandoRamirez</td>\n",
       "      <td>0.049640</td>\n",
       "    </tr>\n",
       "    <tr>\n",
       "      <th>103</th>\n",
       "      <td>mikeyjimenez</td>\n",
       "      <td>0.048229</td>\n",
       "    </tr>\n",
       "  </tbody>\n",
       "</table>\n",
       "</div>"
      ],
      "text/plain": [
       "            username  sim_score\n",
       "110          r4ymond   0.059821\n",
       "82       edufontanez   0.054202\n",
       "0          AFernan25   0.051696\n",
       "15   FernandoRamirez   0.049640\n",
       "103     mikeyjimenez   0.048229"
      ]
     },
     "execution_count": 16,
     "metadata": {},
     "output_type": "execute_result"
    }
   ],
   "source": [
    "sim_df.head()"
   ]
  },
  {
   "cell_type": "markdown",
   "metadata": {},
   "source": [
    "d. Add Nearest Neighbor (Cosine Sim) Rank to Data"
   ]
  },
  {
   "cell_type": "code",
   "execution_count": 17,
   "metadata": {},
   "outputs": [],
   "source": [
    "# add neighbor rank to df\n",
    "neighbor_rank = sim_df.reset_index(drop=True)\n",
    "neighbor_rank.index.name = 'nearest_neighbor_rank'\n",
    "neighbor_rank.reset_index(inplace=True)\n",
    "neighbor_rank['nearest_neighbor_rank'] = neighbor_rank['nearest_neighbor_rank'] + 1\n",
    "neighbor_rank = neighbor_rank[['nearest_neighbor_rank', 'username']]"
   ]
  },
  {
   "cell_type": "code",
   "execution_count": 18,
   "metadata": {},
   "outputs": [
    {
     "data": {
      "text/html": [
       "<div>\n",
       "<style scoped>\n",
       "    .dataframe tbody tr th:only-of-type {\n",
       "        vertical-align: middle;\n",
       "    }\n",
       "\n",
       "    .dataframe tbody tr th {\n",
       "        vertical-align: top;\n",
       "    }\n",
       "\n",
       "    .dataframe thead th {\n",
       "        text-align: right;\n",
       "    }\n",
       "</style>\n",
       "<table border=\"1\" class=\"dataframe\">\n",
       "  <thead>\n",
       "    <tr style=\"text-align: right;\">\n",
       "      <th></th>\n",
       "      <th>nearest_neighbor_rank</th>\n",
       "      <th>username</th>\n",
       "    </tr>\n",
       "  </thead>\n",
       "  <tbody>\n",
       "    <tr>\n",
       "      <th>0</th>\n",
       "      <td>1</td>\n",
       "      <td>r4ymond</td>\n",
       "    </tr>\n",
       "    <tr>\n",
       "      <th>1</th>\n",
       "      <td>2</td>\n",
       "      <td>edufontanez</td>\n",
       "    </tr>\n",
       "    <tr>\n",
       "      <th>2</th>\n",
       "      <td>3</td>\n",
       "      <td>AFernan25</td>\n",
       "    </tr>\n",
       "    <tr>\n",
       "      <th>3</th>\n",
       "      <td>4</td>\n",
       "      <td>FernandoRamirez</td>\n",
       "    </tr>\n",
       "    <tr>\n",
       "      <th>4</th>\n",
       "      <td>5</td>\n",
       "      <td>mikeyjimenez</td>\n",
       "    </tr>\n",
       "  </tbody>\n",
       "</table>\n",
       "</div>"
      ],
      "text/plain": [
       "   nearest_neighbor_rank         username\n",
       "0                      1          r4ymond\n",
       "1                      2      edufontanez\n",
       "2                      3        AFernan25\n",
       "3                      4  FernandoRamirez\n",
       "4                      5     mikeyjimenez"
      ]
     },
     "execution_count": 18,
     "metadata": {},
     "output_type": "execute_result"
    }
   ],
   "source": [
    "neighbor_rank.head()"
   ]
  },
  {
   "cell_type": "code",
   "execution_count": 19,
   "metadata": {},
   "outputs": [
    {
     "name": "stdout",
     "output_type": "stream",
     "text": [
      "(102598, 8347)\n",
      "(102598, 8348)\n"
     ]
    }
   ],
   "source": [
    "print(df.shape)\n",
    "df = pd.merge(neighbor_rank, df, on='username', how='outer')\n",
    "print(df.shape)"
   ]
  },
  {
   "cell_type": "code",
   "execution_count": 20,
   "metadata": {},
   "outputs": [
    {
     "data": {
      "text/html": [
       "<div>\n",
       "<style scoped>\n",
       "    .dataframe tbody tr th:only-of-type {\n",
       "        vertical-align: middle;\n",
       "    }\n",
       "\n",
       "    .dataframe tbody tr th {\n",
       "        vertical-align: top;\n",
       "    }\n",
       "\n",
       "    .dataframe thead th {\n",
       "        text-align: right;\n",
       "    }\n",
       "</style>\n",
       "<table border=\"1\" class=\"dataframe\">\n",
       "  <thead>\n",
       "    <tr style=\"text-align: right;\">\n",
       "      <th></th>\n",
       "      <th>nearest_neighbor_rank</th>\n",
       "      <th>username</th>\n",
       "      <th>beer_name</th>\n",
       "      <th>beer_description</th>\n",
       "      <th>brewery</th>\n",
       "      <th>ABV</th>\n",
       "      <th>IBU</th>\n",
       "      <th>global_rating</th>\n",
       "      <th>user_rating</th>\n",
       "      <th>first_date</th>\n",
       "      <th>...</th>\n",
       "      <th>brewery_Токсовская Сидрерия (On The Bones)</th>\n",
       "      <th>brewery_Тощий Заяц</th>\n",
       "      <th>brewery_Уманьпиво</th>\n",
       "      <th>brewery_Ферментстейшн</th>\n",
       "      <th>brewery_Фонтан / Кваспром</th>\n",
       "      <th>brewery_Хадыженский Пивзавод</th>\n",
       "      <th>brewery_Хмельной Патрик</th>\n",
       "      <th>brewery_Частная пивоварня Joker</th>\n",
       "      <th>brewery_Чисто пивоварня</th>\n",
       "      <th>brewery_Южный пивовар</th>\n",
       "    </tr>\n",
       "  </thead>\n",
       "  <tbody>\n",
       "    <tr>\n",
       "      <th>102558</th>\n",
       "      <td>NaN</td>\n",
       "      <td>tsharp93</td>\n",
       "      <td>Firestone Lager</td>\n",
       "      <td>Lager - Helles</td>\n",
       "      <td>Firestone Walker Brewing Company</td>\n",
       "      <td>4.5</td>\n",
       "      <td>17.0</td>\n",
       "      <td>3.58</td>\n",
       "      <td>3.50</td>\n",
       "      <td>06/23/19</td>\n",
       "      <td>...</td>\n",
       "      <td>0</td>\n",
       "      <td>0</td>\n",
       "      <td>0</td>\n",
       "      <td>0</td>\n",
       "      <td>0</td>\n",
       "      <td>0</td>\n",
       "      <td>0</td>\n",
       "      <td>0</td>\n",
       "      <td>0</td>\n",
       "      <td>0</td>\n",
       "    </tr>\n",
       "    <tr>\n",
       "      <th>102559</th>\n",
       "      <td>NaN</td>\n",
       "      <td>tsharp93</td>\n",
       "      <td>Köstritzer Schwarzbier</td>\n",
       "      <td>Schwarzbier</td>\n",
       "      <td>Köstritzer Schwarzbierbrauerei</td>\n",
       "      <td>4.8</td>\n",
       "      <td>22.0</td>\n",
       "      <td>3.53</td>\n",
       "      <td>3.25</td>\n",
       "      <td>06/11/19</td>\n",
       "      <td>...</td>\n",
       "      <td>0</td>\n",
       "      <td>0</td>\n",
       "      <td>0</td>\n",
       "      <td>0</td>\n",
       "      <td>0</td>\n",
       "      <td>0</td>\n",
       "      <td>0</td>\n",
       "      <td>0</td>\n",
       "      <td>0</td>\n",
       "      <td>0</td>\n",
       "    </tr>\n",
       "    <tr>\n",
       "      <th>102560</th>\n",
       "      <td>NaN</td>\n",
       "      <td>tsharp93</td>\n",
       "      <td>Midas Touch</td>\n",
       "      <td>Gruit / Ancient Herbed Ale</td>\n",
       "      <td>Dogfish Head Craft Brewery</td>\n",
       "      <td>9.0</td>\n",
       "      <td>12.0</td>\n",
       "      <td>3.78</td>\n",
       "      <td>3.25</td>\n",
       "      <td>06/01/19</td>\n",
       "      <td>...</td>\n",
       "      <td>0</td>\n",
       "      <td>0</td>\n",
       "      <td>0</td>\n",
       "      <td>0</td>\n",
       "      <td>0</td>\n",
       "      <td>0</td>\n",
       "      <td>0</td>\n",
       "      <td>0</td>\n",
       "      <td>0</td>\n",
       "      <td>0</td>\n",
       "    </tr>\n",
       "    <tr>\n",
       "      <th>102561</th>\n",
       "      <td>NaN</td>\n",
       "      <td>tsharp93</td>\n",
       "      <td>Twisted Monkey</td>\n",
       "      <td>Belgian Blonde</td>\n",
       "      <td>Victory Brewing Company</td>\n",
       "      <td>5.8</td>\n",
       "      <td>15.0</td>\n",
       "      <td>3.46</td>\n",
       "      <td>4.00</td>\n",
       "      <td>06/01/19</td>\n",
       "      <td>...</td>\n",
       "      <td>0</td>\n",
       "      <td>0</td>\n",
       "      <td>0</td>\n",
       "      <td>0</td>\n",
       "      <td>0</td>\n",
       "      <td>0</td>\n",
       "      <td>0</td>\n",
       "      <td>0</td>\n",
       "      <td>0</td>\n",
       "      <td>0</td>\n",
       "    </tr>\n",
       "    <tr>\n",
       "      <th>102562</th>\n",
       "      <td>NaN</td>\n",
       "      <td>tsharp93</td>\n",
       "      <td>Fresh Squeezed IPA</td>\n",
       "      <td>IPA - American</td>\n",
       "      <td>Deschutes Brewery</td>\n",
       "      <td>6.4</td>\n",
       "      <td>60.0</td>\n",
       "      <td>3.94</td>\n",
       "      <td>4.25</td>\n",
       "      <td>05/21/19</td>\n",
       "      <td>...</td>\n",
       "      <td>0</td>\n",
       "      <td>0</td>\n",
       "      <td>0</td>\n",
       "      <td>0</td>\n",
       "      <td>0</td>\n",
       "      <td>0</td>\n",
       "      <td>0</td>\n",
       "      <td>0</td>\n",
       "      <td>0</td>\n",
       "      <td>0</td>\n",
       "    </tr>\n",
       "  </tbody>\n",
       "</table>\n",
       "<p>5 rows × 8348 columns</p>\n",
       "</div>"
      ],
      "text/plain": [
       "        nearest_neighbor_rank  username               beer_name  \\\n",
       "102558                    NaN  tsharp93         Firestone Lager   \n",
       "102559                    NaN  tsharp93  Köstritzer Schwarzbier   \n",
       "102560                    NaN  tsharp93             Midas Touch   \n",
       "102561                    NaN  tsharp93          Twisted Monkey   \n",
       "102562                    NaN  tsharp93      Fresh Squeezed IPA   \n",
       "\n",
       "                  beer_description                           brewery  ABV  \\\n",
       "102558              Lager - Helles  Firestone Walker Brewing Company  4.5   \n",
       "102559                 Schwarzbier    Köstritzer Schwarzbierbrauerei  4.8   \n",
       "102560  Gruit / Ancient Herbed Ale        Dogfish Head Craft Brewery  9.0   \n",
       "102561              Belgian Blonde           Victory Brewing Company  5.8   \n",
       "102562              IPA - American                 Deschutes Brewery  6.4   \n",
       "\n",
       "         IBU  global_rating  user_rating first_date  ...  \\\n",
       "102558  17.0           3.58         3.50   06/23/19  ...   \n",
       "102559  22.0           3.53         3.25   06/11/19  ...   \n",
       "102560  12.0           3.78         3.25   06/01/19  ...   \n",
       "102561  15.0           3.46         4.00   06/01/19  ...   \n",
       "102562  60.0           3.94         4.25   05/21/19  ...   \n",
       "\n",
       "       brewery_Токсовская Сидрерия (On The Bones)  brewery_Тощий Заяц  \\\n",
       "102558                                          0                   0   \n",
       "102559                                          0                   0   \n",
       "102560                                          0                   0   \n",
       "102561                                          0                   0   \n",
       "102562                                          0                   0   \n",
       "\n",
       "        brewery_Уманьпиво  brewery_Ферментстейшн  brewery_Фонтан / Кваспром  \\\n",
       "102558                  0                      0                          0   \n",
       "102559                  0                      0                          0   \n",
       "102560                  0                      0                          0   \n",
       "102561                  0                      0                          0   \n",
       "102562                  0                      0                          0   \n",
       "\n",
       "        brewery_Хадыженский Пивзавод  brewery_Хмельной Патрик  \\\n",
       "102558                             0                        0   \n",
       "102559                             0                        0   \n",
       "102560                             0                        0   \n",
       "102561                             0                        0   \n",
       "102562                             0                        0   \n",
       "\n",
       "        brewery_Частная пивоварня Joker  brewery_Чисто пивоварня  \\\n",
       "102558                                0                        0   \n",
       "102559                                0                        0   \n",
       "102560                                0                        0   \n",
       "102561                                0                        0   \n",
       "102562                                0                        0   \n",
       "\n",
       "        brewery_Южный пивовар  \n",
       "102558                      0  \n",
       "102559                      0  \n",
       "102560                      0  \n",
       "102561                      0  \n",
       "102562                      0  \n",
       "\n",
       "[5 rows x 8348 columns]"
      ]
     },
     "execution_count": 20,
     "metadata": {},
     "output_type": "execute_result"
    }
   ],
   "source": [
    "df[df['username'] == 'tsharp93'].head()"
   ]
  },
  {
   "cell_type": "markdown",
   "metadata": {},
   "source": [
    "## 3. Scale / Standardize Data "
   ]
  },
  {
   "cell_type": "markdown",
   "metadata": {},
   "source": [
    "#### Select Features and Target"
   ]
  },
  {
   "cell_type": "code",
   "execution_count": 28,
   "metadata": {},
   "outputs": [
    {
     "name": "stdout",
     "output_type": "stream",
     "text": [
      "REMINDER User of Reference = tsharp93\n"
     ]
    }
   ],
   "source": [
    "brewery_cols = [col for col in df if col.startswith('brewery_')]\n",
    "beer_description_cols = [col for col in df if col.startswith('beer_description_')]\n",
    "\n",
    "features = ['ABV', 'IBU', 'global_rating'] + beer_description_cols\n",
    "target = 'user_rating'\n",
    "\n",
    "print(\"REMINDER User of Reference = {}\".format(user_of_reference))"
   ]
  },
  {
   "cell_type": "markdown",
   "metadata": {},
   "source": [
    "#### Transform Features and Target Separately (easier to Inverse Transform later)"
   ]
  },
  {
   "cell_type": "code",
   "execution_count": 48,
   "metadata": {},
   "outputs": [
    {
     "name": "stderr",
     "output_type": "stream",
     "text": [
      "/opt/conda/lib/python3.7/site-packages/sklearn/preprocessing/data.py:645: DataConversionWarning: Data with input dtype uint8, float64 were all converted to float64 by StandardScaler.\n",
      "  return self.partial_fit(X, y)\n",
      "/opt/conda/lib/python3.7/site-packages/ipykernel_launcher.py:5: DataConversionWarning: Data with input dtype uint8, float64 were all converted to float64 by StandardScaler.\n",
      "  \"\"\"\n"
     ]
    }
   ],
   "source": [
    "from sklearn.preprocessing import StandardScaler\n",
    "\n",
    "X_scaler = StandardScaler()\n",
    "X_scaler.fit(df[features])\n",
    "df[features] = X_scaler.transform(df[features])\n",
    "\n",
    "y_scaler = StandardScaler()\n",
    "y = np.array(df[target]).reshape(-1, 1 )\n",
    "y_scaler.fit(y)\n",
    "df[target] = y_scaler.transform(y)"
   ]
  },
  {
   "cell_type": "markdown",
   "metadata": {},
   "source": [
    "## 4. Build Models"
   ]
  },
  {
   "cell_type": "code",
   "execution_count": 49,
   "metadata": {},
   "outputs": [],
   "source": [
    "rand_state = 10"
   ]
  },
  {
   "cell_type": "markdown",
   "metadata": {},
   "source": [
    "### B. Take Top Nearest Neighbors"
   ]
  },
  {
   "cell_type": "code",
   "execution_count": 21,
   "metadata": {},
   "outputs": [
    {
     "name": "stdout",
     "output_type": "stream",
     "text": [
      "N = 5, # Points = 1,175\n",
      "N = 6, # Points = 1,375\n",
      "N = 7, # Points = 1,450\n",
      "N = 8, # Points = 3,750\n",
      "N = 9, # Points = 5,125\n",
      "N = 10, # Points = 7,700\n"
     ]
    }
   ],
   "source": [
    "n_users_list = range(5,11)\n",
    "\n",
    "for n in n_users_list:\n",
    "    top_n = list(sim_df.sort_values('sim_score', ascending=False)[0:n]['username'])\n",
    "    top_n_df = df[df['username'].isin(top_n)]\n",
    "    print(\"N = {}, # Points = {:,d}\".format(n, len(top_n_df)))"
   ]
  },
  {
   "cell_type": "markdown",
   "metadata": {},
   "source": [
    "#### Lasso, Search for Alpha"
   ]
  },
  {
   "cell_type": "code",
   "execution_count": 22,
   "metadata": {},
   "outputs": [
    {
     "name": "stdout",
     "output_type": "stream",
     "text": [
      "MAE = 0.38225 for n = 5 with alpha = 0.0409\n",
      "MAE = 0.38331 for n = 6 with alpha = 0.02664\n",
      "MAE = 0.37284 for n = 7 with alpha = 0.02353\n",
      "MAE = 0.3762 for n = 8 with alpha = 0.01941\n",
      "MAE = 0.3751 for n = 9 with alpha = 0.01236\n",
      "MAE = 0.37668 for n = 10 with alpha = 0.0108\n"
     ]
    }
   ],
   "source": [
    "mae_list = []\n",
    "quarter_abs_error_list = []\n",
    "half_abs_error_list = []\n",
    "\n",
    "for top_n in n_users_list:\n",
    "    \n",
    "    # split data \n",
    "    df_top_n = df[df['nearest_neighbor_rank'] <= top_n]\n",
    "    X_train = df_top_n[features]\n",
    "    y_train = df_top_n[target]\n",
    "    \n",
    "    X_test = df[df['username'] == user_of_reference][features]\n",
    "    y_test = df[df['username'] == user_of_reference][target]\n",
    "\n",
    "    # train\n",
    "    from sklearn.linear_model import LassoCV\n",
    "    model = LassoCV(fit_intercept=False, normalize=False, cv=5, random_state=rand_state)\n",
    "    model.fit(X_train, y_train)\n",
    "\n",
    "    # Evaluate model on user's data \n",
    "    preds = model.predict(X_test)\n",
    "\n",
    "    # unscale\n",
    "    preds_unscaled = y_scaler.inverse_transform(preds)\n",
    "    y_test_unscaled = y_scaler.inverse_transform(y_test)\n",
    "\n",
    "    # evaluate results\n",
    "    results_df = pd.DataFrame([preds_unscaled, y_test_unscaled]).transpose()\n",
    "    results_df.columns = ['predicted', 'actual']\n",
    "    results_df['error'] = results_df['predicted'] - results_df['actual']\n",
    "    results_df['abs_error'] = abs(results_df['error'])\n",
    "\n",
    "    # Performance Metrics \n",
    "    mae = np.mean(results_df['abs_error'])\n",
    "    print('MAE =', np.round(mae, 5), \"for n =\", top_n, \n",
    "          \"with alpha =\", np.round(model.alpha_, 5))\n",
    "\n",
    "    quarter_abs_error_list.append(100*len(results_df[results_df['abs_error']<=0.25])/len(results_df))\n",
    "    half_abs_error_list.append(100*len(results_df[results_df['abs_error']<=0.50])/len(results_df))\n",
    "    mae_list.append(mae)"
   ]
  },
  {
   "cell_type": "markdown",
   "metadata": {},
   "source": [
    "#### ElasticNet, Search for Alpha, L1 Ratio = 0.5"
   ]
  },
  {
   "cell_type": "code",
   "execution_count": 23,
   "metadata": {},
   "outputs": [
    {
     "name": "stdout",
     "output_type": "stream",
     "text": [
      "MAE = 0.38198 for n = 5 with alpha = 0.07629 and l1 ratio =  0.5\n",
      "MAE = 0.38399 for n = 6 with alpha = 0.04969 and l1 ratio =  0.5\n",
      "MAE = 0.37297 for n = 7 with alpha = 0.04706 and l1 ratio =  0.5\n",
      "MAE = 0.37664 for n = 8 with alpha = 0.03882 and l1 ratio =  0.5\n",
      "MAE = 0.37511 for n = 9 with alpha = 0.02473 and l1 ratio =  0.5\n",
      "MAE = 0.37674 for n = 10 with alpha = 0.02161 and l1 ratio =  0.5\n"
     ]
    }
   ],
   "source": [
    "mae_list = []\n",
    "quarter_abs_error_list = []\n",
    "half_abs_error_list = []\n",
    "\n",
    "for top_n in n_users_list:\n",
    "    \n",
    "    # split data \n",
    "    df_top_n = df[df['nearest_neighbor_rank'] <= top_n]\n",
    "    X_train = df_top_n[features]\n",
    "    y_train = df_top_n[target]\n",
    "    \n",
    "    X_test = df[df['username'] == user_of_reference][features]\n",
    "    y_test = df[df['username'] == user_of_reference][target]\n",
    "\n",
    "    # train\n",
    "    from sklearn.linear_model import ElasticNetCV\n",
    "    model = ElasticNetCV(fit_intercept=False, normalize=False, cv=5, random_state=rand_state)\n",
    "    model.fit(X_train, y_train)\n",
    "\n",
    "    # Evaluate model on user's data \n",
    "    preds = model.predict(X_test)\n",
    "\n",
    "    # unscale\n",
    "    preds_unscaled = y_scaler.inverse_transform(preds)\n",
    "    y_test_unscaled = y_scaler.inverse_transform(y_test)\n",
    "\n",
    "    # evaluate results\n",
    "    results_df = pd.DataFrame([preds_unscaled, y_test_unscaled]).transpose()\n",
    "    results_df.columns = ['predicted', 'actual']\n",
    "    results_df['error'] = results_df['predicted'] - results_df['actual']\n",
    "    results_df['abs_error'] = abs(results_df['error'])\n",
    "\n",
    "    # Performance Metrics \n",
    "    mae = np.mean(results_df['abs_error'])\n",
    "    print('MAE =', np.round(mae,5), \"for n =\", top_n, \n",
    "          \"with alpha =\", np.round(model.alpha_, 5), \"and l1 ratio = \", model.l1_ratio_)\n",
    "\n",
    "    quarter_abs_error_list.append(100*len(results_df[results_df['abs_error']<=0.25])/len(results_df))\n",
    "    half_abs_error_list.append(100*len(results_df[results_df['abs_error']<=0.50])/len(results_df))\n",
    "    mae_list.append(mae)"
   ]
  },
  {
   "cell_type": "markdown",
   "metadata": {},
   "source": [
    "#### SVR, C = 0.5, Epsilon = 0.25"
   ]
  },
  {
   "cell_type": "code",
   "execution_count": 24,
   "metadata": {},
   "outputs": [
    {
     "name": "stdout",
     "output_type": "stream",
     "text": [
      "MAE = 0.38731 for n = 5 with C = 0.5 and epsilon = 0.25\n",
      "MAE = 0.39794 for n = 6 with C = 0.5 and epsilon = 0.25\n",
      "MAE = 0.39201 for n = 7 with C = 0.5 and epsilon = 0.25\n",
      "MAE = 0.39195 for n = 8 with C = 0.5 and epsilon = 0.25\n",
      "MAE = 0.36879 for n = 9 with C = 0.5 and epsilon = 0.25\n",
      "MAE = 0.36558 for n = 10 with C = 0.5 and epsilon = 0.25\n"
     ]
    }
   ],
   "source": [
    "eps = 0.25\n",
    "\n",
    "mae_list = []\n",
    "quarter_abs_error_list = []\n",
    "half_abs_error_list = []\n",
    "\n",
    "for top_n in n_users_list:\n",
    "    \n",
    "    # split data \n",
    "    df_top_n = df[df['nearest_neighbor_rank'] <= top_n]\n",
    "    X_train = df_top_n[features]\n",
    "    y_train = df_top_n[target]\n",
    "    \n",
    "    X_test = df[df['username'] == user_of_reference][features]\n",
    "    y_test = df[df['username'] == user_of_reference][target]\n",
    "\n",
    "    # train\n",
    "    from sklearn.svm import SVR\n",
    "    for C in [0.5]:\n",
    "        model = SVR(kernel='linear', epsilon=eps, C=C)\n",
    "        model.fit(X_train, y_train)\n",
    "\n",
    "        # Evaluate model on user's data \n",
    "        preds = model.predict(X_test)\n",
    "\n",
    "        # unscale\n",
    "        preds_unscaled = y_scaler.inverse_transform(preds)\n",
    "        y_test_unscaled = y_scaler.inverse_transform(y_test)\n",
    "\n",
    "        # evaluate results\n",
    "        results_df = pd.DataFrame([preds_unscaled, y_test_unscaled]).transpose()\n",
    "        results_df.columns = ['predicted', 'actual']\n",
    "        results_df['error'] = results_df['predicted'] - results_df['actual']\n",
    "        results_df['abs_error'] = abs(results_df['error'])\n",
    "\n",
    "        # Performance Metrics \n",
    "        mae = np.mean(results_df['abs_error'])\n",
    "        print('MAE =', np.round(mae,5), \"for n =\", top_n, \n",
    "              \"with C =\", model.C, \"and epsilon =\", model.epsilon)\n",
    "\n",
    "        quarter_abs_error_list.append(100*len(results_df[results_df['abs_error']<=0.25])/len(results_df))\n",
    "        half_abs_error_list.append(100*len(results_df[results_df['abs_error']<=0.50])/len(results_df))\n",
    "        mae_list.append(mae)"
   ]
  },
  {
   "cell_type": "markdown",
   "metadata": {},
   "source": [
    "#### SVR, Search for C, Epsilon = 0.25"
   ]
  },
  {
   "cell_type": "code",
   "execution_count": 25,
   "metadata": {},
   "outputs": [],
   "source": [
    "C_space = [0.1, 0.2, 0.5, 0.7, 1.0]"
   ]
  },
  {
   "cell_type": "code",
   "execution_count": 26,
   "metadata": {},
   "outputs": [
    {
     "name": "stdout",
     "output_type": "stream",
     "text": [
      "MAE = 0.38748 for n = 5 with final params = {'C': 0.2, 'epsilon': 0.25, 'kernel': 'linear'}\n",
      "MAE = 0.39793 for n = 6 with final params = {'C': 0.1, 'epsilon': 0.25, 'kernel': 'linear'}\n",
      "MAE = 0.3915 for n = 7 with final params = {'C': 0.1, 'epsilon': 0.25, 'kernel': 'linear'}\n",
      "MAE = 0.39195 for n = 8 with final params = {'C': 0.5, 'epsilon': 0.25, 'kernel': 'linear'}\n",
      "MAE = 0.36878 for n = 9 with final params = {'C': 0.1, 'epsilon': 0.25, 'kernel': 'linear'}\n",
      "MAE = 0.36559 for n = 10 with final params = {'C': 0.7, 'epsilon': 0.25, 'kernel': 'linear'}\n"
     ]
    }
   ],
   "source": [
    "eps = 0.25\n",
    "\n",
    "mae_list = []\n",
    "quarter_abs_error_list = []\n",
    "half_abs_error_list = []\n",
    "\n",
    "for top_n in n_users_list:\n",
    "    \n",
    "    # split data \n",
    "    df_top_n = df[df['nearest_neighbor_rank'] <= top_n]\n",
    "    X_train = df_top_n[features]\n",
    "    y_train = df_top_n[target]\n",
    "    \n",
    "    X_test = df[df['username'] == user_of_reference][features]\n",
    "    y_test = df[df['username'] == user_of_reference][target]\n",
    "\n",
    "    # train\n",
    "    from sklearn.svm import SVR\n",
    "    from sklearn.model_selection import GridSearchCV\n",
    "    grid = {'C': C_space,\n",
    "            'epsilon': [eps],\n",
    "            'kernel':['linear']}\n",
    "    svr = SVR()\n",
    "    model = GridSearchCV(svr, param_grid=grid, cv=5, scoring='neg_mean_absolute_error')\n",
    "    model.fit(X_train, y_train)\n",
    "\n",
    "    # Evaluate model on user's data \n",
    "    preds = model.predict(X_test)\n",
    "\n",
    "    # unscale\n",
    "    preds_unscaled = y_scaler.inverse_transform(preds)\n",
    "    y_test_unscaled = y_scaler.inverse_transform(y_test)\n",
    "\n",
    "    # evaluate results\n",
    "    results_df = pd.DataFrame([preds_unscaled, y_test_unscaled]).transpose()\n",
    "    results_df.columns = ['predicted', 'actual']\n",
    "    results_df['error'] = results_df['predicted'] - results_df['actual']\n",
    "    results_df['abs_error'] = abs(results_df['error'])\n",
    "\n",
    "    # Performance Metrics \n",
    "    mae = np.mean(results_df['abs_error'])\n",
    "    print('MAE =', np.round(mae,5), \"for n =\", top_n, \n",
    "          \"with final params =\", model.best_params_)\n",
    "\n",
    "    quarter_abs_error_list.append(100*len(results_df[results_df['abs_error']<=0.25])/len(results_df))\n",
    "    half_abs_error_list.append(100*len(results_df[results_df['abs_error']<=0.50])/len(results_df))\n",
    "    mae_list.append(mae)"
   ]
  },
  {
   "cell_type": "markdown",
   "metadata": {},
   "source": [
    "### Larger Top_N"
   ]
  },
  {
   "cell_type": "code",
   "execution_count": 41,
   "metadata": {},
   "outputs": [
    {
     "data": {
      "text/plain": [
       "129"
      ]
     },
     "execution_count": 41,
     "metadata": {},
     "output_type": "execute_result"
    }
   ],
   "source": [
    "len(df['username'].unique())"
   ]
  },
  {
   "cell_type": "code",
   "execution_count": 43,
   "metadata": {},
   "outputs": [
    {
     "name": "stdout",
     "output_type": "stream",
     "text": [
      "N = 5, # Points = 1,175\n",
      "N = 10, # Points = 7,700\n",
      "N = 15, # Points = 12,250\n",
      "N = 20, # Points = 15,200\n",
      "N = 25, # Points = 25,900\n",
      "N = 30, # Points = 30,367\n",
      "N = 35, # Points = 36,726\n",
      "N = 40, # Points = 43,360\n",
      "N = 45, # Points = 51,509\n",
      "N = 50, # Points = 58,259\n",
      "N = 55, # Points = 60,847\n",
      "N = 60, # Points = 70,922\n",
      "N = 65, # Points = 75,797\n",
      "N = 70, # Points = 84,847\n",
      "N = 75, # Points = 94,047\n",
      "N = 80, # Points = 99,397\n",
      "N = 85, # Points = 99,958\n",
      "N = 100, # Points = 100,473\n",
      "N = 128, # Points = 102,558\n",
      "CPU times: user 17.9 s, sys: 12.9 s, total: 30.8 s\n",
      "Wall time: 30.9 s\n"
     ]
    }
   ],
   "source": [
    "%%time\n",
    "\n",
    "n_users_list = [5, 10, 15, 20, 25, 30, 35, 40, 45, 50, 55, 60, 65, 70, 75, 80, 85, 100, len(df['username'].unique())-1]\n",
    "\n",
    "for n in n_users_list:\n",
    "    top_n = list(sim_df.sort_values('sim_score', ascending=False)[0:n]['username'])\n",
    "    top_n_df = df[df['username'].isin(top_n)]\n",
    "    print(\"N = {}, # Points = {:,d}\".format(n, len(top_n_df)))"
   ]
  },
  {
   "cell_type": "markdown",
   "metadata": {},
   "source": [
    "#### ElasticNet, Search for Alpha, Search for L1 Ratio"
   ]
  },
  {
   "cell_type": "code",
   "execution_count": 44,
   "metadata": {},
   "outputs": [],
   "source": [
    "l1_ratio_space = [.1, .5, .7, .9, .95, .99, 1]"
   ]
  },
  {
   "cell_type": "code",
   "execution_count": 45,
   "metadata": {},
   "outputs": [
    {
     "name": "stdout",
     "output_type": "stream",
     "text": [
      "MAE = 0.38198 for n = 5 with alpha = 0.07629 and l1 ratio =  0.5\n",
      "MAE = 0.37636 for n = 10 with alpha = 0.08173 and l1 ratio =  0.1\n",
      "MAE = 0.38338 for n = 15 with alpha = 0.06488 and l1 ratio =  0.1\n",
      "MAE = 0.37967 for n = 20 with alpha = 0.07635 and l1 ratio =  0.1\n",
      "MAE = 0.37628 for n = 25 with alpha = 0.05659 and l1 ratio =  0.1\n",
      "MAE = 0.37132 for n = 30 with alpha = 0.05086 and l1 ratio =  0.1\n",
      "MAE = 0.3674 for n = 35 with alpha = 0.04258 and l1 ratio =  0.1\n",
      "MAE = 0.36964 for n = 40 with alpha = 0.03212 and l1 ratio =  0.1\n",
      "MAE = 0.36981 for n = 45 with alpha = 0.03387 and l1 ratio =  0.1\n",
      "MAE = 0.37147 for n = 50 with alpha = 0.02409 and l1 ratio =  0.1\n",
      "MAE = 0.37032 for n = 55 with alpha = 0.02423 and l1 ratio =  0.1\n",
      "MAE = 0.37003 for n = 60 with alpha = 0.01791 and l1 ratio =  0.1\n",
      "MAE = 0.36951 for n = 65 with alpha = 0.02013 and l1 ratio =  0.1\n",
      "MAE = 0.36753 for n = 70 with alpha = 0.01931 and l1 ratio =  0.1\n",
      "MAE = 0.36745 for n = 75 with alpha = 0.01999 and l1 ratio =  0.1\n",
      "MAE = 0.36555 for n = 80 with alpha = 0.01623 and l1 ratio =  0.1\n",
      "MAE = 0.3655 for n = 85 with alpha = 0.01635 and l1 ratio =  0.1\n",
      "MAE = 0.36552 for n = 100 with alpha = 0.01652 and l1 ratio =  0.1\n",
      "MAE = 0.36594 for n = 128 with alpha = 0.01541 and l1 ratio =  0.1\n",
      "CPU times: user 9min 38s, sys: 2min 49s, total: 12min 27s\n",
      "Wall time: 8min 25s\n"
     ]
    }
   ],
   "source": [
    "%%time\n",
    "\n",
    "mae_list = []\n",
    "quarter_abs_error_list = []\n",
    "half_abs_error_list = []\n",
    "\n",
    "for top_n in n_users_list:\n",
    "    \n",
    "    # split data \n",
    "    df_top_n = df[df['nearest_neighbor_rank'] <= top_n]\n",
    "    X_train = df_top_n[features]\n",
    "    y_train = df_top_n[target]\n",
    "    \n",
    "    X_test = df[df['username'] == user_of_reference][features]\n",
    "    y_test = df[df['username'] == user_of_reference][target]\n",
    "\n",
    "    # train\n",
    "    from sklearn.linear_model import ElasticNetCV\n",
    "    model = ElasticNetCV(fit_intercept=False, normalize=False, l1_ratio=l1_ratio_space, cv=5, random_state=rand_state)\n",
    "    model.fit(X_train, y_train)\n",
    "\n",
    "    # Evaluate model on user's data \n",
    "    preds = model.predict(X_test)\n",
    "\n",
    "    # unscale\n",
    "    preds_unscaled = y_scaler.inverse_transform(preds)\n",
    "    y_test_unscaled = y_scaler.inverse_transform(y_test)\n",
    "\n",
    "    # evaluate results\n",
    "    results_df = pd.DataFrame([preds_unscaled, y_test_unscaled]).transpose()\n",
    "    results_df.columns = ['predicted', 'actual']\n",
    "    results_df['error'] = results_df['predicted'] - results_df['actual']\n",
    "    results_df['abs_error'] = abs(results_df['error'])\n",
    "\n",
    "    # Performance Metrics \n",
    "    mae = np.mean(results_df['abs_error'])\n",
    "    print('MAE =', np.round(mae,5), \"for n =\", top_n, \n",
    "          \"with alpha =\", np.round(model.alpha_, 5), \"and l1 ratio = \", model.l1_ratio_)\n",
    "\n",
    "    quarter_abs_error_list.append(100*len(results_df[results_df['abs_error']<=0.25])/len(results_df))\n",
    "    half_abs_error_list.append(100*len(results_df[results_df['abs_error']<=0.50])/len(results_df))\n",
    "    mae_list.append(mae)"
   ]
  },
  {
   "cell_type": "code",
   "execution_count": 46,
   "metadata": {},
   "outputs": [
    {
     "data": {
      "image/png": "[encoded data removed]",
      "text/plain": [
       "<Figure size 432x288 with 1 Axes>"
      ]
     },
     "metadata": {
      "needs_background": "light"
     },
     "output_type": "display_data"
    }
   ],
   "source": [
    "plt.scatter(x=n_users_list, y=mae_list)\n",
    "plt.xlabel(\"N Nearest Neighbors\")\n",
    "plt.ylabel(\"Mean Absolute Error\")\n",
    "plt.show()"
   ]
  },
  {
   "cell_type": "code",
   "execution_count": 47,
   "metadata": {},
   "outputs": [
    {
     "data": {
      "image/png": "[encoded data removed]",
      "text/plain": [
       "<Figure size 432x288 with 1 Axes>"
      ]
     },
     "metadata": {
      "needs_background": "light"
     },
     "output_type": "display_data"
    }
   ],
   "source": [
    "plt.scatter(x=n_users_list, y=quarter_abs_error_list)\n",
    "plt.xlabel(\"N Nearest Neighbors\")\n",
    "plt.ylabel(\"% of Points within 0.25 Error\")\n",
    "plt.show()"
   ]
  },
  {
   "cell_type": "code",
   "execution_count": 48,
   "metadata": {},
   "outputs": [
    {
     "data": {
      "image/png": "[encoded data removed]",
      "text/plain": [
       "<Figure size 432x288 with 1 Axes>"
      ]
     },
     "metadata": {
      "needs_background": "light"
     },
     "output_type": "display_data"
    }
   ],
   "source": [
    "plt.scatter(x=n_users_list, y=half_abs_error_list)\n",
    "plt.xlabel(\"N Nearest Neighbors\")\n",
    "plt.ylabel(\"% of Points within 0.50 Error\")\n",
    "plt.show()"
   ]
  },
  {
   "cell_type": "markdown",
   "metadata": {},
   "source": [
    "#### LinearSVR, Search for C, Search for Epsilon"
   ]
  },
  {
   "cell_type": "code",
   "execution_count": 52,
   "metadata": {},
   "outputs": [],
   "source": [
    "C_space = [0.1, 0.25, 0.5, 0.75, 1.0]\n",
    "epsilon_space = [0.25/2, 0.25, 0.5]"
   ]
  },
  {
   "cell_type": "code",
   "execution_count": 100,
   "metadata": {},
   "outputs": [],
   "source": [
    "# %%time\n",
    "\n",
    "# mae_list = []\n",
    "# quarter_abs_error_list = []\n",
    "# half_abs_error_list = []\n",
    "\n",
    "# for top_n in n_users_list:\n",
    "    \n",
    "#     # split data \n",
    "#     df_top_n = df[df['nearest_neighbor_rank'] <= top_n]\n",
    "#     X_train = df_top_n[features]\n",
    "#     y_train = df_top_n[target]\n",
    "    \n",
    "#     X_test = df[df['username'] == user_of_reference][features]\n",
    "#     y_test = df[df['username'] == user_of_reference][target]\n",
    "\n",
    "#     # train\n",
    "#     from sklearn.svm import LinearSVR\n",
    "#     from sklearn.model_selection import GridSearchCV\n",
    "#     grid = {'C': C_space,\n",
    "#             'epsilon': epsilon_space,\n",
    "#             'fit_intercept': [False],\n",
    "#             'loss': ['epsilon_insensitive'],\n",
    "#             'random_state':[rand_state],\n",
    "#             'max_iter':[100000]}\n",
    "#     svr = LinearSVR()\n",
    "#     model = GridSearchCV(svr, param_grid=grid, cv=5, scoring='neg_mean_absolute_error')\n",
    "#     model.fit(X_train, y_train)\n",
    "\n",
    "#     # Evaluate model on user's data \n",
    "#     preds = model.predict(X_test)\n",
    "\n",
    "#     # unscale\n",
    "#     preds_unscaled = y_scaler.inverse_transform(preds)\n",
    "#     y_test_unscaled = y_scaler.inverse_transform(y_test)\n",
    "\n",
    "#     # evaluate results\n",
    "#     results_df = pd.DataFrame([preds_unscaled, y_test_unscaled]).transpose()\n",
    "#     results_df.columns = ['predicted', 'actual']\n",
    "#     results_df['error'] = results_df['predicted'] - results_df['actual']\n",
    "#     results_df['abs_error'] = abs(results_df['error'])\n",
    "\n",
    "#     # Performance Metrics \n",
    "#     mae = np.mean(results_df['abs_error'])\n",
    "#     print('MAE =', np.round(mae,5), \"for n =\", top_n, \n",
    "#           \"with final params =\", model.best_params_)\n",
    "\n",
    "#     quarter_abs_error_list.append(100*len(results_df[results_df['abs_error']<=0.25])/len(results_df))\n",
    "#     half_abs_error_list.append(100*len(results_df[results_df['abs_error']<=0.50])/len(results_df))\n",
    "#     mae_list.append(mae)"
   ]
  },
  {
   "cell_type": "code",
   "execution_count": 101,
   "metadata": {},
   "outputs": [],
   "source": [
    "# plt.scatter(x=n_users_list, y=mae_list)\n",
    "# plt.xlabel(\"N Nearest Neighbors\")\n",
    "# plt.ylabel(\"Mean Absolute Error\")\n",
    "# plt.show()"
   ]
  },
  {
   "cell_type": "code",
   "execution_count": null,
   "metadata": {},
   "outputs": [],
   "source": [
    "plt.scatter(x=n_users_list, y=quarter_abs_error_list)\n",
    "plt.xlabel(\"N Nearest Neighbors\")\n",
    "plt.ylabel(\"% of Points within 0.25 Error\")\n",
    "plt.show()"
   ]
  },
  {
   "cell_type": "code",
   "execution_count": null,
   "metadata": {},
   "outputs": [],
   "source": [
    "plt.scatter(x=n_users_list, y=half_abs_error_list)\n",
    "plt.xlabel(\"N Nearest Neighbors\")\n",
    "plt.ylabel(\"% of Points within 0.50 Error\")\n",
    "plt.show()"
   ]
  },
  {
   "cell_type": "markdown",
   "metadata": {},
   "source": [
    "### C. Take Top Nearest Neighbors w/ min_ppu"
   ]
  },
  {
   "cell_type": "code",
   "execution_count": 124,
   "metadata": {},
   "outputs": [],
   "source": [
    "min_ppu = 100"
   ]
  },
  {
   "cell_type": "code",
   "execution_count": 125,
   "metadata": {},
   "outputs": [
    {
     "name": "stdout",
     "output_type": "stream",
     "text": [
      "Num of users with min_ppu = 83\n"
     ]
    }
   ],
   "source": [
    "user_indices = df.username.value_counts()[df.username.value_counts() > min_ppu].index\n",
    "print(\"Num of users with min_ppu =\", len(user_indices))\n",
    "sub_df = df[df['username'].isin(user_indices)]"
   ]
  },
  {
   "cell_type": "code",
   "execution_count": null,
   "metadata": {},
   "outputs": [
    {
     "name": "stdout",
     "output_type": "stream",
     "text": [
      "N = 5, # Points = 3,600, with nn_ranks of 9.0\n",
      "N = 10, # Points = 10,200, with nn_ranks of 15.0\n",
      "N = 15, # Points = 14,625, with nn_ranks of 20.0\n",
      "N = 20, # Points = 24,900, with nn_ranks of 25.0\n",
      "N = 25, # Points = 31,914, with nn_ranks of 32.0\n",
      "N = 30, # Points = 38,085, with nn_ranks of 38.0\n",
      "N = 35, # Points = 47,284, with nn_ranks of 43.0\n",
      "N = 40, # Points = 54,859, with nn_ranks of 48.0\n",
      "N = 45, # Points = 59,009, with nn_ranks of 53.0\n",
      "N = 50, # Points = 62,272, with nn_ranks of 58.0\n",
      "N = 55, # Points = 71,172, with nn_ranks of 63.0\n",
      "N = 60, # Points = 77,847, with nn_ranks of 68.0\n",
      "N = 65, # Points = 89,147, with nn_ranks of 73.0\n",
      "N = 70, # Points = 95,747, with nn_ranks of 78.0\n"
     ]
    }
   ],
   "source": [
    "n_users_list = [5, 10, 15, 20, 25, 30, 35, 40, 45, 50, 55, 60, 65, 70, 75, 80, 85, 100, len(df['username'].unique())-1]\n",
    "n_users_list = [n_users for n_users in n_users_list if n_users < len(user_indices)]\n",
    "\n",
    "for top_n in n_users_list:\n",
    "    \n",
    "    # split data \n",
    "    top_n_nn = list(sub_df['nearest_neighbor_rank'].unique())[:top_n]\n",
    "    df_top_n = df[df['nearest_neighbor_rank'].isin(top_n_nn)]\n",
    "    print(\"N = {}, # Points = {:,d}\".format(top_n, len(df_top_n)))"
   ]
  },
  {
   "cell_type": "code",
   "execution_count": null,
   "metadata": {},
   "outputs": [],
   "source": [
    "list(sub_df['nearest_neighbor_rank'].unique())[:top_n]"
   ]
  },
  {
   "cell_type": "markdown",
   "metadata": {},
   "source": [
    "#### ElasticNet, Search for Alpha, Search for L1 Ratio"
   ]
  },
  {
   "cell_type": "code",
   "execution_count": 24,
   "metadata": {},
   "outputs": [],
   "source": [
    "l1_ratio_space = [.1, .5, .7, .9, .95, .99, 1]"
   ]
  },
  {
   "cell_type": "code",
   "execution_count": 25,
   "metadata": {},
   "outputs": [],
   "source": [
    "min_ppu_list = [0, 50, 100, 250, 500, 750, 1000]"
   ]
  },
  {
   "cell_type": "code",
   "execution_count": 26,
   "metadata": {},
   "outputs": [],
   "source": [
    "n_users_list = [5, 10, 15, 20, 25, 30, 35, 40, 45, 50, 55, 60, 65, 70, 75, 80, 85, 100, len(df['username'].unique())-1]"
   ]
  },
  {
   "cell_type": "code",
   "execution_count": 36,
   "metadata": {},
   "outputs": [
    {
     "name": "stdout",
     "output_type": "stream",
     "text": [
      "0\n",
      "MAE = 0.38198 with % within 0.25 35.0 and % within 0.5 70.0 for n = 5 with alpha = 0.07629 and l1 ratio =  0.5\n",
      "MAE = 0.37636 with % within 0.25 32.5 and % within 0.5 72.5 for n = 10 with alpha = 0.08173 and l1 ratio =  0.1\n",
      "MAE = 0.38338 with % within 0.25 32.5 and % within 0.5 67.5 for n = 15 with alpha = 0.06488 and l1 ratio =  0.1\n",
      "MAE = 0.37967 with % within 0.25 32.5 and % within 0.5 67.5 for n = 20 with alpha = 0.07635 and l1 ratio =  0.1\n",
      "MAE = 0.37628 with % within 0.25 37.5 and % within 0.5 72.5 for n = 25 with alpha = 0.05659 and l1 ratio =  0.1\n",
      "MAE = 0.37132 with % within 0.25 37.5 and % within 0.5 75.0 for n = 30 with alpha = 0.05086 and l1 ratio =  0.1\n",
      "MAE = 0.3674 with % within 0.25 37.5 and % within 0.5 75.0 for n = 35 with alpha = 0.04258 and l1 ratio =  0.1\n",
      "MAE = 0.36964 with % within 0.25 40.0 and % within 0.5 75.0 for n = 40 with alpha = 0.03212 and l1 ratio =  0.1\n",
      "MAE = 0.36981 with % within 0.25 37.5 and % within 0.5 72.5 for n = 45 with alpha = 0.03387 and l1 ratio =  0.1\n",
      "MAE = 0.37147 with % within 0.25 35.0 and % within 0.5 72.5 for n = 50 with alpha = 0.02409 and l1 ratio =  0.1\n",
      "MAE = 0.37032 with % within 0.25 35.0 and % within 0.5 72.5 for n = 55 with alpha = 0.02423 and l1 ratio =  0.1\n",
      "MAE = 0.37003 with % within 0.25 42.5 and % within 0.5 72.5 for n = 60 with alpha = 0.01791 and l1 ratio =  0.1\n",
      "MAE = 0.36951 with % within 0.25 42.5 and % within 0.5 72.5 for n = 65 with alpha = 0.02013 and l1 ratio =  0.1\n",
      "MAE = 0.36753 with % within 0.25 40.0 and % within 0.5 72.5 for n = 70 with alpha = 0.01931 and l1 ratio =  0.1\n",
      "MAE = 0.36745 with % within 0.25 40.0 and % within 0.5 75.0 for n = 75 with alpha = 0.01999 and l1 ratio =  0.1\n",
      "MAE = 0.36555 with % within 0.25 40.0 and % within 0.5 75.0 for n = 80 with alpha = 0.01623 and l1 ratio =  0.1\n",
      "MAE = 0.3655 with % within 0.25 40.0 and % within 0.5 75.0 for n = 85 with alpha = 0.01635 and l1 ratio =  0.1\n",
      "MAE = 0.36552 with % within 0.25 40.0 and % within 0.5 75.0 for n = 100 with alpha = 0.01652 and l1 ratio =  0.1\n",
      "MAE = 0.36594 with % within 0.25 40.0 and % within 0.5 72.5 for n = 128 with alpha = 0.01541 and l1 ratio =  0.1\n",
      "50\n",
      "MAE = 0.37987 with % within 0.25 37.5 and % within 0.5 70.0 for n = 5 with alpha = 0.0532 and l1 ratio =  0.5\n",
      "MAE = 0.38456 with % within 0.25 32.5 and % within 0.5 72.5 for n = 10 with alpha = 0.11146 and l1 ratio =  0.1\n",
      "MAE = 0.38112 with % within 0.25 32.5 and % within 0.5 67.5 for n = 15 with alpha = 0.06539 and l1 ratio =  0.1\n",
      "MAE = 0.36723 with % within 0.25 35.0 and % within 0.5 72.5 for n = 20 with alpha = 0.06901 and l1 ratio =  0.1\n",
      "MAE = 0.37437 with % within 0.25 37.5 and % within 0.5 75.0 for n = 25 with alpha = 0.05099 and l1 ratio =  0.1\n",
      "MAE = 0.36818 with % within 0.25 37.5 and % within 0.5 75.0 for n = 30 with alpha = 0.04297 and l1 ratio =  0.1\n",
      "MAE = 0.37031 with % within 0.25 40.0 and % within 0.5 75.0 for n = 35 with alpha = 0.03617 and l1 ratio =  0.1\n",
      "MAE = 0.3699 with % within 0.25 37.5 and % within 0.5 72.5 for n = 40 with alpha = 0.0342 and l1 ratio =  0.1\n",
      "MAE = 0.37143 with % within 0.25 35.0 and % within 0.5 72.5 for n = 45 with alpha = 0.02753 and l1 ratio =  0.1\n",
      "MAE = 0.37076 with % within 0.25 35.0 and % within 0.5 72.5 for n = 50 with alpha = 0.0243 and l1 ratio =  0.1\n",
      "MAE = 0.36948 with % within 0.25 40.0 and % within 0.5 72.5 for n = 55 with alpha = 0.01786 and l1 ratio =  0.1\n",
      "MAE = 0.36978 with % within 0.25 42.5 and % within 0.5 72.5 for n = 60 with alpha = 0.02021 and l1 ratio =  0.1\n",
      "MAE = 0.36688 with % within 0.25 42.5 and % within 0.5 72.5 for n = 65 with alpha = 0.01748 and l1 ratio =  0.1\n",
      "MAE = 0.3675 with % within 0.25 40.0 and % within 0.5 75.0 for n = 70 with alpha = 0.01994 and l1 ratio =  0.1\n",
      "MAE = 0.36553 with % within 0.25 40.0 and % within 0.5 75.0 for n = 75 with alpha = 0.01848 and l1 ratio =  0.1\n",
      "MAE = 0.36556 with % within 0.25 40.0 and % within 0.5 75.0 for n = 80 with alpha = 0.01634 and l1 ratio =  0.1\n",
      "MAE = 0.36574 with % within 0.25 40.0 and % within 0.5 75.0 for n = 85 with alpha = 0.01657 and l1 ratio =  0.1\n",
      "100\n",
      "MAE = 0.37868 with % within 0.25 32.5 and % within 0.5 72.5 for n = 5 with alpha = 0.12963 and l1 ratio =  0.1\n",
      "MAE = 0.38451 with % within 0.25 32.5 and % within 0.5 67.5 for n = 10 with alpha = 0.09084 and l1 ratio =  0.1\n",
      "MAE = 0.38185 with % within 0.25 32.5 and % within 0.5 70.0 for n = 15 with alpha = 0.08985 and l1 ratio =  0.1\n",
      "MAE = 0.37681 with % within 0.25 32.5 and % within 0.5 72.5 for n = 20 with alpha = 0.07581 and l1 ratio =  0.1\n",
      "MAE = 0.36715 with % within 0.25 40.0 and % within 0.5 75.0 for n = 25 with alpha = 0.05253 and l1 ratio =  0.1\n",
      "MAE = 0.36644 with % within 0.25 37.5 and % within 0.5 75.0 for n = 30 with alpha = 0.04222 and l1 ratio =  0.1\n",
      "MAE = 0.36745 with % within 0.25 37.5 and % within 0.5 72.5 for n = 35 with alpha = 0.0343 and l1 ratio =  0.1\n",
      "MAE = 0.36914 with % within 0.25 35.0 and % within 0.5 72.5 for n = 40 with alpha = 0.02782 and l1 ratio =  0.1\n",
      "MAE = 0.36856 with % within 0.25 40.0 and % within 0.5 72.5 for n = 45 with alpha = 0.02239 and l1 ratio =  0.1\n",
      "MAE = 0.36785 with % within 0.25 40.0 and % within 0.5 72.5 for n = 50 with alpha = 0.02596 and l1 ratio =  0.1\n",
      "MAE = 0.36893 with % within 0.25 40.0 and % within 0.5 72.5 for n = 55 with alpha = 0.01815 and l1 ratio =  0.1\n",
      "MAE = 0.36712 with % within 0.25 42.5 and % within 0.5 72.5 for n = 60 with alpha = 0.01755 and l1 ratio =  0.1\n",
      "MAE = 0.36452 with % within 0.25 40.0 and % within 0.5 72.5 for n = 65 with alpha = 0.01889 and l1 ratio =  0.1\n",
      "MAE = 0.36483 with % within 0.25 40.0 and % within 0.5 75.0 for n = 70 with alpha = 0.01713 and l1 ratio =  0.1\n",
      "MAE = 0.36428 with % within 0.25 40.0 and % within 0.5 75.0 for n = 75 with alpha = 0.01638 and l1 ratio =  0.1\n",
      "MAE = 0.3648 with % within 0.25 40.0 and % within 0.5 75.0 for n = 80 with alpha = 0.0166 and l1 ratio =  0.1\n",
      "250\n",
      "MAE = 0.37903 with % within 0.25 32.5 and % within 0.5 77.5 for n = 5 with alpha = 0.07592 and l1 ratio =  0.1\n",
      "MAE = 0.3812 with % within 0.25 32.5 and % within 0.5 67.5 for n = 10 with alpha = 0.07597 and l1 ratio =  0.1\n",
      "MAE = 0.37006 with % within 0.25 35.0 and % within 0.5 72.5 for n = 15 with alpha = 0.06511 and l1 ratio =  0.1\n",
      "MAE = 0.37373 with % within 0.25 37.5 and % within 0.5 75.0 for n = 20 with alpha = 0.05502 and l1 ratio =  0.1\n",
      "MAE = 0.36942 with % within 0.25 37.5 and % within 0.5 75.0 for n = 25 with alpha = 0.04602 and l1 ratio =  0.1\n",
      "MAE = 0.36851 with % within 0.25 37.5 and % within 0.5 72.5 for n = 30 with alpha = 0.0327 and l1 ratio =  0.1\n",
      "MAE = 0.36903 with % within 0.25 35.0 and % within 0.5 72.5 for n = 35 with alpha = 0.0281 and l1 ratio =  0.1\n",
      "MAE = 0.37001 with % within 0.25 40.0 and % within 0.5 72.5 for n = 40 with alpha = 0.02251 and l1 ratio =  0.1\n",
      "MAE = 0.36952 with % within 0.25 40.0 and % within 0.5 72.5 for n = 45 with alpha = 0.02081 and l1 ratio =  0.1\n",
      "MAE = 0.37033 with % within 0.25 42.5 and % within 0.5 72.5 for n = 50 with alpha = 0.02126 and l1 ratio =  0.1\n",
      "MAE = 0.36817 with % within 0.25 40.0 and % within 0.5 72.5 for n = 55 with alpha = 0.01765 and l1 ratio =  0.1\n",
      "MAE = 0.36582 with % within 0.25 40.0 and % within 0.5 75.0 for n = 60 with alpha = 0.01863 and l1 ratio =  0.1\n",
      "MAE = 0.36567 with % within 0.25 40.0 and % within 0.5 75.0 for n = 65 with alpha = 0.01504 and l1 ratio =  0.1\n",
      "500\n",
      "MAE = 0.38195 with % within 0.25 32.5 and % within 0.5 72.5 for n = 5 with alpha = 0.08894 and l1 ratio =  0.1\n",
      "MAE = 0.38375 with % within 0.25 32.5 and % within 0.5 70.0 for n = 10 with alpha = 0.08104 and l1 ratio =  0.1\n",
      "MAE = 0.37843 with % within 0.25 37.5 and % within 0.5 72.5 for n = 15 with alpha = 0.07015 and l1 ratio =  0.1\n",
      "MAE = 0.37217 with % within 0.25 37.5 and % within 0.5 75.0 for n = 20 with alpha = 0.04636 and l1 ratio =  0.1\n",
      "MAE = 0.3704 with % within 0.25 40.0 and % within 0.5 72.5 for n = 25 with alpha = 0.03684 and l1 ratio =  0.1\n",
      "MAE = 0.37224 with % within 0.25 37.5 and % within 0.5 72.5 for n = 30 with alpha = 0.02598 and l1 ratio =  0.1\n",
      "MAE = 0.37152 with % within 0.25 37.5 and % within 0.5 72.5 for n = 35 with alpha = 0.02787 and l1 ratio =  0.1\n",
      "MAE = 0.37029 with % within 0.25 42.5 and % within 0.5 72.5 for n = 40 with alpha = 0.02124 and l1 ratio =  0.1\n",
      "MAE = 0.36703 with % within 0.25 42.5 and % within 0.5 72.5 for n = 45 with alpha = 0.01715 and l1 ratio =  0.1\n",
      "MAE = 0.36712 with % within 0.25 40.0 and % within 0.5 75.0 for n = 50 with alpha = 0.01961 and l1 ratio =  0.1\n",
      "MAE = 0.36537 with % within 0.25 40.0 and % within 0.5 75.0 for n = 55 with alpha = 0.01696 and l1 ratio =  0.1\n",
      "750\n",
      "MAE = 0.38509 with % within 0.25 32.5 and % within 0.5 72.5 for n = 5 with alpha = 0.1095 and l1 ratio =  0.1\n",
      "MAE = 0.38262 with % within 0.25 35.0 and % within 0.5 72.5 for n = 10 with alpha = 0.07588 and l1 ratio =  0.1\n",
      "MAE = 0.3742 with % within 0.25 40.0 and % within 0.5 75.0 for n = 15 with alpha = 0.05198 and l1 ratio =  0.1\n",
      "MAE = 0.37353 with % within 0.25 37.5 and % within 0.5 75.0 for n = 20 with alpha = 0.03868 and l1 ratio =  0.1\n",
      "MAE = 0.37373 with % within 0.25 37.5 and % within 0.5 72.5 for n = 25 with alpha = 0.02903 and l1 ratio =  0.1\n",
      "MAE = 0.37341 with % within 0.25 37.5 and % within 0.5 72.5 for n = 30 with alpha = 0.02734 and l1 ratio =  0.1\n",
      "MAE = 0.3717 with % within 0.25 45.0 and % within 0.5 72.5 for n = 35 with alpha = 0.02396 and l1 ratio =  0.1\n",
      "MAE = 0.37086 with % within 0.25 40.0 and % within 0.5 75.0 for n = 40 with alpha = 0.0194 and l1 ratio =  0.1\n",
      "1000\n",
      "MAE = 0.388 with % within 0.25 35.0 and % within 0.5 70.0 for n = 5 with alpha = 0.07821 and l1 ratio =  0.1\n",
      "MAE = 0.37835 with % within 0.25 37.5 and % within 0.5 75.0 for n = 10 with alpha = 0.09421 and l1 ratio =  0.1\n",
      "MAE = 0.37348 with % within 0.25 35.0 and % within 0.5 75.0 for n = 15 with alpha = 0.04511 and l1 ratio =  0.1\n",
      "MAE = 0.37281 with % within 0.25 37.5 and % within 0.5 72.5 for n = 20 with alpha = 0.04943 and l1 ratio =  0.1\n",
      "MAE = 0.37424 with % within 0.25 35.0 and % within 0.5 72.5 for n = 25 with alpha = 0.03095 and l1 ratio =  0.1\n",
      "MAE = 0.37273 with % within 0.25 40.0 and % within 0.5 72.5 for n = 30 with alpha = 0.02539 and l1 ratio =  0.1\n",
      "MAE = 0.37089 with % within 0.25 40.0 and % within 0.5 75.0 for n = 35 with alpha = 0.01882 and l1 ratio =  0.1\n",
      "CPU times: user 46min 12s, sys: 13min 58s, total: 1h 11s\n",
      "Wall time: 40min 51s\n"
     ]
    }
   ],
   "source": [
    "%%time\n",
    "\n",
    "mae_list = []\n",
    "quarter_abs_error_list = []\n",
    "half_abs_error_list = []\n",
    "    \n",
    "\n",
    "for min_ppu in min_ppu_list:\n",
    "    \n",
    "    print(min_ppu)\n",
    "    \n",
    "    user_indices = df.username.value_counts()[df.username.value_counts() > min_ppu].index\n",
    "    sub_df = df[df['username'].isin(user_indices)]\n",
    "    n_users_list = [n_users for n_users in n_users_list if n_users < len(user_indices)]\n",
    "\n",
    "    for top_n in n_users_list:\n",
    "        \n",
    "        # split data \n",
    "        top_n_nn = list(sub_df['nearest_neighbor_rank'].unique())[:top_n]\n",
    "        df_top_n = df[df['nearest_neighbor_rank'].isin(top_n_nn)]\n",
    "        X_train = df_top_n[features]\n",
    "        y_train = df_top_n[target]\n",
    "\n",
    "        X_test = df[df['username'] == user_of_reference][features]\n",
    "        y_test = df[df['username'] == user_of_reference][target]\n",
    "\n",
    "        # train\n",
    "        from sklearn.linear_model import ElasticNetCV\n",
    "        model = ElasticNetCV(fit_intercept=False, normalize=False, l1_ratio=l1_ratio_space, cv=5, random_state=rand_state)\n",
    "        model.fit(X_train, y_train)\n",
    "\n",
    "        # Evaluate model on user's data \n",
    "        preds = model.predict(X_test)\n",
    "\n",
    "        # unscale\n",
    "        preds_unscaled = y_scaler.inverse_transform(preds)\n",
    "        y_test_unscaled = y_scaler.inverse_transform(y_test)\n",
    "\n",
    "        # evaluate results\n",
    "        results_df = pd.DataFrame([preds_unscaled, y_test_unscaled]).transpose()\n",
    "        results_df.columns = ['predicted', 'actual']\n",
    "        results_df['error'] = results_df['predicted'] - results_df['actual']\n",
    "        results_df['abs_error'] = abs(results_df['error'])\n",
    "\n",
    "        # Performance Metrics \n",
    "        mae = np.mean(results_df['abs_error'])\n",
    "\n",
    "        quarter_abs_error_list.append(100*len(results_df[results_df['abs_error']<=0.25])/len(results_df))\n",
    "        half_abs_error_list.append(100*len(results_df[results_df['abs_error']<=0.50])/len(results_df))\n",
    "        mae_list.append(mae)\n",
    "\n",
    "        print('MAE =', np.round(mae,5), \n",
    "              'with % within 0.25', 100*len(results_df[results_df['abs_error']<=0.25])/len(results_df), \n",
    "              'and % within 0.5', 100*len(results_df[results_df['abs_error']<=0.50])/len(results_df),\n",
    "              \"for n =\", top_n, \"with alpha =\", np.round(model.alpha_, 5), \"and l1 ratio = \", model.l1_ratio_)\n",
    "    \n",
    "    # add breaks\n",
    "    quarter_abs_error_list.append(0)\n",
    "    half_abs_error_list.append(0)\n",
    "    mae_list.append(0)"
   ]
  },
  {
   "cell_type": "code",
   "execution_count": 139,
   "metadata": {},
   "outputs": [
    {
     "data": {
      "image/png": "[encoded data removed]",
      "text/plain": [
       "<Figure size 1080x720 with 1 Axes>"
      ]
     },
     "metadata": {
      "needs_background": "light"
     },
     "output_type": "display_data"
    }
   ],
   "source": [
    "ls = mae_list\n",
    "\n",
    "size = len(ls) \n",
    "idx_list = [idx + 1 for idx, val in enumerate(ls) if val == 0] \n",
    "ys = [ls[i: j] for i, j in\n",
    "        zip([0] + idx_list, idx_list + \n",
    "        ([size] if idx_list[-1] != size else []))] \n",
    "\n",
    "for i, y in enumerate(ys):\n",
    "    y = y[:-1]\n",
    "    ys[i] = y\n",
    "\n",
    "import matplotlib.cm as cm\n",
    "colors = cm.rainbow(np.linspace(0, 1, len(ys)))\n",
    "\n",
    "plt.figure(figsize=[15,10])\n",
    "plt.title(\"ENet with Nearest Neighbors and Min_PPU\")\n",
    "plt.xlabel(\"N Nearest Neighbors\")\n",
    "plt.ylabel(\"MAE\")\n",
    "\n",
    "i = 0\n",
    "for y, c in zip(ys, colors):\n",
    "    x = np.linspace(5, 5*len(y), len(y))\n",
    "    if i == 0:\n",
    "        x = [5, 10, 15, 20, 25, 30, 35, 40, 45, 50, 55, 60, 65, 70, 75, 80, 85, 100, len(df['username'].unique())-1]\n",
    "    else:\n",
    "        x = np.linspace(5, 5*len(y), len(y))\n",
    "    plt.scatter(x, y, color=c, label=\"Min PPU = \" + str(min_ppu_list[i]))\n",
    "    i += 1\n",
    "\n",
    "plt.legend(bbox_to_anchor=(1.05, 1), loc=2, borderaxespad=0.)\n",
    "plt.show()"
   ]
  },
  {
   "cell_type": "code",
   "execution_count": 140,
   "metadata": {},
   "outputs": [
    {
     "data": {
      "image/png": "[encoded data removed]",
      "text/plain": [
       "<Figure size 1080x720 with 1 Axes>"
      ]
     },
     "metadata": {
      "needs_background": "light"
     },
     "output_type": "display_data"
    }
   ],
   "source": [
    "ls = quarter_abs_error_list\n",
    "\n",
    "size = len(ls) \n",
    "idx_list = [idx + 1 for idx, val in enumerate(ls) if val == 0] \n",
    "ys = [ls[i: j] for i, j in\n",
    "        zip([0] + idx_list, idx_list + \n",
    "        ([size] if idx_list[-1] != size else []))] \n",
    "\n",
    "for i, y in enumerate(ys):\n",
    "    y = y[:-1]\n",
    "    ys[i] = y\n",
    "\n",
    "import matplotlib.cm as cm\n",
    "colors = cm.rainbow(np.linspace(0, 1, len(ys)))\n",
    "\n",
    "plt.figure(figsize=[15,10])\n",
    "plt.title(\"ENet with Nearest Neighbors and Min_PPU\")\n",
    "plt.xlabel(\"N Nearest Neighbors\")\n",
    "plt.ylabel(\"% of Tested Points within 0.25 Error\")\n",
    "\n",
    "i = 0\n",
    "for y, c in zip(ys, colors):\n",
    "    x = np.linspace(5, 5*len(y), len(y))\n",
    "    if i == 0:\n",
    "        x = [5, 10, 15, 20, 25, 30, 35, 40, 45, 50, 55, 60, 65, 70, 75, 80, 85, 100, len(df['username'].unique())-1]\n",
    "    else:\n",
    "        x = np.linspace(5, 5*len(y), len(y))\n",
    "    plt.scatter(x, y, color=c, label=\"Min PPU = \" + str(min_ppu_list[i]))\n",
    "    i += 1\n",
    "\n",
    "plt.legend(bbox_to_anchor=(1.05, 1), loc=2, borderaxespad=0.)\n",
    "plt.show()"
   ]
  },
  {
   "cell_type": "code",
   "execution_count": 141,
   "metadata": {},
   "outputs": [
    {
     "data": {
      "image/png": "[encoded data removed]",
      "text/plain": [
       "<Figure size 1080x720 with 1 Axes>"
      ]
     },
     "metadata": {
      "needs_background": "light"
     },
     "output_type": "display_data"
    }
   ],
   "source": [
    "ls = half_abs_error_list\n",
    "\n",
    "size = len(ls) \n",
    "idx_list = [idx + 1 for idx, val in enumerate(ls) if val == 0] \n",
    "ys = [ls[i: j] for i, j in\n",
    "        zip([0] + idx_list, idx_list + \n",
    "        ([size] if idx_list[-1] != size else []))] \n",
    "\n",
    "for i, y in enumerate(ys):\n",
    "    y = y[:-1]\n",
    "    ys[i] = y\n",
    "\n",
    "import matplotlib.cm as cm\n",
    "colors = cm.rainbow(np.linspace(0, 1, len(ys)))\n",
    "\n",
    "plt.figure(figsize=[15,10])\n",
    "plt.title(\"ENet with Nearest Neighbors and Min_PPU\")\n",
    "plt.xlabel(\"N Nearest Neighbors\")\n",
    "plt.ylabel(\"% of Tested Points within 0.50 Error\")\n",
    "\n",
    "i = 0\n",
    "for y, c in zip(ys, colors):\n",
    "    x = np.linspace(5, 5*len(y), len(y))\n",
    "    if i == 0:\n",
    "        x = [5, 10, 15, 20, 25, 30, 35, 40, 45, 50, 55, 60, 65, 70, 75, 80, 85, 100, len(df['username'].unique())-1]\n",
    "    else:\n",
    "        x = np.linspace(5, 5*len(y), len(y))\n",
    "    plt.scatter(x, y, color=c, label=\"Min PPU = \" + str(min_ppu_list[i]))\n",
    "    i += 1\n",
    "\n",
    "plt.legend(bbox_to_anchor=(1.05, 1), loc=2, borderaxespad=0.)\n",
    "plt.show()"
   ]
  },
  {
   "cell_type": "code",
   "execution_count": null,
   "metadata": {},
   "outputs": [],
   "source": []
  },
  {
   "cell_type": "code",
   "execution_count": null,
   "metadata": {},
   "outputs": [],
   "source": []
  },
  {
   "cell_type": "code",
   "execution_count": 50,
   "metadata": {},
   "outputs": [],
   "source": [
    "### IBU as float "
   ]
  },
  {
   "cell_type": "code",
   "execution_count": 55,
   "metadata": {},
   "outputs": [
    {
     "name": "stdout",
     "output_type": "stream",
     "text": [
      "0\n",
      "MAE = 0.38198 with % within 0.25 35.0 and % within 0.5 70.0 for n = 5 with alpha = 0.07629 and l1 ratio =  0.5\n",
      "MAE = 0.37636 with % within 0.25 32.5 and % within 0.5 72.5 for n = 10 with alpha = 0.08173 and l1 ratio =  0.1\n",
      "MAE = 0.38338 with % within 0.25 32.5 and % within 0.5 67.5 for n = 15 with alpha = 0.06488 and l1 ratio =  0.1\n",
      "MAE = 0.37967 with % within 0.25 32.5 and % within 0.5 67.5 for n = 20 with alpha = 0.07635 and l1 ratio =  0.1\n",
      "MAE = 0.37628 with % within 0.25 37.5 and % within 0.5 72.5 for n = 25 with alpha = 0.05659 and l1 ratio =  0.1\n",
      "MAE = 0.37132 with % within 0.25 37.5 and % within 0.5 75.0 for n = 30 with alpha = 0.05086 and l1 ratio =  0.1\n",
      "MAE = 0.3674 with % within 0.25 37.5 and % within 0.5 75.0 for n = 35 with alpha = 0.04258 and l1 ratio =  0.1\n",
      "MAE = 0.36964 with % within 0.25 40.0 and % within 0.5 75.0 for n = 40 with alpha = 0.03212 and l1 ratio =  0.1\n",
      "MAE = 0.36981 with % within 0.25 37.5 and % within 0.5 72.5 for n = 45 with alpha = 0.03387 and l1 ratio =  0.1\n",
      "MAE = 0.37147 with % within 0.25 35.0 and % within 0.5 72.5 for n = 50 with alpha = 0.02409 and l1 ratio =  0.1\n",
      "MAE = 0.37032 with % within 0.25 35.0 and % within 0.5 72.5 for n = 55 with alpha = 0.02423 and l1 ratio =  0.1\n",
      "MAE = 0.37003 with % within 0.25 42.5 and % within 0.5 72.5 for n = 60 with alpha = 0.01791 and l1 ratio =  0.1\n",
      "MAE = 0.36951 with % within 0.25 42.5 and % within 0.5 72.5 for n = 65 with alpha = 0.02013 and l1 ratio =  0.1\n",
      "MAE = 0.36753 with % within 0.25 40.0 and % within 0.5 72.5 for n = 70 with alpha = 0.01931 and l1 ratio =  0.1\n",
      "MAE = 0.36745 with % within 0.25 40.0 and % within 0.5 75.0 for n = 75 with alpha = 0.01999 and l1 ratio =  0.1\n",
      "MAE = 0.36555 with % within 0.25 40.0 and % within 0.5 75.0 for n = 80 with alpha = 0.01623 and l1 ratio =  0.1\n",
      "MAE = 0.3655 with % within 0.25 40.0 and % within 0.5 75.0 for n = 85 with alpha = 0.01635 and l1 ratio =  0.1\n",
      "MAE = 0.36552 with % within 0.25 40.0 and % within 0.5 75.0 for n = 100 with alpha = 0.01652 and l1 ratio =  0.1\n",
      "MAE = 0.36594 with % within 0.25 40.0 and % within 0.5 72.5 for n = 128 with alpha = 0.01541 and l1 ratio =  0.1\n",
      "50\n",
      "MAE = 0.37987 with % within 0.25 37.5 and % within 0.5 70.0 for n = 5 with alpha = 0.0532 and l1 ratio =  0.5\n",
      "MAE = 0.38456 with % within 0.25 32.5 and % within 0.5 72.5 for n = 10 with alpha = 0.11146 and l1 ratio =  0.1\n",
      "MAE = 0.38112 with % within 0.25 32.5 and % within 0.5 67.5 for n = 15 with alpha = 0.06539 and l1 ratio =  0.1\n",
      "MAE = 0.36723 with % within 0.25 35.0 and % within 0.5 72.5 for n = 20 with alpha = 0.06901 and l1 ratio =  0.1\n",
      "MAE = 0.37437 with % within 0.25 37.5 and % within 0.5 75.0 for n = 25 with alpha = 0.05099 and l1 ratio =  0.1\n",
      "MAE = 0.36818 with % within 0.25 37.5 and % within 0.5 75.0 for n = 30 with alpha = 0.04297 and l1 ratio =  0.1\n",
      "MAE = 0.37031 with % within 0.25 40.0 and % within 0.5 75.0 for n = 35 with alpha = 0.03617 and l1 ratio =  0.1\n",
      "MAE = 0.3699 with % within 0.25 37.5 and % within 0.5 72.5 for n = 40 with alpha = 0.0342 and l1 ratio =  0.1\n",
      "MAE = 0.37143 with % within 0.25 35.0 and % within 0.5 72.5 for n = 45 with alpha = 0.02753 and l1 ratio =  0.1\n",
      "MAE = 0.37076 with % within 0.25 35.0 and % within 0.5 72.5 for n = 50 with alpha = 0.0243 and l1 ratio =  0.1\n",
      "MAE = 0.36948 with % within 0.25 40.0 and % within 0.5 72.5 for n = 55 with alpha = 0.01786 and l1 ratio =  0.1\n",
      "MAE = 0.36978 with % within 0.25 42.5 and % within 0.5 72.5 for n = 60 with alpha = 0.02021 and l1 ratio =  0.1\n",
      "MAE = 0.36688 with % within 0.25 42.5 and % within 0.5 72.5 for n = 65 with alpha = 0.01748 and l1 ratio =  0.1\n",
      "MAE = 0.3675 with % within 0.25 40.0 and % within 0.5 75.0 for n = 70 with alpha = 0.01994 and l1 ratio =  0.1\n",
      "MAE = 0.36553 with % within 0.25 40.0 and % within 0.5 75.0 for n = 75 with alpha = 0.01848 and l1 ratio =  0.1\n",
      "MAE = 0.36556 with % within 0.25 40.0 and % within 0.5 75.0 for n = 80 with alpha = 0.01634 and l1 ratio =  0.1\n",
      "MAE = 0.36574 with % within 0.25 40.0 and % within 0.5 75.0 for n = 85 with alpha = 0.01657 and l1 ratio =  0.1\n",
      "100\n",
      "MAE = 0.37868 with % within 0.25 32.5 and % within 0.5 72.5 for n = 5 with alpha = 0.12963 and l1 ratio =  0.1\n",
      "MAE = 0.38451 with % within 0.25 32.5 and % within 0.5 67.5 for n = 10 with alpha = 0.09084 and l1 ratio =  0.1\n",
      "MAE = 0.38185 with % within 0.25 32.5 and % within 0.5 70.0 for n = 15 with alpha = 0.08985 and l1 ratio =  0.1\n",
      "MAE = 0.37681 with % within 0.25 32.5 and % within 0.5 72.5 for n = 20 with alpha = 0.07581 and l1 ratio =  0.1\n",
      "MAE = 0.36715 with % within 0.25 40.0 and % within 0.5 75.0 for n = 25 with alpha = 0.05253 and l1 ratio =  0.1\n",
      "MAE = 0.36644 with % within 0.25 37.5 and % within 0.5 75.0 for n = 30 with alpha = 0.04222 and l1 ratio =  0.1\n",
      "MAE = 0.36745 with % within 0.25 37.5 and % within 0.5 72.5 for n = 35 with alpha = 0.0343 and l1 ratio =  0.1\n",
      "MAE = 0.36914 with % within 0.25 35.0 and % within 0.5 72.5 for n = 40 with alpha = 0.02782 and l1 ratio =  0.1\n",
      "MAE = 0.36856 with % within 0.25 40.0 and % within 0.5 72.5 for n = 45 with alpha = 0.02239 and l1 ratio =  0.1\n",
      "MAE = 0.36785 with % within 0.25 40.0 and % within 0.5 72.5 for n = 50 with alpha = 0.02596 and l1 ratio =  0.1\n",
      "MAE = 0.36893 with % within 0.25 40.0 and % within 0.5 72.5 for n = 55 with alpha = 0.01815 and l1 ratio =  0.1\n",
      "MAE = 0.36712 with % within 0.25 42.5 and % within 0.5 72.5 for n = 60 with alpha = 0.01755 and l1 ratio =  0.1\n",
      "MAE = 0.36452 with % within 0.25 40.0 and % within 0.5 72.5 for n = 65 with alpha = 0.01889 and l1 ratio =  0.1\n",
      "MAE = 0.36483 with % within 0.25 40.0 and % within 0.5 75.0 for n = 70 with alpha = 0.01713 and l1 ratio =  0.1\n",
      "MAE = 0.36428 with % within 0.25 40.0 and % within 0.5 75.0 for n = 75 with alpha = 0.01638 and l1 ratio =  0.1\n",
      "MAE = 0.3648 with % within 0.25 40.0 and % within 0.5 75.0 for n = 80 with alpha = 0.0166 and l1 ratio =  0.1\n",
      "250\n",
      "MAE = 0.37903 with % within 0.25 32.5 and % within 0.5 77.5 for n = 5 with alpha = 0.07592 and l1 ratio =  0.1\n",
      "MAE = 0.3812 with % within 0.25 32.5 and % within 0.5 67.5 for n = 10 with alpha = 0.07597 and l1 ratio =  0.1\n",
      "MAE = 0.37006 with % within 0.25 35.0 and % within 0.5 72.5 for n = 15 with alpha = 0.06511 and l1 ratio =  0.1\n",
      "MAE = 0.37373 with % within 0.25 37.5 and % within 0.5 75.0 for n = 20 with alpha = 0.05502 and l1 ratio =  0.1\n",
      "MAE = 0.36942 with % within 0.25 37.5 and % within 0.5 75.0 for n = 25 with alpha = 0.04602 and l1 ratio =  0.1\n",
      "MAE = 0.36851 with % within 0.25 37.5 and % within 0.5 72.5 for n = 30 with alpha = 0.0327 and l1 ratio =  0.1\n",
      "MAE = 0.36903 with % within 0.25 35.0 and % within 0.5 72.5 for n = 35 with alpha = 0.0281 and l1 ratio =  0.1\n",
      "MAE = 0.37001 with % within 0.25 40.0 and % within 0.5 72.5 for n = 40 with alpha = 0.02251 and l1 ratio =  0.1\n",
      "MAE = 0.36952 with % within 0.25 40.0 and % within 0.5 72.5 for n = 45 with alpha = 0.02081 and l1 ratio =  0.1\n",
      "MAE = 0.37033 with % within 0.25 42.5 and % within 0.5 72.5 for n = 50 with alpha = 0.02126 and l1 ratio =  0.1\n",
      "MAE = 0.36817 with % within 0.25 40.0 and % within 0.5 72.5 for n = 55 with alpha = 0.01765 and l1 ratio =  0.1\n",
      "MAE = 0.36582 with % within 0.25 40.0 and % within 0.5 75.0 for n = 60 with alpha = 0.01863 and l1 ratio =  0.1\n",
      "MAE = 0.36567 with % within 0.25 40.0 and % within 0.5 75.0 for n = 65 with alpha = 0.01504 and l1 ratio =  0.1\n",
      "500\n",
      "MAE = 0.38195 with % within 0.25 32.5 and % within 0.5 72.5 for n = 5 with alpha = 0.08894 and l1 ratio =  0.1\n",
      "MAE = 0.38375 with % within 0.25 32.5 and % within 0.5 70.0 for n = 10 with alpha = 0.08104 and l1 ratio =  0.1\n",
      "MAE = 0.37843 with % within 0.25 37.5 and % within 0.5 72.5 for n = 15 with alpha = 0.07015 and l1 ratio =  0.1\n",
      "MAE = 0.37217 with % within 0.25 37.5 and % within 0.5 75.0 for n = 20 with alpha = 0.04636 and l1 ratio =  0.1\n",
      "MAE = 0.3704 with % within 0.25 40.0 and % within 0.5 72.5 for n = 25 with alpha = 0.03684 and l1 ratio =  0.1\n",
      "MAE = 0.37224 with % within 0.25 37.5 and % within 0.5 72.5 for n = 30 with alpha = 0.02598 and l1 ratio =  0.1\n",
      "MAE = 0.37152 with % within 0.25 37.5 and % within 0.5 72.5 for n = 35 with alpha = 0.02787 and l1 ratio =  0.1\n",
      "MAE = 0.37029 with % within 0.25 42.5 and % within 0.5 72.5 for n = 40 with alpha = 0.02124 and l1 ratio =  0.1\n",
      "MAE = 0.36703 with % within 0.25 42.5 and % within 0.5 72.5 for n = 45 with alpha = 0.01715 and l1 ratio =  0.1\n",
      "MAE = 0.36712 with % within 0.25 40.0 and % within 0.5 75.0 for n = 50 with alpha = 0.01961 and l1 ratio =  0.1\n",
      "MAE = 0.36537 with % within 0.25 40.0 and % within 0.5 75.0 for n = 55 with alpha = 0.01696 and l1 ratio =  0.1\n",
      "750\n",
      "MAE = 0.38509 with % within 0.25 32.5 and % within 0.5 72.5 for n = 5 with alpha = 0.1095 and l1 ratio =  0.1\n",
      "MAE = 0.38262 with % within 0.25 35.0 and % within 0.5 72.5 for n = 10 with alpha = 0.07588 and l1 ratio =  0.1\n",
      "MAE = 0.3742 with % within 0.25 40.0 and % within 0.5 75.0 for n = 15 with alpha = 0.05198 and l1 ratio =  0.1\n",
      "MAE = 0.37353 with % within 0.25 37.5 and % within 0.5 75.0 for n = 20 with alpha = 0.03868 and l1 ratio =  0.1\n",
      "MAE = 0.37373 with % within 0.25 37.5 and % within 0.5 72.5 for n = 25 with alpha = 0.02903 and l1 ratio =  0.1\n",
      "MAE = 0.37341 with % within 0.25 37.5 and % within 0.5 72.5 for n = 30 with alpha = 0.02734 and l1 ratio =  0.1\n",
      "MAE = 0.3717 with % within 0.25 45.0 and % within 0.5 72.5 for n = 35 with alpha = 0.02396 and l1 ratio =  0.1\n",
      "MAE = 0.37086 with % within 0.25 40.0 and % within 0.5 75.0 for n = 40 with alpha = 0.0194 and l1 ratio =  0.1\n",
      "1000\n",
      "MAE = 0.388 with % within 0.25 35.0 and % within 0.5 70.0 for n = 5 with alpha = 0.07821 and l1 ratio =  0.1\n",
      "MAE = 0.37835 with % within 0.25 37.5 and % within 0.5 75.0 for n = 10 with alpha = 0.09421 and l1 ratio =  0.1\n",
      "MAE = 0.37348 with % within 0.25 35.0 and % within 0.5 75.0 for n = 15 with alpha = 0.04511 and l1 ratio =  0.1\n",
      "MAE = 0.37281 with % within 0.25 37.5 and % within 0.5 72.5 for n = 20 with alpha = 0.04943 and l1 ratio =  0.1\n",
      "MAE = 0.37424 with % within 0.25 35.0 and % within 0.5 72.5 for n = 25 with alpha = 0.03095 and l1 ratio =  0.1\n",
      "MAE = 0.37273 with % within 0.25 40.0 and % within 0.5 72.5 for n = 30 with alpha = 0.02539 and l1 ratio =  0.1\n",
      "MAE = 0.37089 with % within 0.25 40.0 and % within 0.5 75.0 for n = 35 with alpha = 0.01882 and l1 ratio =  0.1\n",
      "CPU times: user 44min 40s, sys: 13min 29s, total: 58min 10s\n",
      "Wall time: 39min 10s\n"
     ]
    }
   ],
   "source": [
    "%%time\n",
    "\n",
    "mae_list = []\n",
    "quarter_abs_error_list = []\n",
    "half_abs_error_list = []\n",
    "    \n",
    "\n",
    "for min_ppu in min_ppu_list:\n",
    "    \n",
    "    print(min_ppu)\n",
    "    \n",
    "    user_indices = df.username.value_counts()[df.username.value_counts() > min_ppu].index\n",
    "    sub_df = df[df['username'].isin(user_indices)]\n",
    "    n_users_list = [n_users for n_users in n_users_list if n_users < len(user_indices)]\n",
    "\n",
    "    for top_n in n_users_list:\n",
    "        \n",
    "        # split data \n",
    "        top_n_nn = list(sub_df['nearest_neighbor_rank'].unique())[:top_n]\n",
    "        df_top_n = df[df['nearest_neighbor_rank'].isin(top_n_nn)]\n",
    "        X_train = df_top_n[features]\n",
    "        y_train = df_top_n[target]\n",
    "\n",
    "        X_test = df[df['username'] == user_of_reference][features]\n",
    "        y_test = df[df['username'] == user_of_reference][target]\n",
    "\n",
    "        # train\n",
    "        from sklearn.linear_model import ElasticNetCV\n",
    "        model = ElasticNetCV(fit_intercept=False, normalize=False, l1_ratio=l1_ratio_space, cv=5, random_state=rand_state)\n",
    "        model.fit(X_train, y_train)\n",
    "\n",
    "        # Evaluate model on user's data \n",
    "        preds = model.predict(X_test)\n",
    "\n",
    "        # unscale\n",
    "        preds_unscaled = y_scaler.inverse_transform(preds)\n",
    "        y_test_unscaled = y_scaler.inverse_transform(y_test)\n",
    "\n",
    "        # evaluate results\n",
    "        results_df = pd.DataFrame([preds_unscaled, y_test_unscaled]).transpose()\n",
    "        results_df.columns = ['predicted', 'actual']\n",
    "        results_df['error'] = results_df['predicted'] - results_df['actual']\n",
    "        results_df['abs_error'] = abs(results_df['error'])\n",
    "\n",
    "        # Performance Metrics \n",
    "        mae = np.mean(results_df['abs_error'])\n",
    "\n",
    "        quarter_abs_error_list.append(100*len(results_df[results_df['abs_error']<=0.25])/len(results_df))\n",
    "        half_abs_error_list.append(100*len(results_df[results_df['abs_error']<=0.50])/len(results_df))\n",
    "        mae_list.append(mae)\n",
    "\n",
    "        print('MAE =', np.round(mae,5), \n",
    "              'with % within 0.25', 100*len(results_df[results_df['abs_error']<=0.25])/len(results_df), \n",
    "              'and % within 0.5', 100*len(results_df[results_df['abs_error']<=0.50])/len(results_df),\n",
    "              \"for n =\", top_n, \"with alpha =\", np.round(model.alpha_, 5), \"and l1 ratio = \", model.l1_ratio_)\n",
    "    \n",
    "    # add breaks\n",
    "    quarter_abs_error_list.append(0)\n",
    "    half_abs_error_list.append(0)\n",
    "    mae_list.append(0)"
   ]
  },
  {
   "cell_type": "code",
   "execution_count": 56,
   "metadata": {},
   "outputs": [
    {
     "data": {
      "image/png": "[encoded data removed]",
      "text/plain": [
       "<Figure size 1080x720 with 1 Axes>"
      ]
     },
     "metadata": {
      "needs_background": "light"
     },
     "output_type": "display_data"
    }
   ],
   "source": [
    "ls = mae_list\n",
    "\n",
    "size = len(ls) \n",
    "idx_list = [idx + 1 for idx, val in enumerate(ls) if val == 0] \n",
    "ys = [ls[i: j] for i, j in\n",
    "        zip([0] + idx_list, idx_list + \n",
    "        ([size] if idx_list[-1] != size else []))] \n",
    "\n",
    "for i, y in enumerate(ys):\n",
    "    y = y[:-1]\n",
    "    ys[i] = y\n",
    "\n",
    "import matplotlib.cm as cm\n",
    "colors = cm.rainbow(np.linspace(0, 1, len(ys)))\n",
    "\n",
    "plt.figure(figsize=[15,10])\n",
    "plt.title(\"ENet with Nearest Neighbors and Min_PPU\")\n",
    "plt.xlabel(\"N Nearest Neighbors\")\n",
    "plt.ylabel(\"MAE\")\n",
    "\n",
    "i = 0\n",
    "for y, c in zip(ys, colors):\n",
    "    x = np.linspace(5, 5*len(y), len(y))\n",
    "    if i == 0:\n",
    "        x = [5, 10, 15, 20, 25, 30, 35, 40, 45, 50, 55, 60, 65, 70, 75, 80, 85, 100, len(df['username'].unique())-1]\n",
    "    else:\n",
    "        x = np.linspace(5, 5*len(y), len(y))\n",
    "    plt.scatter(x, y, color=c, label=\"Min PPU = \" + str(min_ppu_list[i]))\n",
    "    i += 1\n",
    "\n",
    "plt.legend(bbox_to_anchor=(1.05, 1), loc=2, borderaxespad=0.)\n",
    "plt.show()"
   ]
  },
  {
   "cell_type": "code",
   "execution_count": null,
   "metadata": {},
   "outputs": [],
   "source": []
  },
  {
   "cell_type": "code",
   "execution_count": null,
   "metadata": {},
   "outputs": [],
   "source": []
  },
  {
   "cell_type": "code",
   "execution_count": 21,
   "metadata": {},
   "outputs": [],
   "source": [
    "rand_state = 10"
   ]
  },
  {
   "cell_type": "code",
   "execution_count": 22,
   "metadata": {},
   "outputs": [],
   "source": [
    "## no scaling "
   ]
  },
  {
   "cell_type": "code",
   "execution_count": 29,
   "metadata": {},
   "outputs": [
    {
     "name": "stdout",
     "output_type": "stream",
     "text": [
      "0\n",
      "MAE = 0.3851 with % within 0.25 42.5 and % within 0.5 75.0 for n = 5 with alpha = 0.16091 and l1 ratio =  1.0\n",
      "MAE = 0.38264 with % within 0.25 45.0 and % within 0.5 72.5 for n = 10 with alpha = 0.16582 and l1 ratio =  1.0\n",
      "MAE = 0.37628 with % within 0.25 45.0 and % within 0.5 70.0 for n = 15 with alpha = 0.16953 and l1 ratio =  1.0\n",
      "MAE = 0.39972 with % within 0.25 35.0 and % within 0.5 77.5 for n = 20 with alpha = 0.16378 and l1 ratio =  1.0\n",
      "MAE = 0.38239 with % within 0.25 40.0 and % within 0.5 75.0 for n = 25 with alpha = 0.16473 and l1 ratio =  1.0\n",
      "MAE = 0.39028 with % within 0.25 37.5 and % within 0.5 77.5 for n = 30 with alpha = 0.16305 and l1 ratio =  1.0\n",
      "MAE = 0.39395 with % within 0.25 37.5 and % within 0.5 77.5 for n = 35 with alpha = 0.16398 and l1 ratio =  1.0\n",
      "MAE = 0.39307 with % within 0.25 37.5 and % within 0.5 77.5 for n = 40 with alpha = 0.16558 and l1 ratio =  1.0\n",
      "MAE = 0.39115 with % within 0.25 37.5 and % within 0.5 77.5 for n = 45 with alpha = 0.16669 and l1 ratio =  1.0\n",
      "MAE = 0.39068 with % within 0.25 35.0 and % within 0.5 77.5 for n = 50 with alpha = 0.16913 and l1 ratio =  1.0\n",
      "MAE = 0.39177 with % within 0.25 35.0 and % within 0.5 77.5 for n = 55 with alpha = 0.16902 and l1 ratio =  1.0\n",
      "MAE = 0.39166 with % within 0.25 37.5 and % within 0.5 77.5 for n = 60 with alpha = 0.16728 and l1 ratio =  1.0\n",
      "MAE = 0.39353 with % within 0.25 35.0 and % within 0.5 77.5 for n = 65 with alpha = 0.16646 and l1 ratio =  1.0\n",
      "MAE = 0.3988 with % within 0.25 32.5 and % within 0.5 77.5 for n = 70 with alpha = 0.16629 and l1 ratio =  1.0\n",
      "MAE = 0.39933 with % within 0.25 32.5 and % within 0.5 77.5 for n = 75 with alpha = 0.16666 and l1 ratio =  1.0\n",
      "MAE = 0.39829 with % within 0.25 35.0 and % within 0.5 77.5 for n = 80 with alpha = 0.16649 and l1 ratio =  1.0\n",
      "MAE = 0.39814 with % within 0.25 35.0 and % within 0.5 77.5 for n = 85 with alpha = 0.16625 and l1 ratio =  1.0\n",
      "MAE = 0.39804 with % within 0.25 35.0 and % within 0.5 77.5 for n = 100 with alpha = 0.166 and l1 ratio =  1.0\n",
      "MAE = 0.39774 with % within 0.25 35.0 and % within 0.5 77.5 for n = 128 with alpha = 0.16568 and l1 ratio =  1.0\n",
      "50\n",
      "MAE = 0.38489 with % within 0.25 42.5 and % within 0.5 75.0 for n = 5 with alpha = 0.16414 and l1 ratio =  1.0\n",
      "MAE = 0.37369 with % within 0.25 50.0 and % within 0.5 70.0 for n = 10 with alpha = 0.16399 and l1 ratio =  1.0\n",
      "MAE = 0.37614 with % within 0.25 45.0 and % within 0.5 70.0 for n = 15 with alpha = 0.16942 and l1 ratio =  1.0\n",
      "MAE = 0.38342 with % within 0.25 37.5 and % within 0.5 75.0 for n = 20 with alpha = 0.16326 and l1 ratio =  1.0\n",
      "MAE = 0.38982 with % within 0.25 37.5 and % within 0.5 77.5 for n = 25 with alpha = 0.1638 and l1 ratio =  1.0\n",
      "MAE = 0.3939 with % within 0.25 37.5 and % within 0.5 77.5 for n = 30 with alpha = 0.16372 and l1 ratio =  1.0\n",
      "MAE = 0.39268 with % within 0.25 37.5 and % within 0.5 77.5 for n = 35 with alpha = 0.16536 and l1 ratio =  1.0\n",
      "MAE = 0.39098 with % within 0.25 37.5 and % within 0.5 77.5 for n = 40 with alpha = 0.1665 and l1 ratio =  1.0\n",
      "MAE = 0.38966 with % within 0.25 35.0 and % within 0.5 77.5 for n = 45 with alpha = 0.16841 and l1 ratio =  1.0\n",
      "MAE = 0.39161 with % within 0.25 35.0 and % within 0.5 77.5 for n = 50 with alpha = 0.16895 and l1 ratio =  1.0\n",
      "MAE = 0.39288 with % within 0.25 35.0 and % within 0.5 77.5 for n = 55 with alpha = 0.16768 and l1 ratio =  1.0\n",
      "MAE = 0.39263 with % within 0.25 35.0 and % within 0.5 77.5 for n = 60 with alpha = 0.16689 and l1 ratio =  1.0\n",
      "MAE = 0.3926 with % within 0.25 35.0 and % within 0.5 77.5 for n = 65 with alpha = 0.16631 and l1 ratio =  1.0\n",
      "MAE = 0.39925 with % within 0.25 32.5 and % within 0.5 77.5 for n = 70 with alpha = 0.16649 and l1 ratio =  1.0\n",
      "MAE = 0.39827 with % within 0.25 35.0 and % within 0.5 77.5 for n = 75 with alpha = 0.16687 and l1 ratio =  1.0\n",
      "MAE = 0.39816 with % within 0.25 35.0 and % within 0.5 77.5 for n = 80 with alpha = 0.16624 and l1 ratio =  1.0\n",
      "MAE = 0.39793 with % within 0.25 35.0 and % within 0.5 77.5 for n = 85 with alpha = 0.16597 and l1 ratio =  1.0\n",
      "100\n",
      "MAE = 0.40022 with % within 0.25 37.5 and % within 0.5 77.5 for n = 5 with alpha = 0.15935 and l1 ratio =  1.0\n",
      "MAE = 0.37496 with % within 0.25 50.0 and % within 0.5 70.0 for n = 10 with alpha = 0.16417 and l1 ratio =  1.0\n",
      "MAE = 0.40205 with % within 0.25 32.5 and % within 0.5 77.5 for n = 15 with alpha = 0.16387 and l1 ratio =  1.0\n",
      "MAE = 0.38124 with % within 0.25 40.0 and % within 0.5 72.5 for n = 20 with alpha = 0.16533 and l1 ratio =  1.0\n",
      "MAE = 0.39097 with % within 0.25 37.5 and % within 0.5 77.5 for n = 25 with alpha = 0.16291 and l1 ratio =  1.0\n",
      "MAE = 0.39366 with % within 0.25 37.5 and % within 0.5 77.5 for n = 30 with alpha = 0.16458 and l1 ratio =  1.0\n",
      "MAE = 0.3892 with % within 0.25 37.5 and % within 0.5 77.5 for n = 35 with alpha = 0.16654 and l1 ratio =  1.0\n",
      "MAE = 0.39013 with % within 0.25 35.0 and % within 0.5 77.5 for n = 40 with alpha = 0.16862 and l1 ratio =  1.0\n",
      "MAE = 0.38915 with % within 0.25 35.0 and % within 0.5 77.5 for n = 45 with alpha = 0.16955 and l1 ratio =  1.0\n",
      "MAE = 0.3925 with % within 0.25 35.0 and % within 0.5 77.5 for n = 50 with alpha = 0.16898 and l1 ratio =  1.0\n",
      "MAE = 0.39243 with % within 0.25 37.5 and % within 0.5 77.5 for n = 55 with alpha = 0.16716 and l1 ratio =  1.0\n",
      "MAE = 0.39332 with % within 0.25 35.0 and % within 0.5 77.5 for n = 60 with alpha = 0.16633 and l1 ratio =  1.0\n",
      "MAE = 0.39715 with % within 0.25 35.0 and % within 0.5 77.5 for n = 65 with alpha = 0.166 and l1 ratio =  1.0\n",
      "MAE = 0.39721 with % within 0.25 32.5 and % within 0.5 77.5 for n = 70 with alpha = 0.16679 and l1 ratio =  1.0\n",
      "MAE = 0.39812 with % within 0.25 35.0 and % within 0.5 77.5 for n = 75 with alpha = 0.16627 and l1 ratio =  1.0\n",
      "MAE = 0.39786 with % within 0.25 35.0 and % within 0.5 77.5 for n = 80 with alpha = 0.16597 and l1 ratio =  1.0\n",
      "250\n",
      "MAE = 0.38331 with % within 0.25 45.0 and % within 0.5 72.5 for n = 5 with alpha = 0.16596 and l1 ratio =  1.0\n",
      "MAE = 0.37654 with % within 0.25 45.0 and % within 0.5 70.0 for n = 10 with alpha = 0.1694 and l1 ratio =  1.0\n",
      "MAE = 0.38391 with % within 0.25 37.5 and % within 0.5 75.0 for n = 15 with alpha = 0.16302 and l1 ratio =  1.0\n",
      "MAE = 0.3909 with % within 0.25 35.0 and % within 0.5 77.5 for n = 20 with alpha = 0.16277 and l1 ratio =  1.0\n",
      "MAE = 0.39453 with % within 0.25 35.0 and % within 0.5 77.5 for n = 25 with alpha = 0.16378 and l1 ratio =  1.0\n",
      "MAE = 0.39428 with % within 0.25 35.0 and % within 0.5 77.5 for n = 30 with alpha = 0.16543 and l1 ratio =  1.0\n",
      "MAE = 0.39257 with % within 0.25 35.0 and % within 0.5 77.5 for n = 35 with alpha = 0.16824 and l1 ratio =  1.0\n",
      "MAE = 0.38956 with % within 0.25 35.0 and % within 0.5 77.5 for n = 40 with alpha = 0.1695 and l1 ratio =  1.0\n",
      "MAE = 0.39421 with % within 0.25 37.5 and % within 0.5 77.5 for n = 45 with alpha = 0.16746 and l1 ratio =  1.0\n",
      "MAE = 0.39246 with % within 0.25 40.0 and % within 0.5 77.5 for n = 50 with alpha = 0.16679 and l1 ratio =  1.0\n",
      "MAE = 0.39366 with % within 0.25 35.0 and % within 0.5 77.5 for n = 55 with alpha = 0.16624 and l1 ratio =  1.0\n",
      "MAE = 0.39995 with % within 0.25 32.5 and % within 0.5 77.5 for n = 60 with alpha = 0.16599 and l1 ratio =  1.0\n",
      "MAE = 0.3972 with % within 0.25 32.5 and % within 0.5 77.5 for n = 65 with alpha = 0.16684 and l1 ratio =  1.0\n",
      "500\n",
      "MAE = 0.38013 with % within 0.25 50.0 and % within 0.5 70.0 for n = 5 with alpha = 0.16414 and l1 ratio =  1.0\n",
      "MAE = 0.41124 with % within 0.25 30.0 and % within 0.5 72.5 for n = 10 with alpha = 0.16358 and l1 ratio =  1.0\n",
      "MAE = 0.38857 with % within 0.25 37.5 and % within 0.5 75.0 for n = 15 with alpha = 0.16497 and l1 ratio =  1.0\n",
      "MAE = 0.39547 with % within 0.25 35.0 and % within 0.5 77.5 for n = 20 with alpha = 0.16449 and l1 ratio =  1.0\n",
      "MAE = 0.39061 with % within 0.25 37.5 and % within 0.5 77.5 for n = 25 with alpha = 0.16655 and l1 ratio =  1.0\n",
      "MAE = 0.39139 with % within 0.25 35.0 and % within 0.5 77.5 for n = 30 with alpha = 0.16875 and l1 ratio =  1.0\n",
      "MAE = 0.39226 with % within 0.25 35.0 and % within 0.5 77.5 for n = 35 with alpha = 0.16927 and l1 ratio =  1.0\n",
      "MAE = 0.392 with % within 0.25 35.0 and % within 0.5 77.5 for n = 40 with alpha = 0.16737 and l1 ratio =  1.0\n",
      "MAE = 0.39202 with % within 0.25 35.0 and % within 0.5 77.5 for n = 45 with alpha = 0.16672 and l1 ratio =  1.0\n",
      "MAE = 0.39916 with % within 0.25 32.5 and % within 0.5 77.5 for n = 50 with alpha = 0.16684 and l1 ratio =  1.0\n",
      "MAE = 0.39813 with % within 0.25 35.0 and % within 0.5 77.5 for n = 55 with alpha = 0.16723 and l1 ratio =  1.0\n",
      "750\n",
      "MAE = 0.37539 with % within 0.25 42.5 and % within 0.5 70.0 for n = 5 with alpha = 0.16396 and l1 ratio =  1.0\n",
      "MAE = 0.38105 with % within 0.25 40.0 and % within 0.5 72.5 for n = 10 with alpha = 0.16662 and l1 ratio =  1.0\n",
      "MAE = 0.39421 with % within 0.25 37.5 and % within 0.5 77.5 for n = 15 with alpha = 0.16464 and l1 ratio =  1.0\n",
      "MAE = 0.39458 with % within 0.25 35.0 and % within 0.5 77.5 for n = 20 with alpha = 0.16618 and l1 ratio =  1.0\n",
      "MAE = 0.39365 with % within 0.25 37.5 and % within 0.5 77.5 for n = 25 with alpha = 0.16857 and l1 ratio =  1.0\n",
      "MAE = 0.3934 with % within 0.25 35.0 and % within 0.5 77.5 for n = 30 with alpha = 0.1696 and l1 ratio =  1.0\n",
      "MAE = 0.39353 with % within 0.25 35.0 and % within 0.5 77.5 for n = 35 with alpha = 0.16711 and l1 ratio =  1.0\n",
      "MAE = 0.40149 with % within 0.25 32.5 and % within 0.5 77.5 for n = 40 with alpha = 0.16652 and l1 ratio =  1.0\n",
      "1000\n",
      "MAE = 0.37527 with % within 0.25 45.0 and % within 0.5 70.0 for n = 5 with alpha = 0.17323 and l1 ratio =  1.0\n",
      "MAE = 0.38792 with % within 0.25 35.0 and % within 0.5 75.0 for n = 10 with alpha = 0.16743 and l1 ratio =  1.0\n",
      "MAE = 0.39582 with % within 0.25 35.0 and % within 0.5 77.5 for n = 15 with alpha = 0.16624 and l1 ratio =  1.0\n",
      "MAE = 0.39207 with % within 0.25 37.5 and % within 0.5 77.5 for n = 20 with alpha = 0.1672 and l1 ratio =  1.0\n",
      "MAE = 0.39272 with % within 0.25 35.0 and % within 0.5 77.5 for n = 25 with alpha = 0.17035 and l1 ratio =  1.0\n",
      "MAE = 0.39299 with % within 0.25 37.5 and % within 0.5 77.5 for n = 30 with alpha = 0.16754 and l1 ratio =  1.0\n",
      "MAE = 0.39873 with % within 0.25 30.0 and % within 0.5 77.5 for n = 35 with alpha = 0.16654 and l1 ratio =  1.0\n",
      "CPU times: user 43min 45s, sys: 12min 48s, total: 56min 33s\n",
      "Wall time: 38min 11s\n"
     ]
    }
   ],
   "source": [
    "%%time\n",
    "\n",
    "mae_list = []\n",
    "quarter_abs_error_list = []\n",
    "half_abs_error_list = []\n",
    "    \n",
    "\n",
    "for min_ppu in min_ppu_list:\n",
    "    \n",
    "    print(min_ppu)\n",
    "    \n",
    "    user_indices = df.username.value_counts()[df.username.value_counts() > min_ppu].index\n",
    "    sub_df = df[df['username'].isin(user_indices)]\n",
    "    n_users_list = [n_users for n_users in n_users_list if n_users < len(user_indices)]\n",
    "\n",
    "    for top_n in n_users_list:\n",
    "        \n",
    "        # split data \n",
    "        top_n_nn = list(sub_df['nearest_neighbor_rank'].unique())[:top_n]\n",
    "        df_top_n = df[df['nearest_neighbor_rank'].isin(top_n_nn)]\n",
    "        X_train = df_top_n[features]\n",
    "        y_train = df_top_n[target]\n",
    "\n",
    "        X_test = df[df['username'] == user_of_reference][features]\n",
    "        y_test = df[df['username'] == user_of_reference][target]\n",
    "\n",
    "        # train\n",
    "        from sklearn.linear_model import ElasticNetCV\n",
    "        model = ElasticNetCV(fit_intercept=False, normalize=False, l1_ratio=l1_ratio_space, cv=5, random_state=rand_state)\n",
    "        model.fit(X_train, y_train)\n",
    "\n",
    "        # Evaluate model on user's data \n",
    "        preds = model.predict(X_test)\n",
    "\n",
    "        # unscale\n",
    "        preds_unscaled = preds\n",
    "        y_test_unscaled = y_test\n",
    "\n",
    "        # evaluate results\n",
    "        results_df = pd.DataFrame([preds_unscaled, y_test_unscaled]).transpose()\n",
    "        results_df.columns = ['predicted', 'actual']\n",
    "        results_df['error'] = results_df['predicted'] - results_df['actual']\n",
    "        results_df['abs_error'] = abs(results_df['error'])\n",
    "\n",
    "        # Performance Metrics \n",
    "        mae = np.mean(results_df['abs_error'])\n",
    "\n",
    "        quarter_abs_error_list.append(100*len(results_df[results_df['abs_error']<=0.25])/len(results_df))\n",
    "        half_abs_error_list.append(100*len(results_df[results_df['abs_error']<=0.50])/len(results_df))\n",
    "        mae_list.append(mae)\n",
    "\n",
    "        print('MAE =', np.round(mae,5), \n",
    "              'with % within 0.25', 100*len(results_df[results_df['abs_error']<=0.25])/len(results_df), \n",
    "              'and % within 0.5', 100*len(results_df[results_df['abs_error']<=0.50])/len(results_df),\n",
    "              \"for n =\", top_n, \"with alpha =\", np.round(model.alpha_, 5), \"and l1 ratio = \", model.l1_ratio_)\n",
    "    \n",
    "    # add breaks\n",
    "    quarter_abs_error_list.append(0)\n",
    "    half_abs_error_list.append(0)\n",
    "    mae_list.append(0)"
   ]
  },
  {
   "cell_type": "code",
   "execution_count": 30,
   "metadata": {},
   "outputs": [
    {
     "data": {
      "image/png": "[encoded data removed]",
      "text/plain": [
       "<Figure size 1080x720 with 1 Axes>"
      ]
     },
     "metadata": {
      "needs_background": "light"
     },
     "output_type": "display_data"
    }
   ],
   "source": [
    "ls = mae_list\n",
    "\n",
    "size = len(ls) \n",
    "idx_list = [idx + 1 for idx, val in enumerate(ls) if val == 0] \n",
    "ys = [ls[i: j] for i, j in\n",
    "        zip([0] + idx_list, idx_list + \n",
    "        ([size] if idx_list[-1] != size else []))] \n",
    "\n",
    "for i, y in enumerate(ys):\n",
    "    y = y[:-1]\n",
    "    ys[i] = y\n",
    "\n",
    "import matplotlib.cm as cm\n",
    "colors = cm.rainbow(np.linspace(0, 1, len(ys)))\n",
    "\n",
    "plt.figure(figsize=[15,10])\n",
    "plt.title(\"ENet with Nearest Neighbors and Min_PPU\")\n",
    "plt.xlabel(\"N Nearest Neighbors\")\n",
    "plt.ylabel(\"MAE\")\n",
    "\n",
    "i = 0\n",
    "for y, c in zip(ys, colors):\n",
    "    x = np.linspace(5, 5*len(y), len(y))\n",
    "    if i == 0:\n",
    "        x = [5, 10, 15, 20, 25, 30, 35, 40, 45, 50, 55, 60, 65, 70, 75, 80, 85, 100, len(df['username'].unique())-1]\n",
    "    else:\n",
    "        x = np.linspace(5, 5*len(y), len(y))\n",
    "    plt.scatter(x, y, color=c, label=\"Min PPU = \" + str(min_ppu_list[i]))\n",
    "    i += 1\n",
    "\n",
    "plt.legend(bbox_to_anchor=(1.05, 1), loc=2, borderaxespad=0.)\n",
    "plt.show()"
   ]
  },
  {
   "cell_type": "code",
   "execution_count": 31,
   "metadata": {},
   "outputs": [],
   "source": [
    "## fit intercept"
   ]
  },
  {
   "cell_type": "code",
   "execution_count": 32,
   "metadata": {},
   "outputs": [
    {
     "name": "stdout",
     "output_type": "stream",
     "text": [
      "0\n",
      "MAE = 0.3785 with % within 0.25 35.0 and % within 0.5 67.5 for n = 5 with alpha = 0.0065 and l1 ratio =  0.5\n",
      "MAE = 0.37236 with % within 0.25 32.5 and % within 0.5 77.5 for n = 10 with alpha = 0.00253 and l1 ratio =  1.0\n",
      "MAE = 0.37292 with % within 0.25 35.0 and % within 0.5 70.0 for n = 15 with alpha = 0.00248 and l1 ratio =  1.0\n",
      "MAE = 0.3828 with % within 0.25 32.5 and % within 0.5 70.0 for n = 20 with alpha = 0.0028 and l1 ratio =  1.0\n",
      "MAE = 0.3711 with % within 0.25 32.5 and % within 0.5 75.0 for n = 25 with alpha = 0.00193 and l1 ratio =  1.0\n",
      "MAE = 0.36848 with % within 0.25 30.0 and % within 0.5 70.0 for n = 30 with alpha = 0.00191 and l1 ratio =  1.0\n",
      "MAE = 0.36912 with % within 0.25 30.0 and % within 0.5 72.5 for n = 35 with alpha = 0.00194 and l1 ratio =  1.0\n",
      "50\n",
      "MAE = 0.38062 with % within 0.25 35.0 and % within 0.5 70.0 for n = 5 with alpha = 0.00493 and l1 ratio =  0.5\n",
      "MAE = 0.37358 with % within 0.25 35.0 and % within 0.5 75.0 for n = 10 with alpha = 0.00243 and l1 ratio =  1.0\n",
      "MAE = 0.373 with % within 0.25 35.0 and % within 0.5 70.0 for n = 15 with alpha = 0.00241 and l1 ratio =  1.0\n",
      "MAE = 0.3644 with % within 0.25 32.5 and % within 0.5 75.0 for n = 20 with alpha = 0.00221 and l1 ratio =  1.0\n",
      "MAE = 0.36853 with % within 0.25 32.5 and % within 0.5 70.0 for n = 25 with alpha = 0.00191 and l1 ratio =  1.0\n",
      "MAE = 0.36853 with % within 0.25 30.0 and % within 0.5 72.5 for n = 30 with alpha = 0.00198 and l1 ratio =  1.0\n",
      "MAE = 0.36807 with % within 0.25 32.5 and % within 0.5 70.0 for n = 35 with alpha = 0.00184 and l1 ratio =  1.0\n",
      "100\n",
      "MAE = 0.38659 with % within 0.25 35.0 and % within 0.5 72.5 for n = 5 with alpha = 0.00301 and l1 ratio =  1.0\n",
      "MAE = 0.3742 with % within 0.25 35.0 and % within 0.5 75.0 for n = 10 with alpha = 0.00235 and l1 ratio =  1.0\n",
      "MAE = 0.38463 with % within 0.25 32.5 and % within 0.5 70.0 for n = 15 with alpha = 0.00287 and l1 ratio =  1.0\n",
      "MAE = 0.37067 with % within 0.25 35.0 and % within 0.5 75.0 for n = 20 with alpha = 0.00191 and l1 ratio =  1.0\n",
      "MAE = 0.3689 with % within 0.25 32.5 and % within 0.5 72.5 for n = 25 with alpha = 0.00199 and l1 ratio =  1.0\n",
      "MAE = 0.36844 with % within 0.25 30.0 and % within 0.5 72.5 for n = 30 with alpha = 0.00192 and l1 ratio =  1.0\n",
      "MAE = 0.36742 with % within 0.25 35.0 and % within 0.5 70.0 for n = 35 with alpha = 0.00183 and l1 ratio =  1.0\n",
      "250\n",
      "MAE = 0.37182 with % within 0.25 32.5 and % within 0.5 77.5 for n = 5 with alpha = 0.00262 and l1 ratio =  1.0\n",
      "MAE = 0.37213 with % within 0.25 35.0 and % within 0.5 70.0 for n = 10 with alpha = 0.00249 and l1 ratio =  1.0\n",
      "MAE = 0.36386 with % within 0.25 32.5 and % within 0.5 75.0 for n = 15 with alpha = 0.00225 and l1 ratio =  1.0\n",
      "MAE = 0.36834 with % within 0.25 30.0 and % within 0.5 70.0 for n = 20 with alpha = 0.00193 and l1 ratio =  1.0\n",
      "MAE = 0.36928 with % within 0.25 32.5 and % within 0.5 72.5 for n = 25 with alpha = 0.00195 and l1 ratio =  1.0\n",
      "MAE = 0.36837 with % within 0.25 32.5 and % within 0.5 70.0 for n = 30 with alpha = 0.00182 and l1 ratio =  1.0\n",
      "MAE = 0.36727 with % within 0.25 35.0 and % within 0.5 70.0 for n = 35 with alpha = 0.00183 and l1 ratio =  1.0\n",
      "500\n",
      "MAE = 0.37119 with % within 0.25 35.0 and % within 0.5 77.5 for n = 5 with alpha = 0.0026 and l1 ratio =  1.0\n",
      "MAE = 0.39311 with % within 0.25 35.0 and % within 0.5 70.0 for n = 10 with alpha = 0.00284 and l1 ratio =  1.0\n",
      "MAE = 0.37043 with % within 0.25 30.0 and % within 0.5 70.0 for n = 15 with alpha = 0.00196 and l1 ratio =  1.0\n",
      "MAE = 0.36974 with % within 0.25 32.5 and % within 0.5 72.5 for n = 20 with alpha = 0.00194 and l1 ratio =  1.0\n",
      "MAE = 0.3672 with % within 0.25 35.0 and % within 0.5 70.0 for n = 25 with alpha = 0.0018 and l1 ratio =  1.0\n",
      "MAE = 0.36774 with % within 0.25 35.0 and % within 0.5 75.0 for n = 30 with alpha = 0.00179 and l1 ratio =  1.0\n",
      "MAE = 0.36688 with % within 0.25 35.0 and % within 0.5 75.0 for n = 35 with alpha = 0.00181 and l1 ratio =  1.0\n",
      "750\n",
      "MAE = 0.37176 with % within 0.25 32.5 and % within 0.5 77.5 for n = 5 with alpha = 0.00242 and l1 ratio =  1.0\n",
      "MAE = 0.37031 with % within 0.25 35.0 and % within 0.5 75.0 for n = 10 with alpha = 0.00191 and l1 ratio =  1.0\n",
      "MAE = 0.36773 with % within 0.25 30.0 and % within 0.5 72.5 for n = 15 with alpha = 0.00202 and l1 ratio =  1.0\n",
      "MAE = 0.36812 with % within 0.25 32.5 and % within 0.5 72.5 for n = 20 with alpha = 0.00177 and l1 ratio =  1.0\n",
      "MAE = 0.36789 with % within 0.25 35.0 and % within 0.5 75.0 for n = 25 with alpha = 0.00176 and l1 ratio =  1.0\n",
      "MAE = 0.36695 with % within 0.25 35.0 and % within 0.5 75.0 for n = 30 with alpha = 0.00178 and l1 ratio =  1.0\n",
      "MAE = 0.36844 with % within 0.25 35.0 and % within 0.5 72.5 for n = 35 with alpha = 0.00165 and l1 ratio =  1.0\n",
      "1000\n",
      "MAE = 0.37048 with % within 0.25 35.0 and % within 0.5 77.5 for n = 5 with alpha = 0.00255 and l1 ratio =  1.0\n",
      "MAE = 0.36944 with % within 0.25 32.5 and % within 0.5 72.5 for n = 10 with alpha = 0.00188 and l1 ratio =  1.0\n",
      "MAE = 0.36789 with % within 0.25 32.5 and % within 0.5 72.5 for n = 15 with alpha = 0.00189 and l1 ratio =  1.0\n",
      "MAE = 0.36784 with % within 0.25 35.0 and % within 0.5 70.0 for n = 20 with alpha = 0.00173 and l1 ratio =  1.0\n",
      "MAE = 0.36656 with % within 0.25 35.0 and % within 0.5 75.0 for n = 25 with alpha = 0.00168 and l1 ratio =  1.0\n",
      "MAE = 0.36824 with % within 0.25 35.0 and % within 0.5 75.0 for n = 30 with alpha = 0.00155 and l1 ratio =  1.0\n",
      "MAE = 0.37116 with % within 0.25 35.0 and % within 0.5 75.0 for n = 35 with alpha = 0.00142 and l1 ratio =  1.0\n",
      "CPU times: user 15min 7s, sys: 5min 16s, total: 20min 24s\n",
      "Wall time: 13min 3s\n"
     ]
    }
   ],
   "source": [
    "%%time\n",
    "\n",
    "mae_list = []\n",
    "quarter_abs_error_list = []\n",
    "half_abs_error_list = []\n",
    "    \n",
    "\n",
    "for min_ppu in min_ppu_list:\n",
    "    \n",
    "    print(min_ppu)\n",
    "    \n",
    "    user_indices = df.username.value_counts()[df.username.value_counts() > min_ppu].index\n",
    "    sub_df = df[df['username'].isin(user_indices)]\n",
    "    n_users_list = [n_users for n_users in n_users_list if n_users < len(user_indices)]\n",
    "\n",
    "    for top_n in n_users_list:\n",
    "        \n",
    "        # split data \n",
    "        top_n_nn = list(sub_df['nearest_neighbor_rank'].unique())[:top_n]\n",
    "        df_top_n = df[df['nearest_neighbor_rank'].isin(top_n_nn)]\n",
    "        X_train = df_top_n[features]\n",
    "        y_train = df_top_n[target]\n",
    "\n",
    "        X_test = df[df['username'] == user_of_reference][features]\n",
    "        y_test = df[df['username'] == user_of_reference][target]\n",
    "\n",
    "        # train\n",
    "        from sklearn.linear_model import ElasticNetCV\n",
    "        model = ElasticNetCV(fit_intercept=True, normalize=False, l1_ratio=l1_ratio_space, cv=5, random_state=rand_state)\n",
    "        model.fit(X_train, y_train)\n",
    "\n",
    "        # Evaluate model on user's data \n",
    "        preds = model.predict(X_test)\n",
    "\n",
    "        # unscale\n",
    "        preds_unscaled = preds\n",
    "        y_test_unscaled = y_test\n",
    "\n",
    "        # evaluate results\n",
    "        results_df = pd.DataFrame([preds_unscaled, y_test_unscaled]).transpose()\n",
    "        results_df.columns = ['predicted', 'actual']\n",
    "        results_df['error'] = results_df['predicted'] - results_df['actual']\n",
    "        results_df['abs_error'] = abs(results_df['error'])\n",
    "\n",
    "        # Performance Metrics \n",
    "        mae = np.mean(results_df['abs_error'])\n",
    "\n",
    "        quarter_abs_error_list.append(100*len(results_df[results_df['abs_error']<=0.25])/len(results_df))\n",
    "        half_abs_error_list.append(100*len(results_df[results_df['abs_error']<=0.50])/len(results_df))\n",
    "        mae_list.append(mae)\n",
    "\n",
    "        print('MAE =', np.round(mae,5), \n",
    "              'with % within 0.25', 100*len(results_df[results_df['abs_error']<=0.25])/len(results_df), \n",
    "              'and % within 0.5', 100*len(results_df[results_df['abs_error']<=0.50])/len(results_df),\n",
    "              \"for n =\", top_n, \"with alpha =\", np.round(model.alpha_, 5), \"and l1 ratio = \", model.l1_ratio_)\n",
    "    \n",
    "    # add breaks\n",
    "    quarter_abs_error_list.append(0)\n",
    "    half_abs_error_list.append(0)\n",
    "    mae_list.append(0)"
   ]
  },
  {
   "cell_type": "code",
   "execution_count": 40,
   "metadata": {},
   "outputs": [],
   "source": [
    "# ls = mae_list\n",
    "\n",
    "# size = len(ls) \n",
    "# idx_list = [idx + 1 for idx, val in enumerate(ls) if val == 0] \n",
    "# ys = [ls[i: j] for i, j in\n",
    "#         zip([0] + idx_list, idx_list + \n",
    "#         ([size] if idx_list[-1] != size else []))] \n",
    "\n",
    "# for i, y in enumerate(ys):\n",
    "#     y = y[:-1]\n",
    "#     ys[i] = y\n",
    "\n",
    "# import matplotlib.cm as cm\n",
    "# colors = cm.rainbow(np.linspace(0, 1, len(ys)))\n",
    "\n",
    "# plt.figure(figsize=[15,10])\n",
    "# plt.title(\"ENet with Nearest Neighbors and Min_PPU\")\n",
    "# plt.xlabel(\"N Nearest Neighbors\")\n",
    "# plt.ylabel(\"MAE\")\n",
    "\n",
    "# i = 0\n",
    "# for y, c in zip(ys, colors):\n",
    "#     x = np.linspace(5, 5*len(y), len(y))\n",
    "# #     if i == 0:\n",
    "# #         x = [5, 10, 15, 20, 25, 30, 35, 40, 45, 50, 55, 60, 65, 70, 75, 80, 85, 100, len(df['username'].unique())-1]\n",
    "# #     else:\n",
    "#     x = np.linspace(5, 5*len(y), len(y))\n",
    "#     plt.scatter(x, y, color=c, label=\"Min PPU = \" + str(min_ppu_list[i]))\n",
    "#     i += 1\n",
    "\n",
    "# plt.legend(bbox_to_anchor=(1.05, 1), loc=2, borderaxespad=0.)\n",
    "# plt.show()"
   ]
  },
  {
   "cell_type": "code",
   "execution_count": null,
   "metadata": {},
   "outputs": [],
   "source": [
    "## fit intercept, normalize"
   ]
  },
  {
   "cell_type": "code",
   "execution_count": 34,
   "metadata": {},
   "outputs": [
    {
     "name": "stdout",
     "output_type": "stream",
     "text": [
      "0\n",
      "MAE = 0.35877 with % within 0.25 40.0 and % within 0.5 72.5 for n = 5 with alpha = 0.00067 and l1 ratio =  0.7\n",
      "MAE = 0.36827 with % within 0.25 35.0 and % within 0.5 75.0 for n = 10 with alpha = 8e-05 and l1 ratio =  0.7\n",
      "MAE = 0.37519 with % within 0.25 37.5 and % within 0.5 75.0 for n = 15 with alpha = 5e-05 and l1 ratio =  0.7\n",
      "MAE = 0.3789 with % within 0.25 32.5 and % within 0.5 70.0 for n = 20 with alpha = 4e-05 and l1 ratio =  0.5\n",
      "MAE = 0.37037 with % within 0.25 35.0 and % within 0.5 72.5 for n = 25 with alpha = 2e-05 and l1 ratio =  0.1\n",
      "MAE = 0.37002 with % within 0.25 35.0 and % within 0.5 75.0 for n = 30 with alpha = 2e-05 and l1 ratio =  0.7\n",
      "MAE = 0.36652 with % within 0.25 37.5 and % within 0.5 75.0 for n = 35 with alpha = 2e-05 and l1 ratio =  0.7\n",
      "50\n",
      "MAE = 0.36911 with % within 0.25 40.0 and % within 0.5 70.0 for n = 5 with alpha = 0.00051 and l1 ratio =  0.7\n",
      "MAE = 0.37127 with % within 0.25 35.0 and % within 0.5 80.0 for n = 10 with alpha = 8e-05 and l1 ratio =  0.5\n",
      "MAE = 0.37159 with % within 0.25 37.5 and % within 0.5 75.0 for n = 15 with alpha = 5e-05 and l1 ratio =  0.5\n",
      "MAE = 0.36179 with % within 0.25 35.0 and % within 0.5 72.5 for n = 20 with alpha = 3e-05 and l1 ratio =  0.7\n",
      "MAE = 0.37225 with % within 0.25 37.5 and % within 0.5 75.0 for n = 25 with alpha = 2e-05 and l1 ratio =  0.7\n",
      "MAE = 0.36667 with % within 0.25 37.5 and % within 0.5 75.0 for n = 30 with alpha = 2e-05 and l1 ratio =  0.7\n",
      "MAE = 0.36739 with % within 0.25 40.0 and % within 0.5 75.0 for n = 35 with alpha = 1e-05 and l1 ratio =  0.7\n",
      "100\n",
      "MAE = 0.39555 with % within 0.25 32.5 and % within 0.5 72.5 for n = 5 with alpha = 0.00021 and l1 ratio =  0.7\n",
      "MAE = 0.37316 with % within 0.25 37.5 and % within 0.5 80.0 for n = 10 with alpha = 6e-05 and l1 ratio =  0.5\n",
      "MAE = 0.38507 with % within 0.25 32.5 and % within 0.5 72.5 for n = 15 with alpha = 4e-05 and l1 ratio =  0.7\n",
      "MAE = 0.36858 with % within 0.25 35.0 and % within 0.5 72.5 for n = 20 with alpha = 2e-05 and l1 ratio =  0.1\n",
      "MAE = 0.36674 with % within 0.25 42.5 and % within 0.5 75.0 for n = 25 with alpha = 2e-05 and l1 ratio =  0.7\n",
      "MAE = 0.36508 with % within 0.25 37.5 and % within 0.5 75.0 for n = 30 with alpha = 2e-05 and l1 ratio =  0.7\n",
      "MAE = 0.3624 with % within 0.25 37.5 and % within 0.5 75.0 for n = 35 with alpha = 1e-05 and l1 ratio =  0.7\n",
      "250\n",
      "MAE = 0.37199 with % within 0.25 35.0 and % within 0.5 75.0 for n = 5 with alpha = 8e-05 and l1 ratio =  0.7\n",
      "MAE = 0.37201 with % within 0.25 37.5 and % within 0.5 75.0 for n = 10 with alpha = 5e-05 and l1 ratio =  0.5\n",
      "MAE = 0.36464 with % within 0.25 35.0 and % within 0.5 75.0 for n = 15 with alpha = 3e-05 and l1 ratio =  0.7\n",
      "MAE = 0.37246 with % within 0.25 35.0 and % within 0.5 75.0 for n = 20 with alpha = 2e-05 and l1 ratio =  0.7\n",
      "MAE = 0.36863 with % within 0.25 37.5 and % within 0.5 75.0 for n = 25 with alpha = 2e-05 and l1 ratio =  0.7\n",
      "MAE = 0.36582 with % within 0.25 37.5 and % within 0.5 72.5 for n = 30 with alpha = 1e-05 and l1 ratio =  0.5\n",
      "MAE = 0.36368 with % within 0.25 37.5 and % within 0.5 75.0 for n = 35 with alpha = 1e-05 and l1 ratio =  0.7\n",
      "500\n",
      "MAE = 0.37291 with % within 0.25 35.0 and % within 0.5 75.0 for n = 5 with alpha = 8e-05 and l1 ratio =  0.7\n",
      "MAE = 0.39623 with % within 0.25 32.5 and % within 0.5 72.5 for n = 10 with alpha = 5e-05 and l1 ratio =  0.9\n",
      "MAE = 0.37618 with % within 0.25 37.5 and % within 0.5 72.5 for n = 15 with alpha = 2e-05 and l1 ratio =  0.7\n",
      "MAE = 0.37152 with % within 0.25 37.5 and % within 0.5 75.0 for n = 20 with alpha = 2e-05 and l1 ratio =  0.7\n",
      "MAE = 0.36565 with % within 0.25 37.5 and % within 0.5 75.0 for n = 25 with alpha = 1e-05 and l1 ratio =  0.7\n",
      "MAE = 0.36669 with % within 0.25 37.5 and % within 0.5 75.0 for n = 30 with alpha = 1e-05 and l1 ratio =  0.7\n",
      "MAE = 0.3661 with % within 0.25 37.5 and % within 0.5 75.0 for n = 35 with alpha = 1e-05 and l1 ratio =  0.7\n",
      "750\n",
      "MAE = 0.36936 with % within 0.25 32.5 and % within 0.5 80.0 for n = 5 with alpha = 9e-05 and l1 ratio =  0.5\n",
      "MAE = 0.37372 with % within 0.25 35.0 and % within 0.5 72.5 for n = 10 with alpha = 3e-05 and l1 ratio =  0.5\n",
      "MAE = 0.37128 with % within 0.25 40.0 and % within 0.5 75.0 for n = 15 with alpha = 2e-05 and l1 ratio =  0.5\n",
      "MAE = 0.37043 with % within 0.25 37.5 and % within 0.5 75.0 for n = 20 with alpha = 1e-05 and l1 ratio =  0.7\n",
      "MAE = 0.36788 with % within 0.25 37.5 and % within 0.5 72.5 for n = 25 with alpha = 1e-05 and l1 ratio =  0.7\n",
      "MAE = 0.3675 with % within 0.25 37.5 and % within 0.5 72.5 for n = 30 with alpha = 1e-05 and l1 ratio =  0.7\n",
      "MAE = 0.37025 with % within 0.25 37.5 and % within 0.5 72.5 for n = 35 with alpha = 1e-05 and l1 ratio =  1.0\n",
      "1000\n",
      "MAE = 0.36597 with % within 0.25 35.0 and % within 0.5 80.0 for n = 5 with alpha = 5e-05 and l1 ratio =  0.1\n",
      "MAE = 0.37571 with % within 0.25 37.5 and % within 0.5 72.5 for n = 10 with alpha = 4e-05 and l1 ratio =  0.9\n",
      "MAE = 0.37221 with % within 0.25 37.5 and % within 0.5 72.5 for n = 15 with alpha = 2e-05 and l1 ratio =  0.7\n",
      "MAE = 0.36839 with % within 0.25 35.0 and % within 0.5 72.5 for n = 20 with alpha = 1e-05 and l1 ratio =  0.7\n",
      "MAE = 0.36862 with % within 0.25 35.0 and % within 0.5 72.5 for n = 25 with alpha = 1e-05 and l1 ratio =  0.7\n",
      "MAE = 0.37105 with % within 0.25 35.0 and % within 0.5 72.5 for n = 30 with alpha = 1e-05 and l1 ratio =  1.0\n",
      "MAE = 0.36765 with % within 0.25 40.0 and % within 0.5 75.0 for n = 35 with alpha = 0.0 and l1 ratio =  0.7\n",
      "CPU times: user 16min 49s, sys: 5min 39s, total: 22min 29s\n",
      "Wall time: 14min 28s\n"
     ]
    }
   ],
   "source": [
    "%%time\n",
    "\n",
    "mae_list = []\n",
    "quarter_abs_error_list = []\n",
    "half_abs_error_list = []\n",
    "    \n",
    "\n",
    "for min_ppu in min_ppu_list:\n",
    "    \n",
    "    print(min_ppu)\n",
    "    \n",
    "    user_indices = df.username.value_counts()[df.username.value_counts() > min_ppu].index\n",
    "    sub_df = df[df['username'].isin(user_indices)]\n",
    "    n_users_list = [n_users for n_users in n_users_list if n_users < len(user_indices)]\n",
    "\n",
    "    for top_n in n_users_list:\n",
    "        \n",
    "        # split data \n",
    "        top_n_nn = list(sub_df['nearest_neighbor_rank'].unique())[:top_n]\n",
    "        df_top_n = df[df['nearest_neighbor_rank'].isin(top_n_nn)]\n",
    "        X_train = df_top_n[features]\n",
    "        y_train = df_top_n[target]\n",
    "\n",
    "        X_test = df[df['username'] == user_of_reference][features]\n",
    "        y_test = df[df['username'] == user_of_reference][target]\n",
    "\n",
    "        # train\n",
    "        from sklearn.linear_model import ElasticNetCV\n",
    "        model = ElasticNetCV(fit_intercept=True, normalize=True, l1_ratio=l1_ratio_space, cv=5, random_state=rand_state)\n",
    "        model.fit(X_train, y_train)\n",
    "\n",
    "        # Evaluate model on user's data \n",
    "        preds = model.predict(X_test)\n",
    "\n",
    "        # unscale\n",
    "        preds_unscaled = preds\n",
    "        y_test_unscaled = y_test\n",
    "\n",
    "        # evaluate results\n",
    "        results_df = pd.DataFrame([preds_unscaled, y_test_unscaled]).transpose()\n",
    "        results_df.columns = ['predicted', 'actual']\n",
    "        results_df['error'] = results_df['predicted'] - results_df['actual']\n",
    "        results_df['abs_error'] = abs(results_df['error'])\n",
    "\n",
    "        # Performance Metrics \n",
    "        mae = np.mean(results_df['abs_error'])\n",
    "\n",
    "        quarter_abs_error_list.append(100*len(results_df[results_df['abs_error']<=0.25])/len(results_df))\n",
    "        half_abs_error_list.append(100*len(results_df[results_df['abs_error']<=0.50])/len(results_df))\n",
    "        mae_list.append(mae)\n",
    "\n",
    "        print('MAE =', np.round(mae,5), \n",
    "              'with % within 0.25', 100*len(results_df[results_df['abs_error']<=0.25])/len(results_df), \n",
    "              'and % within 0.5', 100*len(results_df[results_df['abs_error']<=0.50])/len(results_df),\n",
    "              \"for n =\", top_n, \"with alpha =\", np.round(model.alpha_, 5), \"and l1 ratio = \", model.l1_ratio_)\n",
    "    \n",
    "    # add breaks\n",
    "    quarter_abs_error_list.append(0)\n",
    "    half_abs_error_list.append(0)\n",
    "    mae_list.append(0)"
   ]
  },
  {
   "cell_type": "code",
   "execution_count": 37,
   "metadata": {},
   "outputs": [
    {
     "data": {
      "image/png": "[encoded data removed]",
      "text/plain": [
       "<Figure size 1080x720 with 1 Axes>"
      ]
     },
     "metadata": {
      "needs_background": "light"
     },
     "output_type": "display_data"
    }
   ],
   "source": [
    "ls = mae_list\n",
    "\n",
    "size = len(ls) \n",
    "idx_list = [idx + 1 for idx, val in enumerate(ls) if val == 0] \n",
    "ys = [ls[i: j] for i, j in\n",
    "        zip([0] + idx_list, idx_list + \n",
    "        ([size] if idx_list[-1] != size else []))] \n",
    "\n",
    "for i, y in enumerate(ys):\n",
    "    y = y[:-1]\n",
    "    ys[i] = y\n",
    "\n",
    "import matplotlib.cm as cm\n",
    "colors = cm.rainbow(np.linspace(0, 1, len(ys)))\n",
    "\n",
    "plt.figure(figsize=[15,10])\n",
    "plt.title(\"ENet with Nearest Neighbors and Min_PPU\")\n",
    "plt.xlabel(\"N Nearest Neighbors\")\n",
    "plt.ylabel(\"MAE\")\n",
    "\n",
    "i = 0\n",
    "for y, c in zip(ys, colors):\n",
    "    x = np.linspace(5, 5*len(y), len(y))\n",
    "#     if i == 0:\n",
    "#         x = [5, 10, 15, 20, 25, 30, 35, 40, 45, 50, 55, 60, 65, 70, 75, 80, 85, 100, len(df['username'].unique())-1]\n",
    "  \n",
    "    x = np.linspace(5, 5*len(y), len(y))\n",
    "    plt.scatter(x, y, color=c, label=\"Min PPU = \" + str(min_ppu_list[i]))\n",
    "    i += 1\n",
    "\n",
    "plt.legend(bbox_to_anchor=(1.05, 1), loc=2, borderaxespad=0.)\n",
    "plt.show()"
   ]
  },
  {
   "cell_type": "code",
   "execution_count": null,
   "metadata": {},
   "outputs": [],
   "source": []
  },
  {
   "cell_type": "code",
   "execution_count": null,
   "metadata": {},
   "outputs": [],
   "source": []
  },
  {
   "cell_type": "code",
   "execution_count": null,
   "metadata": {},
   "outputs": [],
   "source": []
  },
  {
   "cell_type": "code",
   "execution_count": null,
   "metadata": {},
   "outputs": [],
   "source": []
  },
  {
   "cell_type": "markdown",
   "metadata": {},
   "source": [
    "#### Set Up Estimators and Grids"
   ]
  },
  {
   "cell_type": "code",
   "execution_count": null,
   "metadata": {},
   "outputs": [],
   "source": [
    "# empty estimator dictionary\n",
    "estimator_dict = {}\n",
    "\n",
    "\n",
    "# import GridSearchCV and desired estimators\n",
    "from sklearn.model_selection import GridSearchCV\n",
    "from sklearn.linear_model import LinearRegression, Lasso, ElasticNet\n",
    "from sklearn.svm import SVR\n",
    "\n",
    "\n",
    "# create models and grids \n",
    "estimator = Lasso()\n",
    "grid = {\n",
    "    'fit_intercept': [False],\n",
    "    'normalize': [False]\n",
    "}\n",
    "estimator_dict['elasticnet'] = {'estimator':estimator, 'grid':grid}\n",
    "\n",
    "\n",
    "estimator = ElasticNet()\n",
    "grid = {\n",
    "    'fit_intercept': [False],\n",
    "    'normalize': [False]\n",
    "}\n",
    "estimator_dict['elasticnet'] = {'estimator':estimator, 'grid':grid}\n",
    "\n",
    "\n",
    "# estimator = SVR()\n",
    "# grid = {\n",
    "#     'epsilon': np.linspace(0.25/2, 0.5, 10),\n",
    "#     'C': np.linspace(1.0, 10, 10),\n",
    "#     'fit_intercept': [True, False],\n",
    "#     'max_iter': [10000]\n",
    "# }\n",
    "\n",
    "estimator_dict['linearsvr'] = {'estimator':estimator, 'grid':grid}"
   ]
  },
  {
   "cell_type": "markdown",
   "metadata": {},
   "source": [
    "####  Set Scoring Metric"
   ]
  },
  {
   "cell_type": "code",
   "execution_count": null,
   "metadata": {},
   "outputs": [],
   "source": [
    "scoring = 'neg_mean_absolute_error'"
   ]
  },
  {
   "cell_type": "markdown",
   "metadata": {},
   "source": [
    "#### Train/Test Function"
   ]
  },
  {
   "cell_type": "code",
   "execution_count": null,
   "metadata": {},
   "outputs": [],
   "source": [
    "def multiple_gridsearchCV(estimator_dict, X_train, y_train):\n",
    "    \n",
    "    # grid search for each estimator, store best params and scores for each estimator\n",
    "    for key in estimator_dict.keys():\n",
    "        \n",
    "        # build gridsearchcv\n",
    "        gridsearchcv = GridSearchCV(estimator = estimator_dict[key]['estimator'], \n",
    "                                    param_grid = estimator_dict[key]['grid'],\n",
    "                                    cv=3, scoring=scoring, return_train_score=True, iid=True)\n",
    "\n",
    "        # silence SVR convergence warnings \n",
    "        import warnings\n",
    "        warnings.filterwarnings('ignore', 'Liblinear failed to converge,*')\n",
    "\n",
    "        # fit gridsearchcv\n",
    "        gridsearchcv.fit(X_train, y_train)\n",
    "\n",
    "        # gather results \n",
    "        estimator_dict[key]['nearest_neighbors'] = 'ALL'\n",
    "        estimator_dict[key]['n_training_points'] = len(X_train)\n",
    "        estimator_dict[key]['best_params'] = gridsearchcv.best_params_\n",
    "        estimator_dict[key][scoring] = gridsearchcv.best_score_\n",
    "        estimator_dict[key]['stdev'] = gridsearchcv.cv_results_['std_test_score'][gridsearchcv.best_index_]\n",
    "        \n",
    "        results_dict = estimator_dict\n",
    "\n",
    "    return(results_dict)"
   ]
  }
 ],
 "metadata": {
  "kernelspec": {
   "display_name": "ml_guild",
   "language": "python",
   "name": "ml_guild"
  },
  "language_info": {
   "codemirror_mode": {
    "name": "ipython",
    "version": 3
   },
   "file_extension": ".py",
   "mimetype": "text/x-python",
   "name": "python",
   "nbconvert_exporter": "python",
   "pygments_lexer": "ipython3",
   "version": "3.7.3"
  }
 },
 "nbformat": 4,
 "nbformat_minor": 2
}
