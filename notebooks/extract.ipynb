{
 "cells": [
  {
   "cell_type": "code",
   "execution_count": 1,
   "metadata": {},
   "outputs": [],
   "source": [
    "import json\n",
    "from selenium import webdriver\n",
    "import sqlite3\n",
    "import pandas as pd\n",
    "\n",
    "with open('../_gitignore/env_keys.json') as infile:\n",
    "    env_variables = json.load(infile)"
   ]
  },
  {
   "cell_type": "code",
   "execution_count": 2,
   "metadata": {},
   "outputs": [],
   "source": [
    "db_path = '../_gitignore/beer.db'"
   ]
  },
  {
   "cell_type": "code",
   "execution_count": 3,
   "metadata": {},
   "outputs": [],
   "source": [
    "conn = sqlite3.connect(db_path)\n",
    "query = 'SELECT * FROM user_extract'\n",
    "df = pd.read_sql(query,conn)"
   ]
  },
  {
   "cell_type": "code",
   "execution_count": 4,
   "metadata": {},
   "outputs": [
    {
     "data": {
      "text/html": [
       "<div>\n",
       "<style scoped>\n",
       "    .dataframe tbody tr th:only-of-type {\n",
       "        vertical-align: middle;\n",
       "    }\n",
       "\n",
       "    .dataframe tbody tr th {\n",
       "        vertical-align: top;\n",
       "    }\n",
       "\n",
       "    .dataframe thead th {\n",
       "        text-align: right;\n",
       "    }\n",
       "</style>\n",
       "<table border=\"1\" class=\"dataframe\">\n",
       "  <thead>\n",
       "    <tr style=\"text-align: right;\">\n",
       "      <th></th>\n",
       "      <th>username</th>\n",
       "      <th>beer_name</th>\n",
       "      <th>beer_description</th>\n",
       "      <th>brewery</th>\n",
       "      <th>ABV</th>\n",
       "      <th>IBU</th>\n",
       "      <th>global_rating</th>\n",
       "      <th>user_rating</th>\n",
       "      <th>first_date</th>\n",
       "      <th>recent_date</th>\n",
       "      <th>total</th>\n",
       "    </tr>\n",
       "  </thead>\n",
       "  <tbody>\n",
       "    <tr>\n",
       "      <th>0</th>\n",
       "      <td>tnt</td>\n",
       "      <td>Society &amp; Solitude #7</td>\n",
       "      <td>IPA - Imperial / Double</td>\n",
       "      <td>Hill Farmstead Brewery</td>\n",
       "      <td>8.0</td>\n",
       "      <td>None</td>\n",
       "      <td>4.38</td>\n",
       "      <td>4.25</td>\n",
       "      <td>06/17/19</td>\n",
       "      <td>06/17/19</td>\n",
       "      <td>1</td>\n",
       "    </tr>\n",
       "    <tr>\n",
       "      <th>1</th>\n",
       "      <td>tnt</td>\n",
       "      <td>Riwaka Single Hop Pale Ale</td>\n",
       "      <td>Pale Ale - American</td>\n",
       "      <td>Hill Farmstead Brewery</td>\n",
       "      <td>5.2</td>\n",
       "      <td>None</td>\n",
       "      <td>4.14</td>\n",
       "      <td>5.00</td>\n",
       "      <td>06/17/19</td>\n",
       "      <td>06/17/19</td>\n",
       "      <td>1</td>\n",
       "    </tr>\n",
       "    <tr>\n",
       "      <th>2</th>\n",
       "      <td>tnt</td>\n",
       "      <td>Walk, Don't Run</td>\n",
       "      <td>Blonde Ale</td>\n",
       "      <td>Suarez Family Brewery</td>\n",
       "      <td>3.7</td>\n",
       "      <td>None</td>\n",
       "      <td>4.10</td>\n",
       "      <td>4.50</td>\n",
       "      <td>06/17/19</td>\n",
       "      <td>06/17/19</td>\n",
       "      <td>1</td>\n",
       "    </tr>\n",
       "    <tr>\n",
       "      <th>3</th>\n",
       "      <td>tnt</td>\n",
       "      <td>Czech Two</td>\n",
       "      <td>Pilsner - Czech</td>\n",
       "      <td>Gravely Brewing Co</td>\n",
       "      <td>4.1</td>\n",
       "      <td>39</td>\n",
       "      <td>3.81</td>\n",
       "      <td>4.25</td>\n",
       "      <td>06/17/19</td>\n",
       "      <td>06/17/19</td>\n",
       "      <td>1</td>\n",
       "    </tr>\n",
       "    <tr>\n",
       "      <th>4</th>\n",
       "      <td>tnt</td>\n",
       "      <td>Spirit of Revolt</td>\n",
       "      <td>IPA - Imperial / Double</td>\n",
       "      <td>Revolution Brewing Company</td>\n",
       "      <td>8.2</td>\n",
       "      <td>52</td>\n",
       "      <td>3.82</td>\n",
       "      <td>4.00</td>\n",
       "      <td>06/08/19</td>\n",
       "      <td>06/08/19</td>\n",
       "      <td>1</td>\n",
       "    </tr>\n",
       "  </tbody>\n",
       "</table>\n",
       "</div>"
      ],
      "text/plain": [
       "  username                   beer_name         beer_description  \\\n",
       "0      tnt       Society & Solitude #7  IPA - Imperial / Double   \n",
       "1      tnt  Riwaka Single Hop Pale Ale      Pale Ale - American   \n",
       "2      tnt             Walk, Don't Run               Blonde Ale   \n",
       "3      tnt                   Czech Two          Pilsner - Czech   \n",
       "4      tnt            Spirit of Revolt  IPA - Imperial / Double   \n",
       "\n",
       "                      brewery  ABV   IBU  global_rating  user_rating  \\\n",
       "0      Hill Farmstead Brewery  8.0  None           4.38         4.25   \n",
       "1      Hill Farmstead Brewery  5.2  None           4.14         5.00   \n",
       "2       Suarez Family Brewery  3.7  None           4.10         4.50   \n",
       "3          Gravely Brewing Co  4.1    39           3.81         4.25   \n",
       "4  Revolution Brewing Company  8.2    52           3.82         4.00   \n",
       "\n",
       "  first_date recent_date  total  \n",
       "0   06/17/19    06/17/19      1  \n",
       "1   06/17/19    06/17/19      1  \n",
       "2   06/17/19    06/17/19      1  \n",
       "3   06/17/19    06/17/19      1  \n",
       "4   06/08/19    06/08/19      1  "
      ]
     },
     "execution_count": 4,
     "metadata": {},
     "output_type": "execute_result"
    }
   ],
   "source": [
    "df.head()"
   ]
  },
  {
   "cell_type": "markdown",
   "metadata": {},
   "source": [
    "## Select User with Most Check-Ins"
   ]
  },
  {
   "cell_type": "code",
   "execution_count": 5,
   "metadata": {},
   "outputs": [],
   "source": [
    "top_checkins = df.groupby('username').count()['total'].reset_index().sort_values('total', ascending=False)"
   ]
  },
  {
   "cell_type": "code",
   "execution_count": 6,
   "metadata": {},
   "outputs": [
    {
     "data": {
      "text/html": [
       "<div>\n",
       "<style scoped>\n",
       "    .dataframe tbody tr th:only-of-type {\n",
       "        vertical-align: middle;\n",
       "    }\n",
       "\n",
       "    .dataframe tbody tr th {\n",
       "        vertical-align: top;\n",
       "    }\n",
       "\n",
       "    .dataframe thead th {\n",
       "        text-align: right;\n",
       "    }\n",
       "</style>\n",
       "<table border=\"1\" class=\"dataframe\">\n",
       "  <thead>\n",
       "    <tr style=\"text-align: right;\">\n",
       "      <th></th>\n",
       "      <th>username</th>\n",
       "      <th>total</th>\n",
       "    </tr>\n",
       "  </thead>\n",
       "  <tbody>\n",
       "    <tr>\n",
       "      <th>14</th>\n",
       "      <td>Nitro13</td>\n",
       "      <td>3400</td>\n",
       "    </tr>\n",
       "    <tr>\n",
       "      <th>18</th>\n",
       "      <td>RudyCptn93</td>\n",
       "      <td>2575</td>\n",
       "    </tr>\n",
       "    <tr>\n",
       "      <th>6</th>\n",
       "      <td>JustinX03</td>\n",
       "      <td>2325</td>\n",
       "    </tr>\n",
       "    <tr>\n",
       "      <th>19</th>\n",
       "      <td>SestervikensBryggeri_Lars</td>\n",
       "      <td>1874</td>\n",
       "    </tr>\n",
       "    <tr>\n",
       "      <th>37</th>\n",
       "      <td>marcusSRG</td>\n",
       "      <td>1750</td>\n",
       "    </tr>\n",
       "  </tbody>\n",
       "</table>\n",
       "</div>"
      ],
      "text/plain": [
       "                     username  total\n",
       "14                    Nitro13   3400\n",
       "18                 RudyCptn93   2575\n",
       "6                   JustinX03   2325\n",
       "19  SestervikensBryggeri_Lars   1874\n",
       "37                  marcusSRG   1750"
      ]
     },
     "execution_count": 6,
     "metadata": {},
     "output_type": "execute_result"
    }
   ],
   "source": [
    "top_checkins.head()"
   ]
  },
  {
   "cell_type": "code",
   "execution_count": 7,
   "metadata": {},
   "outputs": [
    {
     "data": {
      "text/html": [
       "<div>\n",
       "<style scoped>\n",
       "    .dataframe tbody tr th:only-of-type {\n",
       "        vertical-align: middle;\n",
       "    }\n",
       "\n",
       "    .dataframe tbody tr th {\n",
       "        vertical-align: top;\n",
       "    }\n",
       "\n",
       "    .dataframe thead th {\n",
       "        text-align: right;\n",
       "    }\n",
       "</style>\n",
       "<table border=\"1\" class=\"dataframe\">\n",
       "  <thead>\n",
       "    <tr style=\"text-align: right;\">\n",
       "      <th></th>\n",
       "      <th>username</th>\n",
       "      <th>beer_name</th>\n",
       "      <th>beer_description</th>\n",
       "      <th>brewery</th>\n",
       "      <th>ABV</th>\n",
       "      <th>IBU</th>\n",
       "      <th>global_rating</th>\n",
       "      <th>user_rating</th>\n",
       "      <th>first_date</th>\n",
       "      <th>recent_date</th>\n",
       "      <th>total</th>\n",
       "    </tr>\n",
       "  </thead>\n",
       "  <tbody>\n",
       "    <tr>\n",
       "      <th>18433</th>\n",
       "      <td>Nitro13</td>\n",
       "      <td>Humdinger</td>\n",
       "      <td>IPA - New England</td>\n",
       "      <td>Norbrook Farm Brewery</td>\n",
       "      <td>7.5</td>\n",
       "      <td>45</td>\n",
       "      <td>3.81</td>\n",
       "      <td>4.0</td>\n",
       "      <td>06/22/19</td>\n",
       "      <td>06/22/19</td>\n",
       "      <td>1</td>\n",
       "    </tr>\n",
       "    <tr>\n",
       "      <th>18434</th>\n",
       "      <td>Nitro13</td>\n",
       "      <td>Beckley Furnace Ale</td>\n",
       "      <td>Brown Ale - American</td>\n",
       "      <td>Norbrook Farm Brewery</td>\n",
       "      <td>6.0</td>\n",
       "      <td>20</td>\n",
       "      <td>3.79</td>\n",
       "      <td>4.0</td>\n",
       "      <td>06/22/19</td>\n",
       "      <td>06/22/19</td>\n",
       "      <td>1</td>\n",
       "    </tr>\n",
       "    <tr>\n",
       "      <th>18435</th>\n",
       "      <td>Nitro13</td>\n",
       "      <td>Bière De Fermes</td>\n",
       "      <td>Bière de Garde</td>\n",
       "      <td>Norbrook Farm Brewery</td>\n",
       "      <td>6.2</td>\n",
       "      <td>20</td>\n",
       "      <td>3.87</td>\n",
       "      <td>3.0</td>\n",
       "      <td>06/22/19</td>\n",
       "      <td>06/22/19</td>\n",
       "      <td>1</td>\n",
       "    </tr>\n",
       "    <tr>\n",
       "      <th>18436</th>\n",
       "      <td>Nitro13</td>\n",
       "      <td>Lucky Day</td>\n",
       "      <td>IPA - American</td>\n",
       "      <td>Norbrook Farm Brewery</td>\n",
       "      <td>7.0</td>\n",
       "      <td>42</td>\n",
       "      <td>3.65</td>\n",
       "      <td>3.5</td>\n",
       "      <td>06/22/19</td>\n",
       "      <td>06/22/19</td>\n",
       "      <td>1</td>\n",
       "    </tr>\n",
       "    <tr>\n",
       "      <th>18437</th>\n",
       "      <td>Nitro13</td>\n",
       "      <td>Cog Ale</td>\n",
       "      <td>Kölsch</td>\n",
       "      <td>Norbrook Farm Brewery</td>\n",
       "      <td>4.7</td>\n",
       "      <td>17</td>\n",
       "      <td>3.66</td>\n",
       "      <td>4.0</td>\n",
       "      <td>06/22/19</td>\n",
       "      <td>06/22/19</td>\n",
       "      <td>1</td>\n",
       "    </tr>\n",
       "  </tbody>\n",
       "</table>\n",
       "</div>"
      ],
      "text/plain": [
       "      username            beer_name      beer_description  \\\n",
       "18433  Nitro13            Humdinger     IPA - New England   \n",
       "18434  Nitro13  Beckley Furnace Ale  Brown Ale - American   \n",
       "18435  Nitro13      Bière De Fermes        Bière de Garde   \n",
       "18436  Nitro13            Lucky Day        IPA - American   \n",
       "18437  Nitro13              Cog Ale                Kölsch   \n",
       "\n",
       "                     brewery  ABV IBU  global_rating  user_rating first_date  \\\n",
       "18433  Norbrook Farm Brewery  7.5  45           3.81          4.0   06/22/19   \n",
       "18434  Norbrook Farm Brewery  6.0  20           3.79          4.0   06/22/19   \n",
       "18435  Norbrook Farm Brewery  6.2  20           3.87          3.0   06/22/19   \n",
       "18436  Norbrook Farm Brewery  7.0  42           3.65          3.5   06/22/19   \n",
       "18437  Norbrook Farm Brewery  4.7  17           3.66          4.0   06/22/19   \n",
       "\n",
       "      recent_date  total  \n",
       "18433    06/22/19      1  \n",
       "18434    06/22/19      1  \n",
       "18435    06/22/19      1  \n",
       "18436    06/22/19      1  \n",
       "18437    06/22/19      1  "
      ]
     },
     "execution_count": 7,
     "metadata": {},
     "output_type": "execute_result"
    }
   ],
   "source": [
    "nitro = df[df['username'] == 'Nitro13']\n",
    "nitro.head()"
   ]
  },
  {
   "cell_type": "code",
   "execution_count": 8,
   "metadata": {},
   "outputs": [],
   "source": [
    "x = nitro[['beer_description', 'brewery', 'ABV', 'IBU', 'global_rating', 'total']]\n",
    "y = nitro['user_rating']"
   ]
  },
  {
   "cell_type": "code",
   "execution_count": 15,
   "metadata": {},
   "outputs": [
    {
     "data": {
      "text/plain": [
       "3400"
      ]
     },
     "execution_count": 15,
     "metadata": {},
     "output_type": "execute_result"
    }
   ],
   "source": [
    "len(x)"
   ]
  },
  {
   "cell_type": "code",
   "execution_count": 14,
   "metadata": {},
   "outputs": [
    {
     "data": {
      "text/plain": [
       "3301"
      ]
     },
     "execution_count": 14,
     "metadata": {},
     "output_type": "execute_result"
    }
   ],
   "source": [
    "len(nitro['beer_name'].unique())"
   ]
  },
  {
   "cell_type": "markdown",
   "metadata": {},
   "source": [
    "## Export"
   ]
  },
  {
   "cell_type": "code",
   "execution_count": 9,
   "metadata": {},
   "outputs": [],
   "source": [
    "# x_raw = x\n",
    "# y_raw = y\n",
    "\n",
    "# x.to_csv(\"../data/x_raw.csv\")\n",
    "# y.to_csv(\"../data/y_raw.csv\")"
   ]
  }
 ],
 "metadata": {
  "kernelspec": {
   "display_name": "ml_guild",
   "language": "python",
   "name": "ml_guild"
  },
  "language_info": {
   "codemirror_mode": {
    "name": "ipython",
    "version": 3
   },
   "file_extension": ".py",
   "mimetype": "text/x-python",
   "name": "python",
   "nbconvert_exporter": "python",
   "pygments_lexer": "ipython3",
   "version": "3.6.7"
  }
 },
 "nbformat": 4,
 "nbformat_minor": 2
}
